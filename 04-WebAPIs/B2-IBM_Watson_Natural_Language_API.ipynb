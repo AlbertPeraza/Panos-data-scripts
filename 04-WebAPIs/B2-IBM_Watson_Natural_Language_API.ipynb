{
 "cells": [
  {
   "cell_type": "markdown",
   "metadata": {},
   "source": [
    "## Interacting with the IBM Watson Natural Language Understanding API; POST vs GET\n",
    "\n",
    "Another useful API, especially when dealing with text, is the [IBM Watson  Natural Language Understanding API](https://console.bluemix.net/catalog/services/natural-language-understanding), which offers a variety of text analysis functionalities, such as sentiment analysis, entity extraction, keyword extraction, etc.\n",
    "\n",
    "\n",
    "\n",
    "#### /analyze call\n",
    "\n",
    "We will first start with the `GET /analyze` API call ([documentation](https://www.ibm.com/watson/developercloud/natural-language-understanding/api/v1/#get-analyze)), which takes as input a piece of text, and returns an analysis across various dimensions.\n",
    "\n",
    "The call below gets as input a \"text\" variable, and returns back the sentiment of the text."
   ]
  },
  {
   "cell_type": "code",
   "execution_count": 11,
   "metadata": {},
   "outputs": [],
   "source": [
    "import requests\n",
    "import json\n",
    "\n",
    "def getSentiment(text):\n",
    "    endpoint = \"https://gateway.watsonplatform.net/natural-language-understanding/api/v1/analyze\"\n",
    "\n",
    "    # You can register and get your own credentials\n",
    "    # The ones below have a quota of 1000 calls per day \n",
    "    # and can run out quickly if multiple people use these\n",
    "    username = \"XXXXXXXXXXXXX\"\n",
    "    password = \"XXXXXXXXXXXX\"\n",
    "    \n",
    "    parameters = {\n",
    "        #'features' : 'concepts,categories,emotion,entities,keywords,relations,semantic_roles,sentiment',\n",
    "        'features': 'emotion,sentiment,keywords',\n",
    "        'version' : '2017-02-27',\n",
    "        'text': text,\n",
    "        'language' : 'en',\n",
    "        # url = url_to_analyze, this is an alternative to sending the text\n",
    "    }\n",
    "\n",
    "    resp = requests.get(endpoint, params=parameters, auth=(username, password))\n",
    "    \n",
    "    return resp.json()"
   ]
  },
  {
   "cell_type": "code",
   "execution_count": 16,
   "metadata": {},
   "outputs": [],
   "source": [
    "text = '''\n",
    "SAN FRANCISCO — A former engineer at Uber sued the company on Monday, \n",
    "claiming that co-workers sexually harassed her during her time at the \n",
    "ride-hailing service and that its human resources department failed to \n",
    "act on her complaints.\n",
    "\n",
    "In the lawsuit, Ingrid Avendaño, who joined Uber in 2014 and left last \n",
    "year, also said that despite receiving praise for her work, she was denied \n",
    "promotions or pay increases in retaliation for reporting misconduct at the company.\n",
    "\n",
    "Ms. Avendaño said many of her complaints went ignored. In one incident, \n",
    "she said, she told the human resources department about a male software \n",
    "engineer who repeatedly said at a recruiting event that Uber was the \n",
    "“type of company where women can sleep their way to the top.”\n",
    "'''\n",
    "\n",
    "data = getSentiment(text)"
   ]
  },
  {
   "cell_type": "code",
   "execution_count": 17,
   "metadata": {},
   "outputs": [
    {
     "data": {
      "text/plain": [
       "{'emotion': {'document': {'emotion': {'anger': 0.408944,\n",
       "    'disgust': 0.328995,\n",
       "    'fear': 0.013541,\n",
       "    'joy': 0.021606,\n",
       "    'sadness': 0.543152}}},\n",
       " 'keywords': [{'relevance': 0.989368, 'text': 'human resources department'},\n",
       "  {'relevance': 0.652039, 'text': 'Uber'},\n",
       "  {'relevance': 0.606341, 'text': 'SAN FRANCISCO'},\n",
       "  {'relevance': 0.585027, 'text': 'Ingrid Avendaño'},\n",
       "  {'relevance': 0.580584, 'text': 'ride-hailing service'},\n",
       "  {'relevance': 0.555364, 'text': 'recruiting event'},\n",
       "  {'relevance': 0.546483, 'text': 'male software'},\n",
       "  {'relevance': 0.544234, 'text': 'Ms. Avendaño'},\n",
       "  {'relevance': 0.474297, 'text': 'complaints'},\n",
       "  {'relevance': 0.453179, 'text': 'engineer'},\n",
       "  {'relevance': 0.44764, 'text': 'company'},\n",
       "  {'relevance': 0.401373, 'text': 'co-workers'},\n",
       "  {'relevance': 0.38624, 'text': 'retaliation'},\n",
       "  {'relevance': 0.371092, 'text': 'misconduct'},\n",
       "  {'relevance': 0.370544, 'text': 'increases'},\n",
       "  {'relevance': 0.369375, 'text': 'lawsuit'},\n",
       "  {'relevance': 0.367117, 'text': 'Monday'},\n",
       "  {'relevance': 0.36571, 'text': 'incident'},\n",
       "  {'relevance': 0.363578, 'text': 'praise'},\n",
       "  {'relevance': 0.356371, 'text': 'time'},\n",
       "  {'relevance': 0.354843, 'text': 'promotions'},\n",
       "  {'relevance': 0.352109, 'text': 'act'},\n",
       "  {'relevance': 0.349984, 'text': 'work'},\n",
       "  {'relevance': 0.34555, 'text': 'type'}],\n",
       " 'language': 'en',\n",
       " 'sentiment': {'document': {'label': 'negative', 'score': -0.576715}},\n",
       " 'usage': {'features': 3, 'text_characters': 750, 'text_units': 1}}"
      ]
     },
     "execution_count": 17,
     "metadata": {},
     "output_type": "execute_result"
    }
   ],
   "source": [
    "data"
   ]
  },
  {
   "cell_type": "code",
   "execution_count": 18,
   "metadata": {},
   "outputs": [
    {
     "data": {
      "text/plain": [
       "{'document': {'label': 'negative', 'score': -0.576715}}"
      ]
     },
     "execution_count": 18,
     "metadata": {},
     "output_type": "execute_result"
    }
   ],
   "source": [
    "data['sentiment']"
   ]
  },
  {
   "cell_type": "code",
   "execution_count": 19,
   "metadata": {},
   "outputs": [
    {
     "data": {
      "text/plain": [
       "{'document': {'emotion': {'anger': 0.408944,\n",
       "   'disgust': 0.328995,\n",
       "   'fear': 0.013541,\n",
       "   'joy': 0.021606,\n",
       "   'sadness': 0.543152}}}"
      ]
     },
     "execution_count": 19,
     "metadata": {},
     "output_type": "execute_result"
    }
   ],
   "source": [
    "data['emotion']"
   ]
  },
  {
   "cell_type": "markdown",
   "metadata": {},
   "source": [
    "#### Entities call\n",
    "\n",
    "[Full Documentation of the call](https://www.ibm.com/watson/developercloud/natural-language-understanding/api/v1/#entities)\n",
    "\n",
    "This is a an API call that extracts entities from the text, and also the sentiment and emotion for each of these entities. You will also see that there is the capability of \"normalizing\" each entity, so that two different ways of saying the same thing get mapped to the same entity. So for example, \"President Trump\" and \"Donald Trump\" get mapped to the same Knowledge Graph entity."
   ]
  },
  {
   "cell_type": "code",
   "execution_count": 20,
   "metadata": {},
   "outputs": [],
   "source": [
    "import requests\n",
    "import json\n",
    "\n",
    "def processURL(url_to_analyze):\n",
    "    endpoint_watson = \"https://gateway.watsonplatform.net/natural-language-understanding/api/v1/analyze\"\n",
    "    params = {\n",
    "        'version': '2017-02-27',\n",
    "    }\n",
    "    headers = { \n",
    "        'Content-Type': 'application/json',\n",
    "    }\n",
    "    watson_options = {\n",
    "      \"url\": url_to_analyze,\n",
    "      \"features\": {\n",
    "        \"entities\": {\n",
    "          \"sentiment\": True,\n",
    "          \"emotion\": True,\n",
    "          \"limit\": 10\n",
    "        }\n",
    "      }\n",
    "    }\n",
    "    username = \"XXXXXXXXXXXXX\"\n",
    "    password = \"XXXXXXXXXXXX\"\n",
    "\n",
    "    resp = requests.post(endpoint_watson, \n",
    "                         data=json.dumps(watson_options), \n",
    "                         headers=headers, \n",
    "                         params=params, \n",
    "                         auth=(username, password) \n",
    "                        )\n",
    "    return resp.json()\n",
    "\n",
    "\n",
    "url_to_analyze = 'https://www.nbcnews.com/politics/politics-news/jeff-sessions-remarks-anglo-american-heritage-law-enforcement-n847286'\n",
    "\n",
    "data = processURL(url_to_analyze)"
   ]
  },
  {
   "cell_type": "code",
   "execution_count": 21,
   "metadata": {},
   "outputs": [
    {
     "data": {
      "text/plain": [
       "dict_keys(['entities', 'usage', 'language', 'retrieved_url'])"
      ]
     },
     "execution_count": 21,
     "metadata": {},
     "output_type": "execute_result"
    }
   ],
   "source": [
    "# Let's see what we get back as top-level attributes\n",
    "data.keys()"
   ]
  },
  {
   "cell_type": "code",
   "execution_count": 22,
   "metadata": {
    "scrolled": true
   },
   "outputs": [
    {
     "data": {
      "text/plain": [
       "[{'count': 4,\n",
       "  'emotion': {'anger': 0.398578,\n",
       "   'disgust': 0.344209,\n",
       "   'fear': 0.009659,\n",
       "   'joy': 0.250321,\n",
       "   'sadness': 0.206066},\n",
       "  'relevance': 0.84073,\n",
       "  'sentiment': {'label': 'negative', 'score': -0.454001},\n",
       "  'text': 'Justice Department',\n",
       "  'type': 'Organization'},\n",
       " {'count': 1,\n",
       "  'emotion': {'anger': 0.0,\n",
       "   'disgust': 0.0,\n",
       "   'fear': 0.0,\n",
       "   'joy': 0.0,\n",
       "   'sadness': 0.0},\n",
       "  'relevance': 0.500823,\n",
       "  'sentiment': {'label': 'neutral', 'score': 0.0},\n",
       "  'text': \"National Sheriffs' Association\",\n",
       "  'type': 'Organization'},\n",
       " {'count': 2,\n",
       "  'emotion': {'anger': 0.389789,\n",
       "   'disgust': 0.202735,\n",
       "   'fear': 0.07119,\n",
       "   'joy': 0.036202,\n",
       "   'sadness': 0.434254},\n",
       "  'relevance': 0.48982,\n",
       "  'sentiment': {'label': 'negative', 'score': -0.411921},\n",
       "  'text': 'attorney',\n",
       "  'type': 'JobTitle'},\n",
       " {'count': 2,\n",
       "  'disambiguation': {'dbpedia_resource': 'http://dbpedia.org/resource/England',\n",
       "   'name': 'England',\n",
       "   'subtype': ['PoliticalDistrict',\n",
       "    'AdministrativeDivision',\n",
       "    'GovernmentalJurisdiction',\n",
       "    'Country']},\n",
       "  'emotion': {'anger': 0.133184,\n",
       "   'disgust': 0.336804,\n",
       "   'fear': 0.274168,\n",
       "   'joy': 0.08704,\n",
       "   'sadness': 0.312043},\n",
       "  'relevance': 0.418321,\n",
       "  'sentiment': {'label': 'neutral', 'score': 0.0},\n",
       "  'text': 'England',\n",
       "  'type': 'Location'},\n",
       " {'count': 1,\n",
       "  'disambiguation': {'dbpedia_resource': 'http://dbpedia.org/resource/Coretta_Scott_King',\n",
       "   'name': 'Coretta Scott King',\n",
       "   'subtype': ['AwardNominee', 'AwardWinner', 'DietFollower']},\n",
       "  'emotion': {'anger': 0.188336,\n",
       "   'disgust': 0.14945,\n",
       "   'fear': 0.031732,\n",
       "   'joy': 0.316441,\n",
       "   'sadness': 0.371279},\n",
       "  'relevance': 0.416296,\n",
       "  'sentiment': {'label': 'neutral', 'score': 0.0},\n",
       "  'text': 'Coretta Scott King',\n",
       "  'type': 'Person'},\n",
       " {'count': 1,\n",
       "  'disambiguation': {'dbpedia_resource': 'http://dbpedia.org/resource/Bernice_King',\n",
       "   'name': 'Bernice King',\n",
       "   'subtype': []},\n",
       "  'emotion': {'anger': 0.193243,\n",
       "   'disgust': 0.070051,\n",
       "   'fear': 0.043097,\n",
       "   'joy': 0.386756,\n",
       "   'sadness': 0.325327},\n",
       "  'relevance': 0.4139,\n",
       "  'sentiment': {'label': 'neutral', 'score': 0.0},\n",
       "  'text': 'Bernice King',\n",
       "  'type': 'Person'},\n",
       " {'count': 1,\n",
       "  'disambiguation': {'dbpedia_resource': 'http://dbpedia.org/resource/Ku_Klux_Klan',\n",
       "   'name': 'Ku Klux Klan',\n",
       "   'subtype': []},\n",
       "  'emotion': {'anger': 0.211663,\n",
       "   'disgust': 0.558386,\n",
       "   'fear': 0.140045,\n",
       "   'joy': 0.028848,\n",
       "   'sadness': 0.365566},\n",
       "  'relevance': 0.409389,\n",
       "  'sentiment': {'label': 'neutral', 'score': 0.0},\n",
       "  'text': 'Ku Klux Klan',\n",
       "  'type': 'Organization'},\n",
       " {'count': 1,\n",
       "  'disambiguation': {'dbpedia_resource': 'http://dbpedia.org/resource/Martin_Luther_King,_Jr.',\n",
       "   'name': 'Martin Luther King, Jr.',\n",
       "   'subtype': ['MusicalArtist', 'AwardWinner', 'OperaCharacter', 'FilmActor']},\n",
       "  'emotion': {'anger': 0.0,\n",
       "   'disgust': 0.0,\n",
       "   'fear': 0.0,\n",
       "   'joy': 0.0,\n",
       "   'sadness': 0.0},\n",
       "  'relevance': 0.394762,\n",
       "  'sentiment': {'label': 'neutral', 'score': 0.0},\n",
       "  'text': 'Martin Luther King Jr.',\n",
       "  'type': 'Person'}]"
      ]
     },
     "execution_count": 22,
     "metadata": {},
     "output_type": "execute_result"
    }
   ],
   "source": [
    "# Let' see the entities list\n",
    "data[\"entities\"]"
   ]
  },
  {
   "cell_type": "code",
   "execution_count": 23,
   "metadata": {},
   "outputs": [
    {
     "data": {
      "text/plain": [
       "{'count': 4,\n",
       " 'emotion': {'anger': 0.398578,\n",
       "  'disgust': 0.344209,\n",
       "  'fear': 0.009659,\n",
       "  'joy': 0.250321,\n",
       "  'sadness': 0.206066},\n",
       " 'relevance': 0.84073,\n",
       " 'sentiment': {'label': 'negative', 'score': -0.454001},\n",
       " 'text': 'Justice Department',\n",
       " 'type': 'Organization'}"
      ]
     },
     "execution_count": 23,
     "metadata": {},
     "output_type": "execute_result"
    }
   ],
   "source": [
    "# Let' see the first entity. Notice the \"disambiguated\" attribute that\n",
    "# points to \"canonical\" versions of the entity, in DBPedia, Freebase, OpenCYC, YAGO, etc\n",
    "data[\"entities\"][0]"
   ]
  },
  {
   "cell_type": "code",
   "execution_count": 24,
   "metadata": {},
   "outputs": [
    {
     "data": {
      "text/plain": [
       "['Justice Department',\n",
       " \"National Sheriffs' Association\",\n",
       " 'attorney',\n",
       " 'England',\n",
       " 'Coretta Scott King',\n",
       " 'Bernice King',\n",
       " 'Ku Klux Klan',\n",
       " 'Martin Luther King Jr.']"
      ]
     },
     "execution_count": 24,
     "metadata": {},
     "output_type": "execute_result"
    }
   ],
   "source": [
    "# This function takes as input the result\n",
    "# from the IBM Watson API and returns a list\n",
    "# of entities that are relevant (above threshold)\n",
    "# to the article\n",
    "def getEntities(data, threshold):\n",
    "    result = []\n",
    "    for entity in data[\"entities\"]:\n",
    "        relevance = float(entity['relevance'])\n",
    "        if relevance > threshold:\n",
    "            result.append(entity['text'])\n",
    "    return result\n",
    "\n",
    "getEntities(data, 0.25)"
   ]
  },
  {
   "cell_type": "markdown",
   "metadata": {
    "collapsed": true
   },
   "source": [
    "#### Exercise\n",
    "\n",
    "* First of all, **get your own credentials for the IBM Watson API**. The demo key that we use above has a limited quota.\n",
    "* Use an API to get news articles. \n",
    "    * Option 1: Use the NY Times API to fetch the Top Stories News. You can register and get an API key at https://developer.nytimes.com/. The `Top Stories V2 API` provides the details of the news of the day: (The API call documentation is at https://developer.nytimes.com/top_stories_v2.json and the API Call is  https://api.nytimes.com/svc/topstories/v2/home.json?api-key=PUTYOURKEYHERE). Repeat the entity extraction process from above.\n",
    "    * Option 2: Use the API at https://newsapi.org to fetch the news from various sources. Print the entities that are currently being discussed in the news, together with their relevance value and the associated sentiment.\n",
    "    * Option 3: Use the Guardian API at https://open-platform.theguardian.com/documentation/ to fetch news from The Guardian.\n"
   ]
  },
  {
   "cell_type": "code",
   "execution_count": null,
   "metadata": {},
   "outputs": [],
   "source": []
  },
  {
   "cell_type": "markdown",
   "metadata": {
    "collapsed": true
   },
   "source": [
    "### Exercise: Using the Spotify API\n",
    "\n",
    "We will now use the Spotify API to get information about an artist. The documentation of the calls is at https://developer.spotify.com/web-api/endpoint-reference/. For now, use only the calls that do not require an OAuth authentication. \n",
    "\n",
    "Tasks:\n",
    "* We can first find the id of an artist using the `/v1/search?type=artist` API call. The documentation of the `search-item` endpoint is at https://developer.spotify.com/web-api/search-item/.\n",
    "* Once you get back the ID of the artist, use the `get artist` endpoint, to get further information about the artist: https://developer.spotify.com/web-api/get-artist/\n",
    "* Study the documentation and figure out how to get the albums of an article, the top tracks for an artist, and the related artists.\n",
    "\n",
    "\n",
    "\n"
   ]
  },
  {
   "cell_type": "code",
   "execution_count": null,
   "metadata": {},
   "outputs": [],
   "source": []
  }
 ],
 "metadata": {
  "kernelspec": {
   "display_name": "Python 3",
   "language": "python",
   "name": "python3"
  },
  "language_info": {
   "codemirror_mode": {
    "name": "ipython",
    "version": 3
   },
   "file_extension": ".py",
   "mimetype": "text/x-python",
   "name": "python",
   "nbconvert_exporter": "python",
   "pygments_lexer": "ipython3",
   "version": "3.5.2"
  }
 },
 "nbformat": 4,
 "nbformat_minor": 1
}
