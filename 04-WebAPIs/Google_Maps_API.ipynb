{
 "cells": [
  {
   "cell_type": "code",
   "execution_count": 3,
   "metadata": {
    "slideshow": {
     "slide_type": "slide"
    }
   },
   "outputs": [],
   "source": [
    "import requests\n",
    "import time"
   ]
  },
  {
   "cell_type": "code",
   "execution_count": 4,
   "metadata": {
    "slideshow": {
     "slide_type": "slide"
    }
   },
   "outputs": [
    {
     "data": {
      "text/plain": [
       "{'address_components': [{'long_name': '703',\n",
       "   'short_name': '703',\n",
       "   'types': ['subpremise']},\n",
       "  {'long_name': '84', 'short_name': '84', 'types': ['street_number']},\n",
       "  {'long_name': 'Wooster Street',\n",
       "   'short_name': 'Wooster St',\n",
       "   'types': ['route']},\n",
       "  {'long_name': 'Manhattan',\n",
       "   'short_name': 'Manhattan',\n",
       "   'types': ['political', 'sublocality', 'sublocality_level_1']},\n",
       "  {'long_name': 'New York',\n",
       "   'short_name': 'New York',\n",
       "   'types': ['locality', 'political']},\n",
       "  {'long_name': 'New York County',\n",
       "   'short_name': 'New York County',\n",
       "   'types': ['administrative_area_level_2', 'political']},\n",
       "  {'long_name': 'New York',\n",
       "   'short_name': 'NY',\n",
       "   'types': ['administrative_area_level_1', 'political']},\n",
       "  {'long_name': 'United States',\n",
       "   'short_name': 'US',\n",
       "   'types': ['country', 'political']},\n",
       "  {'long_name': '10012', 'short_name': '10012', 'types': ['postal_code']}],\n",
       " 'formatted_address': '84 Wooster St #703, New York, NY 10012, USA',\n",
       " 'geometry': {'bounds': {'northeast': {'lat': 40.7239551,\n",
       "    'lng': -74.00089539999999},\n",
       "   'southwest': {'lat': 40.723654, 'lng': -74.0013601}},\n",
       "  'location': {'lat': 40.7238046, 'lng': -74.0011277},\n",
       "  'location_type': 'ROOFTOP',\n",
       "  'viewport': {'northeast': {'lat': 40.72515353029149,\n",
       "    'lng': -73.99977876970848},\n",
       "   'southwest': {'lat': 40.7224555697085, 'lng': -74.00247673029149}}},\n",
       " 'partial_match': True,\n",
       " 'place_id': 'Eis4NCBXb29zdGVyIFN0ICM3MDMsIE5ldyBZb3JrLCBOWSAxMDAxMiwgVVNB',\n",
       " 'types': ['subpremise']}"
      ]
     },
     "execution_count": 4,
     "metadata": {},
     "output_type": "execute_result"
    }
   ],
   "source": [
    "def call_google_api(address):\n",
    "    time.sleep(1)\n",
    "    GOOGLE_MAPS_API_URL = 'http://maps.googleapis.com/maps/api/geocode/json' \n",
    "    params = {\n",
    "        'address': address,\n",
    "        'region': 'usa'\n",
    "    }\n",
    "    req = requests.get(GOOGLE_MAPS_API_URL, params=params)\n",
    " \n",
    "    results = req.json()\n",
    "    \n",
    "    # Use the first result\n",
    "    if 'results' in results and len(results['results'])>0:\n",
    "        result = results['results'][0]\n",
    "        return result\n",
    "    else:\n",
    "        return None\n",
    "\n",
    "call_google_api(\"84 Wooster, Ste 703, New York\")"
   ]
  },
  {
   "cell_type": "code",
   "execution_count": 5,
   "metadata": {
    "slideshow": {
     "slide_type": "subslide"
    }
   },
   "outputs": [],
   "source": [
    "def get_zip_code(address):\n",
    "    google_result = call_google_api(address)\n",
    "    if google_result == None:\n",
    "        return None\n",
    "    for component in google_result['address_components']:\n",
    "        if 'postal_code' in component['types']:\n",
    "            return component['long_name']"
   ]
  },
  {
   "cell_type": "code",
   "execution_count": 6,
   "metadata": {
    "slideshow": {
     "slide_type": "subslide"
    }
   },
   "outputs": [],
   "source": [
    "def get_formatted_address(address):\n",
    "    google_result = call_google_api(address)\n",
    "    if google_result == None:\n",
    "        return None\n",
    "    return google_result['formatted_address']\n"
   ]
  },
  {
   "cell_type": "code",
   "execution_count": 9,
   "metadata": {
    "slideshow": {
     "slide_type": "slide"
    }
   },
   "outputs": [
    {
     "data": {
      "text/plain": [
       "'547 Riverside Dr, New York, NY 10027, USA'"
      ]
     },
     "execution_count": 9,
     "metadata": {},
     "output_type": "execute_result"
    }
   ],
   "source": [
    "address = \"547 Riverside Drive, New York, NY\"\n",
    "get_formatted_address(address)"
   ]
  },
  {
   "cell_type": "code",
   "execution_count": 10,
   "metadata": {
    "slideshow": {
     "slide_type": "fragment"
    }
   },
   "outputs": [
    {
     "data": {
      "text/plain": [
       "'44 West 4th Street, New York, NY 10012, USA'"
      ]
     },
     "execution_count": 10,
     "metadata": {},
     "output_type": "execute_result"
    }
   ],
   "source": [
    "address = \"44 W 4th Street, New York\"\n",
    "get_formatted_address(address)"
   ]
  },
  {
   "cell_type": "code",
   "execution_count": 11,
   "metadata": {},
   "outputs": [
    {
     "data": {
      "text/plain": [
       "'84 Wooster St #703, New York, NY 10012, USA'"
      ]
     },
     "execution_count": 11,
     "metadata": {},
     "output_type": "execute_result"
    }
   ],
   "source": [
    "address = \"84 Wooster, Ste 703, New York\"\n",
    "get_formatted_address(address)"
   ]
  },
  {
   "cell_type": "code",
   "execution_count": 12,
   "metadata": {},
   "outputs": [
    {
     "data": {
      "text/plain": [
       "'10027'"
      ]
     },
     "execution_count": 12,
     "metadata": {},
     "output_type": "execute_result"
    }
   ],
   "source": [
    "address = \"547 Riverside Drive, New York, NY\"\n",
    "get_zip_code(address)"
   ]
  },
  {
   "cell_type": "code",
   "execution_count": 13,
   "metadata": {},
   "outputs": [
    {
     "data": {
      "text/plain": [
       "'10012'"
      ]
     },
     "execution_count": 13,
     "metadata": {},
     "output_type": "execute_result"
    }
   ],
   "source": [
    "address = \"44 W 4th Street, New York\"\n",
    "get_zip_code(address)"
   ]
  },
  {
   "cell_type": "code",
   "execution_count": 14,
   "metadata": {},
   "outputs": [
    {
     "data": {
      "text/html": [
       "<div>\n",
       "<style scoped>\n",
       "    .dataframe tbody tr th:only-of-type {\n",
       "        vertical-align: middle;\n",
       "    }\n",
       "\n",
       "    .dataframe tbody tr th {\n",
       "        vertical-align: top;\n",
       "    }\n",
       "\n",
       "    .dataframe thead th {\n",
       "        text-align: right;\n",
       "    }\n",
       "</style>\n",
       "<table border=\"1\" class=\"dataframe\">\n",
       "  <thead>\n",
       "    <tr style=\"text-align: right;\">\n",
       "      <th></th>\n",
       "      <th>address</th>\n",
       "    </tr>\n",
       "  </thead>\n",
       "  <tbody>\n",
       "    <tr>\n",
       "      <th>0</th>\n",
       "      <td>44 W 4th Street, New York</td>\n",
       "    </tr>\n",
       "    <tr>\n",
       "      <th>1</th>\n",
       "      <td>547 Riverside Drive, New York, NY</td>\n",
       "    </tr>\n",
       "    <tr>\n",
       "      <th>2</th>\n",
       "      <td>Office Location</td>\n",
       "    </tr>\n",
       "  </tbody>\n",
       "</table>\n",
       "</div>"
      ],
      "text/plain": [
       "                             address\n",
       "0          44 W 4th Street, New York\n",
       "1  547 Riverside Drive, New York, NY\n",
       "2                    Office Location"
      ]
     },
     "execution_count": 14,
     "metadata": {},
     "output_type": "execute_result"
    }
   ],
   "source": [
    "import pandas as pd\n",
    "\n",
    "df = pd.DataFrame( [\n",
    "    {\"address\": \"44 W 4th Street, New York\"},\n",
    "    {\"address\": \"547 Riverside Drive, New York, NY\"},\n",
    "     {\"address\": \"Office Location\"},\n",
    "]\n",
    ")\n",
    "df"
   ]
  },
  {
   "cell_type": "code",
   "execution_count": 15,
   "metadata": {},
   "outputs": [],
   "source": [
    "df['full_address'] = df['address'].apply(get_formatted_address)\n",
    "df['zip'] = df['address'].apply(get_zip_code)\n"
   ]
  },
  {
   "cell_type": "code",
   "execution_count": 16,
   "metadata": {},
   "outputs": [
    {
     "data": {
      "text/html": [
       "<div>\n",
       "<style scoped>\n",
       "    .dataframe tbody tr th:only-of-type {\n",
       "        vertical-align: middle;\n",
       "    }\n",
       "\n",
       "    .dataframe tbody tr th {\n",
       "        vertical-align: top;\n",
       "    }\n",
       "\n",
       "    .dataframe thead th {\n",
       "        text-align: right;\n",
       "    }\n",
       "</style>\n",
       "<table border=\"1\" class=\"dataframe\">\n",
       "  <thead>\n",
       "    <tr style=\"text-align: right;\">\n",
       "      <th></th>\n",
       "      <th>address</th>\n",
       "      <th>full_address</th>\n",
       "      <th>zip</th>\n",
       "    </tr>\n",
       "  </thead>\n",
       "  <tbody>\n",
       "    <tr>\n",
       "      <th>0</th>\n",
       "      <td>44 W 4th Street, New York</td>\n",
       "      <td>44 West 4th Street, New York, NY 10012, USA</td>\n",
       "      <td>None</td>\n",
       "    </tr>\n",
       "    <tr>\n",
       "      <th>1</th>\n",
       "      <td>547 Riverside Drive, New York, NY</td>\n",
       "      <td>547 Riverside Dr, New York, NY 10027, USA</td>\n",
       "      <td>10027</td>\n",
       "    </tr>\n",
       "    <tr>\n",
       "      <th>2</th>\n",
       "      <td>Office Location</td>\n",
       "      <td>10912 E 71st St, Tulsa, OK 74133, USA</td>\n",
       "      <td>None</td>\n",
       "    </tr>\n",
       "  </tbody>\n",
       "</table>\n",
       "</div>"
      ],
      "text/plain": [
       "                             address  \\\n",
       "0          44 W 4th Street, New York   \n",
       "1  547 Riverside Drive, New York, NY   \n",
       "2                    Office Location   \n",
       "\n",
       "                                  full_address    zip  \n",
       "0  44 West 4th Street, New York, NY 10012, USA   None  \n",
       "1    547 Riverside Dr, New York, NY 10027, USA  10027  \n",
       "2        10912 E 71st St, Tulsa, OK 74133, USA   None  "
      ]
     },
     "execution_count": 16,
     "metadata": {},
     "output_type": "execute_result"
    }
   ],
   "source": [
    "df"
   ]
  },
  {
   "cell_type": "code",
   "execution_count": null,
   "metadata": {},
   "outputs": [],
   "source": []
  },
  {
   "cell_type": "code",
   "execution_count": null,
   "metadata": {},
   "outputs": [],
   "source": []
  }
 ],
 "metadata": {
  "kernelspec": {
   "display_name": "Python 3",
   "language": "python",
   "name": "python3"
  },
  "language_info": {
   "codemirror_mode": {
    "name": "ipython",
    "version": 3
   },
   "file_extension": ".py",
   "mimetype": "text/x-python",
   "name": "python",
   "nbconvert_exporter": "python",
   "pygments_lexer": "ipython3",
   "version": "3.5.2"
  }
 },
 "nbformat": 4,
 "nbformat_minor": 2
}
