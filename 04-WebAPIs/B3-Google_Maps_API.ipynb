{
 "cells": [
  {
   "cell_type": "code",
   "execution_count": 1,
   "metadata": {
    "slideshow": {
     "slide_type": "slide"
    }
   },
   "outputs": [],
   "source": [
    "import requests\n",
    "import time"
   ]
  },
  {
   "cell_type": "code",
   "execution_count": 12,
   "metadata": {
    "slideshow": {
     "slide_type": "slide"
    }
   },
   "outputs": [],
   "source": [
    "def call_google_api(address):\n",
    "    \n",
    "    GOOGLE_MAPS_API_URL = 'http://maps.googleapis.com/maps/api/geocode/json' \n",
    "    params = {\n",
    "        'address': address,\n",
    "        'region': 'usa'\n",
    "    }\n",
    "    req = requests.get(GOOGLE_MAPS_API_URL, params=params)\n",
    "    \n",
    "    results = req.json()\n",
    "    \n",
    "    # Use the first result\n",
    "    if 'results' in results and len(results['results'])>0:\n",
    "        result = results['results'][0]\n",
    "        return result\n",
    "    else:\n",
    "        # We got nothing back, let's wait a bit\n",
    "        time.sleep(2)\n",
    "        return None"
   ]
  },
  {
   "cell_type": "code",
   "execution_count": 13,
   "metadata": {},
   "outputs": [
    {
     "data": {
      "text/plain": [
       "{'address_components': [{'long_name': '703',\n",
       "   'short_name': '703',\n",
       "   'types': ['subpremise']},\n",
       "  {'long_name': '84', 'short_name': '84', 'types': ['street_number']},\n",
       "  {'long_name': 'Wooster Street',\n",
       "   'short_name': 'Wooster St',\n",
       "   'types': ['route']},\n",
       "  {'long_name': 'Manhattan',\n",
       "   'short_name': 'Manhattan',\n",
       "   'types': ['political', 'sublocality', 'sublocality_level_1']},\n",
       "  {'long_name': 'New York',\n",
       "   'short_name': 'New York',\n",
       "   'types': ['locality', 'political']},\n",
       "  {'long_name': 'New York County',\n",
       "   'short_name': 'New York County',\n",
       "   'types': ['administrative_area_level_2', 'political']},\n",
       "  {'long_name': 'New York',\n",
       "   'short_name': 'NY',\n",
       "   'types': ['administrative_area_level_1', 'political']},\n",
       "  {'long_name': 'United States',\n",
       "   'short_name': 'US',\n",
       "   'types': ['country', 'political']},\n",
       "  {'long_name': '10012', 'short_name': '10012', 'types': ['postal_code']}],\n",
       " 'formatted_address': '84 Wooster St #703, New York, NY 10012, USA',\n",
       " 'geometry': {'bounds': {'northeast': {'lat': 40.7239551,\n",
       "    'lng': -74.00089539999999},\n",
       "   'southwest': {'lat': 40.723654, 'lng': -74.0013601}},\n",
       "  'location': {'lat': 40.7238137, 'lng': -74.0011378},\n",
       "  'location_type': 'ROOFTOP',\n",
       "  'viewport': {'northeast': {'lat': 40.72515353029149,\n",
       "    'lng': -73.99977876970848},\n",
       "   'southwest': {'lat': 40.7224555697085, 'lng': -74.00247673029149}}},\n",
       " 'partial_match': True,\n",
       " 'place_id': 'Eis4NCBXb29zdGVyIFN0ICM3MDMsIE5ldyBZb3JrLCBOWSAxMDAxMiwgVVNBIh8aHQoWChQKEgmHURAbjFnCiRE19w04H4IHbRIDNzAz',\n",
       " 'types': ['subpremise']}"
      ]
     },
     "execution_count": 13,
     "metadata": {},
     "output_type": "execute_result"
    }
   ],
   "source": [
    "call_google_api(\"84 Wooster, Ste 703, New York\")"
   ]
  },
  {
   "cell_type": "code",
   "execution_count": 14,
   "metadata": {
    "slideshow": {
     "slide_type": "subslide"
    }
   },
   "outputs": [],
   "source": [
    "def get_formatted_address(address):\n",
    "    google_result = call_google_api(address)\n",
    "    if google_result == None:\n",
    "        return None\n",
    "    return google_result['formatted_address']\n"
   ]
  },
  {
   "cell_type": "code",
   "execution_count": 15,
   "metadata": {},
   "outputs": [],
   "source": [
    "def get_lon_lat(address):\n",
    "    google_result = call_google_api(address)\n",
    "    if google_result == None:\n",
    "        return None\n",
    "    return google_result['geometry']['location']\n"
   ]
  },
  {
   "cell_type": "code",
   "execution_count": 17,
   "metadata": {
    "slideshow": {
     "slide_type": "slide"
    }
   },
   "outputs": [
    {
     "data": {
      "text/plain": [
       "'547 Riverside Dr, New York, NY 10027, USA'"
      ]
     },
     "execution_count": 17,
     "metadata": {},
     "output_type": "execute_result"
    }
   ],
   "source": [
    "address = \"547 Riverside Drive, New York, NY\"\n",
    "get_formatted_address(address)"
   ]
  },
  {
   "cell_type": "code",
   "execution_count": 18,
   "metadata": {},
   "outputs": [
    {
     "data": {
      "text/plain": [
       "{'lat': 40.8151021, 'lng': -73.9609174}"
      ]
     },
     "execution_count": 18,
     "metadata": {},
     "output_type": "execute_result"
    }
   ],
   "source": [
    "get_lon_lat(address)"
   ]
  },
  {
   "cell_type": "code",
   "execution_count": 19,
   "metadata": {},
   "outputs": [
    {
     "data": {
      "text/plain": [
       "'44 West 4th Street, New York, NY 10012, USA'"
      ]
     },
     "execution_count": 19,
     "metadata": {},
     "output_type": "execute_result"
    }
   ],
   "source": [
    "address = \"44 W 4th Street, New York\"\n",
    "get_formatted_address(address)"
   ]
  },
  {
   "cell_type": "code",
   "execution_count": 20,
   "metadata": {},
   "outputs": [
    {
     "data": {
      "text/plain": [
       "'84 Wooster St #703, New York, NY 10012, USA'"
      ]
     },
     "execution_count": 20,
     "metadata": {},
     "output_type": "execute_result"
    }
   ],
   "source": [
    "address = \"84 Wooster, Ste 703, New York\"\n",
    "get_formatted_address(address)"
   ]
  },
  {
   "cell_type": "markdown",
   "metadata": {},
   "source": [
    "### Exercise\n",
    "\n",
    "Below you can find a list of 50 addresses in New York. The addresses do not contain the zip code, and are not well-formatted. Using the Google Maps API, as listed above, generate the **well-formatted address** for each address. Also generate the **long/lat** coordinates for the address.\n",
    "\n",
    "**Important:** _The Google API listed above is not authenticated. To avoid abuse, when it receives large number of requests, it tends to return nothing. You may want to structure your code to check for this behavior, and retry if necessary._"
   ]
  },
  {
   "cell_type": "code",
   "execution_count": 21,
   "metadata": {},
   "outputs": [],
   "source": [
    "address_list = ['2508A BROADWAY, QUEENS',  '1859 WESTCHESTER AVENUE, BRONX',  '113 WEST  116 STREET, MANHATTAN',  '157 PROSPECT PARK SOUTH WEST, BROOKLYN',  '12707 MERRICK BOULEVARD, QUEENS',  '422 EAST   75 STREET, MANHATTAN',  '253 WEST   42 STREET, MANHATTAN',  '1027 WESTCHESTER AVE, BRONX',  '811 9 AVENUE, MANHATTAN',  '717 KINGS HIGHWAY, BROOKLYN',  '13529 40TH RD, QUEENS',  '4417 NEW UTRECHT AVE, BROOKLYN',  '1688 EAST   16 STREET, BROOKLYN',  '1634 CROSBY AVE, BRONX',  '218 PARKSIDE AVE, BROOKLYN',  '1307 ARTHUR KILL ROAD, STATEN ISLAND',  '1162 FIRST AVENUE, MANHATTAN',  '5814 ROOSEVELT AVE, QUEENS',  '872 A FLATBUSH AVE, BROOKLYN',  '631 WILSON AVE, BROOKLYN',  '1093 JACKSON AVENUE, QUEENS',  '465 WEST   51 STREET, MANHATTAN',  '345 ADAMS ST, BROOKLYN',  '1374 BOSTON ROAD, BRONX',  '71 7 AVENUE SOUTH, MANHATTAN',  '520 BAY ST, STATEN ISLAND',  '623 GRAND STREET, BROOKLYN',  '11000 ROCKAWAY BOULEVARD, QUEENS',  '2927 40 ROAD, QUEENS',  '570 8 AVENUE, MANHATTAN',  '4819 VERNON BLVD, QUEENS',  '1 WORLDS FAIR MARINA, QUEENS',  '2342 ARTHUR AVENUE, BRONX',  '54 PEARL STREET, MANHATTAN',  '4012 QUEENS BOULEVARD, QUEENS',  '691 TENTH AVE, MANHATTAN',  '226 E 14TH ST, MANHATTAN',  '3 GREENWICH AVENUE, MANHATTAN',  '2172 86TH ST, BROOKLYN',  '875 10 AVENUE, MANHATTAN',  'NKA JFK INTERNATIONAL AIRPORT, QUEENS',  '70 SOUTH ST, MANHATTAN',  '3520 FARRINGTON ST, QUEENS',  '12696 WILLETS POINT BOULEVARD, QUEENS',  '925 ALLERTON AVENUE, BRONX',  '98 3 AVENUE, MANHATTAN',  '8805 ASTORIA BLVD, QUEENS',  '12 PENN STATION, MANHATTAN',  '138 DIVISION STREET, MANHATTAN',  '7047 PARSONS BOULEVARD, QUEENS']"
   ]
  },
  {
   "cell_type": "code",
   "execution_count": 22,
   "metadata": {},
   "outputs": [],
   "source": [
    "# Your code here"
   ]
  },
  {
   "cell_type": "code",
   "execution_count": null,
   "metadata": {},
   "outputs": [],
   "source": []
  }
 ],
 "metadata": {
  "kernelspec": {
   "display_name": "Python 3",
   "language": "python",
   "name": "python3"
  },
  "language_info": {
   "codemirror_mode": {
    "name": "ipython",
    "version": 3
   },
   "file_extension": ".py",
   "mimetype": "text/x-python",
   "name": "python",
   "nbconvert_exporter": "python",
   "pygments_lexer": "ipython3",
   "version": "3.5.2"
  }
 },
 "nbformat": 4,
 "nbformat_minor": 2
}
