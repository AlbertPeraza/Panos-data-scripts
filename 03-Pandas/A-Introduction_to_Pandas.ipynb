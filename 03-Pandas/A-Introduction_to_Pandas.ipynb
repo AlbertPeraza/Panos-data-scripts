{
 "cells": [
  {
   "cell_type": "markdown",
   "metadata": {},
   "source": [
    "We start this notebook by typing a \"magic\" command that allows iPython notebooks to display plots directly in the browser."
   ]
  },
  {
   "cell_type": "code",
   "execution_count": 1,
   "metadata": {},
   "outputs": [],
   "source": [
    "# Render our plots inline\n",
    "%matplotlib inline"
   ]
  },
  {
   "cell_type": "markdown",
   "metadata": {},
   "source": [
    "In order to read and process files, we are going to use a very powerful, and widely used Python library, called pandas. So, our next step is to import the pandas library in Python, and also import the library matplotlib for generating plots:"
   ]
  },
  {
   "cell_type": "code",
   "execution_count": 2,
   "metadata": {},
   "outputs": [],
   "source": [
    "import pandas as pd\n",
    "import matplotlib\n",
    "import matplotlib.pyplot as plt"
   ]
  },
  {
   "cell_type": "markdown",
   "metadata": {},
   "source": [
    "Pandas should already be installed on your machine, but if you get an error in the import statement above, indicating that pandas is not available, please uncomment the following command and execute:"
   ]
  },
  {
   "cell_type": "code",
   "execution_count": 3,
   "metadata": {},
   "outputs": [],
   "source": [
    "# !sudo python3 -m pip install -U pandas"
   ]
  },
  {
   "cell_type": "markdown",
   "metadata": {},
   "source": [
    "And we type some code to simply change the visual style of the plots. (The code below is optional and not necessary, and for now you do not need to understand what exactly is happening.)"
   ]
  },
  {
   "cell_type": "code",
   "execution_count": 4,
   "metadata": {},
   "outputs": [],
   "source": [
    "# Make the graphs a bit bigger\n",
    "matplotlib.style.use(['seaborn-talk', 'seaborn-ticks', 'seaborn-whitegrid'])"
   ]
  },
  {
   "cell_type": "markdown",
   "metadata": {},
   "source": [
    "### Basic Example: Creating a DataFrame from Scratch\n",
    "\n",
    "This is an example of creating a dataframe by passing a list of dictionaries."
   ]
  },
  {
   "cell_type": "code",
   "execution_count": 5,
   "metadata": {},
   "outputs": [],
   "source": [
    "df = pd.DataFrame([ \n",
    "    {\"First Name\": \"Panos\", \"Last Name\":\" Ipeirotis\"},\n",
    "    {\"First Name\": \"John\", \"Last Name\":\" Doe\"},\n",
    "    {\"Last Name\":\"Trump\"}\n",
    "])\n"
   ]
  },
  {
   "cell_type": "code",
   "execution_count": 6,
   "metadata": {},
   "outputs": [
    {
     "data": {
      "text/html": [
       "<div>\n",
       "<style scoped>\n",
       "    .dataframe tbody tr th:only-of-type {\n",
       "        vertical-align: middle;\n",
       "    }\n",
       "\n",
       "    .dataframe tbody tr th {\n",
       "        vertical-align: top;\n",
       "    }\n",
       "\n",
       "    .dataframe thead th {\n",
       "        text-align: right;\n",
       "    }\n",
       "</style>\n",
       "<table border=\"1\" class=\"dataframe\">\n",
       "  <thead>\n",
       "    <tr style=\"text-align: right;\">\n",
       "      <th></th>\n",
       "      <th>First Name</th>\n",
       "      <th>Last Name</th>\n",
       "    </tr>\n",
       "  </thead>\n",
       "  <tbody>\n",
       "    <tr>\n",
       "      <th>0</th>\n",
       "      <td>Panos</td>\n",
       "      <td>Ipeirotis</td>\n",
       "    </tr>\n",
       "    <tr>\n",
       "      <th>1</th>\n",
       "      <td>John</td>\n",
       "      <td>Doe</td>\n",
       "    </tr>\n",
       "    <tr>\n",
       "      <th>2</th>\n",
       "      <td>NaN</td>\n",
       "      <td>Trump</td>\n",
       "    </tr>\n",
       "  </tbody>\n",
       "</table>\n",
       "</div>"
      ],
      "text/plain": [
       "  First Name   Last Name\n",
       "0      Panos   Ipeirotis\n",
       "1       John         Doe\n",
       "2        NaN       Trump"
      ]
     },
     "execution_count": 6,
     "metadata": {},
     "output_type": "execute_result"
    }
   ],
   "source": [
    "df"
   ]
  },
  {
   "cell_type": "markdown",
   "metadata": {},
   "source": [
    "### Reading Data Files"
   ]
  },
  {
   "cell_type": "markdown",
   "metadata": {},
   "source": [
    "Let's take a look at the restaurant inspections file (at `data/restaurants.csv`), which we used in our earlier classes.\n",
    "\n",
    "If you do not have it, then uncomment and execute the following:"
   ]
  },
  {
   "cell_type": "code",
   "execution_count": 7,
   "metadata": {},
   "outputs": [],
   "source": [
    "!mkdir data"
   ]
  },
  {
   "cell_type": "code",
   "execution_count": 8,
   "metadata": {},
   "outputs": [
    {
     "name": "stdout",
     "output_type": "stream",
     "text": [
      "  % Total    % Received % Xferd  Average Speed   Time    Time     Time  Current\n",
      "                                 Dload  Upload   Total   Spent    Left  Speed\n",
      "100  135M    0  135M    0     0  4537k      0 --:--:--  0:00:30 --:--:-- 4773k\n"
     ]
    }
   ],
   "source": [
    "!curl 'https://data.cityofnewyork.us/api/views/43nn-pn8j/rows.csv?accessType=DOWNLOAD' -o data/restaurant.csv"
   ]
  },
  {
   "cell_type": "code",
   "execution_count": 9,
   "metadata": {},
   "outputs": [
    {
     "name": "stdout",
     "output_type": "stream",
     "text": [
      "rm: cannot remove 'data/restaurant.csv.gz': No such file or directory\r\n"
     ]
    }
   ],
   "source": [
    "!rm data/restaurant.csv.gz"
   ]
  },
  {
   "cell_type": "code",
   "execution_count": 10,
   "metadata": {},
   "outputs": [],
   "source": [
    "!gzip data/restaurant.csv"
   ]
  },
  {
   "cell_type": "code",
   "execution_count": 11,
   "metadata": {},
   "outputs": [
    {
     "name": "stdout",
     "output_type": "stream",
     "text": [
      "CAMIS,DBA,BORO,BUILDING,STREET,ZIPCODE,PHONE,CUISINE DESCRIPTION,INSPECTION DATE,ACTION,VIOLATION CODE,VIOLATION DESCRIPTION,CRITICAL FLAG,SCORE,GRADE,GRADE DATE,RECORD DATE,INSPECTION TYPE\r\n",
      "41626466,THE FLAT,BROOKLYN,308,HOOPER STREET,11211,7185995151,American,05/15/2015,Violations were cited in the following area(s).,04J,\"Appropriately scaled metal stem-type thermometer or thermocouple not provided or used to evaluate temperatures of potentially hazardous foods during cooking, cooling, reheating and holding.\",Critical,23,,,01/21/2018,Cycle Inspection / Initial Inspection\r\n",
      "50049789,FIVE STAR DELI & GRILL,BROOKLYN,3018,CHURCH AVE,11226,7189751130,Indian,10/11/2017,Violations were cited in the following area(s).,04J,\"Appropriately scaled metal stem-type thermometer or thermocouple not provided or used to evaluate temperatures of potentially hazardous foods during cooking, cooling, reheating and holding.\",Critical,46,,,01/21/2018,Pre-permit (Non-operational) / Initial Inspection\r\n",
      "\r\n",
      "gzip: stdout: Broken pipe\r\n"
     ]
    }
   ],
   "source": [
    "!gzip -cd data/restaurant.csv.gz | head -3"
   ]
  },
  {
   "cell_type": "markdown",
   "metadata": {},
   "source": [
    "### Reading a CSV file"
   ]
  },
  {
   "cell_type": "markdown",
   "metadata": {},
   "source": [
    "We want to be able to read and process this file within Python. The pandas library has a very convenient method `read_csv` which reads the file, and returns back a variable that contains its contents."
   ]
  },
  {
   "cell_type": "code",
   "execution_count": 31,
   "metadata": {},
   "outputs": [],
   "source": [
    "import pandas as pd\n",
    "restaurants = pd.read_csv(\"data/restaurant.csv.gz\", \n",
    "                          encoding='utf_8', \n",
    "                          dtype = 'unicode',\n",
    "                          parse_dates = True,\n",
    "                          infer_datetime_format = True,\n",
    "                          low_memory=False)"
   ]
  },
  {
   "cell_type": "markdown",
   "metadata": {},
   "source": [
    "When you read a CSV, you get back a kind of object called a DataFrame, which is made up of rows and columns. You get columns out of a DataFrame the same way you get elements out of a dictionary. Let's take a look at how the object looks like:"
   ]
  },
  {
   "cell_type": "code",
   "execution_count": 32,
   "metadata": {
    "scrolled": false
   },
   "outputs": [
    {
     "data": {
      "text/html": [
       "<div>\n",
       "<style scoped>\n",
       "    .dataframe tbody tr th:only-of-type {\n",
       "        vertical-align: middle;\n",
       "    }\n",
       "\n",
       "    .dataframe tbody tr th {\n",
       "        vertical-align: top;\n",
       "    }\n",
       "\n",
       "    .dataframe thead th {\n",
       "        text-align: right;\n",
       "    }\n",
       "</style>\n",
       "<table border=\"1\" class=\"dataframe\">\n",
       "  <thead>\n",
       "    <tr style=\"text-align: right;\">\n",
       "      <th></th>\n",
       "      <th>CAMIS</th>\n",
       "      <th>DBA</th>\n",
       "      <th>BORO</th>\n",
       "      <th>BUILDING</th>\n",
       "      <th>STREET</th>\n",
       "      <th>ZIPCODE</th>\n",
       "      <th>PHONE</th>\n",
       "      <th>CUISINE DESCRIPTION</th>\n",
       "      <th>INSPECTION DATE</th>\n",
       "      <th>ACTION</th>\n",
       "      <th>VIOLATION CODE</th>\n",
       "      <th>VIOLATION DESCRIPTION</th>\n",
       "      <th>CRITICAL FLAG</th>\n",
       "      <th>SCORE</th>\n",
       "      <th>GRADE</th>\n",
       "      <th>GRADE DATE</th>\n",
       "      <th>RECORD DATE</th>\n",
       "      <th>INSPECTION TYPE</th>\n",
       "    </tr>\n",
       "  </thead>\n",
       "  <tbody>\n",
       "    <tr>\n",
       "      <th>0</th>\n",
       "      <td>41626466</td>\n",
       "      <td>THE FLAT</td>\n",
       "      <td>BROOKLYN</td>\n",
       "      <td>308</td>\n",
       "      <td>HOOPER STREET</td>\n",
       "      <td>11211</td>\n",
       "      <td>7185995151</td>\n",
       "      <td>American</td>\n",
       "      <td>05/15/2015</td>\n",
       "      <td>Violations were cited in the following area(s).</td>\n",
       "      <td>04J</td>\n",
       "      <td>Appropriately scaled metal stem-type thermomet...</td>\n",
       "      <td>Critical</td>\n",
       "      <td>23</td>\n",
       "      <td>NaN</td>\n",
       "      <td>NaN</td>\n",
       "      <td>01/21/2018</td>\n",
       "      <td>Cycle Inspection / Initial Inspection</td>\n",
       "    </tr>\n",
       "    <tr>\n",
       "      <th>1</th>\n",
       "      <td>50049789</td>\n",
       "      <td>FIVE STAR DELI &amp; GRILL</td>\n",
       "      <td>BROOKLYN</td>\n",
       "      <td>3018</td>\n",
       "      <td>CHURCH AVE</td>\n",
       "      <td>11226</td>\n",
       "      <td>7189751130</td>\n",
       "      <td>Indian</td>\n",
       "      <td>10/11/2017</td>\n",
       "      <td>Violations were cited in the following area(s).</td>\n",
       "      <td>04J</td>\n",
       "      <td>Appropriately scaled metal stem-type thermomet...</td>\n",
       "      <td>Critical</td>\n",
       "      <td>46</td>\n",
       "      <td>NaN</td>\n",
       "      <td>NaN</td>\n",
       "      <td>01/21/2018</td>\n",
       "      <td>Pre-permit (Non-operational) / Initial Inspection</td>\n",
       "    </tr>\n",
       "    <tr>\n",
       "      <th>2</th>\n",
       "      <td>40559633</td>\n",
       "      <td>GOTHAM CAFE (INSIDE THE WATSON HOTEL)</td>\n",
       "      <td>MANHATTAN</td>\n",
       "      <td>440</td>\n",
       "      <td>WEST   57 STREET</td>\n",
       "      <td>10019</td>\n",
       "      <td>2126346115</td>\n",
       "      <td>American</td>\n",
       "      <td>06/01/2015</td>\n",
       "      <td>Violations were cited in the following area(s).</td>\n",
       "      <td>10H</td>\n",
       "      <td>Proper sanitization not provided for utensil w...</td>\n",
       "      <td>Not Critical</td>\n",
       "      <td>11</td>\n",
       "      <td>A</td>\n",
       "      <td>06/01/2015</td>\n",
       "      <td>01/21/2018</td>\n",
       "      <td>Cycle Inspection / Re-inspection</td>\n",
       "    </tr>\n",
       "    <tr>\n",
       "      <th>3</th>\n",
       "      <td>50057072</td>\n",
       "      <td>MD BAGELS</td>\n",
       "      <td>STATEN ISLAND</td>\n",
       "      <td>434</td>\n",
       "      <td>CASTLETON AVE</td>\n",
       "      <td>10301</td>\n",
       "      <td>7188764960</td>\n",
       "      <td>Delicatessen</td>\n",
       "      <td>12/08/2016</td>\n",
       "      <td>Violations were cited in the following area(s).</td>\n",
       "      <td>04L</td>\n",
       "      <td>Evidence of mice or live mice present in facil...</td>\n",
       "      <td>Critical</td>\n",
       "      <td>25</td>\n",
       "      <td>NaN</td>\n",
       "      <td>NaN</td>\n",
       "      <td>01/21/2018</td>\n",
       "      <td>Pre-permit (Operational) / Initial Inspection</td>\n",
       "    </tr>\n",
       "    <tr>\n",
       "      <th>4</th>\n",
       "      <td>41567414</td>\n",
       "      <td>AMC THEATRES</td>\n",
       "      <td>MANHATTAN</td>\n",
       "      <td>234</td>\n",
       "      <td>WEST   42 STREET</td>\n",
       "      <td>10036</td>\n",
       "      <td>2123982597</td>\n",
       "      <td>American</td>\n",
       "      <td>08/19/2017</td>\n",
       "      <td>Violations were cited in the following area(s).</td>\n",
       "      <td>04L</td>\n",
       "      <td>Evidence of mice or live mice present in facil...</td>\n",
       "      <td>Critical</td>\n",
       "      <td>11</td>\n",
       "      <td>A</td>\n",
       "      <td>08/19/2017</td>\n",
       "      <td>01/21/2018</td>\n",
       "      <td>Cycle Inspection / Initial Inspection</td>\n",
       "    </tr>\n",
       "  </tbody>\n",
       "</table>\n",
       "</div>"
      ],
      "text/plain": [
       "      CAMIS                                    DBA           BORO BUILDING  \\\n",
       "0  41626466                               THE FLAT       BROOKLYN      308   \n",
       "1  50049789                 FIVE STAR DELI & GRILL       BROOKLYN     3018   \n",
       "2  40559633  GOTHAM CAFE (INSIDE THE WATSON HOTEL)      MANHATTAN      440   \n",
       "3  50057072                              MD BAGELS  STATEN ISLAND      434   \n",
       "4  41567414                           AMC THEATRES      MANHATTAN      234   \n",
       "\n",
       "             STREET ZIPCODE       PHONE CUISINE DESCRIPTION INSPECTION DATE  \\\n",
       "0     HOOPER STREET   11211  7185995151            American      05/15/2015   \n",
       "1        CHURCH AVE   11226  7189751130              Indian      10/11/2017   \n",
       "2  WEST   57 STREET   10019  2126346115            American      06/01/2015   \n",
       "3     CASTLETON AVE   10301  7188764960        Delicatessen      12/08/2016   \n",
       "4  WEST   42 STREET   10036  2123982597            American      08/19/2017   \n",
       "\n",
       "                                            ACTION VIOLATION CODE  \\\n",
       "0  Violations were cited in the following area(s).            04J   \n",
       "1  Violations were cited in the following area(s).            04J   \n",
       "2  Violations were cited in the following area(s).            10H   \n",
       "3  Violations were cited in the following area(s).            04L   \n",
       "4  Violations were cited in the following area(s).            04L   \n",
       "\n",
       "                               VIOLATION DESCRIPTION CRITICAL FLAG SCORE  \\\n",
       "0  Appropriately scaled metal stem-type thermomet...      Critical    23   \n",
       "1  Appropriately scaled metal stem-type thermomet...      Critical    46   \n",
       "2  Proper sanitization not provided for utensil w...  Not Critical    11   \n",
       "3  Evidence of mice or live mice present in facil...      Critical    25   \n",
       "4  Evidence of mice or live mice present in facil...      Critical    11   \n",
       "\n",
       "  GRADE  GRADE DATE RECORD DATE  \\\n",
       "0   NaN         NaN  01/21/2018   \n",
       "1   NaN         NaN  01/21/2018   \n",
       "2     A  06/01/2015  01/21/2018   \n",
       "3   NaN         NaN  01/21/2018   \n",
       "4     A  08/19/2017  01/21/2018   \n",
       "\n",
       "                                     INSPECTION TYPE  \n",
       "0              Cycle Inspection / Initial Inspection  \n",
       "1  Pre-permit (Non-operational) / Initial Inspection  \n",
       "2                   Cycle Inspection / Re-inspection  \n",
       "3      Pre-permit (Operational) / Initial Inspection  \n",
       "4              Cycle Inspection / Initial Inspection  "
      ]
     },
     "execution_count": 32,
     "metadata": {},
     "output_type": "execute_result"
    }
   ],
   "source": [
    "restaurants.head(5)"
   ]
  },
  {
   "cell_type": "markdown",
   "metadata": {},
   "source": [
    "The read_csv method has many options, and you can read further in the [online documentation](http://pandas.pydata.org/pandas-docs/stable/generated/pandas.io.parsers.read_csv.html)."
   ]
  },
  {
   "cell_type": "markdown",
   "metadata": {},
   "source": [
    "### Descriptive statistics\n",
    "\n",
    "We can use the method \"describe()\" to get a quick overview of the data in the dataframe."
   ]
  },
  {
   "cell_type": "code",
   "execution_count": 33,
   "metadata": {},
   "outputs": [
    {
     "data": {
      "text/html": [
       "<div>\n",
       "<style scoped>\n",
       "    .dataframe tbody tr th:only-of-type {\n",
       "        vertical-align: middle;\n",
       "    }\n",
       "\n",
       "    .dataframe tbody tr th {\n",
       "        vertical-align: top;\n",
       "    }\n",
       "\n",
       "    .dataframe thead th {\n",
       "        text-align: right;\n",
       "    }\n",
       "</style>\n",
       "<table border=\"1\" class=\"dataframe\">\n",
       "  <thead>\n",
       "    <tr style=\"text-align: right;\">\n",
       "      <th></th>\n",
       "      <th>CAMIS</th>\n",
       "      <th>DBA</th>\n",
       "      <th>BORO</th>\n",
       "      <th>BUILDING</th>\n",
       "      <th>STREET</th>\n",
       "      <th>ZIPCODE</th>\n",
       "      <th>PHONE</th>\n",
       "      <th>CUISINE DESCRIPTION</th>\n",
       "      <th>INSPECTION DATE</th>\n",
       "      <th>ACTION</th>\n",
       "      <th>VIOLATION CODE</th>\n",
       "      <th>VIOLATION DESCRIPTION</th>\n",
       "      <th>CRITICAL FLAG</th>\n",
       "      <th>SCORE</th>\n",
       "      <th>GRADE</th>\n",
       "      <th>GRADE DATE</th>\n",
       "      <th>RECORD DATE</th>\n",
       "      <th>INSPECTION TYPE</th>\n",
       "    </tr>\n",
       "  </thead>\n",
       "  <tbody>\n",
       "    <tr>\n",
       "      <th>count</th>\n",
       "      <td>387040</td>\n",
       "      <td>386658</td>\n",
       "      <td>387040</td>\n",
       "      <td>386907</td>\n",
       "      <td>387036</td>\n",
       "      <td>387036</td>\n",
       "      <td>387024</td>\n",
       "      <td>387040</td>\n",
       "      <td>387040</td>\n",
       "      <td>385888</td>\n",
       "      <td>380942</td>\n",
       "      <td>380188</td>\n",
       "      <td>387040</td>\n",
       "      <td>365347</td>\n",
       "      <td>191506</td>\n",
       "      <td>189308</td>\n",
       "      <td>387040</td>\n",
       "      <td>385888</td>\n",
       "    </tr>\n",
       "    <tr>\n",
       "      <th>unique</th>\n",
       "      <td>26693</td>\n",
       "      <td>21063</td>\n",
       "      <td>6</td>\n",
       "      <td>7275</td>\n",
       "      <td>3311</td>\n",
       "      <td>234</td>\n",
       "      <td>25315</td>\n",
       "      <td>85</td>\n",
       "      <td>1451</td>\n",
       "      <td>5</td>\n",
       "      <td>99</td>\n",
       "      <td>93</td>\n",
       "      <td>3</td>\n",
       "      <td>121</td>\n",
       "      <td>6</td>\n",
       "      <td>1355</td>\n",
       "      <td>1</td>\n",
       "      <td>34</td>\n",
       "    </tr>\n",
       "    <tr>\n",
       "      <th>top</th>\n",
       "      <td>50033122</td>\n",
       "      <td>DUNKIN' DONUTS</td>\n",
       "      <td>MANHATTAN</td>\n",
       "      <td>0</td>\n",
       "      <td>BROADWAY</td>\n",
       "      <td>10003</td>\n",
       "      <td>7186566210</td>\n",
       "      <td>American</td>\n",
       "      <td>01/01/1900</td>\n",
       "      <td>Violations were cited in the following area(s).</td>\n",
       "      <td>10F</td>\n",
       "      <td>Non-food contact surface improperly constructe...</td>\n",
       "      <td>Critical</td>\n",
       "      <td>12</td>\n",
       "      <td>A</td>\n",
       "      <td>01/18/2018</td>\n",
       "      <td>01/21/2018</td>\n",
       "      <td>Cycle Inspection / Initial Inspection</td>\n",
       "    </tr>\n",
       "    <tr>\n",
       "      <th>freq</th>\n",
       "      <td>97</td>\n",
       "      <td>4310</td>\n",
       "      <td>153880</td>\n",
       "      <td>2151</td>\n",
       "      <td>13958</td>\n",
       "      <td>10316</td>\n",
       "      <td>202</td>\n",
       "      <td>86904</td>\n",
       "      <td>1152</td>\n",
       "      <td>366846</td>\n",
       "      <td>54038</td>\n",
       "      <td>54038</td>\n",
       "      <td>212250</td>\n",
       "      <td>38904</td>\n",
       "      <td>152153</td>\n",
       "      <td>478</td>\n",
       "      <td>387040</td>\n",
       "      <td>222220</td>\n",
       "    </tr>\n",
       "  </tbody>\n",
       "</table>\n",
       "</div>"
      ],
      "text/plain": [
       "           CAMIS             DBA       BORO BUILDING    STREET ZIPCODE  \\\n",
       "count     387040          386658     387040   386907    387036  387036   \n",
       "unique     26693           21063          6     7275      3311     234   \n",
       "top     50033122  DUNKIN' DONUTS  MANHATTAN        0  BROADWAY   10003   \n",
       "freq          97            4310     153880     2151     13958   10316   \n",
       "\n",
       "             PHONE CUISINE DESCRIPTION INSPECTION DATE  \\\n",
       "count       387024              387040          387040   \n",
       "unique       25315                  85            1451   \n",
       "top     7186566210            American      01/01/1900   \n",
       "freq           202               86904            1152   \n",
       "\n",
       "                                                 ACTION VIOLATION CODE  \\\n",
       "count                                            385888         380942   \n",
       "unique                                                5             99   \n",
       "top     Violations were cited in the following area(s).            10F   \n",
       "freq                                             366846          54038   \n",
       "\n",
       "                                    VIOLATION DESCRIPTION CRITICAL FLAG  \\\n",
       "count                                              380188        387040   \n",
       "unique                                                 93             3   \n",
       "top     Non-food contact surface improperly constructe...      Critical   \n",
       "freq                                                54038        212250   \n",
       "\n",
       "         SCORE   GRADE  GRADE DATE RECORD DATE  \\\n",
       "count   365347  191506      189308      387040   \n",
       "unique     121       6        1355           1   \n",
       "top         12       A  01/18/2018  01/21/2018   \n",
       "freq     38904  152153         478      387040   \n",
       "\n",
       "                              INSPECTION TYPE  \n",
       "count                                  385888  \n",
       "unique                                     34  \n",
       "top     Cycle Inspection / Initial Inspection  \n",
       "freq                                   222220  "
      ]
     },
     "execution_count": 33,
     "metadata": {},
     "output_type": "execute_result"
    }
   ],
   "source": [
    "restaurants.describe()"
   ]
  },
  {
   "cell_type": "markdown",
   "metadata": {},
   "source": [
    "We can also check the data types for each column"
   ]
  },
  {
   "cell_type": "code",
   "execution_count": 34,
   "metadata": {},
   "outputs": [
    {
     "data": {
      "text/plain": [
       "CAMIS                    object\n",
       "DBA                      object\n",
       "BORO                     object\n",
       "BUILDING                 object\n",
       "STREET                   object\n",
       "ZIPCODE                  object\n",
       "PHONE                    object\n",
       "CUISINE DESCRIPTION      object\n",
       "INSPECTION DATE          object\n",
       "ACTION                   object\n",
       "VIOLATION CODE           object\n",
       "VIOLATION DESCRIPTION    object\n",
       "CRITICAL FLAG            object\n",
       "SCORE                    object\n",
       "GRADE                    object\n",
       "GRADE DATE               object\n",
       "RECORD DATE              object\n",
       "INSPECTION TYPE          object\n",
       "dtype: object"
      ]
     },
     "execution_count": 34,
     "metadata": {},
     "output_type": "execute_result"
    }
   ],
   "source": [
    "restaurants.dtypes"
   ]
  },
  {
   "cell_type": "markdown",
   "metadata": {},
   "source": [
    "#### Converting Data Types"
   ]
  },
  {
   "cell_type": "markdown",
   "metadata": {},
   "source": [
    "The `object` type is a string. For many of these, we would like to change the data types for a few columns, using the `pd.to_numeric` and `pd.to_datetime` functions:"
   ]
  },
  {
   "cell_type": "code",
   "execution_count": 35,
   "metadata": {},
   "outputs": [
    {
     "data": {
      "text/plain": [
       "CAMIS                     object\n",
       "DBA                       object\n",
       "BORO                      object\n",
       "BUILDING                  object\n",
       "STREET                    object\n",
       "ZIPCODE                   object\n",
       "PHONE                     object\n",
       "CUISINE DESCRIPTION       object\n",
       "INSPECTION DATE           object\n",
       "ACTION                    object\n",
       "VIOLATION CODE            object\n",
       "VIOLATION DESCRIPTION     object\n",
       "CRITICAL FLAG             object\n",
       "SCORE                    float64\n",
       "GRADE                     object\n",
       "GRADE DATE                object\n",
       "RECORD DATE               object\n",
       "INSPECTION TYPE           object\n",
       "dtype: object"
      ]
     },
     "execution_count": 35,
     "metadata": {},
     "output_type": "execute_result"
    }
   ],
   "source": [
    "restaurants[\"SCORE\"] = pd.to_numeric(restaurants[\"SCORE\"])\n",
    "restaurants.dtypes"
   ]
  },
  {
   "cell_type": "markdown",
   "metadata": {},
   "source": [
    "#### Descriptive Statistics\n",
    "\n",
    "And now that SCORE is a numeric variable, we can examine its distribution by using the `hist` command of Pandas, which creates a histogram."
   ]
  },
  {
   "cell_type": "code",
   "execution_count": 36,
   "metadata": {},
   "outputs": [
    {
     "data": {
      "text/plain": [
       "<matplotlib.axes._subplots.AxesSubplot at 0x7f2232a12b70>"
      ]
     },
     "execution_count": 36,
     "metadata": {},
     "output_type": "execute_result"
    },
    {
     "data": {
      "image/png": "[encoded data removed]",
      "text/plain": [
       "<matplotlib.figure.Figure at 0x7f2232a76a20>"
      ]
     },
     "metadata": {},
     "output_type": "display_data"
    }
   ],
   "source": [
    "restaurants[\"SCORE\"].hist(bins=50)"
   ]
  },
  {
   "cell_type": "code",
   "execution_count": 37,
   "metadata": {},
   "outputs": [
    {
     "data": {
      "text/plain": [
       "<matplotlib.axes._subplots.AxesSubplot at 0x7f2232a1c160>"
      ]
     },
     "execution_count": 37,
     "metadata": {},
     "output_type": "execute_result"
    },
    {
     "data": {
      "image/png": "[encoded data removed]",
      "text/plain": [
       "<matplotlib.figure.Figure at 0x7f2232980828>"
      ]
     },
     "metadata": {},
     "output_type": "display_data"
    }
   ],
   "source": [
    "# For column names without a space, we can also access directly the column as follows:\n",
    "restaurants.SCORE.hist(bins=50)"
   ]
  },
  {
   "cell_type": "code",
   "execution_count": 38,
   "metadata": {
    "scrolled": true
   },
   "outputs": [
    {
     "data": {
      "text/plain": [
       "count    365347.000000\n",
       "mean         18.926752\n",
       "std          13.053355\n",
       "min          -2.000000\n",
       "25%          11.000000\n",
       "50%          14.000000\n",
       "75%          24.000000\n",
       "max         151.000000\n",
       "Name: SCORE, dtype: float64"
      ]
     },
     "execution_count": 38,
     "metadata": {},
     "output_type": "execute_result"
    }
   ],
   "source": [
    "restaurants.SCORE.describe()"
   ]
  },
  {
   "cell_type": "markdown",
   "metadata": {},
   "source": [
    "### Converting Dates"
   ]
  },
  {
   "cell_type": "markdown",
   "metadata": {},
   "source": [
    "Now let's convert the dates columns into the appropriate data types. Let's take a look at a few dates."
   ]
  },
  {
   "cell_type": "code",
   "execution_count": 41,
   "metadata": {},
   "outputs": [
    {
     "data": {
      "text/plain": [
       "0           NaN\n",
       "1           NaN\n",
       "2    06/01/2015\n",
       "3           NaN\n",
       "4    08/19/2017\n",
       "5    10/07/2015\n",
       "6           NaN\n",
       "7           NaN\n",
       "8    12/01/2016\n",
       "9    09/13/2017\n",
       "Name: GRADE DATE, dtype: object"
      ]
     },
     "execution_count": 41,
     "metadata": {},
     "output_type": "execute_result"
    }
   ],
   "source": [
    "restaurants[\"GRADE DATE\"].head(10)"
   ]
  },
  {
   "cell_type": "markdown",
   "metadata": {},
   "source": [
    "For that, we need to understand first how to [parse dates using the Python conventions](https://docs.python.org/3/library/datetime.html#strftime-and-strptime-behavior).\n",
    "\n",
    "The relevant entries from the table are:\n",
    "* `%m` Month as a zero-padded decimal number.\n",
    "* `%d` \tDay of the month as a zero-padded decimal number.\n",
    "* `%Y` Year with century as a decimal number.\n",
    "\n",
    "Now, we can specify how to parse these dates. (In principle, we can let Pandas do this automatically, but it is _much_ faster if we specify it ourselves. It is also much less error-prone.)"
   ]
  },
  {
   "cell_type": "code",
   "execution_count": 43,
   "metadata": {},
   "outputs": [],
   "source": [
    "restaurants[\"GRADE DATE\"] = pd.to_datetime(restaurants[\"GRADE DATE\"], format=\"%m/%d/%Y\")\n",
    "restaurants[\"RECORD DATE\"] = pd.to_datetime(restaurants[\"RECORD DATE\"], format=\"%m/%d/%Y\")\n",
    "restaurants[\"INSPECTION DATE\"] = pd.to_datetime(restaurants[\"INSPECTION DATE\"], format=\"%m/%d/%Y\")"
   ]
  },
  {
   "cell_type": "code",
   "execution_count": 44,
   "metadata": {},
   "outputs": [
    {
     "data": {
      "text/plain": [
       "CAMIS                            object\n",
       "DBA                              object\n",
       "BORO                             object\n",
       "BUILDING                         object\n",
       "STREET                           object\n",
       "ZIPCODE                          object\n",
       "PHONE                            object\n",
       "CUISINE DESCRIPTION              object\n",
       "INSPECTION DATE          datetime64[ns]\n",
       "ACTION                           object\n",
       "VIOLATION CODE                   object\n",
       "VIOLATION DESCRIPTION            object\n",
       "CRITICAL FLAG                    object\n",
       "SCORE                           float64\n",
       "GRADE                            object\n",
       "GRADE DATE               datetime64[ns]\n",
       "RECORD DATE              datetime64[ns]\n",
       "INSPECTION TYPE                  object\n",
       "dtype: object"
      ]
     },
     "execution_count": 44,
     "metadata": {},
     "output_type": "execute_result"
    }
   ],
   "source": [
    "restaurants.dtypes"
   ]
  },
  {
   "cell_type": "code",
   "execution_count": 21,
   "metadata": {},
   "outputs": [
    {
     "data": {
      "text/html": [
       "<div>\n",
       "<style scoped>\n",
       "    .dataframe tbody tr th:only-of-type {\n",
       "        vertical-align: middle;\n",
       "    }\n",
       "\n",
       "    .dataframe tbody tr th {\n",
       "        vertical-align: top;\n",
       "    }\n",
       "\n",
       "    .dataframe thead th {\n",
       "        text-align: right;\n",
       "    }\n",
       "</style>\n",
       "<table border=\"1\" class=\"dataframe\">\n",
       "  <thead>\n",
       "    <tr style=\"text-align: right;\">\n",
       "      <th></th>\n",
       "      <th>INSPECTION DATE</th>\n",
       "      <th>GRADE DATE</th>\n",
       "      <th>RECORD DATE</th>\n",
       "    </tr>\n",
       "  </thead>\n",
       "  <tbody>\n",
       "    <tr>\n",
       "      <th>count</th>\n",
       "      <td>387040</td>\n",
       "      <td>189308</td>\n",
       "      <td>387040</td>\n",
       "    </tr>\n",
       "    <tr>\n",
       "      <th>unique</th>\n",
       "      <td>1451</td>\n",
       "      <td>1355</td>\n",
       "      <td>1</td>\n",
       "    </tr>\n",
       "    <tr>\n",
       "      <th>top</th>\n",
       "      <td>1900-01-01 00:00:00</td>\n",
       "      <td>2018-01-18 00:00:00</td>\n",
       "      <td>2018-01-21 00:00:00</td>\n",
       "    </tr>\n",
       "    <tr>\n",
       "      <th>freq</th>\n",
       "      <td>1152</td>\n",
       "      <td>478</td>\n",
       "      <td>387040</td>\n",
       "    </tr>\n",
       "    <tr>\n",
       "      <th>first</th>\n",
       "      <td>1900-01-01 00:00:00</td>\n",
       "      <td>2012-05-01 00:00:00</td>\n",
       "      <td>2018-01-21 00:00:00</td>\n",
       "    </tr>\n",
       "    <tr>\n",
       "      <th>last</th>\n",
       "      <td>2018-01-19 00:00:00</td>\n",
       "      <td>2018-01-19 00:00:00</td>\n",
       "      <td>2018-01-21 00:00:00</td>\n",
       "    </tr>\n",
       "  </tbody>\n",
       "</table>\n",
       "</div>"
      ],
      "text/plain": [
       "            INSPECTION DATE           GRADE DATE          RECORD DATE\n",
       "count                387040               189308               387040\n",
       "unique                 1451                 1355                    1\n",
       "top     1900-01-01 00:00:00  2018-01-18 00:00:00  2018-01-21 00:00:00\n",
       "freq                   1152                  478               387040\n",
       "first   1900-01-01 00:00:00  2012-05-01 00:00:00  2018-01-21 00:00:00\n",
       "last    2018-01-19 00:00:00  2018-01-19 00:00:00  2018-01-21 00:00:00"
      ]
     },
     "execution_count": 21,
     "metadata": {},
     "output_type": "execute_result"
    }
   ],
   "source": [
    "restaurants[[\"INSPECTION DATE\", \"GRADE DATE\", \"RECORD DATE\"]].describe()"
   ]
  },
  {
   "cell_type": "markdown",
   "metadata": {},
   "source": [
    "#### Exercise\n",
    "\n",
    "* Plot a histogram for `INSPECTION DATE`, `GRADE DATE`, `RECORD DATE`. What do you see?\n",
    "* Try modifying the `bins` parameter. What are the results?\n",
    "* The `range=(start, finish)` command is often useful, when we want to focus on a particular part of the dataset. Try using that for  `INSPECTION DATE` to limit the dates to be between 1/1/2012 and 12/31/2017."
   ]
  },
  {
   "cell_type": "code",
   "execution_count": 64,
   "metadata": {},
   "outputs": [],
   "source": [
    "# your code here"
   ]
  },
  {
   "cell_type": "markdown",
   "metadata": {},
   "source": [
    "### Categorical Variables\n",
    "\n",
    "This is less important, but sometimes we want to specify variables to be \"Categorical\". This is most commonly useful when we have variables that have an implicit order (e.g., the A/B/C grade of the restaurant)."
   ]
  },
  {
   "cell_type": "code",
   "execution_count": 65,
   "metadata": {},
   "outputs": [
    {
     "data": {
      "text/plain": [
       "CAMIS                            object\n",
       "DBA                              object\n",
       "BORO                           category\n",
       "BUILDING                         object\n",
       "STREET                           object\n",
       "ZIPCODE                          object\n",
       "PHONE                            object\n",
       "CUISINE DESCRIPTION            category\n",
       "INSPECTION DATE          datetime64[ns]\n",
       "ACTION                         category\n",
       "VIOLATION CODE                 category\n",
       "VIOLATION DESCRIPTION            object\n",
       "CRITICAL FLAG                  category\n",
       "SCORE                           float64\n",
       "GRADE                          category\n",
       "GRADE DATE               datetime64[ns]\n",
       "RECORD DATE              datetime64[ns]\n",
       "INSPECTION TYPE                  object\n",
       "dtype: object"
      ]
     },
     "execution_count": 65,
     "metadata": {},
     "output_type": "execute_result"
    }
   ],
   "source": [
    "restaurants[\"BORO\"] =  pd.Categorical(restaurants[\"BORO\"], ordered=False)\n",
    "restaurants[\"GRADE\"] =  pd.Categorical(restaurants[\"GRADE\"], categories = ['A', 'B', 'C'], ordered=True)\n",
    "restaurants[\"VIOLATION CODE\"] =  pd.Categorical(restaurants[\"VIOLATION CODE\"], ordered=False)\n",
    "restaurants[\"CRITICAL FLAG\"] =  pd.Categorical(restaurants[\"CRITICAL FLAG\"], ordered=False)\n",
    "restaurants[\"ACTION\"] =  pd.Categorical(restaurants[\"ACTION\"], ordered=False)\n",
    "restaurants[\"CUISINE DESCRIPTION\"] =  pd.Categorical(restaurants[\"CUISINE DESCRIPTION\"], ordered=False)\n",
    "restaurants.dtypes"
   ]
  },
  {
   "cell_type": "markdown",
   "metadata": {},
   "source": [
    "### Analyzing the content of the columns"
   ]
  },
  {
   "cell_type": "markdown",
   "metadata": {},
   "source": [
    "We can also get quick statistics about the common values that appear in each column:"
   ]
  },
  {
   "cell_type": "code",
   "execution_count": 48,
   "metadata": {},
   "outputs": [
    {
     "data": {
      "text/plain": [
       "DUNKIN' DONUTS                    4310\n",
       "SUBWAY                            3563\n",
       "MCDONALD'S                        2625\n",
       "STARBUCKS                         2199\n",
       "DUNKIN' DONUTS, BASKIN ROBBINS    1456\n",
       "DOMINO'S                          1377\n",
       "KENNEDY FRIED CHICKEN             1173\n",
       "BURGER KING                       1097\n",
       "CROWN FRIED CHICKEN               1058\n",
       "CHIPOTLE MEXICAN GRILL             936\n",
       "Name: DBA, dtype: int64"
      ]
     },
     "execution_count": 48,
     "metadata": {},
     "output_type": "execute_result"
    }
   ],
   "source": [
    "restaurants[\"DBA\"].value_counts()[:10] "
   ]
  },
  {
   "cell_type": "code",
   "execution_count": 50,
   "metadata": {},
   "outputs": [
    {
     "data": {
      "text/plain": [
       "American                                                            86904\n",
       "Chinese                                                             40636\n",
       "Latin (Cuban, Dominican, Puerto Rican, South & Central American)    18017\n",
       "Pizza                                                               17932\n",
       "Italian                                                             17036\n",
       "Name: CUISINE DESCRIPTION, dtype: int64"
      ]
     },
     "execution_count": 50,
     "metadata": {},
     "output_type": "execute_result"
    }
   ],
   "source": [
    "restaurants[\"CUISINE DESCRIPTION\"].value_counts()[:5]"
   ]
  },
  {
   "cell_type": "markdown",
   "metadata": {},
   "source": [
    "And we can use the \"plot\" command to plot the resulting histogram. (More details at http://pandas.pydata.org/pandas-docs/stable/visualization.html) We also revisit plotting below."
   ]
  },
  {
   "cell_type": "code",
   "execution_count": null,
   "metadata": {},
   "outputs": [],
   "source": [
    "restaurants[\"CUISINE DESCRIPTION\"].value_counts()[:5].plot(kind='bar')"
   ]
  },
  {
   "cell_type": "code",
   "execution_count": null,
   "metadata": {},
   "outputs": [],
   "source": [
    "popular = restaurants[\"CUISINE DESCRIPTION\"].value_counts()\n",
    "popular[:5].plot(kind='bar')"
   ]
  },
  {
   "cell_type": "code",
   "execution_count": 51,
   "metadata": {},
   "outputs": [
    {
     "data": {
      "text/plain": [
       "0    04J\n",
       "1    04J\n",
       "2    10H\n",
       "3    04L\n",
       "4    04L\n",
       "Name: VIOLATION CODE, dtype: category\n",
       "Categories (99, object): [02A, 02B, 02C, 02D, ..., 22C, 22E, 22F, 22G]"
      ]
     },
     "execution_count": 51,
     "metadata": {},
     "output_type": "execute_result"
    }
   ],
   "source": [
    "restaurants[\"VIOLATION CODE\"].head(5)"
   ]
  },
  {
   "cell_type": "code",
   "execution_count": 52,
   "metadata": {},
   "outputs": [
    {
     "data": {
      "text/plain": [
       "10F    54038\n",
       "08A    39769\n",
       "04L    27258\n",
       "06C    25837\n",
       "06D    25501\n",
       "02G    25135\n",
       "10B    22186\n",
       "04N    20011\n",
       "02B    19136\n",
       "04H     8546\n",
       "Name: VIOLATION CODE, dtype: int64"
      ]
     },
     "execution_count": 52,
     "metadata": {},
     "output_type": "execute_result"
    }
   ],
   "source": [
    "violation_counts = restaurants[\"VIOLATION CODE\"].value_counts();\n",
    "violation_counts[0:10]"
   ]
  },
  {
   "cell_type": "code",
   "execution_count": 53,
   "metadata": {},
   "outputs": [
    {
     "data": {
      "text/plain": [
       "<matplotlib.axes._subplots.AxesSubplot at 0x7f2232f7f588>"
      ]
     },
     "execution_count": 53,
     "metadata": {},
     "output_type": "execute_result"
    },
    {
     "data": {
      "image/png": "[encoded data removed]",
      "text/plain": [
       "<matplotlib.figure.Figure at 0x7f2232916438>"
      ]
     },
     "metadata": {},
     "output_type": "display_data"
    }
   ],
   "source": [
    "violation_counts[0:20].plot(kind='bar')"
   ]
  },
  {
   "cell_type": "markdown",
   "metadata": {},
   "source": [
    "#### Exercise\n",
    "\n",
    "* Create a plot showing the number of inspections that happen across boroughs."
   ]
  },
  {
   "cell_type": "code",
   "execution_count": null,
   "metadata": {},
   "outputs": [],
   "source": []
  },
  {
   "cell_type": "markdown",
   "metadata": {},
   "source": [
    "### Selecting a subset of the columns\n",
    "\n",
    "In a dataframe, we can specify the column(s) that we want to keep, and get back another dataframe with just the subset of the columns that we want to keep."
   ]
  },
  {
   "cell_type": "code",
   "execution_count": null,
   "metadata": {},
   "outputs": [],
   "source": [
    "column_list = [\"INSPECTION DATE\",\"VIOLATION CODE\", \"DBA\", \"SCORE\"]\n",
    "restaurants[ column_list ].head(10)"
   ]
  },
  {
   "cell_type": "code",
   "execution_count": null,
   "metadata": {},
   "outputs": [],
   "source": [
    "restaurants[ [\"GRADE DATE\",\"VIOLATION CODE\", \"DBA\"] ].head(5)"
   ]
  },
  {
   "cell_type": "markdown",
   "metadata": {},
   "source": [
    "### Selecting rows\n",
    "\n",
    "To select rows, we can use the following approach, where we generate a list of boolean values, one for each row of the dataframe, and then we use the list to select which of the rows of the dataframe we want to keep\""
   ]
  },
  {
   "cell_type": "code",
   "execution_count": null,
   "metadata": {},
   "outputs": [],
   "source": [
    "# Create the condition \"has mice\" for code 04L\n",
    "mice = (restaurants[\"VIOLATION CODE\"] == \"04L\")\n",
    "mice"
   ]
  },
  {
   "cell_type": "code",
   "execution_count": null,
   "metadata": {},
   "outputs": [],
   "source": [
    "# Apply the condition to the dataframe \"restaurants\" and store the result \n",
    "# in a dataframe called  has_mice\n",
    "has_mice = restaurants[mice]\n",
    "has_mice"
   ]
  },
  {
   "cell_type": "code",
   "execution_count": null,
   "metadata": {},
   "outputs": [],
   "source": [
    "# List the most frequent DBA values in the dataframe\n",
    "has_mice[\"DBA\"].value_counts()[:20]"
   ]
  },
  {
   "cell_type": "code",
   "execution_count": null,
   "metadata": {},
   "outputs": [],
   "source": [
    "has_mice[\"CAMIS\"].value_counts()[:5]"
   ]
  },
  {
   "cell_type": "code",
   "execution_count": null,
   "metadata": {},
   "outputs": [],
   "source": [
    "condition = (restaurants[\"CAMIS\"] == '41444879')\n",
    "restaurants[condition]"
   ]
  },
  {
   "cell_type": "markdown",
   "metadata": {},
   "source": [
    "And we can use more complex conditions. "
   ]
  },
  {
   "cell_type": "code",
   "execution_count": null,
   "metadata": {},
   "outputs": [],
   "source": [
    "mice_manhattan =  ( (restaurants[\"VIOLATION CODE\"] == \"04L\") \n",
    "                    & (restaurants[\"BORO\"] == \"MANHATTAN\") \n",
    "                    & (restaurants[\"ZIPCODE\"] == \"10012\") )"
   ]
  },
  {
   "cell_type": "code",
   "execution_count": null,
   "metadata": {},
   "outputs": [],
   "source": [
    "has_mice_10012 = restaurants[mice_manhattan]\n",
    "has_mice_10012"
   ]
  },
  {
   "cell_type": "code",
   "execution_count": null,
   "metadata": {},
   "outputs": [],
   "source": [
    "has_mice_10012[\"DBA\"].value_counts()[:20]"
   ]
  },
  {
   "cell_type": "code",
   "execution_count": null,
   "metadata": {
    "scrolled": true
   },
   "outputs": [],
   "source": [
    "has_mice_10012[\"DBA\"].value_counts()[:10].plot(kind='bar')"
   ]
  },
  {
   "cell_type": "code",
   "execution_count": null,
   "metadata": {},
   "outputs": [],
   "source": []
  },
  {
   "cell_type": "markdown",
   "metadata": {},
   "source": [
    "### Pivot Tables\n",
    "\n",
    "[Pivot tables](http://pandas.pydata.org/pandas-docs/stable/generated/pandas.pivot_table.html) is one of the most commonly used exploratory tools, and in Pandas they are extremely flexible. \n",
    "\n",
    "For example, let's try to count the number of restaurants that are inspected every day. "
   ]
  },
  {
   "cell_type": "code",
   "execution_count": 68,
   "metadata": {},
   "outputs": [],
   "source": [
    "pivot = pd.pivot_table(\n",
    "    data = restaurants, \n",
    "    index = 'INSPECTION DATE', # specifies the rows\n",
    "    values = 'CAMIS',  # specifies the content of the cells\n",
    "    aggfunc = 'count' # we ask to count how many different CAMIS values we see\n",
    ")"
   ]
  },
  {
   "cell_type": "markdown",
   "metadata": {},
   "source": [
    "##### Changing date granularity \n",
    "\n",
    "We can also use the [resample](http://pandas.pydata.org/pandas-docs/stable/generated/pandas.DataFrame.resample.html) command to change the frequency from one day, to, say, 7 days. Then we can compute, say, the average (`mean()`) for these days, or the total number (`sum()`) of inspections."
   ]
  },
  {
   "cell_type": "code",
   "execution_count": 69,
   "metadata": {},
   "outputs": [
    {
     "data": {
      "text/html": [
       "<div>\n",
       "<style scoped>\n",
       "    .dataframe tbody tr th:only-of-type {\n",
       "        vertical-align: middle;\n",
       "    }\n",
       "\n",
       "    .dataframe tbody tr th {\n",
       "        vertical-align: top;\n",
       "    }\n",
       "\n",
       "    .dataframe thead th {\n",
       "        text-align: right;\n",
       "    }\n",
       "</style>\n",
       "<table border=\"1\" class=\"dataframe\">\n",
       "  <thead>\n",
       "    <tr style=\"text-align: right;\">\n",
       "      <th></th>\n",
       "      <th>CAMIS</th>\n",
       "    </tr>\n",
       "    <tr>\n",
       "      <th>INSPECTION DATE</th>\n",
       "      <th></th>\n",
       "    </tr>\n",
       "  </thead>\n",
       "  <tbody>\n",
       "    <tr>\n",
       "      <th>1900-01-01</th>\n",
       "      <td>1152.000000</td>\n",
       "    </tr>\n",
       "    <tr>\n",
       "      <th>1900-01-08</th>\n",
       "      <td>NaN</td>\n",
       "    </tr>\n",
       "    <tr>\n",
       "      <th>1900-01-15</th>\n",
       "      <td>NaN</td>\n",
       "    </tr>\n",
       "    <tr>\n",
       "      <th>1900-01-22</th>\n",
       "      <td>NaN</td>\n",
       "    </tr>\n",
       "    <tr>\n",
       "      <th>1900-01-29</th>\n",
       "      <td>NaN</td>\n",
       "    </tr>\n",
       "    <tr>\n",
       "      <th>1900-02-05</th>\n",
       "      <td>NaN</td>\n",
       "    </tr>\n",
       "    <tr>\n",
       "      <th>1900-02-12</th>\n",
       "      <td>NaN</td>\n",
       "    </tr>\n",
       "    <tr>\n",
       "      <th>1900-02-19</th>\n",
       "      <td>NaN</td>\n",
       "    </tr>\n",
       "    <tr>\n",
       "      <th>1900-02-26</th>\n",
       "      <td>NaN</td>\n",
       "    </tr>\n",
       "    <tr>\n",
       "      <th>1900-03-05</th>\n",
       "      <td>NaN</td>\n",
       "    </tr>\n",
       "    <tr>\n",
       "      <th>1900-03-12</th>\n",
       "      <td>NaN</td>\n",
       "    </tr>\n",
       "    <tr>\n",
       "      <th>1900-03-19</th>\n",
       "      <td>NaN</td>\n",
       "    </tr>\n",
       "    <tr>\n",
       "      <th>1900-03-26</th>\n",
       "      <td>NaN</td>\n",
       "    </tr>\n",
       "    <tr>\n",
       "      <th>1900-04-02</th>\n",
       "      <td>NaN</td>\n",
       "    </tr>\n",
       "    <tr>\n",
       "      <th>1900-04-09</th>\n",
       "      <td>NaN</td>\n",
       "    </tr>\n",
       "    <tr>\n",
       "      <th>1900-04-16</th>\n",
       "      <td>NaN</td>\n",
       "    </tr>\n",
       "    <tr>\n",
       "      <th>1900-04-23</th>\n",
       "      <td>NaN</td>\n",
       "    </tr>\n",
       "    <tr>\n",
       "      <th>1900-04-30</th>\n",
       "      <td>NaN</td>\n",
       "    </tr>\n",
       "    <tr>\n",
       "      <th>1900-05-07</th>\n",
       "      <td>NaN</td>\n",
       "    </tr>\n",
       "    <tr>\n",
       "      <th>1900-05-14</th>\n",
       "      <td>NaN</td>\n",
       "    </tr>\n",
       "    <tr>\n",
       "      <th>1900-05-21</th>\n",
       "      <td>NaN</td>\n",
       "    </tr>\n",
       "    <tr>\n",
       "      <th>1900-05-28</th>\n",
       "      <td>NaN</td>\n",
       "    </tr>\n",
       "    <tr>\n",
       "      <th>1900-06-04</th>\n",
       "      <td>NaN</td>\n",
       "    </tr>\n",
       "    <tr>\n",
       "      <th>1900-06-11</th>\n",
       "      <td>NaN</td>\n",
       "    </tr>\n",
       "    <tr>\n",
       "      <th>1900-06-18</th>\n",
       "      <td>NaN</td>\n",
       "    </tr>\n",
       "    <tr>\n",
       "      <th>1900-06-25</th>\n",
       "      <td>NaN</td>\n",
       "    </tr>\n",
       "    <tr>\n",
       "      <th>1900-07-02</th>\n",
       "      <td>NaN</td>\n",
       "    </tr>\n",
       "    <tr>\n",
       "      <th>1900-07-09</th>\n",
       "      <td>NaN</td>\n",
       "    </tr>\n",
       "    <tr>\n",
       "      <th>1900-07-16</th>\n",
       "      <td>NaN</td>\n",
       "    </tr>\n",
       "    <tr>\n",
       "      <th>1900-07-23</th>\n",
       "      <td>NaN</td>\n",
       "    </tr>\n",
       "    <tr>\n",
       "      <th>...</th>\n",
       "      <td>...</td>\n",
       "    </tr>\n",
       "    <tr>\n",
       "      <th>2017-06-26</th>\n",
       "      <td>368.000000</td>\n",
       "    </tr>\n",
       "    <tr>\n",
       "      <th>2017-07-03</th>\n",
       "      <td>318.200000</td>\n",
       "    </tr>\n",
       "    <tr>\n",
       "      <th>2017-07-10</th>\n",
       "      <td>402.666667</td>\n",
       "    </tr>\n",
       "    <tr>\n",
       "      <th>2017-07-17</th>\n",
       "      <td>443.833333</td>\n",
       "    </tr>\n",
       "    <tr>\n",
       "      <th>2017-07-24</th>\n",
       "      <td>484.166667</td>\n",
       "    </tr>\n",
       "    <tr>\n",
       "      <th>2017-07-31</th>\n",
       "      <td>422.833333</td>\n",
       "    </tr>\n",
       "    <tr>\n",
       "      <th>2017-08-07</th>\n",
       "      <td>433.000000</td>\n",
       "    </tr>\n",
       "    <tr>\n",
       "      <th>2017-08-14</th>\n",
       "      <td>463.333333</td>\n",
       "    </tr>\n",
       "    <tr>\n",
       "      <th>2017-08-21</th>\n",
       "      <td>389.000000</td>\n",
       "    </tr>\n",
       "    <tr>\n",
       "      <th>2017-08-28</th>\n",
       "      <td>396.833333</td>\n",
       "    </tr>\n",
       "    <tr>\n",
       "      <th>2017-09-04</th>\n",
       "      <td>355.600000</td>\n",
       "    </tr>\n",
       "    <tr>\n",
       "      <th>2017-09-11</th>\n",
       "      <td>440.000000</td>\n",
       "    </tr>\n",
       "    <tr>\n",
       "      <th>2017-09-18</th>\n",
       "      <td>366.285714</td>\n",
       "    </tr>\n",
       "    <tr>\n",
       "      <th>2017-09-25</th>\n",
       "      <td>361.571429</td>\n",
       "    </tr>\n",
       "    <tr>\n",
       "      <th>2017-10-02</th>\n",
       "      <td>349.000000</td>\n",
       "    </tr>\n",
       "    <tr>\n",
       "      <th>2017-10-09</th>\n",
       "      <td>429.800000</td>\n",
       "    </tr>\n",
       "    <tr>\n",
       "      <th>2017-10-16</th>\n",
       "      <td>442.166667</td>\n",
       "    </tr>\n",
       "    <tr>\n",
       "      <th>2017-10-23</th>\n",
       "      <td>439.666667</td>\n",
       "    </tr>\n",
       "    <tr>\n",
       "      <th>2017-10-30</th>\n",
       "      <td>383.166667</td>\n",
       "    </tr>\n",
       "    <tr>\n",
       "      <th>2017-11-06</th>\n",
       "      <td>412.000000</td>\n",
       "    </tr>\n",
       "    <tr>\n",
       "      <th>2017-11-13</th>\n",
       "      <td>432.500000</td>\n",
       "    </tr>\n",
       "    <tr>\n",
       "      <th>2017-11-20</th>\n",
       "      <td>353.600000</td>\n",
       "    </tr>\n",
       "    <tr>\n",
       "      <th>2017-11-27</th>\n",
       "      <td>484.000000</td>\n",
       "    </tr>\n",
       "    <tr>\n",
       "      <th>2017-12-04</th>\n",
       "      <td>455.000000</td>\n",
       "    </tr>\n",
       "    <tr>\n",
       "      <th>2017-12-11</th>\n",
       "      <td>382.714286</td>\n",
       "    </tr>\n",
       "    <tr>\n",
       "      <th>2017-12-18</th>\n",
       "      <td>541.833333</td>\n",
       "    </tr>\n",
       "    <tr>\n",
       "      <th>2017-12-25</th>\n",
       "      <td>456.600000</td>\n",
       "    </tr>\n",
       "    <tr>\n",
       "      <th>2018-01-01</th>\n",
       "      <td>455.250000</td>\n",
       "    </tr>\n",
       "    <tr>\n",
       "      <th>2018-01-08</th>\n",
       "      <td>528.285714</td>\n",
       "    </tr>\n",
       "    <tr>\n",
       "      <th>2018-01-15</th>\n",
       "      <td>689.500000</td>\n",
       "    </tr>\n",
       "  </tbody>\n",
       "</table>\n",
       "<p>6160 rows × 1 columns</p>\n",
       "</div>"
      ],
      "text/plain": [
       "                       CAMIS\n",
       "INSPECTION DATE             \n",
       "1900-01-01       1152.000000\n",
       "1900-01-08               NaN\n",
       "1900-01-15               NaN\n",
       "1900-01-22               NaN\n",
       "1900-01-29               NaN\n",
       "1900-02-05               NaN\n",
       "1900-02-12               NaN\n",
       "1900-02-19               NaN\n",
       "1900-02-26               NaN\n",
       "1900-03-05               NaN\n",
       "1900-03-12               NaN\n",
       "1900-03-19               NaN\n",
       "1900-03-26               NaN\n",
       "1900-04-02               NaN\n",
       "1900-04-09               NaN\n",
       "1900-04-16               NaN\n",
       "1900-04-23               NaN\n",
       "1900-04-30               NaN\n",
       "1900-05-07               NaN\n",
       "1900-05-14               NaN\n",
       "1900-05-21               NaN\n",
       "1900-05-28               NaN\n",
       "1900-06-04               NaN\n",
       "1900-06-11               NaN\n",
       "1900-06-18               NaN\n",
       "1900-06-25               NaN\n",
       "1900-07-02               NaN\n",
       "1900-07-09               NaN\n",
       "1900-07-16               NaN\n",
       "1900-07-23               NaN\n",
       "...                      ...\n",
       "2017-06-26        368.000000\n",
       "2017-07-03        318.200000\n",
       "2017-07-10        402.666667\n",
       "2017-07-17        443.833333\n",
       "2017-07-24        484.166667\n",
       "2017-07-31        422.833333\n",
       "2017-08-07        433.000000\n",
       "2017-08-14        463.333333\n",
       "2017-08-21        389.000000\n",
       "2017-08-28        396.833333\n",
       "2017-09-04        355.600000\n",
       "2017-09-11        440.000000\n",
       "2017-09-18        366.285714\n",
       "2017-09-25        361.571429\n",
       "2017-10-02        349.000000\n",
       "2017-10-09        429.800000\n",
       "2017-10-16        442.166667\n",
       "2017-10-23        439.666667\n",
       "2017-10-30        383.166667\n",
       "2017-11-06        412.000000\n",
       "2017-11-13        432.500000\n",
       "2017-11-20        353.600000\n",
       "2017-11-27        484.000000\n",
       "2017-12-04        455.000000\n",
       "2017-12-11        382.714286\n",
       "2017-12-18        541.833333\n",
       "2017-12-25        456.600000\n",
       "2018-01-01        455.250000\n",
       "2018-01-08        528.285714\n",
       "2018-01-15        689.500000\n",
       "\n",
       "[6160 rows x 1 columns]"
      ]
     },
     "execution_count": 69,
     "metadata": {},
     "output_type": "execute_result"
    }
   ],
   "source": [
    "pivot.resample('7D').mean()"
   ]
  },
  {
   "cell_type": "markdown",
   "metadata": {},
   "source": [
    "Now, let's plot this. By default, Pandas considers the \"index\" column to be the x-axis, and plots the rest."
   ]
  },
  {
   "cell_type": "code",
   "execution_count": 70,
   "metadata": {},
   "outputs": [
    {
     "data": {
      "text/html": [
       "<div>\n",
       "<style scoped>\n",
       "    .dataframe tbody tr th:only-of-type {\n",
       "        vertical-align: middle;\n",
       "    }\n",
       "\n",
       "    .dataframe tbody tr th {\n",
       "        vertical-align: top;\n",
       "    }\n",
       "\n",
       "    .dataframe thead th {\n",
       "        text-align: right;\n",
       "    }\n",
       "</style>\n",
       "<table border=\"1\" class=\"dataframe\">\n",
       "  <thead>\n",
       "    <tr style=\"text-align: right;\">\n",
       "      <th></th>\n",
       "      <th>CAMIS</th>\n",
       "    </tr>\n",
       "    <tr>\n",
       "      <th>INSPECTION DATE</th>\n",
       "      <th></th>\n",
       "    </tr>\n",
       "  </thead>\n",
       "  <tbody>\n",
       "    <tr>\n",
       "      <th>1900-01-01</th>\n",
       "      <td>1152</td>\n",
       "    </tr>\n",
       "    <tr>\n",
       "      <th>2011-10-07</th>\n",
       "      <td>1</td>\n",
       "    </tr>\n",
       "    <tr>\n",
       "      <th>2012-05-01</th>\n",
       "      <td>2</td>\n",
       "    </tr>\n",
       "    <tr>\n",
       "      <th>2012-06-23</th>\n",
       "      <td>1</td>\n",
       "    </tr>\n",
       "    <tr>\n",
       "      <th>2013-02-28</th>\n",
       "      <td>2</td>\n",
       "    </tr>\n",
       "  </tbody>\n",
       "</table>\n",
       "</div>"
      ],
      "text/plain": [
       "                 CAMIS\n",
       "INSPECTION DATE       \n",
       "1900-01-01        1152\n",
       "2011-10-07           1\n",
       "2012-05-01           2\n",
       "2012-06-23           1\n",
       "2013-02-28           2"
      ]
     },
     "execution_count": 70,
     "metadata": {},
     "output_type": "execute_result"
    }
   ],
   "source": [
    "pivot.head(5)"
   ]
  },
  {
   "cell_type": "code",
   "execution_count": 71,
   "metadata": {},
   "outputs": [
    {
     "data": {
      "text/plain": [
       "<matplotlib.axes._subplots.AxesSubplot at 0x7f222d6bcfd0>"
      ]
     },
     "execution_count": 71,
     "metadata": {},
     "output_type": "execute_result"
    },
    {
     "data": {
      "image/png": "[encoded data removed]",
      "text/plain": [
       "<matplotlib.figure.Figure at 0x7f222d6bca58>"
      ]
     },
     "metadata": {},
     "output_type": "display_data"
    }
   ],
   "source": [
    "pivot.plot()"
   ]
  },
  {
   "cell_type": "markdown",
   "metadata": {},
   "source": [
    "#### Deleting rows from a DataFrame\n",
    "\n",
    "Hm, that '1900-01-01' line is messing things up. Let's delete it, using the `drop` command. Notice a few things:\n",
    "* We use the `pd.to_datetime` command to convert the '1900-01-01' string into a datetime data type.\n",
    "* We use the `axis=0` parameter means that we delete a **row** with that index value. (The `axis=1` means that we delete a column.)\n",
    "* The `inplace=True` means that we change directly the dataframe, instead of returning a new dataframe that does not have the deleted value."
   ]
  },
  {
   "cell_type": "code",
   "execution_count": 72,
   "metadata": {},
   "outputs": [],
   "source": [
    "pivot.drop(pd.to_datetime('1900-01-01'), axis=0, inplace=True) "
   ]
  },
  {
   "cell_type": "markdown",
   "metadata": {},
   "source": [
    "And let's plot again."
   ]
  },
  {
   "cell_type": "code",
   "execution_count": 73,
   "metadata": {},
   "outputs": [
    {
     "data": {
      "text/plain": [
       "<matplotlib.axes._subplots.AxesSubplot at 0x7f222d6f17f0>"
      ]
     },
     "execution_count": 73,
     "metadata": {},
     "output_type": "execute_result"
    },
    {
     "data": {
      "image/png": "[encoded data removed]",
      "text/plain": [
       "<matplotlib.figure.Figure at 0x7f222d6792e8>"
      ]
     },
     "metadata": {},
     "output_type": "display_data"
    }
   ],
   "source": [
    "pivot.plot()"
   ]
  },
  {
   "cell_type": "code",
   "execution_count": 74,
   "metadata": {},
   "outputs": [
    {
     "data": {
      "text/plain": [
       "<matplotlib.axes._subplots.AxesSubplot at 0x7f222d661b00>"
      ]
     },
     "execution_count": 74,
     "metadata": {},
     "output_type": "execute_result"
    },
    {
     "data": {
      "image/png": "[encoded data removed]",
      "text/plain": [
       "<matplotlib.figure.Figure at 0x7f222d71a048>"
      ]
     },
     "metadata": {},
     "output_type": "display_data"
    }
   ],
   "source": [
    "pivot.resample('1M').sum().plot()"
   ]
  },
  {
   "cell_type": "markdown",
   "metadata": {},
   "source": [
    "#### Pivot Table with two (or more) variables)\n",
    "\n",
    "We would like to break down the results by borough, so we add the `column` parameter."
   ]
  },
  {
   "cell_type": "code",
   "execution_count": 75,
   "metadata": {},
   "outputs": [],
   "source": [
    "pivot2 = pd.pivot_table(\n",
    "    data = restaurants, #\n",
    "    index = 'INSPECTION DATE', \n",
    "    columns = 'BORO', \n",
    "    values = 'CAMIS', \n",
    "    aggfunc = 'count'\n",
    ")"
   ]
  },
  {
   "cell_type": "code",
   "execution_count": 76,
   "metadata": {},
   "outputs": [
    {
     "data": {
      "text/html": [
       "<div>\n",
       "<style scoped>\n",
       "    .dataframe tbody tr th:only-of-type {\n",
       "        vertical-align: middle;\n",
       "    }\n",
       "\n",
       "    .dataframe tbody tr th {\n",
       "        vertical-align: top;\n",
       "    }\n",
       "\n",
       "    .dataframe thead th {\n",
       "        text-align: right;\n",
       "    }\n",
       "</style>\n",
       "<table border=\"1\" class=\"dataframe\">\n",
       "  <thead>\n",
       "    <tr style=\"text-align: right;\">\n",
       "      <th>BORO</th>\n",
       "      <th>BRONX</th>\n",
       "      <th>BROOKLYN</th>\n",
       "      <th>MANHATTAN</th>\n",
       "      <th>Missing</th>\n",
       "      <th>QUEENS</th>\n",
       "      <th>STATEN ISLAND</th>\n",
       "    </tr>\n",
       "    <tr>\n",
       "      <th>INSPECTION DATE</th>\n",
       "      <th></th>\n",
       "      <th></th>\n",
       "      <th></th>\n",
       "      <th></th>\n",
       "      <th></th>\n",
       "      <th></th>\n",
       "    </tr>\n",
       "  </thead>\n",
       "  <tbody>\n",
       "    <tr>\n",
       "      <th>1900-01-01</th>\n",
       "      <td>86.0</td>\n",
       "      <td>293.0</td>\n",
       "      <td>445.0</td>\n",
       "      <td>4.0</td>\n",
       "      <td>296.0</td>\n",
       "      <td>28.0</td>\n",
       "    </tr>\n",
       "    <tr>\n",
       "      <th>2011-10-07</th>\n",
       "      <td>NaN</td>\n",
       "      <td>NaN</td>\n",
       "      <td>NaN</td>\n",
       "      <td>NaN</td>\n",
       "      <td>1.0</td>\n",
       "      <td>NaN</td>\n",
       "    </tr>\n",
       "    <tr>\n",
       "      <th>2012-05-01</th>\n",
       "      <td>NaN</td>\n",
       "      <td>NaN</td>\n",
       "      <td>NaN</td>\n",
       "      <td>NaN</td>\n",
       "      <td>2.0</td>\n",
       "      <td>NaN</td>\n",
       "    </tr>\n",
       "    <tr>\n",
       "      <th>2012-06-23</th>\n",
       "      <td>NaN</td>\n",
       "      <td>NaN</td>\n",
       "      <td>NaN</td>\n",
       "      <td>NaN</td>\n",
       "      <td>1.0</td>\n",
       "      <td>NaN</td>\n",
       "    </tr>\n",
       "    <tr>\n",
       "      <th>2013-02-28</th>\n",
       "      <td>NaN</td>\n",
       "      <td>2.0</td>\n",
       "      <td>NaN</td>\n",
       "      <td>NaN</td>\n",
       "      <td>NaN</td>\n",
       "      <td>NaN</td>\n",
       "    </tr>\n",
       "    <tr>\n",
       "      <th>2013-03-29</th>\n",
       "      <td>NaN</td>\n",
       "      <td>NaN</td>\n",
       "      <td>1.0</td>\n",
       "      <td>NaN</td>\n",
       "      <td>NaN</td>\n",
       "      <td>NaN</td>\n",
       "    </tr>\n",
       "    <tr>\n",
       "      <th>2013-04-19</th>\n",
       "      <td>NaN</td>\n",
       "      <td>NaN</td>\n",
       "      <td>NaN</td>\n",
       "      <td>NaN</td>\n",
       "      <td>4.0</td>\n",
       "      <td>NaN</td>\n",
       "    </tr>\n",
       "    <tr>\n",
       "      <th>2013-04-23</th>\n",
       "      <td>NaN</td>\n",
       "      <td>NaN</td>\n",
       "      <td>2.0</td>\n",
       "      <td>NaN</td>\n",
       "      <td>NaN</td>\n",
       "      <td>NaN</td>\n",
       "    </tr>\n",
       "    <tr>\n",
       "      <th>2013-04-25</th>\n",
       "      <td>NaN</td>\n",
       "      <td>NaN</td>\n",
       "      <td>4.0</td>\n",
       "      <td>NaN</td>\n",
       "      <td>NaN</td>\n",
       "      <td>NaN</td>\n",
       "    </tr>\n",
       "    <tr>\n",
       "      <th>2013-04-26</th>\n",
       "      <td>NaN</td>\n",
       "      <td>NaN</td>\n",
       "      <td>3.0</td>\n",
       "      <td>NaN</td>\n",
       "      <td>NaN</td>\n",
       "      <td>NaN</td>\n",
       "    </tr>\n",
       "  </tbody>\n",
       "</table>\n",
       "</div>"
      ],
      "text/plain": [
       "BORO             BRONX  BROOKLYN  MANHATTAN  Missing  QUEENS  STATEN ISLAND\n",
       "INSPECTION DATE                                                            \n",
       "1900-01-01        86.0     293.0      445.0      4.0   296.0           28.0\n",
       "2011-10-07         NaN       NaN        NaN      NaN     1.0            NaN\n",
       "2012-05-01         NaN       NaN        NaN      NaN     2.0            NaN\n",
       "2012-06-23         NaN       NaN        NaN      NaN     1.0            NaN\n",
       "2013-02-28         NaN       2.0        NaN      NaN     NaN            NaN\n",
       "2013-03-29         NaN       NaN        1.0      NaN     NaN            NaN\n",
       "2013-04-19         NaN       NaN        NaN      NaN     4.0            NaN\n",
       "2013-04-23         NaN       NaN        2.0      NaN     NaN            NaN\n",
       "2013-04-25         NaN       NaN        4.0      NaN     NaN            NaN\n",
       "2013-04-26         NaN       NaN        3.0      NaN     NaN            NaN"
      ]
     },
     "execution_count": 76,
     "metadata": {},
     "output_type": "execute_result"
    }
   ],
   "source": [
    "pivot2.head(10)"
   ]
  },
  {
   "cell_type": "markdown",
   "metadata": {},
   "source": [
    "##### Deleting rows and columns\n",
    "\n",
    "Now, you will notice that there are a few columns and rows that are just noise. The first row with date *'1900-01-01'* is clearly noise, and the *'Missing'* columns the same. We can use the `drop` command of Pandas to drop these."
   ]
  },
  {
   "cell_type": "code",
   "execution_count": 77,
   "metadata": {},
   "outputs": [],
   "source": [
    "# The \"axis=0\" means that we delete a row with that index value\n",
    "pivot2 = pivot2.drop(pd.to_datetime('1900-01-01'), axis=0) "
   ]
  },
  {
   "cell_type": "code",
   "execution_count": 78,
   "metadata": {},
   "outputs": [],
   "source": [
    "# The \"axis=1\" means that we delete a columns with that value\n",
    "pivot2 = pivot2.drop('Missing', axis=1)"
   ]
  },
  {
   "cell_type": "code",
   "execution_count": 79,
   "metadata": {},
   "outputs": [
    {
     "data": {
      "text/html": [
       "<div>\n",
       "<style scoped>\n",
       "    .dataframe tbody tr th:only-of-type {\n",
       "        vertical-align: middle;\n",
       "    }\n",
       "\n",
       "    .dataframe tbody tr th {\n",
       "        vertical-align: top;\n",
       "    }\n",
       "\n",
       "    .dataframe thead th {\n",
       "        text-align: right;\n",
       "    }\n",
       "</style>\n",
       "<table border=\"1\" class=\"dataframe\">\n",
       "  <thead>\n",
       "    <tr style=\"text-align: right;\">\n",
       "      <th>BORO</th>\n",
       "      <th>BRONX</th>\n",
       "      <th>BROOKLYN</th>\n",
       "      <th>MANHATTAN</th>\n",
       "      <th>QUEENS</th>\n",
       "      <th>STATEN ISLAND</th>\n",
       "    </tr>\n",
       "    <tr>\n",
       "      <th>INSPECTION DATE</th>\n",
       "      <th></th>\n",
       "      <th></th>\n",
       "      <th></th>\n",
       "      <th></th>\n",
       "      <th></th>\n",
       "    </tr>\n",
       "  </thead>\n",
       "  <tbody>\n",
       "    <tr>\n",
       "      <th>2011-10-31</th>\n",
       "      <td>NaN</td>\n",
       "      <td>NaN</td>\n",
       "      <td>NaN</td>\n",
       "      <td>1.000000</td>\n",
       "      <td>NaN</td>\n",
       "    </tr>\n",
       "    <tr>\n",
       "      <th>2011-11-30</th>\n",
       "      <td>NaN</td>\n",
       "      <td>NaN</td>\n",
       "      <td>NaN</td>\n",
       "      <td>NaN</td>\n",
       "      <td>NaN</td>\n",
       "    </tr>\n",
       "    <tr>\n",
       "      <th>2011-12-31</th>\n",
       "      <td>NaN</td>\n",
       "      <td>NaN</td>\n",
       "      <td>NaN</td>\n",
       "      <td>NaN</td>\n",
       "      <td>NaN</td>\n",
       "    </tr>\n",
       "    <tr>\n",
       "      <th>2012-01-31</th>\n",
       "      <td>NaN</td>\n",
       "      <td>NaN</td>\n",
       "      <td>NaN</td>\n",
       "      <td>NaN</td>\n",
       "      <td>NaN</td>\n",
       "    </tr>\n",
       "    <tr>\n",
       "      <th>2012-02-29</th>\n",
       "      <td>NaN</td>\n",
       "      <td>NaN</td>\n",
       "      <td>NaN</td>\n",
       "      <td>NaN</td>\n",
       "      <td>NaN</td>\n",
       "    </tr>\n",
       "    <tr>\n",
       "      <th>2012-03-31</th>\n",
       "      <td>NaN</td>\n",
       "      <td>NaN</td>\n",
       "      <td>NaN</td>\n",
       "      <td>NaN</td>\n",
       "      <td>NaN</td>\n",
       "    </tr>\n",
       "    <tr>\n",
       "      <th>2012-04-30</th>\n",
       "      <td>NaN</td>\n",
       "      <td>NaN</td>\n",
       "      <td>NaN</td>\n",
       "      <td>NaN</td>\n",
       "      <td>NaN</td>\n",
       "    </tr>\n",
       "    <tr>\n",
       "      <th>2012-05-31</th>\n",
       "      <td>NaN</td>\n",
       "      <td>NaN</td>\n",
       "      <td>NaN</td>\n",
       "      <td>2.000000</td>\n",
       "      <td>NaN</td>\n",
       "    </tr>\n",
       "    <tr>\n",
       "      <th>2012-06-30</th>\n",
       "      <td>NaN</td>\n",
       "      <td>NaN</td>\n",
       "      <td>NaN</td>\n",
       "      <td>1.000000</td>\n",
       "      <td>NaN</td>\n",
       "    </tr>\n",
       "    <tr>\n",
       "      <th>2012-07-31</th>\n",
       "      <td>NaN</td>\n",
       "      <td>NaN</td>\n",
       "      <td>NaN</td>\n",
       "      <td>NaN</td>\n",
       "      <td>NaN</td>\n",
       "    </tr>\n",
       "    <tr>\n",
       "      <th>2012-08-31</th>\n",
       "      <td>NaN</td>\n",
       "      <td>NaN</td>\n",
       "      <td>NaN</td>\n",
       "      <td>NaN</td>\n",
       "      <td>NaN</td>\n",
       "    </tr>\n",
       "    <tr>\n",
       "      <th>2012-09-30</th>\n",
       "      <td>NaN</td>\n",
       "      <td>NaN</td>\n",
       "      <td>NaN</td>\n",
       "      <td>NaN</td>\n",
       "      <td>NaN</td>\n",
       "    </tr>\n",
       "    <tr>\n",
       "      <th>2012-10-31</th>\n",
       "      <td>NaN</td>\n",
       "      <td>NaN</td>\n",
       "      <td>NaN</td>\n",
       "      <td>NaN</td>\n",
       "      <td>NaN</td>\n",
       "    </tr>\n",
       "    <tr>\n",
       "      <th>2012-11-30</th>\n",
       "      <td>NaN</td>\n",
       "      <td>NaN</td>\n",
       "      <td>NaN</td>\n",
       "      <td>NaN</td>\n",
       "      <td>NaN</td>\n",
       "    </tr>\n",
       "    <tr>\n",
       "      <th>2012-12-31</th>\n",
       "      <td>NaN</td>\n",
       "      <td>NaN</td>\n",
       "      <td>NaN</td>\n",
       "      <td>NaN</td>\n",
       "      <td>NaN</td>\n",
       "    </tr>\n",
       "    <tr>\n",
       "      <th>2013-01-31</th>\n",
       "      <td>NaN</td>\n",
       "      <td>NaN</td>\n",
       "      <td>NaN</td>\n",
       "      <td>NaN</td>\n",
       "      <td>NaN</td>\n",
       "    </tr>\n",
       "    <tr>\n",
       "      <th>2013-02-28</th>\n",
       "      <td>NaN</td>\n",
       "      <td>2.000000</td>\n",
       "      <td>NaN</td>\n",
       "      <td>NaN</td>\n",
       "      <td>NaN</td>\n",
       "    </tr>\n",
       "    <tr>\n",
       "      <th>2013-03-31</th>\n",
       "      <td>NaN</td>\n",
       "      <td>NaN</td>\n",
       "      <td>1.000000</td>\n",
       "      <td>NaN</td>\n",
       "      <td>NaN</td>\n",
       "    </tr>\n",
       "    <tr>\n",
       "      <th>2013-04-30</th>\n",
       "      <td>NaN</td>\n",
       "      <td>NaN</td>\n",
       "      <td>3.000000</td>\n",
       "      <td>4.000000</td>\n",
       "      <td>NaN</td>\n",
       "    </tr>\n",
       "    <tr>\n",
       "      <th>2013-05-31</th>\n",
       "      <td>NaN</td>\n",
       "      <td>4.000000</td>\n",
       "      <td>5.000000</td>\n",
       "      <td>3.666667</td>\n",
       "      <td>NaN</td>\n",
       "    </tr>\n",
       "    <tr>\n",
       "      <th>2013-06-30</th>\n",
       "      <td>NaN</td>\n",
       "      <td>2.250000</td>\n",
       "      <td>2.888889</td>\n",
       "      <td>3.600000</td>\n",
       "      <td>3.666667</td>\n",
       "    </tr>\n",
       "    <tr>\n",
       "      <th>2013-07-31</th>\n",
       "      <td>2.000000</td>\n",
       "      <td>3.000000</td>\n",
       "      <td>3.000000</td>\n",
       "      <td>NaN</td>\n",
       "      <td>1.000000</td>\n",
       "    </tr>\n",
       "    <tr>\n",
       "      <th>2013-08-31</th>\n",
       "      <td>5.000000</td>\n",
       "      <td>5.500000</td>\n",
       "      <td>3.500000</td>\n",
       "      <td>2.200000</td>\n",
       "      <td>NaN</td>\n",
       "    </tr>\n",
       "    <tr>\n",
       "      <th>2013-09-30</th>\n",
       "      <td>3.666667</td>\n",
       "      <td>4.166667</td>\n",
       "      <td>3.857143</td>\n",
       "      <td>1.833333</td>\n",
       "      <td>NaN</td>\n",
       "    </tr>\n",
       "    <tr>\n",
       "      <th>2013-10-31</th>\n",
       "      <td>2.500000</td>\n",
       "      <td>3.125000</td>\n",
       "      <td>4.421053</td>\n",
       "      <td>3.538462</td>\n",
       "      <td>1.000000</td>\n",
       "    </tr>\n",
       "    <tr>\n",
       "      <th>2013-11-30</th>\n",
       "      <td>2.400000</td>\n",
       "      <td>5.454545</td>\n",
       "      <td>5.777778</td>\n",
       "      <td>5.600000</td>\n",
       "      <td>8.000000</td>\n",
       "    </tr>\n",
       "    <tr>\n",
       "      <th>2013-12-31</th>\n",
       "      <td>2.375000</td>\n",
       "      <td>4.000000</td>\n",
       "      <td>5.666667</td>\n",
       "      <td>4.611111</td>\n",
       "      <td>3.666667</td>\n",
       "    </tr>\n",
       "    <tr>\n",
       "      <th>2014-01-31</th>\n",
       "      <td>4.250000</td>\n",
       "      <td>7.800000</td>\n",
       "      <td>10.850000</td>\n",
       "      <td>7.105263</td>\n",
       "      <td>3.000000</td>\n",
       "    </tr>\n",
       "    <tr>\n",
       "      <th>2014-02-28</th>\n",
       "      <td>5.076923</td>\n",
       "      <td>9.315789</td>\n",
       "      <td>18.818182</td>\n",
       "      <td>14.523810</td>\n",
       "      <td>4.538462</td>\n",
       "    </tr>\n",
       "    <tr>\n",
       "      <th>2014-03-31</th>\n",
       "      <td>4.375000</td>\n",
       "      <td>14.857143</td>\n",
       "      <td>23.230769</td>\n",
       "      <td>12.880000</td>\n",
       "      <td>5.900000</td>\n",
       "    </tr>\n",
       "    <tr>\n",
       "      <th>...</th>\n",
       "      <td>...</td>\n",
       "      <td>...</td>\n",
       "      <td>...</td>\n",
       "      <td>...</td>\n",
       "      <td>...</td>\n",
       "    </tr>\n",
       "    <tr>\n",
       "      <th>2015-08-31</th>\n",
       "      <td>31.846154</td>\n",
       "      <td>80.640000</td>\n",
       "      <td>135.045455</td>\n",
       "      <td>79.080000</td>\n",
       "      <td>13.600000</td>\n",
       "    </tr>\n",
       "    <tr>\n",
       "      <th>2015-09-30</th>\n",
       "      <td>31.080000</td>\n",
       "      <td>89.800000</td>\n",
       "      <td>140.500000</td>\n",
       "      <td>82.200000</td>\n",
       "      <td>11.062500</td>\n",
       "    </tr>\n",
       "    <tr>\n",
       "      <th>2015-10-31</th>\n",
       "      <td>31.884615</td>\n",
       "      <td>88.653846</td>\n",
       "      <td>117.560000</td>\n",
       "      <td>88.111111</td>\n",
       "      <td>15.187500</td>\n",
       "    </tr>\n",
       "    <tr>\n",
       "      <th>2015-11-30</th>\n",
       "      <td>36.952381</td>\n",
       "      <td>71.826087</td>\n",
       "      <td>145.550000</td>\n",
       "      <td>74.960000</td>\n",
       "      <td>12.692308</td>\n",
       "    </tr>\n",
       "    <tr>\n",
       "      <th>2015-12-31</th>\n",
       "      <td>26.680000</td>\n",
       "      <td>71.846154</td>\n",
       "      <td>119.076923</td>\n",
       "      <td>74.148148</td>\n",
       "      <td>19.285714</td>\n",
       "    </tr>\n",
       "    <tr>\n",
       "      <th>2016-01-31</th>\n",
       "      <td>28.666667</td>\n",
       "      <td>92.818182</td>\n",
       "      <td>151.045455</td>\n",
       "      <td>86.520000</td>\n",
       "      <td>11.916667</td>\n",
       "    </tr>\n",
       "    <tr>\n",
       "      <th>2016-02-29</th>\n",
       "      <td>35.230769</td>\n",
       "      <td>84.185185</td>\n",
       "      <td>147.772727</td>\n",
       "      <td>76.892857</td>\n",
       "      <td>13.187500</td>\n",
       "    </tr>\n",
       "    <tr>\n",
       "      <th>2016-03-31</th>\n",
       "      <td>33.500000</td>\n",
       "      <td>86.033333</td>\n",
       "      <td>138.857143</td>\n",
       "      <td>79.866667</td>\n",
       "      <td>20.055556</td>\n",
       "    </tr>\n",
       "    <tr>\n",
       "      <th>2016-04-30</th>\n",
       "      <td>30.714286</td>\n",
       "      <td>80.965517</td>\n",
       "      <td>149.230769</td>\n",
       "      <td>72.200000</td>\n",
       "      <td>23.000000</td>\n",
       "    </tr>\n",
       "    <tr>\n",
       "      <th>2016-05-31</th>\n",
       "      <td>23.566667</td>\n",
       "      <td>70.137931</td>\n",
       "      <td>170.500000</td>\n",
       "      <td>65.300000</td>\n",
       "      <td>26.166667</td>\n",
       "    </tr>\n",
       "    <tr>\n",
       "      <th>2016-06-30</th>\n",
       "      <td>32.862069</td>\n",
       "      <td>84.862069</td>\n",
       "      <td>124.321429</td>\n",
       "      <td>72.571429</td>\n",
       "      <td>24.041667</td>\n",
       "    </tr>\n",
       "    <tr>\n",
       "      <th>2016-07-31</th>\n",
       "      <td>27.240000</td>\n",
       "      <td>73.960000</td>\n",
       "      <td>144.695652</td>\n",
       "      <td>62.086957</td>\n",
       "      <td>13.066667</td>\n",
       "    </tr>\n",
       "    <tr>\n",
       "      <th>2016-08-31</th>\n",
       "      <td>41.760000</td>\n",
       "      <td>101.185185</td>\n",
       "      <td>164.280000</td>\n",
       "      <td>91.423077</td>\n",
       "      <td>16.625000</td>\n",
       "    </tr>\n",
       "    <tr>\n",
       "      <th>2016-09-30</th>\n",
       "      <td>43.695652</td>\n",
       "      <td>101.961538</td>\n",
       "      <td>154.916667</td>\n",
       "      <td>82.692308</td>\n",
       "      <td>13.722222</td>\n",
       "    </tr>\n",
       "    <tr>\n",
       "      <th>2016-10-31</th>\n",
       "      <td>35.125000</td>\n",
       "      <td>93.653846</td>\n",
       "      <td>145.960000</td>\n",
       "      <td>78.814815</td>\n",
       "      <td>16.071429</td>\n",
       "    </tr>\n",
       "    <tr>\n",
       "      <th>2016-11-30</th>\n",
       "      <td>32.235294</td>\n",
       "      <td>78.913043</td>\n",
       "      <td>135.772727</td>\n",
       "      <td>70.875000</td>\n",
       "      <td>15.214286</td>\n",
       "    </tr>\n",
       "    <tr>\n",
       "      <th>2016-12-31</th>\n",
       "      <td>30.142857</td>\n",
       "      <td>74.962963</td>\n",
       "      <td>125.291667</td>\n",
       "      <td>56.074074</td>\n",
       "      <td>13.705882</td>\n",
       "    </tr>\n",
       "    <tr>\n",
       "      <th>2017-01-31</th>\n",
       "      <td>21.680000</td>\n",
       "      <td>86.291667</td>\n",
       "      <td>129.043478</td>\n",
       "      <td>69.291667</td>\n",
       "      <td>18.235294</td>\n",
       "    </tr>\n",
       "    <tr>\n",
       "      <th>2017-02-28</th>\n",
       "      <td>28.791667</td>\n",
       "      <td>90.541667</td>\n",
       "      <td>146.863636</td>\n",
       "      <td>85.347826</td>\n",
       "      <td>23.250000</td>\n",
       "    </tr>\n",
       "    <tr>\n",
       "      <th>2017-03-31</th>\n",
       "      <td>31.807692</td>\n",
       "      <td>105.576923</td>\n",
       "      <td>155.400000</td>\n",
       "      <td>88.307692</td>\n",
       "      <td>16.352941</td>\n",
       "    </tr>\n",
       "    <tr>\n",
       "      <th>2017-04-30</th>\n",
       "      <td>36.260870</td>\n",
       "      <td>81.520000</td>\n",
       "      <td>150.913043</td>\n",
       "      <td>75.259259</td>\n",
       "      <td>16.588235</td>\n",
       "    </tr>\n",
       "    <tr>\n",
       "      <th>2017-05-31</th>\n",
       "      <td>36.571429</td>\n",
       "      <td>87.653846</td>\n",
       "      <td>137.652174</td>\n",
       "      <td>78.384615</td>\n",
       "      <td>23.176471</td>\n",
       "    </tr>\n",
       "    <tr>\n",
       "      <th>2017-06-30</th>\n",
       "      <td>34.347826</td>\n",
       "      <td>95.038462</td>\n",
       "      <td>139.925926</td>\n",
       "      <td>82.538462</td>\n",
       "      <td>17.315789</td>\n",
       "    </tr>\n",
       "    <tr>\n",
       "      <th>2017-07-31</th>\n",
       "      <td>46.000000</td>\n",
       "      <td>107.625000</td>\n",
       "      <td>180.695652</td>\n",
       "      <td>78.375000</td>\n",
       "      <td>22.409091</td>\n",
       "    </tr>\n",
       "    <tr>\n",
       "      <th>2017-08-31</th>\n",
       "      <td>44.500000</td>\n",
       "      <td>108.518519</td>\n",
       "      <td>202.230769</td>\n",
       "      <td>77.740741</td>\n",
       "      <td>21.380952</td>\n",
       "    </tr>\n",
       "    <tr>\n",
       "      <th>2017-09-30</th>\n",
       "      <td>31.826087</td>\n",
       "      <td>111.720000</td>\n",
       "      <td>154.958333</td>\n",
       "      <td>88.920000</td>\n",
       "      <td>17.800000</td>\n",
       "    </tr>\n",
       "    <tr>\n",
       "      <th>2017-10-31</th>\n",
       "      <td>40.695652</td>\n",
       "      <td>115.280000</td>\n",
       "      <td>157.800000</td>\n",
       "      <td>85.880000</td>\n",
       "      <td>23.900000</td>\n",
       "    </tr>\n",
       "    <tr>\n",
       "      <th>2017-11-30</th>\n",
       "      <td>39.631579</td>\n",
       "      <td>107.043478</td>\n",
       "      <td>199.571429</td>\n",
       "      <td>111.666667</td>\n",
       "      <td>15.625000</td>\n",
       "    </tr>\n",
       "    <tr>\n",
       "      <th>2017-12-31</th>\n",
       "      <td>43.714286</td>\n",
       "      <td>111.555556</td>\n",
       "      <td>224.857143</td>\n",
       "      <td>110.960000</td>\n",
       "      <td>19.411765</td>\n",
       "    </tr>\n",
       "    <tr>\n",
       "      <th>2018-01-31</th>\n",
       "      <td>52.083333</td>\n",
       "      <td>147.214286</td>\n",
       "      <td>253.071429</td>\n",
       "      <td>124.666667</td>\n",
       "      <td>19.777778</td>\n",
       "    </tr>\n",
       "  </tbody>\n",
       "</table>\n",
       "<p>76 rows × 5 columns</p>\n",
       "</div>"
      ],
      "text/plain": [
       "BORO                 BRONX    BROOKLYN   MANHATTAN      QUEENS  STATEN ISLAND\n",
       "INSPECTION DATE                                                              \n",
       "2011-10-31             NaN         NaN         NaN    1.000000            NaN\n",
       "2011-11-30             NaN         NaN         NaN         NaN            NaN\n",
       "2011-12-31             NaN         NaN         NaN         NaN            NaN\n",
       "2012-01-31             NaN         NaN         NaN         NaN            NaN\n",
       "2012-02-29             NaN         NaN         NaN         NaN            NaN\n",
       "2012-03-31             NaN         NaN         NaN         NaN            NaN\n",
       "2012-04-30             NaN         NaN         NaN         NaN            NaN\n",
       "2012-05-31             NaN         NaN         NaN    2.000000            NaN\n",
       "2012-06-30             NaN         NaN         NaN    1.000000            NaN\n",
       "2012-07-31             NaN         NaN         NaN         NaN            NaN\n",
       "2012-08-31             NaN         NaN         NaN         NaN            NaN\n",
       "2012-09-30             NaN         NaN         NaN         NaN            NaN\n",
       "2012-10-31             NaN         NaN         NaN         NaN            NaN\n",
       "2012-11-30             NaN         NaN         NaN         NaN            NaN\n",
       "2012-12-31             NaN         NaN         NaN         NaN            NaN\n",
       "2013-01-31             NaN         NaN         NaN         NaN            NaN\n",
       "2013-02-28             NaN    2.000000         NaN         NaN            NaN\n",
       "2013-03-31             NaN         NaN    1.000000         NaN            NaN\n",
       "2013-04-30             NaN         NaN    3.000000    4.000000            NaN\n",
       "2013-05-31             NaN    4.000000    5.000000    3.666667            NaN\n",
       "2013-06-30             NaN    2.250000    2.888889    3.600000       3.666667\n",
       "2013-07-31        2.000000    3.000000    3.000000         NaN       1.000000\n",
       "2013-08-31        5.000000    5.500000    3.500000    2.200000            NaN\n",
       "2013-09-30        3.666667    4.166667    3.857143    1.833333            NaN\n",
       "2013-10-31        2.500000    3.125000    4.421053    3.538462       1.000000\n",
       "2013-11-30        2.400000    5.454545    5.777778    5.600000       8.000000\n",
       "2013-12-31        2.375000    4.000000    5.666667    4.611111       3.666667\n",
       "2014-01-31        4.250000    7.800000   10.850000    7.105263       3.000000\n",
       "2014-02-28        5.076923    9.315789   18.818182   14.523810       4.538462\n",
       "2014-03-31        4.375000   14.857143   23.230769   12.880000       5.900000\n",
       "...                    ...         ...         ...         ...            ...\n",
       "2015-08-31       31.846154   80.640000  135.045455   79.080000      13.600000\n",
       "2015-09-30       31.080000   89.800000  140.500000   82.200000      11.062500\n",
       "2015-10-31       31.884615   88.653846  117.560000   88.111111      15.187500\n",
       "2015-11-30       36.952381   71.826087  145.550000   74.960000      12.692308\n",
       "2015-12-31       26.680000   71.846154  119.076923   74.148148      19.285714\n",
       "2016-01-31       28.666667   92.818182  151.045455   86.520000      11.916667\n",
       "2016-02-29       35.230769   84.185185  147.772727   76.892857      13.187500\n",
       "2016-03-31       33.500000   86.033333  138.857143   79.866667      20.055556\n",
       "2016-04-30       30.714286   80.965517  149.230769   72.200000      23.000000\n",
       "2016-05-31       23.566667   70.137931  170.500000   65.300000      26.166667\n",
       "2016-06-30       32.862069   84.862069  124.321429   72.571429      24.041667\n",
       "2016-07-31       27.240000   73.960000  144.695652   62.086957      13.066667\n",
       "2016-08-31       41.760000  101.185185  164.280000   91.423077      16.625000\n",
       "2016-09-30       43.695652  101.961538  154.916667   82.692308      13.722222\n",
       "2016-10-31       35.125000   93.653846  145.960000   78.814815      16.071429\n",
       "2016-11-30       32.235294   78.913043  135.772727   70.875000      15.214286\n",
       "2016-12-31       30.142857   74.962963  125.291667   56.074074      13.705882\n",
       "2017-01-31       21.680000   86.291667  129.043478   69.291667      18.235294\n",
       "2017-02-28       28.791667   90.541667  146.863636   85.347826      23.250000\n",
       "2017-03-31       31.807692  105.576923  155.400000   88.307692      16.352941\n",
       "2017-04-30       36.260870   81.520000  150.913043   75.259259      16.588235\n",
       "2017-05-31       36.571429   87.653846  137.652174   78.384615      23.176471\n",
       "2017-06-30       34.347826   95.038462  139.925926   82.538462      17.315789\n",
       "2017-07-31       46.000000  107.625000  180.695652   78.375000      22.409091\n",
       "2017-08-31       44.500000  108.518519  202.230769   77.740741      21.380952\n",
       "2017-09-30       31.826087  111.720000  154.958333   88.920000      17.800000\n",
       "2017-10-31       40.695652  115.280000  157.800000   85.880000      23.900000\n",
       "2017-11-30       39.631579  107.043478  199.571429  111.666667      15.625000\n",
       "2017-12-31       43.714286  111.555556  224.857143  110.960000      19.411765\n",
       "2018-01-31       52.083333  147.214286  253.071429  124.666667      19.777778\n",
       "\n",
       "[76 rows x 5 columns]"
      ]
     },
     "execution_count": 79,
     "metadata": {},
     "output_type": "execute_result"
    }
   ],
   "source": [
    "# We resample the index, to keep only dates every one month\n",
    "# For that one month period, we compute the average value\n",
    "pivot2.resample('1M').mean()"
   ]
  },
  {
   "cell_type": "code",
   "execution_count": 80,
   "metadata": {},
   "outputs": [
    {
     "data": {
      "text/plain": [
       "<matplotlib.axes._subplots.AxesSubplot at 0x7f222d5e52e8>"
      ]
     },
     "execution_count": 80,
     "metadata": {},
     "output_type": "execute_result"
    },
    {
     "data": {
      "image/png": "[encoded data removed]",
      "text/plain": [
       "<matplotlib.figure.Figure at 0x7f222d727198>"
      ]
     },
     "metadata": {},
     "output_type": "display_data"
    }
   ],
   "source": [
    "# If we plot a dataframe then by default the index column\n",
    "# in our case the INSPECTION DATE becomes the x-asis\n",
    "# and all the columns become separate lines in the plot\n",
    "pivot2.resample('1M').mean().plot()"
   ]
  },
  {
   "cell_type": "markdown",
   "metadata": {},
   "source": [
    "### Exercise \n",
    "\n",
    "Now let's do the same exercise, but instead of counting the number of inspections, we want to compute the average score assigned by the inspectors. Hint: We will need to change the `values` and the `aggfunc` parameters in the `pivot_table` function above."
   ]
  },
  {
   "cell_type": "code",
   "execution_count": 82,
   "metadata": {},
   "outputs": [
    {
     "data": {
      "text/plain": [
       "<matplotlib.axes._subplots.AxesSubplot at 0x7f222bb42518>"
      ]
     },
     "execution_count": 82,
     "metadata": {},
     "output_type": "execute_result"
    },
    {
     "data": {
      "image/png": "[encoded data removed]",
      "text/plain": [
       "<matplotlib.figure.Figure at 0x7f222d899f60>"
      ]
     },
     "metadata": {},
     "output_type": "display_data"
    }
   ],
   "source": [
    "pivot = pd.pivot_table(\n",
    "    data = restaurants, \n",
    "    index = 'INSPECTION DATE', # specifies the rows\n",
    "    columns = 'BORO',\n",
    "    values = 'SCORE',  # specifies the content of the cells\n",
    "    aggfunc = 'mean' # we ask to count how many different CAMIS values we see\n",
    ")\n",
    "pivot.resample('1M').mean().plot(\n",
    "    xlim = (pd.Timestamp('2014-01-01'), pd.Timestamp('2017-12-31')),\n",
    "    figsize=(10,10) )"
   ]
  },
  {
   "cell_type": "markdown",
   "metadata": {},
   "source": [
    "### Exercise\n",
    "\n",
    "* We interacted with the NYC Restaurant Inspection Data. Now, let's download another dataset, and do some analysis. We will focus on the [NYPD Vehicle Collissions](https://data.cityofnewyork.us/Public-Safety/NYPD-Motor-Vehicle-Collisions/h9gi-nx95/data) data set.\n"
   ]
  },
  {
   "cell_type": "markdown",
   "metadata": {},
   "source": [
    "* Task 1: Download the dataset. Use the \"Export\" view, get the URL for the CSV file, and dowload it using curl. (See the top of the notebook for guidance.) \n"
   ]
  },
  {
   "cell_type": "code",
   "execution_count": null,
   "metadata": {},
   "outputs": [],
   "source": []
  },
  {
   "cell_type": "markdown",
   "metadata": {},
   "source": [
    "\n",
    "* Task 2: Find out the most common contributing factors to the collisions. \n",
    " "
   ]
  },
  {
   "cell_type": "code",
   "execution_count": null,
   "metadata": {},
   "outputs": [],
   "source": []
  },
  {
   "cell_type": "markdown",
   "metadata": {},
   "source": [
    "   \n",
    "* Task 3: Break down the number of collisions by borough.\n",
    "\n",
    "\n",
    "\n"
   ]
  },
  {
   "cell_type": "code",
   "execution_count": null,
   "metadata": {},
   "outputs": [],
   "source": []
  },
  {
   "cell_type": "markdown",
   "metadata": {},
   "source": [
    "* Task 4: Find out the how many collisions had 0 persons injured, 1 persons injured, etc. persons injured in each accident. Use the `value_counts()` approach. You may also find the `.plot(logy=True)` option useful when you create the plot to make the y-axis logarigthmic.\n",
    " "
   ]
  },
  {
   "cell_type": "code",
   "execution_count": null,
   "metadata": {},
   "outputs": [],
   "source": []
  },
  {
   "cell_type": "markdown",
   "metadata": {},
   "source": [
    "   \n",
    "* Task 5: Break down the accidents by borough and contributing factor. Use the `pivot_table` function of Pandas\n",
    " "
   ]
  },
  {
   "cell_type": "code",
   "execution_count": null,
   "metadata": {},
   "outputs": [],
   "source": []
  },
  {
   "cell_type": "markdown",
   "metadata": {},
   "source": [
    " * Task 6: Find the dates with the most accidents. Can you figure out what happened on these days? \n"
   ]
  },
  {
   "cell_type": "code",
   "execution_count": null,
   "metadata": {},
   "outputs": [],
   "source": []
  },
  {
   "cell_type": "markdown",
   "metadata": {},
   "source": [
    "\n",
    "* Task 7: Plot the number of accidents per day. (Hint: Ensure that your date column is in the right datatype and that it is properly sorted, before plotting)\n"
   ]
  },
  {
   "cell_type": "code",
   "execution_count": null,
   "metadata": {},
   "outputs": [],
   "source": []
  },
  {
   "cell_type": "markdown",
   "metadata": {},
   "source": [
    "* Task 8: Plot the accidents in map. Use a scatter plot using the `plot(kind='scatter', x=..., y=....)` command, and use the `LATITUDE` and `LONGITUDE` parameters. (Hint: **You will have to remove bad data points before getting into the right visual result**. To do this, specify a selection condition to limit the lat/long values to be values that are proper for the NYC region.)"
   ]
  },
  {
   "cell_type": "code",
   "execution_count": null,
   "metadata": {},
   "outputs": [],
   "source": []
  },
  {
   "cell_type": "markdown",
   "metadata": {},
   "source": [
    "* Task 9: Plot the accidents in map as above, but limit the data only to accidents with at least one injury."
   ]
  },
  {
   "cell_type": "code",
   "execution_count": null,
   "metadata": {},
   "outputs": [],
   "source": []
  },
  {
   "cell_type": "code",
   "execution_count": null,
   "metadata": {},
   "outputs": [],
   "source": []
  },
  {
   "cell_type": "code",
   "execution_count": null,
   "metadata": {},
   "outputs": [],
   "source": []
  },
  {
   "cell_type": "code",
   "execution_count": null,
   "metadata": {},
   "outputs": [],
   "source": []
  },
  {
   "cell_type": "code",
   "execution_count": null,
   "metadata": {},
   "outputs": [],
   "source": []
  },
  {
   "cell_type": "markdown",
   "metadata": {},
   "source": [
    "### Bonus plot"
   ]
  },
  {
   "cell_type": "code",
   "execution_count": null,
   "metadata": {},
   "outputs": [],
   "source": [
    "# In the code below, we create one plot (in blue) for all the accidents\n",
    "# and another plot (with red dots) for all the accidents with injuries\n",
    "# We can combine the two plots using the \"ax\" parameter\n",
    "\n",
    "# df = pd.read_csv(\"accidents.csv\", low_memory=False)\n",
    "\n",
    "all_accidents_plot = accidents [\n",
    "    # We put conditions to keep only rows that \n",
    "    # have reasonable values for LONGITUDE and LATITUDE\n",
    "    (accidents.LATITUDE > 40) & # The & character is the \"AND\" in Pandas\n",
    "    (accidents.LATITUDE < 41) & # the df.LATITUDE is equivalent to df['LATITUDE']\n",
    "    (accidents.LONGITUDE < -50) &\n",
    "    (accidents.LONGITUDE > -74.5) \n",
    "].plot (\n",
    "    kind='scatter',\n",
    "    x = 'LONGITUDE',\n",
    "    y = 'LATITUDE',\n",
    "    figsize = (20, 20), # changes the size of the plot to be bigger and square\n",
    "    alpha = 0.05, # makes the data points transparent (1 = opaque, 0 fully transparent)\n",
    "    s = 1 # make the size of the market just 3 pixel\n",
    ")\n",
    "\n",
    "accidents[\n",
    "    # We put conditions to keep only rows that \n",
    "    # have reasonable values for LONGITUDE and LATITUDE\n",
    "    (accidents.LATITUDE > 40) & # The & character is the \"AND\" in Pandas\n",
    "    (accidents.LATITUDE < 41) & # the df.LATITUDE is equivalent to df['LATITUDE']\n",
    "    (accidents.LONGITUDE < -50) &\n",
    "    (accidents.LONGITUDE > -74.5) & \n",
    "    (accidents['NUMBER OF PERSONS INJURED']>=1) # we want only accidents with at least one injury\n",
    "    # note that we cannot use the df.NUMBER OF PERSON INJURED notation\n",
    "    # because the attribute contains spaces.\n",
    "].plot (\n",
    "    kind='scatter',\n",
    "    x = 'LONGITUDE',\n",
    "    y = 'LATITUDE',\n",
    "    figsize = (20, 20), # changes the size of the plot to be bigger and square\n",
    "    alpha = 0.1, # makes the data points transparent (1 = opaque, 0 fully transparent)\n",
    "    s = 1, # make the size of the market just 3 pixel\n",
    "    color = 'red',\n",
    "    ax = all_accidents_plot # the ax parameter allows us to combine plots\n",
    ")"
   ]
  },
  {
   "cell_type": "code",
   "execution_count": null,
   "metadata": {},
   "outputs": [],
   "source": []
  }
 ],
 "metadata": {
  "kernelspec": {
   "display_name": "Python 3",
   "language": "python",
   "name": "python3"
  },
  "language_info": {
   "codemirror_mode": {
    "name": "ipython",
    "version": 3
   },
   "file_extension": ".py",
   "mimetype": "text/x-python",
   "name": "python",
   "nbconvert_exporter": "python",
   "pygments_lexer": "ipython3",
   "version": "3.5.2"
  }
 },
 "nbformat": 4,
 "nbformat_minor": 1
}
