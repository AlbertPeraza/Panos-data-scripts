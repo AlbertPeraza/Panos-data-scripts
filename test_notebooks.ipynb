{
 "cells": [
  {
   "cell_type": "code",
   "execution_count": 1,
   "metadata": {},
   "outputs": [],
   "source": [
    "import os\n",
    "import subprocess\n",
    "import tempfile\n",
    "\n",
    "import nbformat\n",
    "\n",
    "def notebook_run(path):\n",
    "    \"\"\"Execute a notebook via nbconvert and collect output.\n",
    "       :returns (parsed nb object, execution errors)\n",
    "    \"\"\"\n",
    "\n",
    "    with tempfile.NamedTemporaryFile(suffix=\".ipynb\") as fout:\n",
    "        args = [\"jupyter\", \"nbconvert\", \"--to\", \"notebook\", \"--execute\",\n",
    "          \"--ExecutePreprocessor.timeout=60\",\n",
    "          \"--output\", fout.name, path]\n",
    "        subprocess.check_call(args)\n",
    "\n",
    "        fout.seek(0)\n",
    "        nb = nbformat.read(fout.name, nbformat.current_nbformat)\n",
    "\n",
    "    errors = [output for cell in nb.cells if \"outputs\" in cell\n",
    "                     for output in cell[\"outputs\"]\\\n",
    "                     if output.output_type == \"error\"]\n",
    "\n",
    "    return nb, errors"
   ]
  },
  {
   "cell_type": "code",
   "execution_count": 6,
   "metadata": {},
   "outputs": [],
   "source": [
    "from os import listdir\n",
    "from os.path import isfile, join, isdir\n",
    "\n",
    "def test_notebooks(path):\n",
    "    \n",
    "    notebooks = [f for f in listdir(path) if isfile(join(path, f)) and f.endswith('.ipynb')]\n",
    "    directories = [f for f in listdir(path) if isdir(join(path, f))]\n",
    "    \n",
    "    for notebook in sorted(notebooks):\n",
    "        print(notebook)\n",
    "        nb, errors = notebook_run(join(path, notebook))\n",
    "        assert errors == []\n",
    "    \n",
    "    for directory in sorted(directories):\n",
    "        print(directory)"
   ]
  },
  {
   "cell_type": "code",
   "execution_count": 13,
   "metadata": {},
   "outputs": [
    {
     "name": "stdout",
     "output_type": "stream",
     "text": [
      "A-The_Basics.ipynb\n",
      "B-DataTypes_and_Variables.ipynb\n",
      "C-Primitive_Data_Types_Strings.ipynb\n",
      "D-Boolean_Variables_and_If_Then_Else_Statements.ipynb\n",
      "E1-Lists.ipynb\n",
      "E2-Sets.ipynb\n",
      "E3-Dictionaries.ipynb\n",
      "E4-Nested_Structures.ipynb\n",
      "F-Control_Flow_Statements_loops.ipynb\n",
      "I-In_Class_Exercise; Solution2.ipynb\n"
     ]
    },
    {
     "ename": "CalledProcessError",
     "evalue": "Command '['jupyter', 'nbconvert', '--to', 'notebook', '--execute', '--ExecutePreprocessor.timeout=60', '--output', '/tmp/tmpf3s9o803.ipynb', '/home/ubuntu/jupyter/NYU_Notes/02-Introduction_to_Python/I-In_Class_Exercise; Solution2.ipynb']' returned non-zero exit status 1",
     "output_type": "error",
     "traceback": [
      "\u001b[0;31m---------------------------------------------------------------------------\u001b[0m",
      "\u001b[0;31mCalledProcessError\u001b[0m                        Traceback (most recent call last)",
      "\u001b[0;32m<ipython-input-13-2421b0012a6a>\u001b[0m in \u001b[0;36m<module>\u001b[0;34m()\u001b[0m\n\u001b[0;32m----> 1\u001b[0;31m \u001b[0mtest_notebooks\u001b[0m\u001b[0;34m(\u001b[0m\u001b[0;34m'/home/ubuntu/jupyter/NYU_Notes/02-Introduction_to_Python'\u001b[0m\u001b[0;34m)\u001b[0m\u001b[0;34m\u001b[0m\u001b[0m\n\u001b[0m",
      "\u001b[0;32m<ipython-input-6-7208f5080b39>\u001b[0m in \u001b[0;36mtest_notebooks\u001b[0;34m(path)\u001b[0m\n\u001b[1;32m      9\u001b[0m     \u001b[0;32mfor\u001b[0m \u001b[0mnotebook\u001b[0m \u001b[0;32min\u001b[0m \u001b[0msorted\u001b[0m\u001b[0;34m(\u001b[0m\u001b[0mnotebooks\u001b[0m\u001b[0;34m)\u001b[0m\u001b[0;34m:\u001b[0m\u001b[0;34m\u001b[0m\u001b[0m\n\u001b[1;32m     10\u001b[0m         \u001b[0mprint\u001b[0m\u001b[0;34m(\u001b[0m\u001b[0mnotebook\u001b[0m\u001b[0;34m)\u001b[0m\u001b[0;34m\u001b[0m\u001b[0m\n\u001b[0;32m---> 11\u001b[0;31m         \u001b[0mnb\u001b[0m\u001b[0;34m,\u001b[0m \u001b[0merrors\u001b[0m \u001b[0;34m=\u001b[0m \u001b[0mnotebook_run\u001b[0m\u001b[0;34m(\u001b[0m\u001b[0mjoin\u001b[0m\u001b[0;34m(\u001b[0m\u001b[0mpath\u001b[0m\u001b[0;34m,\u001b[0m \u001b[0mnotebook\u001b[0m\u001b[0;34m)\u001b[0m\u001b[0;34m)\u001b[0m\u001b[0;34m\u001b[0m\u001b[0m\n\u001b[0m\u001b[1;32m     12\u001b[0m         \u001b[0;32massert\u001b[0m \u001b[0merrors\u001b[0m \u001b[0;34m==\u001b[0m \u001b[0;34m[\u001b[0m\u001b[0;34m]\u001b[0m\u001b[0;34m\u001b[0m\u001b[0m\n\u001b[1;32m     13\u001b[0m \u001b[0;34m\u001b[0m\u001b[0m\n",
      "\u001b[0;32m<ipython-input-1-c5c5db1245c8>\u001b[0m in \u001b[0;36mnotebook_run\u001b[0;34m(path)\u001b[0m\n\u001b[1;32m     14\u001b[0m           \u001b[0;34m\"--ExecutePreprocessor.timeout=60\"\u001b[0m\u001b[0;34m,\u001b[0m\u001b[0;34m\u001b[0m\u001b[0m\n\u001b[1;32m     15\u001b[0m           \"--output\", fout.name, path]\n\u001b[0;32m---> 16\u001b[0;31m         \u001b[0msubprocess\u001b[0m\u001b[0;34m.\u001b[0m\u001b[0mcheck_call\u001b[0m\u001b[0;34m(\u001b[0m\u001b[0margs\u001b[0m\u001b[0;34m)\u001b[0m\u001b[0;34m\u001b[0m\u001b[0m\n\u001b[0m\u001b[1;32m     17\u001b[0m \u001b[0;34m\u001b[0m\u001b[0m\n\u001b[1;32m     18\u001b[0m         \u001b[0mfout\u001b[0m\u001b[0;34m.\u001b[0m\u001b[0mseek\u001b[0m\u001b[0;34m(\u001b[0m\u001b[0;36m0\u001b[0m\u001b[0;34m)\u001b[0m\u001b[0;34m\u001b[0m\u001b[0m\n",
      "\u001b[0;32m/usr/lib/python3.5/subprocess.py\u001b[0m in \u001b[0;36mcheck_call\u001b[0;34m(*popenargs, **kwargs)\u001b[0m\n\u001b[1;32m    579\u001b[0m         \u001b[0;32mif\u001b[0m \u001b[0mcmd\u001b[0m \u001b[0;32mis\u001b[0m \u001b[0;32mNone\u001b[0m\u001b[0;34m:\u001b[0m\u001b[0;34m\u001b[0m\u001b[0m\n\u001b[1;32m    580\u001b[0m             \u001b[0mcmd\u001b[0m \u001b[0;34m=\u001b[0m \u001b[0mpopenargs\u001b[0m\u001b[0;34m[\u001b[0m\u001b[0;36m0\u001b[0m\u001b[0;34m]\u001b[0m\u001b[0;34m\u001b[0m\u001b[0m\n\u001b[0;32m--> 581\u001b[0;31m         \u001b[0;32mraise\u001b[0m \u001b[0mCalledProcessError\u001b[0m\u001b[0;34m(\u001b[0m\u001b[0mretcode\u001b[0m\u001b[0;34m,\u001b[0m \u001b[0mcmd\u001b[0m\u001b[0;34m)\u001b[0m\u001b[0;34m\u001b[0m\u001b[0m\n\u001b[0m\u001b[1;32m    582\u001b[0m     \u001b[0;32mreturn\u001b[0m \u001b[0;36m0\u001b[0m\u001b[0;34m\u001b[0m\u001b[0m\n\u001b[1;32m    583\u001b[0m \u001b[0;34m\u001b[0m\u001b[0m\n",
      "\u001b[0;31mCalledProcessError\u001b[0m: Command '['jupyter', 'nbconvert', '--to', 'notebook', '--execute', '--ExecutePreprocessor.timeout=60', '--output', '/tmp/tmpf3s9o803.ipynb', '/home/ubuntu/jupyter/NYU_Notes/02-Introduction_to_Python/I-In_Class_Exercise; Solution2.ipynb']' returned non-zero exit status 1"
     ]
    }
   ],
   "source": [
    "test_notebooks('/home/ubuntu/jupyter/NYU_Notes/02-Introduction_to_Python')"
   ]
  },
  {
   "cell_type": "code",
   "execution_count": null,
   "metadata": {},
   "outputs": [],
   "source": []
  }
 ],
 "metadata": {
  "kernelspec": {
   "display_name": "Python 3",
   "language": "python",
   "name": "python3"
  },
  "language_info": {
   "codemirror_mode": {
    "name": "ipython",
    "version": 3
   },
   "file_extension": ".py",
   "mimetype": "text/x-python",
   "name": "python",
   "nbconvert_exporter": "python",
   "pygments_lexer": "ipython3",
   "version": "3.5.2"
  }
 },
 "nbformat": 4,
 "nbformat_minor": 2
}
