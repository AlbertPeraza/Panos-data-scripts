{
 "cells": [
  {
   "cell_type": "code",
   "execution_count": 1,
   "metadata": {},
   "outputs": [],
   "source": [
    "import os\n",
    "import subprocess\n",
    "import tempfile\n",
    "\n",
    "import nbformat\n",
    "\n",
    "def notebook_run(path):\n",
    "    \"\"\"Execute a notebook via nbconvert and collect output.\n",
    "       :returns (parsed nb object, execution errors)\n",
    "    \"\"\"\n",
    "\n",
    "    with tempfile.NamedTemporaryFile(suffix=\".ipynb\") as fout:\n",
    "        args = [\"jupyter\", \"nbconvert\", \"--to\", \"notebook\", \"--execute\",\n",
    "          \"--ExecutePreprocessor.timeout=60\",\n",
    "          \"--output\", fout.name, path]\n",
    "        subprocess.check_call(args)\n",
    "\n",
    "        fout.seek(0)\n",
    "        nb = nbformat.read(fout.name, nbformat.current_nbformat)\n",
    "\n",
    "    errors = [output for cell in nb.cells if \"outputs\" in cell\n",
    "                     for output in cell[\"outputs\"]\\\n",
    "                     if output.output_type == \"error\"]\n",
    "\n",
    "    return nb, errors"
   ]
  },
  {
   "cell_type": "code",
   "execution_count": 2,
   "metadata": {},
   "outputs": [],
   "source": [
    "from os import listdir\n",
    "from os.path import isfile, join, isdir\n",
    "\n",
    "def test_notebooks(path):\n",
    "    \n",
    "    notebooks = [f for f in listdir(path) if isfile(join(path, f)) and f.endswith('.ipynb')]\n",
    "    directories = [f for f in listdir(path) if isdir(join(path, f))]\n",
    "    \n",
    "    for notebook in sorted(notebooks):\n",
    "        print(notebook)\n",
    "        nb, errors = notebook_run(join(path, notebook))\n",
    "        assert errors == []\n",
    "    \n",
    "    for directory in sorted(directories):\n",
    "        print(directory)"
   ]
  },
  {
   "cell_type": "code",
   "execution_count": 6,
   "metadata": {},
   "outputs": [
    {
     "name": "stdout",
     "output_type": "stream",
     "text": [
      "A-The_Basics.ipynb\n",
      "B-DataTypes_and_Variables.ipynb\n",
      "C-Primitive_Data_Types_Strings.ipynb\n",
      "D-Boolean_Variables_and_If_Then_Else_Statements.ipynb\n",
      "E1-Lists.ipynb\n",
      "E2-Sets.ipynb\n",
      "E3-Dictionaries.ipynb\n",
      "E4-Nested_Structures.ipynb\n",
      "F-Control_Flow_Statements_loops.ipynb\n",
      "G-Functions.ipynb\n",
      "H-Files.ipynb\n",
      "I-In_Class_Exercise.ipynb\n",
      "I-In_Class_Exercise_Solution.ipynb\n",
      "I-In_Class_Exercise_Solution2.ipynb\n",
      "Y-Practice_Exercises.ipynb\n",
      "Z-Libraries_and_Matplotlib_Example.ipynb\n",
      ".ipynb_checkpoints\n"
     ]
    }
   ],
   "source": [
    "test_notebooks('/notebooks/02-Introduction_to_Python')"
   ]
  },
  {
   "cell_type": "code",
   "execution_count": null,
   "metadata": {},
   "outputs": [],
   "source": []
  }
 ],
 "metadata": {
  "kernelspec": {
   "display_name": "Python 3",
   "language": "python",
   "name": "python3"
  },
  "language_info": {
   "codemirror_mode": {
    "name": "ipython",
    "version": 3
   },
   "file_extension": ".py",
   "mimetype": "text/x-python",
   "name": "python",
   "nbconvert_exporter": "python",
   "pygments_lexer": "ipython3",
   "version": "3.5.2"
  }
 },
 "nbformat": 4,
 "nbformat_minor": 2
}
