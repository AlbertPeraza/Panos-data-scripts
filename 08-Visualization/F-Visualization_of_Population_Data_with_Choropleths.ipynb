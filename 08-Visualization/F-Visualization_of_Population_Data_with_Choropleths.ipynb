{
 "cells": [
  {
   "cell_type": "code",
   "execution_count": null,
   "metadata": {},
   "outputs": [],
   "source": [
    "# !sudo pip3 install cython\n",
    "# !sudo pip3 install cartopy\n",
    "# !sudo pip3 install geoplot\n",
    "# !sudo pip3 install descartes\n",
    "# !sudo pip3 install pysal\n",
    "# !sudo pip3 install geopandas"
   ]
  },
  {
   "cell_type": "code",
   "execution_count": null,
   "metadata": {},
   "outputs": [],
   "source": [
    "%matplotlib inline\n",
    "%config InlineBackend.figure_format = 'retina'\n",
    "import requests\n",
    "import json\n",
    "import geopandas as gpd\n",
    "import pandas as pd\n",
    "import ast\n",
    "import numpy as np"
   ]
  },
  {
   "cell_type": "code",
   "execution_count": null,
   "metadata": {},
   "outputs": [],
   "source": [
    "# To plot the choropleths, we need the shapefiles for the areas. Below we use \n",
    "# shapefiles that come from the US Census data\n",
    "# \n",
    "# More files at https://www.census.gov/geo/maps-data/data/tiger-cart-boundary.html\n",
    "# \n",
    "# Check also http://geojson.xyz/ for more shapefiles\n",
    "#\n",
    "shapefiles_zipcodes = \"http://www2.census.gov/geo/tiger/GENZ2017/shp/cb_2017_us_zcta510_500k.zip\"\n",
    "shapefiles_counties = \"http://www2.census.gov/geo/tiger/GENZ2017/shp/cb_2017_us_county_500k.zip\"\n",
    "shapefiles_states = \"http://www2.census.gov/geo/tiger/GENZ2017/shp/cb_2017_us_state_500k.zip\""
   ]
  },
  {
   "cell_type": "markdown",
   "metadata": {},
   "source": [
    "## Load GeoDataframe for US States and plot a map"
   ]
  },
  {
   "cell_type": "code",
   "execution_count": null,
   "metadata": {},
   "outputs": [],
   "source": [
    "df_states = gpd.read_file(shapefiles_states)"
   ]
  },
  {
   "cell_type": "code",
   "execution_count": null,
   "metadata": {},
   "outputs": [],
   "source": [
    "# df_states"
   ]
  },
  {
   "cell_type": "code",
   "execution_count": null,
   "metadata": {},
   "outputs": [],
   "source": [
    "# Dropping non-continental states\n",
    "df_states = df_states[ df_states.NAME!='Alaska' ] \n",
    "df_states = df_states[ df_states.NAME!='Hawaii' ] \n",
    "df_states = df_states[ df_states.NAME!='Puerto Rico' ] \n",
    "df_states = df_states[ df_states.NAME!='Guam' ] \n",
    "df_states = df_states[ df_states.NAME!='Commonwealth of the Northern Mariana Islands' ] \n",
    "df_states = df_states[ df_states.NAME!='American Samoa' ] \n",
    "df_states = df_states[ df_states.NAME!='United States Virgin Islands' ] "
   ]
  },
  {
   "cell_type": "code",
   "execution_count": null,
   "metadata": {},
   "outputs": [],
   "source": [
    "# Should be 49. The 48 continental, plus DC\n",
    "assert( len(df_states) == 49 )"
   ]
  },
  {
   "cell_type": "code",
   "execution_count": null,
   "metadata": {
    "scrolled": false
   },
   "outputs": [],
   "source": [
    "df_states.plot(\n",
    "    figsize=(15,15), \n",
    "    linewidth=0.2, \n",
    "    color='white', \n",
    "    edgecolor='black'\n",
    ")"
   ]
  },
  {
   "cell_type": "markdown",
   "metadata": {},
   "source": [
    "## Load US Counties Datafame and plot a map"
   ]
  },
  {
   "cell_type": "code",
   "execution_count": null,
   "metadata": {},
   "outputs": [],
   "source": [
    "df_counties = gpd.read_file(shapefiles_counties)"
   ]
  },
  {
   "cell_type": "code",
   "execution_count": null,
   "metadata": {},
   "outputs": [],
   "source": [
    "# df_counties"
   ]
  },
  {
   "cell_type": "code",
   "execution_count": null,
   "metadata": {},
   "outputs": [],
   "source": [
    "len(df_counties)"
   ]
  },
  {
   "cell_type": "code",
   "execution_count": null,
   "metadata": {},
   "outputs": [],
   "source": [
    "# There should be 3233 counties looaded\n",
    "assert( len(df_counties) == 3233 )"
   ]
  },
  {
   "cell_type": "code",
   "execution_count": null,
   "metadata": {},
   "outputs": [],
   "source": [
    "# Keep only counties in the lower 48 states + DC\n",
    "keep_county = df_counties.STATEFP.isin(df_states.STATEFP.values)\n",
    "df_counties = df_counties[ keep_county ]"
   ]
  },
  {
   "cell_type": "code",
   "execution_count": null,
   "metadata": {},
   "outputs": [],
   "source": [
    "# There should be 3108 counties remaining\n",
    "assert(len(df_counties) == 3108)"
   ]
  },
  {
   "cell_type": "code",
   "execution_count": null,
   "metadata": {},
   "outputs": [],
   "source": [
    "df_counties.plot(\n",
    "    figsize=(15,15), \n",
    "    linewidth=0.2,  \n",
    "    color='white', \n",
    "    edgecolor='black'\n",
    ")"
   ]
  },
  {
   "cell_type": "markdown",
   "metadata": {},
   "source": [
    "## Getting Census Data\n",
    "\n",
    "You need to get an API Key from http://api.census.gov/data/key_signup.html."
   ]
  },
  {
   "cell_type": "code",
   "execution_count": null,
   "metadata": {},
   "outputs": [],
   "source": [
    "class Census:\n",
    "    def __init__(self, key):\n",
    "        self.key = key\n",
    "\n",
    "    def get(self, fields, geo, year=2010, dataset='sf1'):\n",
    "        fields = [','.join(fields)]\n",
    "        template_url = 'https://api.census.gov/data/{year}/{dataset}?key={key}&get='\n",
    "        base_url = template_url.format(year=str(year), dataset=dataset, key=self.key)\n",
    "        query = fields\n",
    "        for item in geo:\n",
    "            query.append(item)\n",
    "        add_url = '&'.join(query)\n",
    "        url = base_url + add_url\n",
    "        response = requests.get(url)\n",
    "        return ast.literal_eval(response.text) \n",
    "\n",
    "api_key = '627d4107b57d4576f2120d2b87b59c7440e5d2af'\n",
    "census = Census(api_key)"
   ]
  },
  {
   "cell_type": "markdown",
   "metadata": {},
   "source": [
    "## Plot a Choropleth with Population of US States"
   ]
  },
  {
   "cell_type": "code",
   "execution_count": null,
   "metadata": {},
   "outputs": [],
   "source": [
    "# Fetch state population data from US Census\n",
    "census_response = census.get(['P0010001'], ['for=state:*'])\n",
    "# Manipulate the result from the US Census API and convert the result to a dataframe\n",
    "df_state_population = pd.DataFrame(census_response[1:], columns = ['Population', 'STATEFP'])\n",
    "df_state_population['Population'] = pd.to_numeric(df_state_population['Population'])\n",
    "df_state_population['LogPopulation'] = np.log10(df_state_population['Population'])\n",
    "# df_state_population"
   ]
  },
  {
   "cell_type": "code",
   "execution_count": null,
   "metadata": {},
   "outputs": [],
   "source": [
    "ax = df_state_population.LogPopulation.hist()\n",
    "df_state_population.LogPopulation.plot.kde(secondary_y=True, ax = ax)"
   ]
  },
  {
   "cell_type": "code",
   "execution_count": null,
   "metadata": {},
   "outputs": [],
   "source": [
    "# Augment the df_states geodataframe with population information\n",
    "states_choropleth = pd.merge(df_states, df_state_population, on='STATEFP')\n",
    "\n",
    "states_choropleth.plot(\n",
    "    figsize=(15,15), \n",
    "    column='LogPopulation', \n",
    "    cmap='Blues',  # select color scheme from http://matplotlib.org/users/colormaps.html\n",
    "    linewidth=0.1, \n",
    "    edgecolor='black'\n",
    ")"
   ]
  },
  {
   "cell_type": "markdown",
   "metadata": {},
   "source": [
    "## Plot a Choropleth with Population of US Counties"
   ]
  },
  {
   "cell_type": "code",
   "execution_count": null,
   "metadata": {},
   "outputs": [],
   "source": [
    "# Query the US Census API for the population of each county\n",
    "census_response = census.get(['P0010001'], ['in=state:*', 'for=county:*'])\n",
    "# Manipulate the API response and put the results in a dataframe\n",
    "df_county_population = pd.DataFrame(census_response[1:], columns = ['Population', 'STATEFP', 'COUNTYFP'])\n",
    "df_county_population['Population'] = pd.to_numeric(df_county_population['Population'])\n",
    "df_county_population['LogPopulation'] = np.log10(df_county_population['Population'])\n",
    "# df_county_population"
   ]
  },
  {
   "cell_type": "code",
   "execution_count": null,
   "metadata": {},
   "outputs": [],
   "source": [
    "df_county_population.LogPopulation.plot.kde()\n",
    "df_county_population.LogPopulation.hist(bins=30, density=True)"
   ]
  },
  {
   "cell_type": "code",
   "execution_count": null,
   "metadata": {},
   "outputs": [],
   "source": [
    "# Merge the GeoDataFrame df_counties with the population data\n",
    "counties_choropleth = pd.merge(df_counties, df_county_population, on=['STATEFP', 'COUNTYFP'])\n",
    "\n",
    "counties_choropleth.plot(\n",
    "    figsize=(15,15), \n",
    "    column='LogPopulation', \n",
    "    cmap='Blues', # http://matplotlib.org/users/colormaps.html\n",
    "    # scheme='Quantiles', # alternatives are 'Quantiles', Equal_Interval', and 'Fisher_Jenks'; Quantiles requires PySAL\n",
    "    linewidth=0.1, \n",
    "    edgecolor='black')"
   ]
  },
  {
   "cell_type": "markdown",
   "metadata": {},
   "source": [
    "## Extras"
   ]
  },
  {
   "cell_type": "code",
   "execution_count": null,
   "metadata": {},
   "outputs": [],
   "source": [
    "# Plot the state borders (with darker, thicker lines) on top of the counties\n",
    "\n",
    "ax = counties_choropleth.plot(\n",
    "    figsize=(15,15), \n",
    "    column='LogPopulation', \n",
    "    cmap='Blues', # http://matplotlib.org/users/colormaps.html\n",
    "    # scheme='Quantiles', # alternatives are 'Quantiles', Equal_Interval', and 'Fisher_Jenks'; Quantiles requires PySAL\n",
    "    linewidth=0.1, \n",
    "    edgecolor='black')\n",
    "\n",
    "df_states.plot(\n",
    "    figsize=(15,15), \n",
    "    linewidth=1, # thicker line\n",
    "    facecolor='none', # no color for fill\n",
    "    edgecolor='#333366', # color for the state borders\n",
    "    ax = ax # plot it on top of the counties plot\n",
    ")\n"
   ]
  },
  {
   "cell_type": "code",
   "execution_count": null,
   "metadata": {},
   "outputs": [],
   "source": [
    "# Changing the projection to Orthographic\n",
    "\n",
    "import geoplot\n",
    "import geoplot.crs as gcrs\n",
    "\n",
    "geoplot.choropleth(\n",
    "    counties_choropleth,\n",
    "    hue='LogPopulation',\n",
    "    categorical=False, # LogPopulation is continuous not categorical\n",
    "    k=40, # split LogPopulation into 40 bins for coloring\n",
    "    scheme='equal_interval', # Each bin has equal range for LogPopulation\n",
    "    cmap='Blues', # try Spectral_r, Spectral, or others from https://matplotlib.org/tutorials/colors/colormaps.html\n",
    "    linewidth=0.3,\n",
    "    projection=gcrs.Orthographic(),\n",
    "    figsize=(15, 15)\n",
    ").gridlines() # plot gridlines"
   ]
  },
  {
   "cell_type": "code",
   "execution_count": null,
   "metadata": {},
   "outputs": [],
   "source": [
    "# Changing the projection to Orthographic\n",
    "ax = geoplot.polyplot(\n",
    "    states_choropleth, \n",
    "    projection=gcrs.Orthographic(),\n",
    "    figsize=(15, 15),\n",
    "    linewidth = 0.5,\n",
    "    zorder = 2\n",
    ")\n",
    "\n",
    "geoplot.choropleth(\n",
    "    counties_choropleth,\n",
    "    hue='LogPopulation',\n",
    "    categorical=False, # LogPopulation is continuous not categorical\n",
    "    k=40, # split LogPopulation into 40 bins for coloring\n",
    "    scheme='equal_interval', # Each bin has equal range for LogPopulation\n",
    "    cmap='Blues', # try Spectral_r, Spectral, or others from https://matplotlib.org/tutorials/colors/colormaps.html\n",
    "    linewidth=0.3,\n",
    "    projection=gcrs.Orthographic(),\n",
    "    figsize=(15, 15),\n",
    "    ax = ax,\n",
    "    zorder = 0\n",
    ").gridlines(zorder=1) # plot gridlines\n",
    "\n"
   ]
  },
  {
   "cell_type": "code",
   "execution_count": null,
   "metadata": {},
   "outputs": [],
   "source": []
  }
 ],
 "metadata": {
  "kernelspec": {
   "display_name": "Python 3",
   "language": "python",
   "name": "python3"
  },
  "language_info": {
   "codemirror_mode": {
    "name": "ipython",
    "version": 3
   },
   "file_extension": ".py",
   "mimetype": "text/x-python",
   "name": "python",
   "nbconvert_exporter": "python",
   "pygments_lexer": "ipython3",
   "version": "3.6.6"
  }
 },
 "nbformat": 4,
 "nbformat_minor": 1
}
