{
 "cells": [
  {
   "cell_type": "code",
   "execution_count": null,
   "metadata": {},
   "outputs": [],
   "source": [
    "%matplotlib inline"
   ]
  },
  {
   "cell_type": "code",
   "execution_count": null,
   "metadata": {},
   "outputs": [],
   "source": [
    "import requests\n",
    "import json\n",
    "import geopandas as gpd\n",
    "import pandas as pd\n",
    "import ast"
   ]
  },
  {
   "cell_type": "code",
   "execution_count": null,
   "metadata": {},
   "outputs": [],
   "source": [
    "# Download locally the GeoJSON files from http://eric.clst.org/Stuff/USGeoJSON\n",
    "!mkdir -p data\n",
    "\n",
    "!curl 'http://eric.clst.org/wupl/Stuff/gz_2010_us_040_00_500k.json' -o 'data/us_states_high_detail.json'\n",
    "#!curl 'http://eric.clst.org/wupl/Stuff/gz_2010_us_040_00_5m.json'   -o 'data/us_states_medium_detail.json'\n",
    "#!curl 'http://eric.clst.org/wupl/Stuff/gz_2010_us_040_00_20m.json'  -o 'data/us_states_low_detail.json'\n",
    "\n",
    "!curl 'http://eric.clst.org/wupl/Stuff/gz_2010_us_050_00_500k.json' -o 'data/us_counties_high_detail.json'\n",
    "#!curl 'http://eric.clst.org/wupl/Stuff/gz_2010_us_050_00_5m.json '  -o 'data/us_counties_medium_detail.json'\n",
    "#!curl 'http://eric.clst.org/wupl/Stuff/gz_2010_us_050_00_20m.json'  -o 'data/us_counties_low_detail.json'\n"
   ]
  },
  {
   "cell_type": "code",
   "execution_count": null,
   "metadata": {},
   "outputs": [],
   "source": [
    "geojson=open('data/us_states_high_detail.json', 'r').read()\n",
    "states_geojson = json.loads(geojson)[\"features\"]\n",
    "df_states = gpd.GeoDataFrame.from_features(states_geojson)\n",
    "df_states = df_states[ df_states.STATE!='02' ] #drop Alaska\n",
    "df_states = df_states[ df_states.STATE!='15' ] #drop Hawaii\n",
    "df_states = df_states[ df_states.STATE!='72' ] #drop Puerto Rico\n",
    "df_states.set_index('STATE',inplace=True)\n",
    "df_states.sort_index(inplace=True)\n"
   ]
  },
  {
   "cell_type": "code",
   "execution_count": null,
   "metadata": {},
   "outputs": [],
   "source": [
    "df_states.head()"
   ]
  },
  {
   "cell_type": "code",
   "execution_count": null,
   "metadata": {},
   "outputs": [],
   "source": [
    "df_states.plot(\n",
    "    figsize=(30,30), \n",
    "    linewidth=0.2, \n",
    "    color='white', \n",
    "    edgecolor='black')"
   ]
  },
  {
   "cell_type": "code",
   "execution_count": null,
   "metadata": {},
   "outputs": [],
   "source": [
    "# US Counties GeoJSON\n",
    "geojson=open('data/us_counties_high_detail.json', 'r', encoding = \"ISO-8859-1\").read()\n",
    "counties_geojson = json.loads(geojson)[\"features\"]\n",
    "df_counties = gpd.GeoDataFrame.from_features(counties_geojson)"
   ]
  },
  {
   "cell_type": "code",
   "execution_count": null,
   "metadata": {},
   "outputs": [],
   "source": [
    "df_counties=df_counties[ df_counties.STATE!='02' ] #drop Alaska\n",
    "df_counties=df_counties[ df_counties.STATE!='15' ] #drop Hawaii\n",
    "df_counties=df_counties[ df_counties.STATE!='72' ] #drop Puerto Rico\n"
   ]
  },
  {
   "cell_type": "code",
   "execution_count": null,
   "metadata": {},
   "outputs": [],
   "source": [
    "df_counties.set_index(['STATE','COUNTY'],inplace=True)\n",
    "df_counties.sort_index(inplace=True)"
   ]
  },
  {
   "cell_type": "code",
   "execution_count": null,
   "metadata": {},
   "outputs": [],
   "source": [
    "df_counties.plot(\n",
    "    figsize=(30,30), \n",
    "    linewidth=0.2,  \n",
    "    color='white', \n",
    "    edgecolor='black'\n",
    ")"
   ]
  },
  {
   "cell_type": "markdown",
   "metadata": {},
   "source": [
    "### Getting Census Data\n",
    "\n",
    "First of all, you need to get an API Key from http://api.census.gov/data/key_signup.html."
   ]
  },
  {
   "cell_type": "code",
   "execution_count": null,
   "metadata": {},
   "outputs": [],
   "source": [
    "class Census:\n",
    "    def __init__(self, key):\n",
    "        self.key = key\n",
    "\n",
    "    def get(self, fields, geo, year=2010, dataset='sf1'):\n",
    "        fields = [','.join(fields)]\n",
    "        template_url = 'https://api.census.gov/data/{year}/{dataset}?key={key}&get='\n",
    "        base_url = template_url.format(year=str(year), dataset=dataset, key=self.key)\n",
    "        query = fields\n",
    "        for item in geo:\n",
    "            query.append(item)\n",
    "        add_url = '&'.join(query)\n",
    "        url = base_url + add_url\n",
    "        response = requests.get(url)\n",
    "        return response.text\n",
    "\n",
    "api_key = '627d4107b57d4576f2120d2b87b59c7440e5d2af'\n",
    "census = Census(api_key)"
   ]
  },
  {
   "cell_type": "code",
   "execution_count": null,
   "metadata": {},
   "outputs": [],
   "source": [
    "state = census.get(['P0010001'], ['for=state:*'])\n",
    "df_state_population = pd.DataFrame(ast.literal_eval(state), columns = ['Population', 'STATE'])\n",
    "df_state_population['Population'] = pd.to_numeric(df_state_population['Population'],errors='coerce')\n",
    "df_state_population.drop(0,axis=0,inplace=True)\n",
    "df_state_population.set_index('STATE',inplace=True)\n",
    "df_state_population.sort_index(inplace=True)\n",
    "#df_state_population"
   ]
  },
  {
   "cell_type": "code",
   "execution_count": null,
   "metadata": {},
   "outputs": [],
   "source": [
    "df_states.join(df_state_population).plot(\n",
    "    figsize=(30,30), \n",
    "    column='Population', \n",
    "    cmap='OrRd',  # select color scheme from http://matplotlib.org/users/colormaps.html\n",
    "    linewidth=0.1, \n",
    "    edgecolor='black'\n",
    ")"
   ]
  },
  {
   "cell_type": "code",
   "execution_count": null,
   "metadata": {},
   "outputs": [],
   "source": [
    "import math\n",
    "county = census.get(['P0010001'], ['in=state:*', 'for=county:*'])\n",
    "df_county_population = pd.DataFrame(ast.literal_eval(county), columns = ['Population', 'STATE', 'COUNTY'])\n",
    "df_county_population['Population'] = pd.to_numeric(df_county_population['Population'],errors='coerce')\n",
    "df_county_population.drop(0,axis=0,inplace=True)\n",
    "df_county_population.set_index(['STATE','COUNTY'],inplace=True)\n",
    "df_state_population.sort_index(inplace=True)\n",
    "\n",
    "# county_result = ast.literal_eval(county)"
   ]
  },
  {
   "cell_type": "code",
   "execution_count": null,
   "metadata": {},
   "outputs": [],
   "source": [
    "# df_county_population['LogPopulation'] = df_county_population['Population'].apply(math.log)"
   ]
  },
  {
   "cell_type": "code",
   "execution_count": null,
   "metadata": {},
   "outputs": [],
   "source": [
    "df_counties.join(df_county_population).plot(\n",
    "    figsize=(30,30), \n",
    "    column='Population', \n",
    "    cmap='OrRd', # http://matplotlib.org/users/colormaps.html\n",
    "    scheme='Quantiles', # alternatives are 'Quantiles', Equal_Interval', and 'Fisher_Jenks'\n",
    "    linewidth=0.1, \n",
    "    edgecolor='black')"
   ]
  },
  {
   "cell_type": "code",
   "execution_count": null,
   "metadata": {},
   "outputs": [],
   "source": []
  }
 ],
 "metadata": {
  "kernelspec": {
   "display_name": "Python 3",
   "language": "python",
   "name": "python3"
  },
  "language_info": {
   "codemirror_mode": {
    "name": "ipython",
    "version": 3
   },
   "file_extension": ".py",
   "mimetype": "text/x-python",
   "name": "python",
   "nbconvert_exporter": "python",
   "pygments_lexer": "ipython3",
   "version": "3.5.2"
  }
 },
 "nbformat": 4,
 "nbformat_minor": 1
}
