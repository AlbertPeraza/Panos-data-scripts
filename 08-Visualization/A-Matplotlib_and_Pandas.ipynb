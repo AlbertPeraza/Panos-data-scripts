{
 "cells": [
  {
   "cell_type": "markdown",
   "metadata": {},
   "source": [
    "# Plotting and Visualization\n",
    "\n",
    "There are a handful of third-party Python packages that are suitable for creating scientific plots and visualizations (to name a few: matplotlib, Chaco, PyX, Bokeh, and others)\n",
    "\n",
    "Here, we will focus excelusively on **matplotlib**. It is currently the most robust and feature-rich package available.\n",
    "\n",
    "Furthermore, to build on what we have learned and simplify the generation of plots, we will put extra emphasis on plotting available within pandas.\n",
    "\n"
   ]
  },
  {
   "cell_type": "markdown",
   "metadata": {},
   "source": [
    "### Visual representation of data\n",
    "\n",
    "We require plots, charts and other statistical graphics for the written communication of quantitative ideas.\n",
    "\n",
    "They allow us to more easily convey relationships and reveal deviations from patterns.\n",
    "\n",
    "Gelman and Unwin 2011:\n",
    "\n",
    "> A well-designed graph can display more information than a table of the same size, and more information than numbers embedded in text. Graphical displays allow and encourage direct visual comparisons."
   ]
  },
  {
   "cell_type": "markdown",
   "metadata": {},
   "source": [
    "## Matplotlib\n",
    "\n",
    "We typically import matplotlib with the following convention:\n",
    "\n"
   ]
  },
  {
   "cell_type": "code",
   "execution_count": null,
   "metadata": {},
   "outputs": [],
   "source": [
    "%matplotlib inline \n",
    "import matplotlib.pyplot as plt"
   ]
  },
  {
   "cell_type": "markdown",
   "metadata": {},
   "source": [
    "Let's add the usual libraries"
   ]
  },
  {
   "cell_type": "code",
   "execution_count": null,
   "metadata": {},
   "outputs": [],
   "source": [
    "import pandas as pd\n",
    "import numpy as np"
   ]
  },
  {
   "cell_type": "markdown",
   "metadata": {},
   "source": [
    "And we create some random data to plot:"
   ]
  },
  {
   "cell_type": "code",
   "execution_count": null,
   "metadata": {},
   "outputs": [],
   "source": [
    "xvalues = np.random.normal(size=1000)\n",
    "yvalues = np.random.normal(size=1000)"
   ]
  },
  {
   "cell_type": "code",
   "execution_count": null,
   "metadata": {},
   "outputs": [],
   "source": [
    "plt.plot([1 ,2 ,3 ,4], [3, 5, 6, 7], 'b+')"
   ]
  },
  {
   "cell_type": "markdown",
   "metadata": {},
   "source": [
    "The above plot simply shows two sets of random numbers taken from a normal distribution plotted against one another. The `'ro'` argument is a shorthand argument telling matplotlib that I wanted the points represented as red circles (see our earlier short tutorial with our discussion of Python libraries)."
   ]
  },
  {
   "cell_type": "markdown",
   "metadata": {},
   "source": [
    "#### Multiple plots superimposed"
   ]
  },
  {
   "cell_type": "markdown",
   "metadata": {},
   "source": [
    "We can also plot many plots on top of each other:"
   ]
  },
  {
   "cell_type": "code",
   "execution_count": null,
   "metadata": {},
   "outputs": [],
   "source": [
    "# evenly sampled values between 0 and 5, at 0.2 intervals\n",
    "t = np.arange(0., 5., 0.1)"
   ]
  },
  {
   "cell_type": "code",
   "execution_count": null,
   "metadata": {},
   "outputs": [],
   "source": [
    "# red dashes, blue squares, green triangles, magenta line\n",
    "import math\n",
    "\n",
    "plt.plot(t, t, 'r--')\n",
    "plt.plot(t, t**2, 'bs')\n",
    "plt.plot(t, t**1.5, 'g^')\n",
    "plt.plot(t, 2*np.sin(5*t), 'm-')\n",
    "plt.show()"
   ]
  },
  {
   "cell_type": "markdown",
   "metadata": {},
   "source": [
    "#### Plotting styles"
   ]
  },
  {
   "cell_type": "markdown",
   "metadata": {},
   "source": [
    "Matplotlib has also a set of predefined styles available:"
   ]
  },
  {
   "cell_type": "code",
   "execution_count": null,
   "metadata": {},
   "outputs": [],
   "source": [
    "print plt.style.available"
   ]
  },
  {
   "cell_type": "code",
   "execution_count": null,
   "metadata": {},
   "outputs": [],
   "source": [
    "#plt.style.use(u'fivethirtyeight')\n",
    "#plt.plot(xvalues, yvalues, 'ro')\n",
    "#plt.xlabel(\"Style: fivethirtyeight\")\n",
    "#plt.show()"
   ]
  },
  {
   "cell_type": "code",
   "execution_count": null,
   "metadata": {},
   "outputs": [],
   "source": [
    "# Set some Pandas options\n",
    "#pd.set_option('display.notebook_repr_html', True)\n",
    "#pd.set_option('display.max_columns', 20)\n",
    "#pd.set_option('display.max_rows', 25)\n",
    "\n",
    "#pd.set_option('display.mpl_style', 'default')\n",
    "\n",
    "plt.style.use('ggplot')\n",
    "#plt.rcParams['figure.figsize'] = (15, 5)\n",
    "#plt.rc_context(rc={'font.family': 'monospace',  'font.weight': 'bold',   'font.size': 10})"
   ]
  },
  {
   "cell_type": "markdown",
   "metadata": {},
   "source": [
    "We can exercise a little more control by breaking the plotting into a workflow:"
   ]
  },
  {
   "cell_type": "code",
   "execution_count": null,
   "metadata": {},
   "outputs": [],
   "source": [
    "fig = plt.figure(figsize=(10,6))\n",
    "\n",
    "# Create the first subfigure\n",
    "sub1 = fig.add_subplot(2,2,1)\n",
    "sub1.set_xlabel('some random numbers')\n",
    "sub1.set_ylabel('more random numbers')\n",
    "sub1.set_title(\"Random scatterplot\")\n",
    "sub1.plot(np.random.randn(1000), np.random.randn(1000), 'r.')\n",
    "\n",
    "# Create the second subfigure\n",
    "sub2 = fig.add_subplot(2,2,2)\n",
    "sub2.hist(np.random.normal(size=500), bins=15)\n",
    "sub2.set_xlabel('sample')\n",
    "sub2.set_ylabel('cumulative sum')\n",
    "sub2.set_title(\"Normal distrubution\")\n",
    "\n",
    "# Create the third subfigure\n",
    "numpoints = 100\n",
    "x = np.linspace(0, 10, num=numpoints)\n",
    "sub3 = fig.add_subplot(2,2,3)\n",
    "sub3.plot(x, np.sin(x) + x + np.random.randn(numpoints), \"r\")\n",
    "sub3.plot(x, np.sin(x) + 0.5 * x + np.random.randn(numpoints), \"g\")\n",
    "sub3.plot(x, np.sin(x) + 2 * x + np.random.randn(numpoints), \"b\")\n",
    "sub3.set_xlabel('x from 0 to 10')\n",
    "sub3.set_ylabel('function value')\n",
    "\n",
    "# Create the fourth subfigure\n",
    "sub4 = fig.add_subplot(2,2,4)\n",
    "x = np.random.randn(10000)\n",
    "y = np.random.randn(10000)\n",
    "sub4.hist2d(x,y,bins=100);\n",
    "sub4.set_xlabel('x axis title')\n",
    "sub4.set_ylabel('y axis title')\n",
    "\n",
    "plt.tight_layout()\n",
    "plt.savefig(\"normalvars.png\", dpi=150)"
   ]
  },
  {
   "cell_type": "code",
   "execution_count": null,
   "metadata": {},
   "outputs": [],
   "source": [
    "numpoints=10000\n",
    "data1 = np.random.normal(loc=2.0, scale=1.0, size=numpoints)\n",
    "data2 = np.random.normal(loc=-1.0, scale=3.0, size=numpoints)\n",
    "max_data = np.r_[data1, data2].max()\n",
    "# bins = np.linspace(-max_data, max_data, 10 * max_data + 1)\n",
    "plt.hist(data1, bins=np.sqrt(numpoints), normed=True, color=\"#6495ED\", alpha=1.0)\n",
    "plt.hist(data2, bins=np.sqrt(numpoints), normed=True, color=\"#F08080\", alpha=0.5)\n",
    "plt.show()"
   ]
  },
  {
   "cell_type": "markdown",
   "metadata": {},
   "source": [
    "matplotlib is a relatively low-level plotting package, relative to others. It makes very few assumptions about what constitutes good layout (by design), but has a lot of flexiblility to allow the user to completely customize the look of the output.\n",
    "\n",
    "If you want to make your plots look like the plot above, you can configure the default options for matplotlib. A good idea is to \"steal\" the *matplotlibrc* file from [Huy Nguyen](http://www.huyng.com/posts/sane-color-scheme-for-matplotlib/) and store it under `/usr/local/lib/python2.7/site-packages/matplotlib/mpl-data/matplotlibrc`\n",
    "\n",
    "## Plotting in Pandas\n",
    "\n",
    "On the other hand, Pandas includes methods for DataFrame and Series objects that are relatively high-level, and that make reasonable assumptions about how the plot should look."
   ]
  },
  {
   "cell_type": "code",
   "execution_count": null,
   "metadata": {},
   "outputs": [],
   "source": [
    "normals = pd.Series(np.random.normal(size=10))\n",
    "normals.head()"
   ]
  },
  {
   "cell_type": "code",
   "execution_count": null,
   "metadata": {},
   "outputs": [],
   "source": [
    "\n",
    "normals.plot()"
   ]
  },
  {
   "cell_type": "markdown",
   "metadata": {},
   "source": [
    "Notice that by default a line plot is drawn, and a light grid is included. All of this can be changed, however:"
   ]
  },
  {
   "cell_type": "code",
   "execution_count": null,
   "metadata": {},
   "outputs": [],
   "source": [
    "normals.cumsum().plot(grid=False)"
   ]
  },
  {
   "cell_type": "markdown",
   "metadata": {},
   "source": [
    "Similarly, for a DataFrame:"
   ]
  },
  {
   "cell_type": "code",
   "execution_count": null,
   "metadata": {},
   "outputs": [],
   "source": [
    "variables = pd.DataFrame({'normal': np.random.normal(size=100), \n",
    "                       'gamma': np.random.gamma(1, size=100), \n",
    "                       'poisson': np.random.poisson(size=100)})\n",
    "variables"
   ]
  },
  {
   "cell_type": "code",
   "execution_count": null,
   "metadata": {},
   "outputs": [],
   "source": [
    "variables.cumsum(0).plot(figsize=(10,10))"
   ]
  },
  {
   "cell_type": "code",
   "execution_count": null,
   "metadata": {},
   "outputs": [],
   "source": []
  },
  {
   "cell_type": "markdown",
   "metadata": {},
   "source": [
    "As an illustration of the high-level nature of Pandas plots, we can split multiple series into subplots with a single argument for `plot`:"
   ]
  },
  {
   "cell_type": "code",
   "execution_count": null,
   "metadata": {},
   "outputs": [],
   "source": [
    "variables.cumsum(0).plot(subplots=True,figsize=(10,6))"
   ]
  },
  {
   "cell_type": "markdown",
   "metadata": {},
   "source": [
    "Or, we may want to have some series displayed on the secondary y-axis, which can allow for greater detail and less empty space:"
   ]
  },
  {
   "cell_type": "code",
   "execution_count": null,
   "metadata": {},
   "outputs": [],
   "source": [
    "variables.cumsum(0).plot(secondary_y='normal')"
   ]
  },
  {
   "cell_type": "markdown",
   "metadata": {},
   "source": [
    "If we would like a little more control, we can use matplotlib's `subplots` function directly, and manually assign plots to its axes:"
   ]
  },
  {
   "cell_type": "code",
   "execution_count": null,
   "metadata": {},
   "outputs": [],
   "source": [
    "for i,var in enumerate(['normal','gamma','poisson']):\n",
    "    print \"i=\",i\n",
    "    print \"var=\",var"
   ]
  },
  {
   "cell_type": "code",
   "execution_count": null,
   "metadata": {},
   "outputs": [],
   "source": [
    "fig, axes = plt.subplots(nrows=1, ncols=3, figsize=(12, 4))\n",
    "for i,var in enumerate(['normal','gamma','poisson']):\n",
    "    variables[var].cumsum(0).plot(ax=axes[i], title=var)\n",
    "axes[0].set_ylabel('cumulative sum (normal)')\n",
    "axes[1].set_ylabel('cumulative sum (gamma)')\n",
    "axes[2].set_ylabel('cumulative sum (poisson)')"
   ]
  },
  {
   "cell_type": "markdown",
   "metadata": {},
   "source": [
    "## Bar plots\n",
    "\n",
    "Bar plots are useful for displaying and comparing measurable quantities, such as counts or volumes. In Pandas, we just use the `plot` method with a `kind='bar'` argument.\n",
    "\n",
    "For this series of examples, let's load up a dataset with the passengers from Titanic (https://dl.dropboxusercontent.com/u/16006464/DwD_Fall2014/titanic.xls):"
   ]
  },
  {
   "cell_type": "code",
   "execution_count": null,
   "metadata": {},
   "outputs": [],
   "source": [
    "titanic = pd.read_excel(\"/home/ubuntu/data/titanic.xls\", \"titanic\")\n",
    "titanic.head()"
   ]
  },
  {
   "cell_type": "markdown",
   "metadata": {},
   "source": [
    "And let's run a couple of SQL-like queries on the DataFrame object that we just loaded:"
   ]
  },
  {
   "cell_type": "code",
   "execution_count": null,
   "metadata": {},
   "outputs": [],
   "source": [
    "titanic.groupby('pclass').survived.sum()"
   ]
  },
  {
   "cell_type": "code",
   "execution_count": null,
   "metadata": {},
   "outputs": [],
   "source": [
    "titanic.groupby('pclass').survived.sum().plot(kind='bar')"
   ]
  },
  {
   "cell_type": "code",
   "execution_count": null,
   "metadata": {},
   "outputs": [],
   "source": [
    "titanic.groupby(['sex','pclass']).survived.mean()"
   ]
  },
  {
   "cell_type": "code",
   "execution_count": null,
   "metadata": {},
   "outputs": [],
   "source": [
    "titanic.groupby(['sex','pclass']).survived.mean().plot(kind='barh')"
   ]
  },
  {
   "cell_type": "code",
   "execution_count": null,
   "metadata": {},
   "outputs": [],
   "source": [
    "death_counts = pd.crosstab([titanic.pclass, titanic.sex], titanic.survived.astype(bool))\n",
    "death_counts"
   ]
  },
  {
   "cell_type": "code",
   "execution_count": null,
   "metadata": {},
   "outputs": [],
   "source": [
    "death_counts.plot(kind='bar', stacked=True, color=['red','blue'], grid=True)"
   ]
  },
  {
   "cell_type": "markdown",
   "metadata": {},
   "source": [
    "Another way of comparing the groups is to look at the survival *rate*, by adjusting for the number of people in each group."
   ]
  },
  {
   "cell_type": "code",
   "execution_count": null,
   "metadata": {},
   "outputs": [],
   "source": [
    "death_counts.div(death_counts.sum(1).astype(float), axis=0).plot(kind='barh', stacked=True, color=['red','blue'])"
   ]
  },
  {
   "cell_type": "markdown",
   "metadata": {},
   "source": [
    "## Histograms\n",
    "\n",
    "Frequenfly it is useful to look at the *distribution* of data before you analyze it. Histograms are a sort of bar graph that displays relative frequencies of data values; hence, the y-axis is always some measure of frequency. This can either be raw counts of values or scaled proportions.\n",
    "\n",
    "For example, we might want to see how the fares were distributed aboard the titanic:"
   ]
  },
  {
   "cell_type": "code",
   "execution_count": null,
   "metadata": {},
   "outputs": [],
   "source": [
    "titanic[\"fare\"].hist()"
   ]
  },
  {
   "cell_type": "markdown",
   "metadata": {},
   "source": [
    "The `hist` method puts the continuous fare values into **bins**, trying to make a sensible décision about how many bins to use (or equivalently, how wide the bins are). We can override the default value (10):"
   ]
  },
  {
   "cell_type": "code",
   "execution_count": null,
   "metadata": {},
   "outputs": [],
   "source": [
    "titanic.fare.hist(bins=30)"
   ]
  },
  {
   "cell_type": "markdown",
   "metadata": {},
   "source": [
    "There are algorithms for determining an [\"optimal\" number of bins](https://en.wikipedia.org/w/index.php?title=Histogram&oldid=548769683#Number_of_bins_and_width), each of which varies somehow with the number of observations in the data series. Here is the implementation for three such heuristics:"
   ]
  },
  {
   "cell_type": "code",
   "execution_count": null,
   "metadata": {},
   "outputs": [],
   "source": [
    "sturges = lambda n: int(np.log2(n) + 1)\n",
    "square_root = lambda n: int(np.sqrt(n))\n",
    "from scipy.stats import kurtosis\n",
    "doanes = lambda data: int(1 + np.log(len(data)) + np.log(1 + kurtosis(data) * (len(data) / 6.) ** 0.5))\n",
    "\n",
    "n = len(titanic)\n",
    "sturges(n), square_root(n), doanes(titanic.fare.dropna())"
   ]
  },
  {
   "cell_type": "code",
   "execution_count": null,
   "metadata": {},
   "outputs": [],
   "source": [
    "titanic.fare.hist(bins=doanes(titanic.fare.dropna()))"
   ]
  },
  {
   "cell_type": "code",
   "execution_count": null,
   "metadata": {},
   "outputs": [],
   "source": [
    "titanic.fare.hist(bins=sturges(len(titanic)))"
   ]
  },
  {
   "cell_type": "markdown",
   "metadata": {},
   "source": [
    "### Exercise\n",
    "\n",
    "Create a histogram for the **ages** of the passengers"
   ]
  },
  {
   "cell_type": "code",
   "execution_count": null,
   "metadata": {},
   "outputs": [],
   "source": []
  },
  {
   "cell_type": "code",
   "execution_count": null,
   "metadata": {},
   "outputs": [],
   "source": [
    "### your code here\n",
    "titanic.age.hist(bins=sturges(len(titanic)))"
   ]
  },
  {
   "cell_type": "markdown",
   "metadata": {},
   "source": [
    "## Density plot"
   ]
  },
  {
   "cell_type": "markdown",
   "metadata": {},
   "source": [
    "A **density plot** is similar to a histogram in that it describes the distribution of the underlying data, but rather than being a pure empirical representation, it is an *estimate* of the underlying \"true\" distribution. As a result, it is smoothed into a continuous line plot. We create them in Pandas using the `plot` method with `kind='kde'`, where `kde` stands for **kernel density estimate**."
   ]
  },
  {
   "cell_type": "code",
   "execution_count": null,
   "metadata": {},
   "outputs": [],
   "source": [
    "#df = titanic.fare.dropna()\n",
    "titanic[\"fare\"].plot(kind='kde', xlim=(0,100), ylim=(0,0.05))"
   ]
  },
  {
   "cell_type": "code",
   "execution_count": null,
   "metadata": {},
   "outputs": [],
   "source": [
    "titanic.fare.dropna().plot(kind='kde', xlim=(0,600))"
   ]
  },
  {
   "cell_type": "markdown",
   "metadata": {},
   "source": [
    "Often, histograms and density plots are shown together:"
   ]
  },
  {
   "cell_type": "code",
   "execution_count": null,
   "metadata": {},
   "outputs": [],
   "source": [
    "titanic.fare.hist(bins=doanes(titanic.fare.dropna()),  normed=True, color='lightseagreen')\n",
    "titanic.fare.dropna().plot(kind='kde', xlim=(0,600), style='r-')"
   ]
  },
  {
   "cell_type": "markdown",
   "metadata": {},
   "source": [
    "Here, we had to normalize the histogram (`normed=True`), since the kernel density is normalized by definition (it is a probability distribution)."
   ]
  },
  {
   "cell_type": "markdown",
   "metadata": {},
   "source": [
    "### Exercise\n",
    "\n",
    "Create a density plot for the **ages** of the passengers"
   ]
  },
  {
   "cell_type": "code",
   "execution_count": null,
   "metadata": {},
   "outputs": [],
   "source": [
    "### your code here\n",
    "titanic.age.hist(bins=doanes(titanic.fare.dropna()),  normed=True, color='lightseagreen')\n",
    "titanic.age.dropna().plot(kind='kde', xlim=(0,80), style='r-')"
   ]
  },
  {
   "cell_type": "markdown",
   "metadata": {},
   "source": [
    "## Boxplots\n",
    "\n",
    "A different way of visualizing the distribution of data is the boxplot, which is a display of common quantiles; these are typically the quartiles and the lower and upper 5 percent values."
   ]
  },
  {
   "cell_type": "code",
   "execution_count": null,
   "metadata": {},
   "outputs": [],
   "source": [
    "titanic.boxplot(column='fare', by='pclass', grid=False, figsize = (8,5))"
   ]
  },
  {
   "cell_type": "markdown",
   "metadata": {},
   "source": [
    "You can think of the box plot as viewing the distribution from above. The blue crosses are \"outlier\" points that occur outside the extreme quantiles."
   ]
  },
  {
   "cell_type": "markdown",
   "metadata": {},
   "source": [
    "One way to add additional information to a boxplot is to overlay the actual data; this is generally most suitable with small- or moderate-sized data series."
   ]
  },
  {
   "cell_type": "code",
   "execution_count": null,
   "metadata": {},
   "outputs": [],
   "source": [
    "bp = titanic.boxplot(column='age', by='pclass', grid=False, figsize=(8,8))\n",
    "for i in [1,2,3]:\n",
    "    y = titanic.age[titanic.pclass==i].dropna()\n",
    "    # The below is an idiom to create a list of len(y) size, all filled with the value i\n",
    "    x = [i] * len(y)\n",
    "    plt.plot(x, y, 'r.', alpha=0.2)"
   ]
  },
  {
   "cell_type": "markdown",
   "metadata": {},
   "source": [
    "Now, you will notice something unfortunate: We have all the points stacked on top of each other. For this reason, we introduce the notion of **jitter** (i.e., small amount of noise) to allow the data points to be visible:"
   ]
  },
  {
   "cell_type": "code",
   "execution_count": null,
   "metadata": {},
   "outputs": [],
   "source": [
    "bp = titanic.boxplot(column='age', by='pclass', grid=False, figsize=(8,8))\n",
    "for i in [1,2,3]:\n",
    "    y = titanic.age[titanic.pclass==i].dropna()\n",
    "    # Add some random \"jitter\" to the x-axis\n",
    "    x = np.random.normal(i, 0.04, size=len(y))\n",
    "    plt.plot(x, y, 'r.', alpha=0.2)"
   ]
  },
  {
   "cell_type": "markdown",
   "metadata": {},
   "source": [
    "When data are dense, a couple of tricks used above help the visualization:\n",
    "\n",
    "1. reducing the alpha level to make the points partially transparent\n",
    "2. adding random \"jitter\" along the x-axis to avoid overstriking"
   ]
  },
  {
   "cell_type": "markdown",
   "metadata": {},
   "source": [
    "A related but inferior cousin of the box plot is the so-called dynamite plot, which is just a bar chart with half of an error bar, unfortunately popularized through Excel:"
   ]
  },
  {
   "cell_type": "code",
   "execution_count": null,
   "metadata": {},
   "outputs": [],
   "source": [
    "titanic.groupby('pclass')['fare'].mean().plot(kind='bar', yerr=titanic.groupby('pclass')['fare'].std())"
   ]
  },
  {
   "cell_type": "markdown",
   "metadata": {},
   "source": [
    "Why is this plot a poor choice?\n",
    "\n",
    "- bar charts should be used for measurable quantities (*e.g.* raw data), not estimates. The area of the bar does not represent anything, since these are estimates derived from the data.\n",
    "- the \"data-ink ratio\" (*sensu* Edward Tufte) is very high. There are only 6 values represented here (3 means and 3 standard deviations).\n",
    "- the plot hides the underlying data.\n",
    "\n",
    "A boxplot is **always** a better choice than a dynamite plot."
   ]
  },
  {
   "cell_type": "code",
   "execution_count": null,
   "metadata": {},
   "outputs": [],
   "source": [
    "data1 = [150, 155, 175, 200, 245, 255, 395, 300, 305, 320, 375, 400, 420, 430, 440]\n",
    "data2 = [225, 380]\n",
    "\n",
    "fake_data = pd.DataFrame([data1, data2]).transpose()\n",
    "p = fake_data.mean().plot(kind='bar', yerr=fake_data.std(), grid=False)"
   ]
  },
  {
   "cell_type": "code",
   "execution_count": null,
   "metadata": {},
   "outputs": [],
   "source": [
    "fake_data = pd.DataFrame([data1, data2]).transpose()\n",
    "p = fake_data.mean().plot(kind='bar', yerr=fake_data.std(), grid=False)\n",
    "x1, x2 = p.xaxis.get_majorticklocs()\n",
    "plt.plot(np.random.normal(x1, 0.01, size=len(data1)), data1, 'ro')\n",
    "plt.plot([x2]*len(data2), data2, 'ro')"
   ]
  },
  {
   "cell_type": "markdown",
   "metadata": {},
   "source": [
    "## Scatterplots\n",
    "\n",
    "To look at how Pandas does scatterplots, let's load the [baseball sample dataset](https://raw.githubusercontent.com/pydata/pandas/master/doc/data/baseball.csv)."
   ]
  },
  {
   "cell_type": "code",
   "execution_count": null,
   "metadata": {},
   "outputs": [],
   "source": [
    "baseball = pd.read_csv(\"/home/ubuntu/data/baseball.csv\")\n",
    "baseball.head()"
   ]
  },
  {
   "cell_type": "markdown",
   "metadata": {},
   "source": [
    "Scatterplots are useful for data exploration, where we seek to uncover relationships among variables. "
   ]
  },
  {
   "cell_type": "code",
   "execution_count": null,
   "metadata": {},
   "outputs": [],
   "source": [
    "fig = baseball.plot(kind='scatter', x='ab', y='h')"
   ]
  },
  {
   "cell_type": "markdown",
   "metadata": {},
   "source": [
    "Let's put some limits on the x and y axis:"
   ]
  },
  {
   "cell_type": "code",
   "execution_count": null,
   "metadata": {},
   "outputs": [],
   "source": [
    "fig = baseball.plot(kind='scatter', x='ab', y='h', xlim=[0,600], ylim=[0,200], figsize=(5,5))"
   ]
  },
  {
   "cell_type": "markdown",
   "metadata": {},
   "source": [
    "We can add additional information to scatterplots by assigning variables to either the size of the symbols or their colors."
   ]
  },
  {
   "cell_type": "code",
   "execution_count": null,
   "metadata": {},
   "outputs": [],
   "source": [
    "fig = baseball.plot(kind='scatter', x='ab', y='h', xlim=[0,600], ylim=[0,200],  figsize=(5,5), s=baseball.hr*10, alpha=0.5)"
   ]
  },
  {
   "cell_type": "code",
   "execution_count": null,
   "metadata": {},
   "outputs": [],
   "source": [
    "fig = baseball.plot(kind='scatter', x='ab', y='h', xlim=[0,600], ylim=[0,200], \n",
    "                    figsize=(5,5), c=baseball.hr, s=60, cmap='hot')"
   ]
  },
  {
   "cell_type": "markdown",
   "metadata": {},
   "source": [
    "To view scatterplots of a large numbers of variables simultaneously, we can use the `scatter_matrix` function. It generates a matrix of pair-wise scatterplots, optionally with histograms or kernel density estimates on the diagonal."
   ]
  },
  {
   "cell_type": "code",
   "execution_count": null,
   "metadata": {},
   "outputs": [],
   "source": [
    "from pandas.tools.plotting import scatter_matrix\n",
    "\n",
    "fig = pd.scatter_matrix(baseball.loc[:,'r':'sb'], figsize=(12,12), diagonal='kde', alpha=0.8)"
   ]
  },
  {
   "cell_type": "markdown",
   "metadata": {},
   "source": [
    "## Hexagonal Bin Plot"
   ]
  },
  {
   "cell_type": "markdown",
   "metadata": {},
   "source": [
    "The hexagonal is useful when we have a very large number of points to display, and even the addition of jitter cannot transform a scatterplot into something readable. \n",
    "\n",
    "You can create hexagonal bin plots with DataFrame.plot() and kind='hexbin'. Hexbin plots can be a useful alternative to scatter plots if your data are too dense to plot each point individually."
   ]
  },
  {
   "cell_type": "code",
   "execution_count": null,
   "metadata": {},
   "outputs": [],
   "source": [
    "df = pd.DataFrame( np.random.randn(10000, 2), columns=['a', 'b'])\n",
    "df['b'] = df['b'] + np.arange(10000)\n"
   ]
  },
  {
   "cell_type": "code",
   "execution_count": null,
   "metadata": {},
   "outputs": [],
   "source": [
    "df.plot(kind='scatter', x='a', y='b', figsize=(6,4), alpha=0.1)"
   ]
  },
  {
   "cell_type": "code",
   "execution_count": null,
   "metadata": {},
   "outputs": [],
   "source": [
    "df.plot(kind='hexbin', x='a', y='b', gridsize=40,figsize=(8,4))"
   ]
  },
  {
   "cell_type": "markdown",
   "metadata": {},
   "source": [
    "A useful keyword argument is gridsize; it controls the number of hexagons in the x-direction, and defaults to 100. A larger gridsize means more, smaller bins."
   ]
  },
  {
   "cell_type": "markdown",
   "metadata": {},
   "source": [
    "## Trellis Plots\n",
    "\n",
    "One of the enduring strengths of carrying out statistical analyses in the R language is the quality of its graphics. In particular, the addition of [Hadley Wickham's ggplot2 package](http://ggplot2.org) allows for flexible yet user-friendly generation of publication-quality plots. Its srength is based on its implementation of a powerful model of graphics, called the [Grammar of Graphics](http://vita.had.co.nz/papers/layered-grammar.pdf) (GofG). The GofG is essentially a theory of scientific graphics that allows the components of a graphic to be completely described. ggplot2 uses this description to build the graphic component-wise, by adding various layers.\n",
    "\n",
    "Pandas recently added functions for generating graphics using a GofG approach. Chiefly, this allows for the easy creation of **trellis plots**, which are a faceted graphic that shows relationships between two variables, conditioned on particular values of other variables. This allows for the representation of more than two dimensions of information without having to resort to 3-D graphics, etc.\n"
   ]
  },
  {
   "cell_type": "markdown",
   "metadata": {},
   "source": [
    "Let's use the `titanic` dataset to create a trellis plot that represents 4 variables at a time. This consists of 4 steps:\n",
    "\n",
    "1. Create a `RPlot` object that merely relates two variables in the dataset\n",
    "2. Add a grid that will be used to condition the variables by both passenger class and sex\n",
    "3. Add the actual plot that will be used to visualize each comparison\n",
    "4. Draw the visualization"
   ]
  },
  {
   "cell_type": "code",
   "execution_count": null,
   "metadata": {},
   "outputs": [],
   "source": [
    "from pandas.tools.rplot import *\n",
    "\n",
    "titanic = titanic[titanic.age.notnull() & titanic.fare.notnull()]\n",
    "\n",
    "tp = RPlot(titanic, x='age')\n",
    "tp.add(TrellisGrid(['pclass', 'sex']))\n",
    "tp.add(GeomDensity())\n",
    "_ = tp.render(plt.gcf())"
   ]
  },
  {
   "cell_type": "markdown",
   "metadata": {},
   "source": [
    "#### Another example: Tips dataset"
   ]
  },
  {
   "cell_type": "markdown",
   "metadata": {},
   "source": [
    "The tips data set can be downloaded from [http://wesmckinney.com/files/tips.csv]. "
   ]
  },
  {
   "cell_type": "code",
   "execution_count": null,
   "metadata": {},
   "outputs": [],
   "source": [
    "from pandas import read_csv\n",
    "tips_data = read_csv('/home/ubuntu/data/tips.csv')\n",
    "tips_data.head()"
   ]
  },
  {
   "cell_type": "code",
   "execution_count": null,
   "metadata": {},
   "outputs": [],
   "source": [
    "import pandas.tools.rplot as rplot\n",
    "\n",
    "plt.figure()\n",
    "plot = rplot.RPlot(tips_data, x='total_bill', y='tip')\n",
    "plot.add(rplot.TrellisGrid(['sex', 'smoker']))\n",
    "plot.add(rplot.GeomHistogram())\n",
    "_ = plot.render(plt.gcf())"
   ]
  },
  {
   "cell_type": "markdown",
   "metadata": {},
   "source": [
    "In the example above, data from the tips data set is arranged by the attributes ‘sex’ and ‘smoker’. Since both of those attributes can take on one of two values, the resulting grid has two columns and two rows. A histogram is displayed for each cell of the grid."
   ]
  },
  {
   "cell_type": "code",
   "execution_count": null,
   "metadata": {},
   "outputs": [],
   "source": [
    "import pandas.tools.rplot as rplot\n",
    "\n",
    "plt.figure()\n",
    "plot = rplot.RPlot(tips_data, x='total_bill', y='tip')\n",
    "plot.add(rplot.TrellisGrid(['sex', 'smoker']))\n",
    "plot.add(rplot.GeomDensity())\n",
    "_ = plot.render(plt.gcf())"
   ]
  },
  {
   "cell_type": "markdown",
   "metadata": {},
   "source": [
    "Example above is the same as previous except the plot is set to kernel density estimation. This shows how easy it is to have different plots for the same Trellis structure."
   ]
  },
  {
   "cell_type": "code",
   "execution_count": null,
   "metadata": {},
   "outputs": [],
   "source": [
    "plt.figure()\n",
    "plot = rplot.RPlot(tips_data, x='total_bill', y='tip')\n",
    "plot.add(rplot.TrellisGrid(['sex', 'smoker']))\n",
    "plot.add(rplot.GeomScatter())\n",
    "plot.add(rplot.GeomPolyFit(degree=2))\n",
    "_ = plot.render(plt.gcf())"
   ]
  },
  {
   "cell_type": "markdown",
   "metadata": {},
   "source": [
    "The plot above shows that it is possible to have two or more plots for the same data displayed on the same Trellis grid cell."
   ]
  },
  {
   "cell_type": "code",
   "execution_count": null,
   "metadata": {},
   "outputs": [],
   "source": [
    "plt.figure()\n",
    "plot = rplot.RPlot(tips_data, x='total_bill', y='tip')\n",
    "plot.add(rplot.TrellisGrid(['sex', 'smoker']))\n",
    "plot.add(rplot.GeomScatter())\n",
    "plot.add(rplot.GeomDensity2D())\n",
    "plot.add(rplot.GeomPolyFit(degree=2))\n",
    "_ = plot.render(plt.gcf())"
   ]
  },
  {
   "cell_type": "markdown",
   "metadata": {},
   "source": [
    "Above is a similar plot but with 2D kernel density estimation plot superimposed."
   ]
  },
  {
   "cell_type": "code",
   "execution_count": null,
   "metadata": {},
   "outputs": [],
   "source": []
  }
 ],
 "metadata": {
  "kernelspec": {
   "display_name": "Python 3",
   "language": "python",
   "name": "python3"
  },
  "language_info": {
   "codemirror_mode": {
    "name": "ipython",
    "version": 3
   },
   "file_extension": ".py",
   "mimetype": "text/x-python",
   "name": "python",
   "nbconvert_exporter": "python",
   "pygments_lexer": "ipython3",
   "version": "3.5.2"
  }
 },
 "nbformat": 4,
 "nbformat_minor": 1
}
