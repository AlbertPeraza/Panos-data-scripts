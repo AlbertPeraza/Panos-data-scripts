{
 "cells": [
  {
   "cell_type": "markdown",
   "metadata": {},
   "source": [
    "## Crawling and Extracting Data from Websites"
   ]
  },
  {
   "cell_type": "markdown",
   "metadata": {},
   "source": [
    "This module uses a set of non-standard libraries, which need to be installed on your machine. By default, your instance should have these installed, but if this is not the case, type these in the Unix shell prompt\n",
    "\n",
    "\n",
    "\n"
   ]
  },
  {
   "cell_type": "code",
   "execution_count": null,
   "metadata": {},
   "outputs": [],
   "source": [
    "!sudo -H apt-get -y install libxml2-dev libxslt-dev python3-dev"
   ]
  },
  {
   "cell_type": "markdown",
   "metadata": {},
   "source": [
    "and then"
   ]
  },
  {
   "cell_type": "code",
   "execution_count": null,
   "metadata": {},
   "outputs": [],
   "source": [
    "!sudo -H pip3 install -U lxml"
   ]
  },
  {
   "cell_type": "code",
   "execution_count": null,
   "metadata": {},
   "outputs": [],
   "source": [
    "!sudo -H pip3 install -U pandas"
   ]
  },
  {
   "cell_type": "markdown",
   "metadata": {},
   "source": [
    "### Fetching the headlines from ESPN.com\n",
    "\n",
    "Let's start by trying to fetch the headlines from the site ESPN.com.\n",
    "\n"
   ]
  },
  {
   "cell_type": "code",
   "execution_count": 1,
   "metadata": {},
   "outputs": [],
   "source": [
    "import requests # This command allows us to fetch URLs\n",
    "from lxml import html # This module will allow us to parse the returned HTML/XML\n",
    "import pandas # To create a dataframe\n",
    "\n",
    "# Let's start by fetching the page, and parsing it\n",
    "url = \"http://www.espn.com/\"\n",
    "response = requests.get(url) # get the html of that url\n",
    "doc = html.fromstring(response.text) # parse it and create a document"
   ]
  },
  {
   "cell_type": "code",
   "execution_count": 2,
   "metadata": {},
   "outputs": [
    {
     "data": {
      "text/plain": [
       "<Element html at 0x7f3ca41a8458>"
      ]
     },
     "execution_count": 2,
     "metadata": {},
     "output_type": "execute_result"
    }
   ],
   "source": [
    "doc"
   ]
  },
  {
   "cell_type": "markdown",
   "metadata": {},
   "source": [
    "Let's start by getting the content of the `<title>` node from the site:"
   ]
  },
  {
   "cell_type": "code",
   "execution_count": 3,
   "metadata": {},
   "outputs": [
    {
     "data": {
      "text/plain": [
       "['ESPN: The Worldwide Leader in Sports']"
      ]
     },
     "execution_count": 3,
     "metadata": {},
     "output_type": "execute_result"
    }
   ],
   "source": [
    "# This will return back a list of nodes that match\n",
    "# are called <title>......</title>\n",
    "results = doc.xpath('//title/text()')\n",
    "results"
   ]
  },
  {
   "cell_type": "code",
   "execution_count": 4,
   "metadata": {},
   "outputs": [
    {
     "data": {
      "text/plain": [
       "'ESPN: The Worldwide Leader in Sports'"
      ]
     },
     "execution_count": 4,
     "metadata": {},
     "output_type": "execute_result"
    }
   ],
   "source": [
    "results[0]"
   ]
  },
  {
   "cell_type": "code",
   "execution_count": 5,
   "metadata": {},
   "outputs": [
    {
     "data": {
      "text/plain": [
       "[<Element title at 0x7f3c7dcc1e08>]"
      ]
     },
     "execution_count": 5,
     "metadata": {},
     "output_type": "execute_result"
    }
   ],
   "source": [
    "results = doc.xpath('//title')\n",
    "results"
   ]
  },
  {
   "cell_type": "code",
   "execution_count": 7,
   "metadata": {},
   "outputs": [
    {
     "data": {
      "text/plain": [
       "'ESPN: The Worldwide Leader in Sports'"
      ]
     },
     "execution_count": 7,
     "metadata": {},
     "output_type": "execute_result"
    }
   ],
   "source": [
    "# gives only the text stored directly under the node\n",
    "results[0].text "
   ]
  },
  {
   "cell_type": "code",
   "execution_count": 8,
   "metadata": {},
   "outputs": [
    {
     "data": {
      "text/plain": [
       "'ESPN: The Worldwide Leader in Sports'"
      ]
     },
     "execution_count": 8,
     "metadata": {},
     "output_type": "execute_result"
    }
   ],
   "source": [
    "# gives all the text stored directly under the node *and* its children\n",
    "# for the <title> node, it does not make a difference\n",
    "results[0].text_content() "
   ]
  },
  {
   "cell_type": "code",
   "execution_count": 11,
   "metadata": {
    "collapsed": true
   },
   "outputs": [
    {
     "data": {
      "text/plain": [
       "'\\n\\t\\n\\t\\t\\n\\n\\n\\nESPN: The Worldwide Leader in Sports\\n\\n\\n\\n\\n\\n\\n\\n\\n\\n\\n\\n\\n\\n\\n\\n\\n\\n\\n\\n\\n\\n\\n\\n\\n\\n\\n\\t{\\n\\t\\t\"@context\": \"http://schema.org\",\\n\\t\\t\"@type\":    \"WebSite\",\\n\\t\\t\"name\":     \"ESPN\",\\n\\t\\t\"url\":      \"http://www.espn.com/\"\\n\\t}\\n\\n\\n\\n\\n\\n\\n\\n\\n\\n\\n\\n\\n\\n\\n\\n\\n\\n\\n\\n\\n\\n\\n\\n;(function(){\\nfunction rc(a){for(var b=a+\"=\",c=document.cookie.split(\";\"),d=0;d<c.length;d++){for(var e=c[d];\" \"===e.charAt(0);)e=e.substring(1,e.length);if(0===e.indexOf(b))return e.substring(b.length,e.length)}return null}var _nr=!1,_nrCookie=rc(\"_nr\");null!==_nrCookie?\"1\"===_nrCookie&&(_nr=!0):Math.floor(100*Math.random())+1===13?(_nr=!0,document.cookie=\"_nr=1; path=/\"):(_nr=!1,document.cookie=\"_nr=0; path=/\"),_nr&&(window.NREUM||(NREUM={}),__nr_require=function(t,e,n){function r(n){if(!e[n]){var o=e[n]={exports:{}};t[n][0].call(o.exports,function(e){var o=t[n][1][e];return r(o||e)},o,o.exports)}return e[n].exports}if(\"function\"==typeof __nr_require)return __nr_require;for(var o=0;o<n.length;o++)r(n[o]);return r}({1:[function(t,e,n){function r(t){try{c.console&&console.log(t)}catch(e){}}var o,i=t(\"ee\"),a=t(19),c={};try{o=localStorage.getItem(\"__nr_flags\").split(\",\"),console&&\"function\"==typeof console.log&&(c.console=!0,o.indexOf(\"dev\")!==-1&&(c.dev=!0),o.indexOf(\"nr_dev\")!==-1&&(c.nrDev=!0))}catch(s){}c.nrDev&&i.on(\"internal-error\",function(t){r(t.stack)}),c.dev&&i.on(\"fn-err\",function(t,e,n){r(n.stack)}),c.dev&&(r(\"NR AGENT IN DEVELOPMENT MODE\"),r(\"flags: \"+a(c,function(t,e){return t}).join(\", \")))},{}],2:[function(t,e,n){function r(t,e,n,r,o){try{h?h-=1:i(\"err\",[o||new UncaughtException(t,e,n)])}catch(c){try{i(\"ierr\",[c,(new Date).getTime(),!0])}catch(s){}}return\"function\"==typeof f&&f.apply(this,a(arguments))}function UncaughtException(t,e,n){this.message=t||\"Uncaught error with no additional information\",this.sourceURL=e,this.line=n}function o(t){i(\"err\",[t,(new Date).getTime()])}var i=t(\"handle\"),a=t(20),c=t(\"ee\"),s=t(\"loader\"),f=window.onerror,u=!1,h=0;s.features.err=!0,t(1),window.onerror=r;try{throw new Error}catch(p){\"stack\"in p&&(t(12),t(11),\"addEventListener\"in window&&t(6),s.xhrWrappable&&t(13),u=!0)}c.on(\"fn-start\",function(t,e,n){u&&(h+=1)}),c.on(\"fn-err\",function(t,e,n){u&&(this.thrown=!0,o(n))}),c.on(\"fn-end\",function(){u&&!this.thrown&&h>0&&(h-=1)}),c.on(\"internal-error\",function(t){i(\"ierr\",[t,(new Date).getTime(),!0])})},{}],3:[function(t,e,n){t(\"loader\").features.ins=!0},{}],4:[function(t,e,n){function r(){N++,S=y.hash,this[u]=Date.now()}function o(){N--,y.hash!==S&&i(0,!0);var t=Date.now();this[l]=~~this[l]+t-this[u],this[h]=t}function i(t,e){x.emit(\"newURL\",[\"\"+y,e])}function a(t,e){t.on(e,function(){this[e]=Date.now()})}var c=\"-start\",s=\"-end\",f=\"-body\",u=\"fn\"+c,h=\"fn\"+s,p=\"cb\"+c,d=\"cb\"+s,l=\"jsTime\",m=\"fetch\",v=\"addEventListener\",w=window,y=w.location;if(w[v]){var g=t(9),b=t(10),x=t(8),E=t(6),T=t(12),O=t(7),P=t(13),R=t(\"ee\"),D=R.get(\"tracer\");t(14),t(\"loader\").features.spa=!0;var S,M=w[v],N=0;R.on(u,r),R.on(p,r),R.on(h,o),R.on(d,o),R.buffer([u,h,\"xhr-done\",\"xhr-resolved\"]),E.buffer([u]),T.buffer([\"setTimeout\"+s,\"clearTimeout\"+c,u]),P.buffer([u,\"new-xhr\",\"open-xhr\"+c]),O.buffer([m+c,m+\"-done\",m+f+c,m+f+s]),x.buffer([\"newURL\"]),g.buffer([u]),b.buffer([\"propagate\",p,d,\"executor-err\",\"resolve\"+c]),D.buffer([u,\"no-\"+u]),a(P,\"open-xhr\"+c),a(R,\"xhr-resolved\"),a(R,\"xhr-done\"),a(O,m+c),a(O,m+\"-done\"),x.on(\"pushState-end\",i),x.on(\"replaceState-end\",i),M(\"hashchange\",i,!0),M(\"load\",i,!0),M(\"popstate\",function(){i(0,N>1)},!0)}},{}],5:[function(t,e,n){function r(t){}if(window.performance&&window.performance.timing&&window.performance.getEntriesByType){var o=t(\"ee\"),i=t(\"handle\"),a=t(12),c=t(11),s=\"learResourceTimings\",f=\"addEventListener\",u=\"resourcetimingbufferfull\",h=\"bstResource\",p=\"resource\",d=\"-start\",l=\"-end\",m=\"fn\"+d,v=\"fn\"+l,w=\"bstTimer\",y=\"pushState\";t(\"loader\").features.stn=!0,t(8);var g=NREUM.o.EV;o.on(m,function(t,e){var n=t[0];n instanceof g&&(this.bstStart=Date.now())}),o.on(v,function(t,e){var n=t[0];n instanceof g&&i(\"bst\",[n,e,this.bstStart,Date.now()])}),a.on(m,function(t,e,n){this.bstStart=Date.now(),this.bstType=n}),a.on(v,function(t,e){i(w,[e,this.bstStart,Date.now(),this.bstType])}),c.on(m,function(){this.bstStart=Date.now()}),c.on(v,function(t,e){i(w,[e,this.bstStart,Date.now(),\"requestAnimationFrame\"])}),o.on(y+d,function(t){this.time=Date.now(),this.startPath=location.pathname+location.hash}),o.on(y+l,function(t){i(\"bstHist\",[location.pathname+location.hash,this.startPath,this.time])}),f in window.performance&&(window.performance[\"c\"+s]?window.performance[f](u,function(t){i(h,[window.performance.getEntriesByType(p)]),window.performance[\"c\"+s]()},!1):window.performance[f](\"webkit\"+u,function(t){i(h,[window.performance.getEntriesByType(p)]),window.performance[\"webkitC\"+s]()},!1)),document[f](\"scroll\",r,!1),document[f](\"keypress\",r,!1),document[f](\"click\",r,!1)}},{}],6:[function(t,e,n){function r(t){for(var e=t;e&&!e.hasOwnProperty(u);)e=Object.getPrototypeOf(e);e&&o(e)}function o(t){c.inPlace(t,[u,h],\"-\",i)}function i(t,e){return t[1]}var a=t(\"ee\").get(\"events\"),c=t(21)(a),s=t(\"gos\"),f=XMLHttpRequest,u=\"addEventListener\",h=\"removeEventListener\";e.exports=a,\"getPrototypeOf\"in Object?(r(document),r(window),r(f.prototype)):f.prototype.hasOwnProperty(u)&&(o(window),o(f.prototype)),a.on(u+\"-start\",function(t,e){if(t[1]){var n=t[1];if(\"function\"==typeof n){var r=s(n,\"nr@wrapped\",function(){return c(n,\"fn-\",null,n.name||\"anonymous\")});this.wrapped=t[1]=r}else\"function\"==typeof n.handleEvent&&c.inPlace(n,[\"handleEvent\"],\"fn-\")}}),a.on(h+\"-start\",function(t){var e=this.wrapped;e&&(t[1]=e)})},{}],7:[function(t,e,n){function r(t,e,n){var r=t[e];\"function\"==typeof r&&(t[e]=function(){var t=r.apply(this,arguments);return o.emit(n+\"start\",arguments,t),t.then(function(e){return o.emit(n+\"end\",[null,e],t),e},function(e){throw o.emit(n+\"end\",[e],t),e})})}var o=t(\"ee\").get(\"fetch\"),i=t(19);e.exports=o;var a=window,c=\"fetch-\",s=c+\"body-\",f=[\"arrayBuffer\",\"blob\",\"json\",\"text\",\"formData\"],u=a.Request,h=a.Response,p=a.fetch,d=\"prototype\";u&&h&&p&&(i(f,function(t,e){r(u[d],e,s),r(h[d],e,s)}),r(a,\"fetch\",c),o.on(c+\"end\",function(t,e){var n=this;e?e.clone().arrayBuffer().then(function(t){n.rxSize=t.byteLength,o.emit(c+\"done\",[null,e],n)}):o.emit(c+\"done\",[t],n)}))},{}],8:[function(t,e,n){var r=t(\"ee\").get(\"history\"),o=t(21)(r);e.exports=r,o.inPlace(window.history,[\"pushState\",\"replaceState\"],\"-\")},{}],9:[function(t,e,n){var r=t(\"ee\").get(\"mutation\"),o=t(21)(r),i=NREUM.o.MO;e.exports=r,i&&(window.MutationObserver=function(t){return this instanceof i?new i(o(t,\"fn-\")):i.apply(this,arguments)},MutationObserver.prototype=i.prototype)},{}],10:[function(t,e,n){function r(t){var e=a.context(),n=c(t,\"executor-\",e),r=new f(n);return a.context(r).getCtx=function(){return e},a.emit(\"new-promise\",[r,e],e),r}function o(t,e){return e}var i=t(21),a=t(\"ee\").get(\"promise\"),c=i(a),s=t(19),f=NREUM.o.PR;e.exports=a,f&&(window.Promise=r,[\"all\",\"race\"].forEach(function(t){var e=f[t];f[t]=function(n){function r(t){return function(){a.emit(\"propagate\",[null,!o],i),o=o||!t}}var o=!1;s(n,function(e,n){Promise.resolve(n).then(r(\"all\"===t),r(!1))});var i=e.apply(f,arguments),c=f.resolve(i);return c}}),[\"resolve\",\"reject\"].forEach(function(t){var e=f[t];f[t]=function(t){var n=e.apply(f,arguments);return t!==n&&a.emit(\"propagate\",[t,!0],n),n}}),f.prototype[\"catch\"]=function(t){return this.then(null,t)},f.prototype=Object.create(f.prototype,{constructor:{value:r}}),s(Object.getOwnPropertyNames(f),function(t,e){try{r[e]=f[e]}catch(n){}}),a.on(\"executor-start\",function(t){t[0]=c(t[0],\"resolve-\",this),t[1]=c(t[1],\"resolve-\",this)}),a.on(\"executor-err\",function(t,e,n){t[1](n)}),c.inPlace(f.prototype,[\"then\"],\"then-\",o),a.on(\"then-start\",function(t,e){this.promise=e,t[0]=c(t[0],\"cb-\",this),t[1]=c(t[1],\"cb-\",this)}),a.on(\"then-end\",function(t,e,n){this.nextPromise=n;var r=this.promise;a.emit(\"propagate\",[r,!0],n)}),a.on(\"cb-end\",function(t,e,n){a.emit(\"propagate\",[n,!0],this.nextPromise)}),a.on(\"propagate\",function(t,e,n){this.getCtx&&!e||(this.getCtx=function(){if(t instanceof Promise)var e=a.context(t);return e&&e.getCtx?e.getCtx():this})}),r.toString=function(){return\"\"+f})},{}],11:[function(t,e,n){var r=t(\"ee\").get(\"raf\"),o=t(21)(r),i=\"equestAnimationFrame\";e.exports=r,o.inPlace(window,[\"r\"+i,\"mozR\"+i,\"webkitR\"+i,\"msR\"+i],\"raf-\"),r.on(\"raf-start\",function(t){t[0]=o(t[0],\"fn-\")})},{}],12:[function(t,e,n){function r(t,e,n){t[0]=a(t[0],\"fn-\",null,n)}function o(t,e,n){this.method=n,this.timerDuration=\"number\"==typeof t[1]?t[1]:0,t[0]=a(t[0],\"fn-\",this,n)}var i=t(\"ee\").get(\"timer\"),a=t(21)(i),c=\"setTimeout\",s=\"setInterval\",f=\"clearTimeout\",u=\"-start\",h=\"-\";e.exports=i,a.inPlace(window,[c,\"setImmediate\"],c+h),a.inPlace(window,[s],s+h),a.inPlace(window,[f,\"clearImmediate\"],f+h),i.on(s+u,r),i.on(c+u,o)},{}],13:[function(t,e,n){function r(t,e){h.inPlace(e,[\"onreadystatechange\"],\"fn-\",c)}function o(){var t=this,e=u.context(t);t.readyState>3&&!e.resolved&&(e.resolved=!0,u.emit(\"xhr-resolved\",[],t)),h.inPlace(t,v,\"fn-\",c)}function i(t){w.push(t),l&&(g=-g,b.data=g)}function a(){for(var t=0;t<w.length;t++)r([],w[t]);w.length&&(w=[])}function c(t,e){return e}function s(t,e){for(var n in t)e[n]=t[n];return e}t(6);var f=t(\"ee\"),u=f.get(\"xhr\"),h=t(21)(u),p=NREUM.o,d=p.XHR,l=p.MO,m=\"readystatechange\",v=[\"onload\",\"onerror\",\"onabort\",\"onloadstart\",\"onloadend\",\"onprogress\",\"ontimeout\"],w=[];e.exports=u;var y=window.XMLHttpRequest=function(t){var e=new d(t);try{u.emit(\"new-xhr\",[e],e),e.addEventListener(m,o,!1)}catch(n){try{u.emit(\"internal-error\",[n])}catch(r){}}return e};if(s(d,y),y.prototype=d.prototype,h.inPlace(y.prototype,[\"open\",\"send\"],\"-xhr-\",c),u.on(\"send-xhr-start\",function(t,e){r(t,e),i(e)}),u.on(\"open-xhr-start\",r),l){var g=1,b=document.createTextNode(g);new l(a).observe(b,{characterData:!0})}else f.on(\"fn-end\",function(t){t[0]&&t[0].type===m||a()})},{}],14:[function(t,e,n){function r(t){var e=this.params,n=this.metrics;if(!this.ended){this.ended=!0;for(var r=0;r<h;r++)t.removeEventListener(u[r],this.listener,!1);if(!e.aborted){if(n.duration=(new Date).getTime()-this.startTime,4===t.readyState){e.status=t.status;var i=o(t,this.lastSize);if(i&&(n.rxSize=i),this.sameOrigin){var a=t.getResponseHeader(\"X-NewRelic-App-Data\");a&&(e.cat=a.split(\", \").pop())}}else e.status=0;n.cbTime=this.cbTime,f.emit(\"xhr-done\",[t],t),c(\"xhr\",[e,n,this.startTime])}}}function o(t,e){var n=t.responseType;if(\"json\"===n&&null!==e)return e;var r=\"arraybuffer\"===n||\"blob\"===n||\"json\"===n?t.response:t.responseText;return l(r)}function i(t,e){var n=s(e),r=t.params;r.host=n.hostname+\":\"+n.port,r.pathname=n.pathname,t.sameOrigin=n.sameOrigin}var a=t(\"loader\");if(a.xhrWrappable){var c=t(\"handle\"),s=t(15),f=t(\"ee\"),u=[\"load\",\"error\",\"abort\",\"timeout\"],h=u.length,p=t(\"id\"),d=t(18),l=t(17),m=window.XMLHttpRequest;a.features.xhr=!0,t(13),f.on(\"new-xhr\",function(t){var e=this;e.totalCbs=0,e.called=0,e.cbTime=0,e.end=r,e.ended=!1,e.xhrGuids={},e.lastSize=null,d&&(d>34||d<10)||window.opera||t.addEventListener(\"progress\",function(t){e.lastSize=t.loaded},!1)}),f.on(\"open-xhr-start\",function(t){this.params={method:t[0]},i(this,t[1]),this.metrics={}}),f.on(\"open-xhr-end\",function(t,e){\"loader_config\"in NREUM&&\"xpid\"in NREUM.loader_config&&this.sameOrigin&&e.setRequestHeader(\"X-NewRelic-ID\",NREUM.loader_config.xpid)}),f.on(\"send-xhr-start\",function(t,e){var n=this.metrics,r=t[0],o=this;if(n&&r){var i=l(r);i&&(n.txSize=i)}this.startTime=(new Date).getTime(),this.listener=function(t){try{\"abort\"===t.type&&(o.params.aborted=!0),(\"load\"!==t.type||o.called===o.totalCbs&&(o.onloadCalled||\"function\"!=typeof e.onload))&&o.end(e)}catch(n){try{f.emit(\"internal-error\",[n])}catch(r){}}};for(var a=0;a<h;a++)e.addEventListener(u[a],this.listener,!1)}),f.on(\"xhr-cb-time\",function(t,e,n){this.cbTime+=t,e?this.onloadCalled=!0:this.called+=1,this.called!==this.totalCbs||!this.onloadCalled&&\"function\"==typeof n.onload||this.end(n)}),f.on(\"xhr-load-added\",function(t,e){var n=\"\"+p(t)+!!e;this.xhrGuids&&!this.xhrGuids[n]&&(this.xhrGuids[n]=!0,this.totalCbs+=1)}),f.on(\"xhr-load-removed\",function(t,e){var n=\"\"+p(t)+!!e;this.xhrGuids&&this.xhrGuids[n]&&(delete this.xhrGuids[n],this.totalCbs-=1)}),f.on(\"addEventListener-end\",function(t,e){e instanceof m&&\"load\"===t[0]&&f.emit(\"xhr-load-added\",[t[1],t[2]],e)}),f.on(\"removeEventListener-end\",function(t,e){e instanceof m&&\"load\"===t[0]&&f.emit(\"xhr-load-removed\",[t[1],t[2]],e)}),f.on(\"fn-start\",function(t,e,n){e instanceof m&&(\"onload\"===n&&(this.onload=!0),(\"load\"===(t[0]&&t[0].type)||this.onload)&&(this.xhrCbStart=(new Date).getTime()))}),f.on(\"fn-end\",function(t,e){this.xhrCbStart&&f.emit(\"xhr-cb-time\",[(new Date).getTime()-this.xhrCbStart,this.onload,e],e)})}},{}],15:[function(t,e,n){e.exports=function(t){var e=document.createElement(\"a\"),n=window.location,r={};e.href=t,r.port=e.port;var o=e.href.split(\"://\");!r.port&&o[1]&&(r.port=o[1].split(\"/\")[0].split(\"@\").pop().split(\":\")[1]),r.port&&\"0\"!==r.port||(r.port=\"https\"===o[0]?\"443\":\"80\"),r.hostname=e.hostname||n.hostname,r.pathname=e.pathname,r.protocol=o[0],\"/\"!==r.pathname.charAt(0)&&(r.pathname=\"/\"+r.pathname);var i=!e.protocol||\":\"===e.protocol||e.protocol===n.protocol,a=e.hostname===document.domain&&e.port===n.port;return r.sameOrigin=i&&(!e.hostname||a),r}},{}],16:[function(t,e,n){function r(){}function o(t,e,n){return function(){return i(t,[(new Date).getTime()].concat(c(arguments)),e?null:this,n),e?void 0:this}}var i=t(\"handle\"),a=t(19),c=t(20),s=t(\"ee\").get(\"tracer\"),f=NREUM;\"undefined\"==typeof window.newrelic&&(newrelic=f);var u=[\"setPageViewName\",\"setCustomAttribute\",\"setErrorHandler\",\"finished\",\"addToTrace\",\"inlineHit\"],h=\"api-\",p=h+\"ixn-\";a(u,function(t,e){f[e]=o(h+e,!0,\"api\")}),f.addPageAction=o(h+\"addPageAction\",!0),e.exports=newrelic,f.interaction=function(){return(new r).get()};var d=r.prototype={createTracer:function(t,e){var n={},r=this,o=\"function\"==typeof e;return i(p+\"tracer\",[Date.now(),t,n],r),function(){if(s.emit((o?\"\":\"no-\")+\"fn-start\",[Date.now(),r,o],n),o)try{return e.apply(this,arguments)}finally{s.emit(\"fn-end\",[Date.now()],n)}}}};a(\"setName,setAttribute,save,ignore,onEnd,getContext,end,get\".split(\",\"),function(t,e){d[e]=o(p+e)}),newrelic.noticeError=function(t){\"string\"==typeof t&&(t=new Error(t)),i(\"err\",[t,(new Date).getTime()])}},{}],17:[function(t,e,n){e.exports=function(t){if(\"string\"==typeof t&&t.length)return t.length;if(\"object\"==typeof t){if(\"undefined\"!=typeof ArrayBuffer&&t instanceof ArrayBuffer&&t.byteLength)return t.byteLength;if(\"undefined\"!=typeof Blob&&t instanceof Blob&&t.size)return t.size;if(!(\"undefined\"!=typeof FormData&&t instanceof FormData))try{return JSON.stringify(t).length}catch(e){return}}}},{}],18:[function(t,e,n){var r=0,o=navigator.userAgent.match(/Firefox[\\\\/\\\\s](\\\\d+\\\\.\\\\d+)/);o&&(r=+o[1]),e.exports=r},{}],19:[function(t,e,n){function r(t,e){var n=[],r=\"\",i=0;for(r in t)o.call(t,r)&&(n[i]=e(r,t[r]),i+=1);return n}var o=Object.prototype.hasOwnProperty;e.exports=r},{}],20:[function(t,e,n){function r(t,e,n){e||(e=0),\"undefined\"==typeof n&&(n=t?t.length:0);for(var r=-1,o=n-e||0,i=Array(o<0?0:o);++r<o;)i[r]=t[e+r];return i}e.exports=r},{}],21:[function(t,e,n){function r(t){return!(t&&\"function\"==typeof t&&t.apply&&!t[a])}var o=t(\"ee\"),i=t(20),a=\"nr@original\",c=Object.prototype.hasOwnProperty,s=!1;e.exports=function(t){function e(t,e,n,o){function nrWrapper(){var r,a,c,s;try{a=this,r=i(arguments),c=\"function\"==typeof n?n(r,a):n||{}}catch(u){h([u,\"\",[r,a,o],c])}f(e+\"start\",[r,a,o],c);try{return s=t.apply(a,r)}catch(p){throw f(e+\"err\",[r,a,p],c),p}finally{f(e+\"end\",[r,a,s],c)}}return r(t)?t:(e||(e=\"\"),nrWrapper[a]=t,u(t,nrWrapper),nrWrapper)}function n(t,n,o,i){o||(o=\"\");var a,c,s,f=\"-\"===o.charAt(0);for(s=0;s<n.length;s++)c=n[s],a=t[c],r(a)||(t[c]=e(a,f?c+o:o,i,c))}function f(e,n,r){if(!s){s=!0;try{t.emit(e,n,r)}catch(o){h([o,e,n,r])}s=!1}}function u(t,e){if(Object.defineProperty&&Object.keys)try{var n=Object.keys(t);return n.forEach(function(n){Object.defineProperty(e,n,{get:function(){return t[n]},set:function(e){return t[n]=e,e}})}),e}catch(r){h([r])}for(var o in t)c.call(t,o)&&(e[o]=t[o]);return e}function h(e){try{t.emit(\"internal-error\",e)}catch(n){}}return t||(t=o),e.inPlace=n,e.flag=a,e}},{}],ee:[function(t,e,n){function r(){}function o(t){function e(t){return t&&t instanceof r?t:t?c(t,a,i):i()}function n(n,r,o){t&&t(n,r,o);for(var i=e(o),a=p(n),c=a.length,s=0;s<c;s++)a[s].apply(i,r);var u=f[v[n]];return u&&u.push([w,n,r,i]),i}function h(t,e){m[t]=p(t).concat(e)}function p(t){return m[t]||[]}function d(t){return u[t]=u[t]||o(n)}function l(t,e){s(t,function(t,n){e=e||\"feature\",v[n]=e,e in f||(f[e]=[])})}var m={},v={},w={on:h,emit:n,get:d,listeners:p,context:e,buffer:l};return w}function i(){return new r}var a=\"nr@context\",c=t(\"gos\"),s=t(19),f={},u={},h=e.exports=o();h.backlog=f},{}],gos:[function(t,e,n){function r(t,e,n){if(o.call(t,e))return t[e];var r=n();if(Object.defineProperty&&Object.keys)try{return Object.defineProperty(t,e,{value:r,writable:!0,enumerable:!1}),r}catch(i){}return t[e]=r,r}var o=Object.prototype.hasOwnProperty;e.exports=r},{}],handle:[function(t,e,n){function r(t,e,n,r){o.buffer([t],r),o.emit(t,e,n)}var o=t(\"ee\").get(\"handle\");e.exports=r,r.ee=o},{}],id:[function(t,e,n){function r(t){var e=typeof t;return!t||\"object\"!==e&&\"function\"!==e?-1:t===window?0:a(t,i,function(){return o++})}var o=1,i=\"nr@id\",a=t(\"gos\");e.exports=r},{}],loader:[function(t,e,n){function r(){if(!g++){var t=y.info=NREUM.info,e=u.getElementsByTagName(\"script\")[0];if(t&&t.licenseKey&&t.applicationID&&e){s(v,function(e,n){t[e]||(t[e]=n)});var n=\"https\"===m.split(\":\")[0]||t.sslForHttp;y.proto=n?\"https://\":\"http://\",c(\"mark\",[\"onload\",a()],null,\"api\");var r=u.createElement(\"script\");r.src=y.proto+t.agent,e.parentNode.insertBefore(r,e)}}}function o(){\"complete\"===u.readyState&&i()}function i(){c(\"mark\",[\"domContent\",a()],null,\"api\")}function a(){return(new Date).getTime()}var c=t(\"handle\"),s=t(19),f=window,u=f.document,h=\"addEventListener\",p=\"attachEvent\",d=f.XMLHttpRequest,l=d&&d.prototype;NREUM.o={ST:setTimeout,CT:clearTimeout,XHR:d,REQ:f.Request,EV:f.Event,PR:f.Promise,MO:f.MutationObserver},t(16);var m=\"\"+location,v={beacon:\"bam.nr-data.net\",errorBeacon:\"bam.nr-data.net\",agent:\"js-agent.newrelic.com/nr-spa-974.min.js\"},w=d&&l&&l[h]&&!/CriOS/.test(navigator.userAgent),y=e.exports={offset:a(),origin:m,features:{},xhrWrappable:w};u[h]?(u[h](\"DOMContentLoaded\",i,!1),f[h](\"load\",r,!1)):(u[p](\"onreadystatechange\",o),f[p](\"onload\",r)),c(\"mark\",[\"firstbyte\",a()],null,\"api\");var g=0},{}]},{},[\"loader\",2,14,5,3,4]),NREUM.info={beacon:\"bam.nr-data.net\",errorBeacon:\"bam.nr-data.net\",licenseKey:\"d1734eda45\",applicationID:\"3785502\",sa:1});\\n})();\\n\\n\\n\\n\\n\\n\\n\\n\\n\\n\\n\\n\\n\\n\\n\\n\\n\\n\\n\\n\\n\\n\\n\\n\\n\\n\\n\\t\\t\\n\\t    \\n\\t\\t\\n\\t\\t\\tif (espn && espn.geoRedirect){\\n\\t\\t\\t\\tespn.geoRedirect.run();\\n\\t\\t\\t}\\n\\t\\t\\n\\t\\n\\n\\n\\tvar espn = espn || {};\\n\\tespn.isOneSite = false;\\n\\tespn.build = \"0.415.12\";\\n\\tespn.siteType = \"full\";\\n\\tespn.anonymous_favorites = \"true\" === \"true\";\\n\\tespn.isFantasycast = false;\\n\\t\\n\\tespn.absoluteNavLinks = false;\\n\\tespn.useBranch = true;\\n\\tespn.useEPlus = true;\\n\\n\\n\\n\\n\\n\\t\\n\\t\\twindow.googletag = window.googletag || {};\\n\\n\\t\\t(function () {\\n\\t\\t\\tespn = window.espn || {};\\n\\t\\t\\tespn.ads = espn.ads || {};\\n\\t\\t\\tespn.ads.config = {\"page_url\":\"http://www.espn.com\",\"prebidAdConfig\":{\"usePrebidBids\":true,\"timeout\":1000},\"level\":\"espn.com/frontpage/index\",\"delayInPageAdSlots\":true,\"incontentPositions\":{\"defaults\":{\"favorites\":-1,\"news\":4,\"now\":4},\"index\":{\"top\":{\"favorites\":-1},\"nfl\":{}}},\"network\":\"6444\",\"refreshOnBreakpointChange\":true,\"sizes\":{\"overlay\":{\"mappings\":[{\"viewport\":[0,0],\"slot\":[[0,0]]}],\"defaultSize\":[0,0]},\"wallpaper\":{\"mappings\":[{\"viewport\":[1280,0],\"slot\":[[1680,1050]]},{\"viewport\":[1024,0],\"slot\":[[1280,455]]},{\"viewport\":[0,0],\"slot\":[]}],\"defaultSize\":[1680,1050]},\"incontent2\":{\"mappings\":[{\"viewport\":[0,0],\"slot\":[[300,250]]}],\"defaultSize\":[300,250]},\"banner\":{\"mappings\":[{\"viewport\":[1280,0],\"slot\":[[1280,100],[970,250]]},{\"viewport\":[1024,0],\"slot\":[[970,66],[970,250],[728,90]]},{\"viewport\":[768,0],\"slot\":[[728,90]]},{\"viewport\":[320,0],\"slot\":[[320,50]]},{\"viewport\":[0,0],\"slot\":[[240,38]]}],\"defaultSize\":[970,66]},\"exclusions\":{\"mappings\":[{\"viewport\":[0,0],\"slot\":[[1,2]]}],\"defaultSize\":[1,2]},\"presby\":{\"mappings\":[{\"viewport\":[0,0],\"slot\":[[112,62]]}],\"defaultSize\":[112,62]},\"presentedbylogo\":{\"mappings\":[{\"viewport\":[1024,0],\"slot\":[[128,30]]},{\"viewport\":[0,0],\"slot\":[[90,20]]}],\"defaultSize\":[128,30]},\"native\":{\"mappings\":[{\"viewport\":[0,0],\"slot\":[\"fluid\"]}],\"defaultSize\":\"fluid\"},\"incontentstrip\":{\"mappings\":[{\"viewport\":[1024,0],\"slot\":[298,50]},{\"viewport\":[0,0],\"slot\":[]}],\"defaultSize\":[298,50]},\"instream\":{\"mappings\":[{\"viewport\":[0,0],\"slot\":[[1,3]]}],\"defaultSize\":[1,3]},\"incontentstrip2\":{\"mappings\":[{\"viewport\":[320,0],\"slot\":[[298,50]]}],\"defaultSize\":[298,50]},\"incontent\":{\"mappings\":[{\"viewport\":[1024,0],\"slot\":[[300,250],[300,600]]}],\"defaultSize\":[300,250]},\"midpage\":{\"mappings\":[{\"viewport\":[1280,0],\"slot\":[[700,400]]},{\"viewport\":[1024,0],\"slot\":[[440,330]]},{\"viewport\":[768,0],\"slot\":[[320,250]]},{\"viewport\":[0,0],\"slot\":[[320,250]]}],\"defaultSize\":[320,250]}},\"load\":{\"schedule\":{\"tablet\":\"window.load\",\"desktop\":\"window.load\",\"mobile\":\"window.load\"},\"frontpage\":{\"tablet\":\"init\",\"desktop\":\"init\",\"mobile\":\"window.load\"},\"defaults\":{\"tablet\":\"init\",\"desktop\":\"init\",\"mobile\":\"window.load\"},\"index\":{\"tablet\":\"window.load\",\"desktop\":\"window.load\",\"mobile\":\"window.load\"},\"scoreboard\":{\"tablet\":\"window.load\",\"desktop\":\"window.load\",\"mobile\":\"window.load\"},\"standings\":{\"tablet\":\"window.load\",\"desktop\":\"window.load\",\"mobile\":\"window.load\"},\"story\":{\"tablet\":\"window.load\",\"desktop\":\"window.load\",\"mobile\":\"window.load\"}},\"supportDynamicPageLoad\":true,\"selector\":\".ad-slot\",\"disabled\":\"false\",\"breakpoints\":{\"s\":[0,767],\"xl\":[1280],\"l\":[1024,1279],\"m\":[768,1023]},\"dynamicKeyValues\":{\"profile\":{\"key\":\"prof\"}},\"id\":12129264,\"kvps\":[{\"name\":\"ed\",\"value\":\"us\"},{\"name\":\"sp\",\"value\":\"espn\"},{\"name\":\"pgtyp\",\"value\":\"espnfrontpage\"}],\"base\":\"espn.com\"};\\n\\t\\t\\tgoogletag.cmd = googletag.cmd || [];\\n\\n\\t\\t\\tvar espnAdsConfig = espn.ads.config;\\n\\n\\t\\t\\tespn.ads.loadGPT = function () {\\n\\t\\t\\t\\tvar gads = document.createElement(\\'script\\');\\n\\t\\t\\t\\tgads.async = true;\\n\\t\\t\\t\\tgads.type = \\'text/javascript\\';\\n\\t\\t\\t\\tgads.src = \\'https://www.googletagservices.com/tag/js/gpt.js\\';\\n\\t\\t\\t\\tvar node = document.getElementsByTagName(\\'script\\')[0];\\n\\t\\t\\t\\tnode.parentNode.insertBefore(gads, node);\\n\\t\\t\\t\\tdelete espn.ads.loadGPT;\\n\\t\\t\\t}\\n\\n\\t\\t\\tif (espn.siteType === \\'data-lite\\') {\\n\\t\\t\\t\\t/**\\n\\t\\t\\t\\t * Load ad library after our deferred files. Event subscription must\\n\\t\\t\\t\\t * occur on window.load to ensure pub/sub availability.\\n\\t\\t\\t\\t */\\n\\n\\t\\t\\t\\t// Ad calls will be made when ad library inits (after window.load).\\n\\t\\t\\t\\tvar liteAdLoadConfigs = {\\n\\t\\t\\t\\t\\tdesktop: \\'init\\',\\n\\t\\t\\t\\t\\tmobile: \\'init\\',\\n\\t\\t\\t\\t\\ttablet: \\'init\\'\\n\\t\\t\\t\\t};\\n\\n\\t\\t\\t\\tespnAdsConfig.load = espnAdsConfig.load || {};\\n\\t\\t\\t\\tespnAdsConfig.load.defaults = liteAdLoadConfigs\\n\\t\\t\\t\\tespnAdsConfig.load.frontpage = liteAdLoadConfigs;\\n\\t\\t\\t\\tespnAdsConfig.load.index = liteAdLoadConfigs;\\n\\t\\t\\t\\tespnAdsConfig.load.story = liteAdLoadConfigs;\\n\\t\\t\\t} else {\\n\\t\\t\\t\\tespn.ads.loadGPT();\\n\\t\\t\\t}\\n\\n\\t\\t\\tif (espnAdsConfig.prebidAdConfig && espnAdsConfig.prebidAdConfig.usePrebidBids) {\\n\\t\\t\\t\\t\\n\\n\\t\\t\\t\\t// Load prebid.js for AppNexus\\n\\t\\t\\t\\t(function() {\\n\\t\\t\\t\\t\\tvar d = document, pbs = d.createElement(\\'script\\'), pro = d.location.protocol;\\n\\t\\t\\t\\t\\tpbs.type = \\'text/javascript\\';\\n\\t\\t\\t\\t\\tpbs.src = ((pro === \\'https:\\') ? \\'https\\' : \\'http\\') + \\'://a.espncdn.com/prod/scripts/prebid1.15.0.js\\';\\n\\t\\t\\t\\t\\tvar target = document.getElementsByTagName(\\'head\\')[0];\\n\\t\\t\\t\\t\\ttarget.insertBefore(pbs, target.firstChild);\\n\\t\\t\\t\\t})();\\n\\t\\t\\t}\\n\\n\\t\\t\\tespn.ads.configPre = JSON.parse(JSON.stringify(espnAdsConfig));\\n\\t\\t})();\\n\\t\\n\\n\\n\\n\\tif( typeof s_omni === \"undefined\" ) window.s_account = window.setReportSuite( \"wdgespcom\" );\\n\\n\\n\\n\\t\\t\\t\\n\\t\\t\\t\\n\\t\\t\\t\\n\\t\\t\\t\\n\\t\\t\\t\\n\\t\\t\\t\\n\\n\\n\\t// Picture element HTML shim|v it for old IE (pairs with Picturefill.js)\\n\\tdocument.createElement(\"picture\");\\n\\n\\n\\t\\n\\n\\t\\n\\t\\t\\n\\t\\t\\n\\t\\t\\n\\t\\t\\tvar abtestData = {};\\n\\t\\t\\tabtestData.abTestUser = \"0\";\\n\\n\\t\\t\\n\\n\\t\\t\\n\\t\\t\\t\\n\\t\\t\\t\\n\\t\\t\\t\\twindow[\\'optimizely\\'] = window[\\'optimizely\\'] || [];\\n\\t\\t\\t\\n\\t\\t\\t\\n\\n\\t\\t\\n\\n\\n        \\n            \\n\\n\\n            \\n\\n\\t\\t\\t\\n\\t\\t\\t\\t\\n\\t\\t\\t\\t\\t\\n\\n\\n    \\n        \\n            \\n            \\n                \\n                \\n                    \\n                    \\n                \\n\\n                \\n                \\n                    \\n                    \\n                \\n            \\n\\n            \\n                \\n                \\n                    \\n                    \\n                \\n\\n                \\n                \\n                    \\n                    \\n                \\n            \\n\\n            \\n\\n            \\n                \\n                    \\n                    \\n                \\n            \\n\\n            \\n\\n            \\n\\n            <\\n            \\n            >\\n            \\n                \\n            \\n        \\n    \\n\\n\\t\\t\\t\\t\\n\\t\\t\\t\\t\\n\\n    \\n\\n\\t\\n\\t\\tMenuESPN\\n\\n\\n\\t\\nScores\\n\\t\\n\\t\\n\\n\\n\\nNFLNBAMLBNCAAFSoccerNHLGolfTennis…MMAWWEBoxingesportsChalkAnalyticsNCAAMWNBANCAAWNCAA SoftballNASCARJayskiF1RacingOlympic SportsHorseRN FBRN BBNCAALLWSSpecial OlympicsX GamesCricketRugbyCFLMore ESPNFantasyListenWatchESPN+\\n\\n\\n\\n\\n\\n\\n\\n\\n\\n\\n\\n\\n\\n\\n\\t\\n\\t\\tvar espn = espn || {};\\n\\t\\tespn.nav = espn.nav || {};\\n\\t\\tespn.nav.navId = 11929946;\\n\\t\\tespn.nav.isFallback = false;\\n\\n\\t\\t\\n\\t\\t\\n\\n\\t\\n\\n\\n\\n\\n\\t\\t\\t\\n\\n            \\n\\n                \\n\\n            \\t\\n\\n                \\n                    \\n                    \\n                        \\n\\n    \\n        \\n            ESPN+\\n        \\n        \\n\\n\\t\\n\\t\\t\\t\\n\\t\\t\\n          Subscribe Now\\n\\t\\t\\n\\t\\n\\n\\n\\t\\n\\t\\t\\t\\n\\t\\t\\n          ESPN+ Home\\n\\t\\t\\n\\t\\n\\n\\n\\t\\n\\t\\t\\t\\n\\t\\t\\n          Watch 180+ NHL Games\\n\\t\\t\\n\\t\\n\\n\\n\\t\\n\\t\\t\\t\\n\\t\\t\\n          Kobe Bryant\\'s Detail\\n\\t\\t\\n\\t\\n\\n\\n\\t\\n\\t\\t\\t\\n\\t\\t\\n          30 for 30 Archive\\n\\t\\t\\n\\t\\n\\n    \\n\\n\\n    \\n        \\n            Quick Links\\n        \\n        \\n\\n\\t\\n\\t\\t\\t\\n\\t\\t\\n          MLB Playoffs\\n\\t\\t\\n\\t\\n\\n\\n\\t\\n\\t\\t\\t\\n\\t\\t\\n          Fantasy Basketball: Sign Up\\n\\t\\t\\n\\t\\n\\n    \\n\\n\\n  \\n    \\n      Favorites\\n      \\n    \\n    \\n    \\n    \\n      \\n      Manage Favorites\\n      \\n    \\n  \\n\\nCustomize ESPNSign UpLog In\\n\\n    \\n        \\n            ESPN Sites\\n        \\n        \\n\\n\\t\\n\\t\\t\\t\\n\\t\\t\\n          ESPN Deportes\\n\\t\\t\\n\\t\\n\\n\\n\\t\\n\\t\\t\\t\\n\\t\\t\\n          The Undefeated\\n\\t\\t\\n\\t\\n\\n\\n\\t\\n\\t\\t\\t\\n\\t\\t\\n          espnW\\n\\t\\t\\n\\t\\n\\n\\n\\t\\n\\t\\t\\t\\n\\t\\t\\n          ESPNFC\\n\\t\\t\\n\\t\\n\\n\\n\\t\\n\\t\\t\\t\\n\\t\\t\\n          X Games\\n\\t\\t\\n\\t\\n\\n\\n\\t\\n\\t\\t\\t\\n\\t\\t\\n          SEC Network\\n\\t\\t\\n\\t\\n\\n    \\n\\n\\n    \\n        \\n            ESPN Apps\\n        \\n        \\n\\n\\t\\n\\t\\t\\t\\n\\t\\t\\n          ESPN\\n\\t\\t\\n\\t\\n\\n\\n\\t\\n\\t\\t\\t\\n\\t\\t\\n          ESPN Fantasy\\n\\t\\t\\n\\t\\n\\n    \\n\\n\\n    \\n        \\n            Follow ESPN\\n        \\n        \\n\\n\\t\\n\\t\\t\\t\\n\\t\\t\\n          Facebook\\n\\t\\t\\n\\t\\n\\n\\n\\t\\n\\t\\t\\t\\n\\t\\t\\n          Twitter\\n\\t\\t\\n\\t\\n\\n\\n\\t\\n\\t\\t\\t\\n\\t\\t\\n          Instagram\\n\\t\\t\\n\\t\\n\\n\\n\\t\\n\\t\\t\\t\\n\\t\\t\\n          Snapchat\\n\\t\\t\\n\\t\\n\\n\\n\\t\\n\\t\\t\\t\\n\\t\\t\\n          YouTube\\n\\t\\t\\n\\t\\n\\n\\n\\t\\n\\t\\t\\t\\n\\t\\t\\n          ESPN Daily Newsletter\\n\\t\\t\\n\\t\\n\\n\\n\\t\\n\\t\\t\\t\\n\\t\\t\\n          ESPN Daily Calendar\\n\\t\\t\\n\\t\\n\\n    \\nStep into Kyrie\\'s world of ridiculous dribble movesChris ForsbergTop HeadlinesSteelers\\' Brown sued after alleged incidentSaints\\' Thomas rips Norman in Twitter tiradeAnnoyed Bregman: Astros should be \\'main event\\'Jones: Cowboys haven\\'t had No. 1 WR in yearsChargers owner Alex Spanos dies at 95Taliaferro, 1st black player drafted in NFL, diesKiper & McShay: RB prospects for 2019 draftALDSSee AllEverything you need to know about Tuesday\\'s clash between Red Sox and YankeesAfter their Game 3 romp at Yankee Stadium, the Red Sox are just one win away from advancing to face the Astros.Adam Hunger/USA TODAY SportsCan CC Sabathia save the Yankees\\' season?As New Yorkers know, it ain\\'t over \\'til it\\'s over, but it could be over for the Yanks if their veteran starter can\\'t contain the Red Sox and inspire his team.NFLSee AllWeek 6 Power Rankings: Every teams\\' remaining schedule strengthWhich teams face the most daunting roads ahead? We have schedule ranks and toughest opponents for every team.ESPN IllustrationEarly NFL betting look for Week 6: Another big test for the ChiefsNFL Week 5See AllWhat we learned: Get ready for a defensive spending spreeIn a year of historic offense, it\\'s the defenders who are poised to cash in big next. Plus: Jason Garrett on thin ice?Predicting the next five $100 million megadealsRussell Wilson could be next to enter the NFL\\'s $100 million club. Here\\'s who is poised to join him.Best and worst QBs: Tannehill tanks againFor a second straight week, Ryan Tannehill posted the week\\'s worst Total QBR. Here are the week\\'s best and worst performances.NBASee AllInside the early race for 2020\\'s No. 1 NBA draft pickESPN\\'s NBA draft experts break down the next crop of top prospects.WarriorsNBASee AllKerr gets ejected, tells refs, \\'I don\\'t want to be here anyway\\'0:55Basketball: A Love StoryEpisode 1: Tuesday, 7 p.m. ET, ESPNIn an excerpt from \"Basketball: A Love Story,\" stars describe their affection for the game9:28Exploring the complex nature of love as it relates to the gameCollege FootballSee AllNot all undefeated records are created equalJust because a team is undefeated doesn\\'t mean it\\'s playoff-worthy. Let\\'s compare résumés to figure out who the contenders and pretenders are.AP Photo/Carlos OsorioPlayers not getting enough Heisman loveWe all know about Tua Tagovailoa and Kyler Murray. They deserve their Heisman hype. But here are six under-the-radar players who deserve attention, too.The Bottom 10\\'s favorite losers and those who cover themSometimes writers have to get creative when covering losing teams, which is why we\\'re deferring to the experts this week.CowboysNFLSee AllJason Garrett\\'s future in Dallas on the line as patience wanesWould Jerry Jones make an in-season move? What would the impact be on Dak Prescott? Questions mount as the Cowboys\\' season lags.Stephen A.: \\'Jason Garrett should be fired\\'1:50 Top HeadlinesSteelers\\' Brown sued after alleged incidentSaints\\' Thomas rips Norman in Twitter tiradeAnnoyed Bregman: Astros should be \\'main event\\'Jones: Cowboys haven\\'t had No. 1 WR in yearsChargers owner Alex Spanos dies at 95Taliaferro, 1st black player drafted in NFL, diesKiper & McShay: RB prospects for 2019 draftFavorites FantasyManage FavoritesFantasy HomeCustomize ESPNSign UpLog InSign up for FREE!Create A LeagueDraft a Team NowDraft a Team LaterWant some practice? Try a mock draftMock Draft NowNBA signature movesESPN IllustrationGame ChangersOur experts ranked the signature moves they loved most. Join us as we journey through the decades, showing the evolution of basketball\\'s best go-to dribbles, shots and slams. Sports misery indexESPN IllustrationWhen fandom goes bad: Most miserable fan bases in pro sportsThe Brewers just made the playoffs, but rooting for them has historically been an ordeal. Where do they, and every other franchise, rate in misery? NBA\\'s must-watch teamsMitchell Leff/Getty ImagesThe 2018-19 NBA League Pass Rankings, Part 2Which teams will be the most entertaining this season? Zach Lowe ranks the NBA\\'s top 15 squads to see. Get the best of ESPN sent to your inbox ESPN Daily delivers the biggest sports news and moments every weekday.Sign me up!Privacy PolicyRead the LatestEmail: \\n\\n    \\n        \\n            ESPN+\\n        \\n        \\n\\n\\t\\n\\t\\t\\t\\n\\t\\t\\n          Subscribe Now\\n\\t\\t\\n\\t\\n\\n\\n\\t\\n\\t\\t\\t\\n\\t\\t\\n          ESPN+ Home\\n\\t\\t\\n\\t\\n\\n\\n\\t\\n\\t\\t\\t\\n\\t\\t\\n          Watch 180+ NHL Games\\n\\t\\t\\n\\t\\n\\n\\n\\t\\n\\t\\t\\t\\n\\t\\t\\n          Kobe Bryant\\'s Detail\\n\\t\\t\\n\\t\\n\\n\\n\\t\\n\\t\\t\\t\\n\\t\\t\\n          30 for 30 Archive\\n\\t\\t\\n\\t\\n\\n    \\n\\n\\n    \\n        \\n            Quick Links\\n        \\n        \\n\\n\\t\\n\\t\\t\\t\\n\\t\\t\\n          MLB Playoffs\\n\\t\\t\\n\\t\\n\\n\\n\\t\\n\\t\\t\\t\\n\\t\\t\\n          Fantasy Basketball: Sign Up\\n\\t\\t\\n\\t\\n\\n    \\n\\n\\n    \\n        \\n            ESPN Sites\\n        \\n        \\n\\n\\t\\n\\t\\t\\t\\n\\t\\t\\n          ESPN Deportes\\n\\t\\t\\n\\t\\n\\n\\n\\t\\n\\t\\t\\t\\n\\t\\t\\n          The Undefeated\\n\\t\\t\\n\\t\\n\\n\\n\\t\\n\\t\\t\\t\\n\\t\\t\\n          espnW\\n\\t\\t\\n\\t\\n\\n\\n\\t\\n\\t\\t\\t\\n\\t\\t\\n          ESPNFC\\n\\t\\t\\n\\t\\n\\n\\n\\t\\n\\t\\t\\t\\n\\t\\t\\n          X Games\\n\\t\\t\\n\\t\\n\\n\\n\\t\\n\\t\\t\\t\\n\\t\\t\\n          SEC Network\\n\\t\\t\\n\\t\\n\\n    \\n\\n\\n    \\n        \\n            ESPN Apps\\n        \\n        \\n\\n\\t\\n\\t\\t\\t\\n\\t\\t\\n          ESPN\\n\\t\\t\\n\\t\\n\\n\\n\\t\\n\\t\\t\\t\\n\\t\\t\\n          ESPN Fantasy\\n\\t\\t\\n\\t\\n\\n    \\n\\n\\n    \\n        \\n            Follow ESPN\\n        \\n        \\n\\n\\t\\n\\t\\t\\t\\n\\t\\t\\n          Facebook\\n\\t\\t\\n\\t\\n\\n\\n\\t\\n\\t\\t\\t\\n\\t\\t\\n          Twitter\\n\\t\\t\\n\\t\\n\\n\\n\\t\\n\\t\\t\\t\\n\\t\\t\\n          Instagram\\n\\t\\t\\n\\t\\n\\n\\n\\t\\n\\t\\t\\t\\n\\t\\t\\n          Snapchat\\n\\t\\t\\n\\t\\n\\n\\n\\t\\n\\t\\t\\t\\n\\t\\t\\n          YouTube\\n\\t\\t\\n\\t\\n\\n\\n\\t\\n\\t\\t\\t\\n\\t\\t\\n          ESPN Daily Newsletter\\n\\t\\t\\n\\t\\n\\n\\n\\t\\n\\t\\t\\t\\n\\t\\t\\n          ESPN Daily Calendar\\n\\t\\t\\n\\t\\n\\n    \\n\\n        \\n        \\n            \\n                \\n                    \\n                \\n                \\n                    \\n                        Terms of UsePrivacy PolicyCA Privacy RightsChildren\\'s Online Privacy PolicyInterest-based AdsAbout Nielsen Measurement\\n                    \\n                    \\n                ©  2018 ESPN Internet Ventures. All rights reserved.\\n                \\n            \\n            \\n            HelpReport a BugContact UsCorrectionsAdvertise on ESPN.comSales Media KitJobs at ESPNESPN Front RowPressSite MapPatentsAbout Nielsen Measurement\\n\\n                        \\n                    \\n\\n                    \\n\\n                \\n               \\n\\n\\t\\tABOUT COOKIES\\n\\t\\tTo help make this website better, to improve and personalize your experience and for advertising purposes, are you happy to accept cookies and other technologies?\\n\\n        \\n            Yes\\n            \\n                More Info Here\\n                Cookie Choices\\n            \\n        \\n\\n\\n            \\n        \\n\\t\\t\\n\\n\\tvar espn_ui = window.espn_ui || {};\\n\\tespn_ui.staticRef = \"http://a.espncdn.com/redesign/0.415.12\";\\n\\tespn_ui.imgRef = \"http://a.espncdn.com/redesign/assets/img/\";\\n\\tespn_ui.insertRef = \"http://a.espncdn.com\";\\n\\tespn_ui.deviceType = \"desktop\";\\n\\tespn_ui.pageShell = false;\\n\\tespn_ui.pubKey =  \"espn-en-frontpage-index\" ;\\n\\tespn.api = {};\\n\\tespn.api.disasterURLs = {\\n\\t\\t\"cdn.espn.com\":\"cdn.espn.com\",\\n\\t\\t\"sports.core.api.espn.com\":\"sports.core.api.espn.com\",\\n\\t\\t\"site.api.espn.com\":\"site.api.espn.com\",\\n\\t\\t\"site.api.prod.espninfra.starwave.com\":\"site.api.prod.espninfra.starwave.com\",\\n\\t\\t\"fan.core.api.espn.com\":\"fan.core.api.espn.com\",\\n\\t\\t\"site.core.api.prod.espninfra.starwave.com\":\"site.core.api.prod.espninfra.starwave.com\",\\n\\t\\t\"api.espn.com\":\"api.espn.com\",\\n\\t\\t\"api-app.espn.com\":\"api-app.espn.com\",\\n\\t\\t\"api.prod.espninfra.starwave.com\":\"api.prod.espninfra.starwave.com\"\\n\\t};\\n\\tespn_ui.webview = false;\\n\\tespn_ui.useNativeBridge = false;\\n\\tespn_ui.onefeed = true;\\n\\tespn_ui.abtests = {\"kahuna\":40,\"kplus\":41,\"kminus\":42,\"auddev1\":45,\"auddev2\":46,\"auddevcontrol\":47,\"headlinetester\":48,\"control\":52,\"carousel\":53,\"followcarouselcontrol\":54,\"followcarouseltest\":55,\"followcarouselenabled\":56,\"adtestcontrol\":57,\"favesTest\":58,\"tierTest\":59};\\n\\tespn_ui.isCurated = true;\\n\\tespn_ui.error = false;\\n\\t\\n\\tfunction setIsCurated () {\\n\\t\\t$(\\'#news-feed\\').attr(\\'data-curated\\', espn_ui.isCurated);\\n\\t\\t$(document).trigger(\\'checkIfShouldAutoUpdate\\');\\n\\t\\tespn_ui.checkIfShouldAutoUpdate = true;\\n\\t}\\n\\t\\n\\t//this is also set on ajax page loads in js/helpers/page.js\\n\\tif (document.readyState == \\'complete\\') {\\n\\t\\tsetIsCurated();\\n\\t} else {\\n\\t\\twindow.onload = setIsCurated;\\n\\t}\\n\\n\\tvar tcStatus = {\"tcTwoLocked\":false,\"tcLocked\":false,\"tcwLocked\":false,\"tcTwoOn\":false,\"tcwOn\":false,\"tcOn\":false};\\n\\n\\n\\n\\n\\t\\t\\n\\t\\t\\tvar espn = espn || {};\\n\\n\\t\\t\\t// Build skeleton for namespace.\\n\\t\\t\\tespn.scoreboard = {\\n\\t\\t\\t\\ttopics: {\\n\\t\\t\\t\\t\\tscoreboard: \\'\\',\\n\\t\\t\\t\\t\\tscoreboxes: []\\n\\t\\t\\t\\t},\\n\\t\\t\\t\\tmodels: {},\\n\\t\\t\\t\\tviews: {},\\n\\t\\t\\t\\tcollections: {},\\n\\t\\t\\t\\ttimezoneOffset: 0,\\n\\t\\t\\t\\tfavorites: {},\\n\\t\\t\\t\\teditData: {},\\n\\t\\t\\t\\tactiveLeague: \\'topEvents\\',\\n\\t\\t\\t\\thiddenLeague: \\'null\\',\\n\\t\\t\\t\\tsettings: {\\n\\t\\t\\t\\t\\tactiveLeagues: [{\"sportId\":0,\"displayName\":\"Top Events\",\"league\":\"topEvents\",\"sortOrder\":0},{\"sportId\":10,\"top25Only\":true,\"displayName\":\"MLB\",\"league\":\"mlb\",\"sortOrder\":1,\"link\":{\"onclick\":\"\",\"href\":\"http://www.espn.com/mlb/scoreboard\",\"title\":\"Full Scoreboard &#187;\"},\"sport\":\"baseball\"},{\"sportId\":28,\"top25Only\":true,\"displayName\":\"NFL\",\"league\":\"nfl\",\"sortOrder\":2,\"link\":{\"onclick\":\"\",\"href\":\"http://www.espn.com/nfl/scoreboard\",\"title\":\"Full Scoreboard &#187;\"},\"sport\":\"football\"},{\"sportId\":90,\"top25Only\":true,\"displayName\":\"NHL\",\"league\":\"nhl\",\"sortOrder\":4,\"link\":{\"onclick\":\"\",\"href\":\"http://www.espn.com/nhl/scoreboard\",\"title\":\"Full Scoreboard &#187;\"},\"sport\":\"hockey\"},{\"sportId\":23,\"top25Only\":true,\"displayName\":\"NCAAF\",\"league\":\"college-football\",\"sortOrder\":5,\"link\":{\"onclick\":\"\",\"href\":\"http://www.espn.com/college-football/scoreboard\",\"title\":\"Full Scoreboard &#187;\"},\"sport\":\"football\"},{\"sportId\":775,\"top25Only\":true,\"displayName\":\"UEFA Champions League\",\"league\":\"uefa.champions\",\"sortOrder\":6,\"link\":{\"onclick\":\"\",\"href\":\"http://www.espn.com/soccer/scoreboard\",\"title\":\"Full Scoreboard &#187;\"},\"sport\":\"soccer\"},{\"sportId\":1106,\"top25Only\":true,\"displayName\":\"Golf (PGA)\",\"league\":\"pga\",\"tournamentId\":3774,\"sortOrder\":7,\"link\":{\"onclick\":\"\",\"href\":\"http://www.espn.com/golf/leaderboard\",\"title\":\"Full Leaderboard &#187;\"},\"sport\":\"golf\"},{\"sportId\":0,\"displayName\":\"Top Soccer\",\"league\":\"topSoccer\",\"sortOrder\":8,\"link\":{\"onclick\":\"\",\"href\":\"/soccer/scoreboard\",\"title\":\"Full Scoreboard &#187;\"}},{\"sportId\":2021,\"top25Only\":true,\"displayName\":\"NASCAR\",\"league\":\"nascar-premier\",\"sortOrder\":9,\"link\":{\"onclick\":\"\",\"href\":\"http://www.espn.com/racing/schedule\",\"title\":\"Full results &#187;\"},\"sport\":\"racing\"},{\"sportId\":46,\"top25Only\":true,\"displayName\":\"NBA\",\"league\":\"nba\",\"sortOrder\":10,\"link\":{\"onclick\":\"\",\"href\":\"http://www.espn.com/nba/scoreboard\",\"title\":\"Full Scoreboard &#187;\"},\"sport\":\"basketball\"},{\"sportId\":725,\"top25Only\":true,\"displayName\":\"Dutch Eredivisie\",\"league\":\"ned.1\",\"sortOrder\":10,\"link\":{\"onclick\":\"\",\"href\":\"http://www.espn.com/soccer/scoreboard\",\"title\":\"Full Scoreboard &#187;\"},\"sport\":\"soccer\"},{\"sportId\":2,\"top25Only\":true,\"displayName\":\"CONCACAF Women\\'s Championship\",\"league\":\"concacaf.womens.championship\",\"sortOrder\":11,\"link\":{\"onclick\":\"\",\"href\":\"/football/scoreboard?league=CONCACAF.WOMENS.CHAMPIONSHIP\",\"title\":\"Full Scoreboard &#187;\"},\"sport\":\"soccer\"},{\"sportId\":770,\"top25Only\":true,\"displayName\":\"MLS\",\"league\":\"usa.1\",\"sortOrder\":12,\"link\":{\"onclick\":\"\",\"href\":\"http://www.espn.com/soccer/scoreboard\",\"title\":\"Full Scoreboard &#187;\"},\"sport\":\"soccer\"}],\\n\\t\\t\\t\\t\\tuseStatic: false,\\n\\t\\t\\t\\t\\tversion: 2,\\n\\t\\t\\t\\t\\ttopEventsId: 4379198,\\n\\t\\t\\t\\t\\ttopSoccerId: 15878776\\n\\t\\t\\t\\t\\t\\n\\t\\t\\t\\t\\t\\n\\t\\t\\t\\t\\t\\n\\t\\t\\t\\t\\t\\n\\t\\t\\t\\t},\\n\\t\\t\\t\\tdata: {\"sports\":[{\"uid\":\"s:1\",\"leagues\":[{\"uid\":\"s:1~l:10\",\"smartdates\":[\"2018-10-08T07:00Z\",\"2018-10-09T07:00Z\",\"2018-10-11T07:00Z\"],\"name\":\"Major League Baseball\",\"id\":\"10\",\"abbreviation\":\"MLB\",\"shortName\":\"MLB\",\"slug\":\"mlb\",\"isTournament\":false,\"events\":[{\"date\":\"2018-10-10T00:07:00Z\",\"broadcast\":\"TBS\",\"note\":\"ALDS - GAME 4\",\"notes\":[{\"text\":\"ALDS - GAME 4\",\"type\":\"event\",\"headline\":\"ALDS - GAME 4\"}],\"timeValid\":true,\"link\":\"http://www.espn.com/mlb/game?gameId=381009110\",\"uid\":\"s:1~l:10~e:381009110~c:381009110\",\"competitors\":[{\"alternateColor\":\"c4ced4\",\"competitionIdPrevious\":\"381008110\",\"color\":\"011739\",\"displayName\":\"New York Yankees\",\"type\":\"team\",\"abbreviation\":\"NYY\",\"competitionIdNext\":\"381011102\",\"uid\":\"s:1~l:10~t:10\",\"homeAway\":\"home\",\"score\":\"\",\"logoDark\":\"http://a.espncdn.com/i/teamlogos/mlb/500-dark/scoreboard/nyy.png\",\"winner\":false,\"record\":\"1-2\",\"name\":\"Yankees\",\"logo\":\"http://a.espncdn.com/i/teamlogos/mlb/500/scoreboard/nyy.png\",\"location\":\"New York\",\"id\":\"10\",\"order\":0,\"group\":\"1\"},{\"alternateColor\":\"0d2b56\",\"competitionIdPrevious\":\"381008110\",\"color\":\"00224b\",\"displayName\":\"Boston Red Sox\",\"type\":\"team\",\"abbreviation\":\"BOS\",\"competitionIdNext\":\"381011102\",\"uid\":\"s:1~l:10~t:2\",\"homeAway\":\"away\",\"score\":\"\",\"logoDark\":\"http://a.espncdn.com/i/teamlogos/mlb/500-dark/scoreboard/bos.png\",\"winner\":false,\"record\":\"2-1\",\"name\":\"Red Sox\",\"logo\":\"http://a.espncdn.com/i/teamlogos/mlb/500/scoreboard/bos.png\",\"location\":\"Boston\",\"id\":\"2\",\"order\":1,\"group\":\"1\"}],\"wasSuspended\":false,\"appLinks\":[{\"isExternal\":false,\"shortText\":\"Summary\",\"rel\":[\"summary\",\"sportscenter\",\"app\",\"event\"],\"language\":\"en\",\"href\":\"sportscenter://x-callback-url/showGame?sportName=baseball&leagueAbbrev=mlb&gameId=381009110\",\"text\":\"Gamecast\",\"isPremium\":false}],\"odds\":{\"underOdds\":-105,\"overUnder\":9,\"awayTeamOdds\":{\"underdog\":true,\"team\":{\"id\":\"2\",\"abbreviation\":\"BOS\"},\"favorite\":false,\"moneyLine\":115},\"away\":{\"moneyLine\":115},\"provider\":{\"name\":\"Westgate\",\"id\":\"25\",\"priority\":1},\"details\":\"NYY -125\",\"homeTeamOdds\":{\"underdog\":false,\"team\":{\"id\":\"10\",\"abbreviation\":\"NYY\"},\"favorite\":true,\"moneyLine\":-125},\"spread\":1.5,\"overOdds\":-115,\"home\":{\"moneyLine\":-125}},\"seasonTypeHasGroups\":false,\"season\":2018,\"links\":[{\"isExternal\":false,\"rel\":[\"summary\",\"desktop\",\"event\"],\"language\":\"en\",\"href\":\"http://www.espn.com/mlb/game?gameId=381009110\",\"text\":\"Gamecast\",\"isPremium\":false},{\"isExternal\":true,\"rel\":[\"tickets\",\"desktop\",\"event\"],\"language\":\"en\",\"href\":\"https://www.vividseats.com/mlb-baseball/new-york-yankees-tickets/yankees-10-6-2798584.html?wsUser=717\",\"text\":\"Tickets\",\"isPremium\":false},{\"isExternal\":true,\"rel\":[\"tickets\",\"desktop\",\"venue\"],\"language\":\"en\",\"href\":\"https://www.vividseats.com/venues/the-new-yankee-stadium-tickets.html?wsUser=717\",\"text\":\"Tickets\",\"isPremium\":false}],\"id\":\"381009110\",\"recent\":false,\"group\":{\"groupId\":\"3\",\"name\":\"Post Season\",\"abbreviation\":\"post\",\"shortName\":\"POST\"},\"summary\":\"10/9 - 8:07 PM EDT\",\"seriesSummary\":\"BOS leads 2-1\",\"seasonType\":\"3\",\"competitionId\":\"381009110\",\"period\":0,\"broadcasts\":[{\"callLetters\":\"TBS \",\"broadcasterId\":32,\"broadcastId\":32,\"name\":\"TBS\",\"typeId\":1,\"type\":\"TV\",\"priority\":0,\"lang\":\"en\",\"region\":\"us\",\"shortName\":\"TBS\",\"slug\":\"\",\"isNational\":true},{\"callLetters\":\"ERAD\",\"stationKey\":\"espn\",\"type\":\"Radio\",\"priority\":0,\"broadcasterId\":133,\"broadcastId\":133,\"station\":\"13715732\",\"name\":\"ESPN Radio\",\"typeId\":5,\"lang\":\"en\",\"region\":\"us\",\"shortName\":\"ESPNRM\",\"slug\":\"13715732\",\"isNational\":true}],\"clock\":\"0:00\",\"priority\":0,\"seasonEndDate\":\"2018-11-11T07:59:00Z\",\"onWatch\":false,\"seasonStartDate\":\"2018-02-21T08:00:00Z\",\"name\":\"Boston Red Sox at New York Yankees\",\"location\":\"Yankee Stadium\",\"shortName\":\"BOS @ NYY\",\"fullStatus\":{\"periodPrefix\":\"Top\",\"period\":0,\"displayClock\":\"0:00\",\"clock\":0,\"type\":{\"name\":\"STATUS_SCHEDULED\",\"description\":\"Scheduled\",\"id\":\"1\",\"state\":\"pre\",\"completed\":false,\"detail\":\"Tue, October 9th at 8:07 PM EDT\",\"shortDetail\":\"10/9 - 8:07 PM EDT\"}},\"status\":\"pre\"}]}],\"name\":\"Baseball\",\"id\":\"1\",\"slug\":\"baseball\"},{\"uid\":\"s:20\",\"leagues\":[{\"uid\":\"s:20~l:23\",\"smartdates\":[{\"week\":6,\"seasontype\":2,\"season\":2018,\"label\":\"Week 6\"},{\"week\":7,\"seasontype\":2,\"season\":2018,\"label\":\"Week 7\"},{\"week\":8,\"seasontype\":2,\"season\":2018,\"label\":\"Week 8\"}],\"name\":\"NCAA - Football\",\"id\":\"23\",\"abbreviation\":\"NCAAF\",\"shortName\":\"NCAA Football\",\"slug\":\"college-football\",\"isTournament\":false,\"events\":[{\"date\":\"2018-10-10T00:00:00Z\",\"broadcast\":\"ESPN2\",\"week\":7,\"timeValid\":true,\"link\":\"http://www.espn.com/college-football/game?gameId=401021672\",\"uid\":\"s:20~l:23~e:401021672~c:401021672\",\"competitors\":[{\"alternateColor\":\"000000\",\"competitionIdPrevious\":\"401021666\",\"color\":\"e81018\",\"displayName\":\"Arkansas State Red Wolves\",\"type\":\"team\",\"abbreviation\":\"ARKST\",\"competitionIdNext\":\"401021676\",\"uid\":\"s:20~l:23~t:2032\",\"homeAway\":\"home\",\"score\":\"\",\"logoDark\":\"http://a.espncdn.com/i/teamlogos/ncaa/500-dark/2032.png\",\"winner\":false,\"record\":\"3-2\",\"name\":\"Arkansas State\",\"logo\":\"http://a.espncdn.com/i/teamlogos/ncaa/500/2032.png\",\"location\":\"Arkansas State\",\"id\":\"2032\",\"order\":0,\"group\":\"168\"},{\"alternateColor\":\"ffcd00\",\"competitionIdPrevious\":\"401021665\",\"color\":\"000000\",\"displayName\":\"Appalachian State Mountaineers\",\"type\":\"team\",\"abbreviation\":\"APP\",\"competitionIdNext\":\"401021677\",\"uid\":\"s:20~l:23~t:2026\",\"homeAway\":\"away\",\"score\":\"\",\"logoDark\":\"http://a.espncdn.com/i/teamlogos/ncaa/500-dark/2026.png\",\"winner\":false,\"record\":\"3-1\",\"name\":\"Appalachian St\",\"logo\":\"http://a.espncdn.com/i/teamlogos/ncaa/500/2026.png\",\"location\":\"Appalachian State\",\"id\":\"2026\",\"order\":1,\"group\":\"167\"}],\"appLinks\":[{\"isExternal\":false,\"shortText\":\"Summary\",\"rel\":[\"summary\",\"sportscenter\",\"app\",\"event\"],\"language\":\"en\",\"href\":\"sportscenter://x-callback-url/showGame?sportName=football&leagueAbbrev=college-football&gameId=401021672\",\"text\":\"Gamecast\",\"isPremium\":false},{\"isExternal\":false,\"shortText\":\"WatchESPN\",\"rel\":[\"watchespn\",\"app\",\"event\"],\"language\":\"en\",\"href\":\"watchespn://showEvent?gameId=401021672&sourceLang=en\",\"text\":\"WatchESPN\",\"isPremium\":false}],\"odds\":{\"underOdds\":-110,\"overUnder\":60,\"awayTeamOdds\":{\"spreadOdds\":-110,\"underdog\":false,\"team\":{\"id\":\"2026\",\"abbreviation\":\"APP\"},\"favorite\":true,\"moneyLine\":-470},\"away\":{\"moneyLine\":-470},\"provider\":{\"name\":\"Westgate\",\"id\":\"25\",\"priority\":1},\"details\":\"APP -11.5\",\"links\":[],\"homeTeamOdds\":{\"spreadOdds\":-110,\"underdog\":true,\"team\":{\"id\":\"2032\",\"abbreviation\":\"ARKST\"},\"favorite\":false,\"moneyLine\":360},\"spread\":11.5,\"overOdds\":-110,\"home\":{\"moneyLine\":360}},\"seasonTypeHasGroups\":false,\"season\":2018,\"links\":[{\"isExternal\":false,\"rel\":[\"summary\",\"desktop\",\"event\"],\"language\":\"en\",\"href\":\"http://www.espn.com/college-football/game?gameId=401021672\",\"text\":\"Gamecast\",\"isPremium\":false},{\"isExternal\":true,\"rel\":[\"tickets\",\"desktop\",\"event\"],\"language\":\"en\",\"href\":\"https://www.vividseats.com/ncaaf/arkansas-state-red-wolves-tickets/arkansas-state-red-wolves-10-9-2641331.html?wsUser=717\",\"text\":\"Tickets\",\"isPremium\":false},{\"isExternal\":true,\"rel\":[\"tickets\",\"desktop\",\"venue\"],\"language\":\"en\",\"href\":\"https://www.vividseats.com/venues/centennial-bank-stadium-tickets.html?wsUser=717\",\"text\":\"Tickets\",\"isPremium\":false}],\"id\":\"401021672\",\"recent\":false,\"group\":{\"groupId\":\"2\",\"name\":\"Regular Season\",\"abbreviation\":\"reg\",\"shortName\":\"REG\"},\"summary\":\"10/9 - 8:00 PM EDT\",\"seasonType\":\"2\",\"competitionId\":\"401021672\",\"period\":0,\"weekText\":\"Week 7\",\"broadcasts\":[{\"callLetters\":\"ESPN2\",\"type\":\"TV\",\"priority\":1,\"broadcasterId\":139,\"broadcastId\":139,\"station\":\"ESPN2\",\"name\":\"ESPN2\",\"typeId\":1,\"lang\":\"en\",\"region\":\"us\",\"shortName\":\"ESPN2\",\"slug\":\"espn2\",\"isNational\":true}],\"clock\":\"0:00\",\"priority\":1,\"seasonEndDate\":\"2018-12-09T07:59:00Z\",\"onWatch\":true,\"seasonStartDate\":\"2018-07-01T07:00:00Z\",\"name\":\"Appalachian State Mountaineers at Arkansas State Red Wolves\",\"location\":\"Centennial Bank Stadium\",\"shortName\":\"APP @ ARKST\",\"fullStatus\":{\"period\":0,\"displayClock\":\"0:00\",\"clock\":0,\"type\":{\"name\":\"STATUS_SCHEDULED\",\"description\":\"Scheduled\",\"id\":\"1\",\"state\":\"pre\",\"completed\":false,\"detail\":\"Tue, October 9th at 8:00 PM EDT\",\"shortDetail\":\"10/9 - 8:00 PM EDT\"}},\"status\":\"pre\"}]}],\"name\":\"Football\",\"id\":\"20\",\"slug\":\"football\"},{\"uid\":\"s:70\",\"leagues\":[{\"uid\":\"s:70~l:90\",\"smartdates\":[\"2018-10-08T07:00:00Z\",\"2018-10-09T07:00:00Z\",\"2018-10-10T07:00:00Z\"],\"name\":\"National Hockey League\",\"id\":\"90\",\"shortName\":\"NHL\",\"abbreviation\":\"nhl\",\"slug\":\"nhl\",\"events\":[{\"date\":\"2018-10-09T23:00:00Z\",\"broadcast\":\"\",\"notes\":[],\"timeValid\":true,\"link\":\"\",\"uid\":\"s:70~l:90~e:401044357~c:401044357\",\"competitors\":[{\"alternateColor\":\"cd202c\",\"competitionIdPrevious\":\"401044334\",\"color\":\"002d62\",\"displayName\":\"Columbus Blue Jackets\",\"type\":\"team\",\"abbreviation\":\"CBJ\",\"competitionIdNext\":\"401044366\",\"uid\":\"s:70~l:90~t:29\",\"homeAway\":\"home\",\"score\":\"\",\"winner\":false,\"logoDark\":\"http://a.espncdn.com/i/teamlogos/nhl/500-dark/scoreboard/cbj.png\",\"record\":\"1-1-0\",\"name\":\"Blue Jackets\",\"logo\":\"http://a.espncdn.com/i/teamlogos/nhl/500/scoreboard/cbj.png\",\"id\":\"29\",\"group\":\"33\"},{\"alternateColor\":\"11497f\",\"competitionIdPrevious\":\"401044345\",\"color\":\"860038\",\"displayName\":\"Colorado Avalanche\",\"type\":\"team\",\"abbreviation\":\"COL\",\"competitionIdNext\":\"401044365\",\"uid\":\"s:70~l:90~t:17\",\"homeAway\":\"away\",\"score\":\"\",\"winner\":false,\"logoDark\":\"http://a.espncdn.com/i/teamlogos/nhl/500-dark/scoreboard/col.png\",\"record\":\"2-0-0\",\"name\":\"Avalanche\",\"logo\":\"http://a.espncdn.com/i/teamlogos/nhl/500/scoreboard/col.png\",\"id\":\"17\",\"group\":\"31\"}],\"appLinks\":[{\"rel\":[\"event\",\"app\",\"sportscenter\"],\"href\":\"sportscenter://x-callback-url/showGame?sportName=hockey&leagueAbbrev=nhl&gameId=401044357\"}],\"odds\":{\"overUnder\":6,\"awayTeamOdds\":{\"underdog\":true,\"team\":{\"id\":\"17\",\"abbreviation\":\"COL\"},\"favorite\":false},\"spreadWinner\":false,\"moneylineWinner\":false,\"provider\":{\"name\":\"Westgate\",\"id\":\"25\",\"priority\":1},\"price\":-140,\"details\":\"CBJ -140\",\"homeTeamOdds\":{\"underdog\":false,\"team\":{\"id\":\"29\",\"abbreviation\":\"CBJ\"},\"favorite\":true},\"spread\":-1.5},\"season\":2019,\"links\":[{\"rel\":[\"event\",\"desktop\",\"summary\"],\"href\":\"http://www.espn.com/nhl/game?gameId=401044357\",\"text\":\"Gamecast\"},{\"rel\":[\"event\",\"desktop\",\"tickets\"],\"href\":\"https://www.vividseats.com/nhl-hockey/columbus-blue-jackets-tickets/blue-jackets-vs-avalanche-10-9-2751744.html?wsUser=717\",\"text\":\"Tickets\"},{\"rel\":[\"event\",\"desktop\",\"conversation\"],\"href\":\"http://www.espn.com/nhl/conversation?gameId=401044357\",\"text\":\"Conversation\"}],\"id\":\"401044357\",\"recent\":false,\"summary\":\"2018-10-09T23:00:00Z\",\"seriesSummary\":\"Series starts 10/9\",\"seasonType\":2,\"competitionId\":\"401044357\",\"period\":0,\"broadcasts\":[],\"clock\":\"0:00\",\"priority\":2,\"onWatch\":false,\"location\":\"Nationwide Arena\",\"fullStatus\":{\"period\":0,\"clock\":\"0:00\",\"type\":{\"description\":\"SCHEDULED\",\"id\":1,\"detail\":\"2018-10-09T23:00:00Z\",\"shortDetail\":\"2018-10-09T23:00:00Z\",\"state\":\"pre\"}},\"status\":\"pre\"},{\"date\":\"2018-10-09T23:00:00Z\",\"broadcast\":\"\",\"notes\":[],\"timeValid\":true,\"link\":\"\",\"uid\":\"s:70~l:90~e:401044356~c:401044356\",\"competitors\":[{\"alternateColor\":\"161313\",\"competitionIdPrevious\":\"401044348\",\"color\":\"e51937\",\"displayName\":\"Carolina Hurricanes\",\"type\":\"team\",\"abbreviation\":\"CAR\",\"competitionIdNext\":\"401044379\",\"uid\":\"s:70~l:90~t:7\",\"homeAway\":\"home\",\"score\":\"\",\"winner\":false,\"logoDark\":\"http://a.espncdn.com/i/teamlogos/nhl/500-dark/scoreboard/car.png\",\"record\":\"2-0-1\",\"name\":\"Hurricanes\",\"logo\":\"http://a.espncdn.com/i/teamlogos/nhl/500/scoreboard/car.png\",\"id\":\"7\",\"group\":\"33\"},{\"alternateColor\":\"008752\",\"competitionIdPrevious\":\"401044347\",\"color\":\"103f7e\",\"displayName\":\"Vancouver Canucks\",\"type\":\"team\",\"abbreviation\":\"VAN\",\"competitionIdNext\":\"401044372\",\"uid\":\"s:70~l:90~t:22\",\"homeAway\":\"away\",\"score\":\"\",\"winner\":false,\"logoDark\":\"http://a.espncdn.com/i/teamlogos/nhl/500-dark/scoreboard/van.png\",\"record\":\"1-1-0\",\"name\":\"Canucks\",\"logo\":\"http://a.espncdn.com/i/teamlogos/nhl/500/scoreboard/van.png\",\"id\":\"22\",\"group\":\"30\"}],\"appLinks\":[{\"rel\":[\"event\",\"app\",\"sportscenter\"],\"href\":\"sportscenter://x-callback-url/showGame?sportName=hockey&leagueAbbrev=nhl&gameId=401044356\"}],\"odds\":{\"overUnder\":6,\"awayTeamOdds\":{\"underdog\":true,\"team\":{\"id\":\"22\",\"abbreviation\":\"VAN\"},\"favorite\":false},\"spreadWinner\":false,\"moneylineWinner\":false,\"provider\":{\"name\":\"Westgate\",\"id\":\"25\",\"priority\":1},\"price\":-200,\"details\":\"CAR -200\",\"homeTeamOdds\":{\"underdog\":false,\"team\":{\"id\":\"7\",\"abbreviation\":\"CAR\"},\"favorite\":true},\"spread\":-1.5},\"season\":2019,\"links\":[{\"rel\":[\"event\",\"desktop\",\"summary\"],\"href\":\"http://www.espn.com/nhl/game?gameId=401044356\",\"text\":\"Gamecast\"},{\"rel\":[\"event\",\"desktop\",\"tickets\"],\"href\":\"https://www.vividseats.com/nhl-hockey/carolina-hurricanes-tickets/hurricanes-vs-canucks-10-9-2751025.html?wsUser=717\",\"text\":\"Tickets\"},{\"rel\":[\"event\",\"desktop\",\"conversation\"],\"href\":\"http://www.espn.com/nhl/conversation?gameId=401044356\",\"text\":\"Conversation\"}],\"id\":\"401044356\",\"recent\":false,\"summary\":\"2018-10-09T23:00:00Z\",\"seriesSummary\":\"Series starts 10/9\",\"seasonType\":2,\"competitionId\":\"401044356\",\"period\":0,\"broadcasts\":[],\"clock\":\"0:00\",\"priority\":3,\"onWatch\":false,\"location\":\"PNC Arena\",\"fullStatus\":{\"period\":0,\"clock\":\"0:00\",\"type\":{\"description\":\"SCHEDULED\",\"id\":1,\"detail\":\"2018-10-09T23:00:00Z\",\"shortDetail\":\"2018-10-09T23:00:00Z\",\"state\":\"pre\"}},\"status\":\"pre\"},{\"date\":\"2018-10-09T23:00:00Z\",\"broadcast\":\"NBCSN\",\"notes\":[],\"timeValid\":true,\"link\":\"\",\"uid\":\"s:70~l:90~e:401044355~c:401044355\",\"competitors\":[{\"alternateColor\":\"000000\",\"competitionIdPrevious\":\"401044345\",\"color\":\"eb7131\",\"displayName\":\"Philadelphia Flyers\",\"type\":\"team\",\"abbreviation\":\"PHI\",\"competitionIdNext\":\"401044361\",\"uid\":\"s:70~l:90~t:15\",\"homeAway\":\"home\",\"score\":\"\",\"winner\":false,\"logoDark\":\"http://a.espncdn.com/i/teamlogos/nhl/500-dark/scoreboard/phi.png\",\"record\":\"1-1-0\",\"name\":\"Flyers\",\"logo\":\"http://a.espncdn.com/i/teamlogos/nhl/500/scoreboard/phi.png\",\"id\":\"15\",\"group\":\"33\"},{\"alternateColor\":\"eb901d\",\"competitionIdPrevious\":\"401044352\",\"color\":\"10535e\",\"displayName\":\"San Jose Sharks\",\"type\":\"team\",\"abbreviation\":\"SJ\",\"competitionIdNext\":\"401044368\",\"uid\":\"s:70~l:90~t:18\",\"homeAway\":\"away\",\"score\":\"\",\"winner\":false,\"logoDark\":\"http://a.espncdn.com/i/teamlogos/nhl/500-dark/scoreboard/sj.png\",\"record\":\"1-2-0\",\"name\":\"Sharks\",\"logo\":\"http://a.espncdn.com/i/teamlogos/nhl/500/scoreboard/sj.png\",\"id\":\"18\",\"group\":\"30\"}],\"appLinks\":[{\"rel\":[\"event\",\"app\",\"sportscenter\"],\"href\":\"sportscenter://x-callback-url/showGame?sportName=hockey&leagueAbbrev=nhl&gameId=401044355\"}],\"odds\":{\"overUnder\":6,\"awayTeamOdds\":{\"underdog\":false,\"team\":{\"id\":\"18\",\"abbreviation\":\"SJ\"},\"favorite\":true},\"spreadWinner\":false,\"moneylineWinner\":false,\"provider\":{\"name\":\"Westgate\",\"id\":\"25\",\"priority\":1},\"price\":-105,\"details\":\"SJ -105\",\"homeTeamOdds\":{\"underdog\":true,\"team\":{\"id\":\"15\",\"abbreviation\":\"PHI\"},\"favorite\":false},\"spread\":1.5},\"season\":2019,\"links\":[{\"rel\":[\"event\",\"desktop\",\"summary\"],\"href\":\"http://www.espn.com/nhl/game?gameId=401044355\",\"text\":\"Gamecast\"},{\"rel\":[\"event\",\"desktop\",\"tickets\"],\"href\":\"https://www.vividseats.com/nhl-hockey/philadelphia-flyers-tickets/flyers-10-9-2748960.html?wsUser=717\",\"text\":\"Tickets\"},{\"rel\":[\"event\",\"desktop\",\"conversation\"],\"href\":\"http://www.espn.com/nhl/conversation?gameId=401044355\",\"text\":\"Conversation\"}],\"id\":\"401044355\",\"recent\":false,\"summary\":\"2018-10-09T23:00:00Z\",\"seriesSummary\":\"Series starts 10/9\",\"seasonType\":2,\"competitionId\":\"401044355\",\"period\":0,\"broadcasts\":[{\"callLetters\":\"NBCSN\",\"broadcasterId\":376,\"broadcastId\":376,\"name\":\"NBC Sports Network\",\"typeId\":3,\"type\":\"TV\",\"shortName\":\"NBCSN\",\"region\":\"us\",\"lang\":\"en\",\"isNational\":true}],\"clock\":\"0:00\",\"priority\":4,\"onWatch\":false,\"location\":\"Wells Fargo Center\",\"fullStatus\":{\"period\":0,\"clock\":\"0:00\",\"type\":{\"description\":\"SCHEDULED\",\"id\":1,\"detail\":\"2018-10-09T23:00:00Z\",\"shortDetail\":\"2018-10-09T23:00:00Z\",\"state\":\"pre\"}},\"status\":\"pre\"},{\"date\":\"2018-10-10T00:00:00Z\",\"broadcast\":\"ESPN+\",\"notes\":[],\"timeValid\":true,\"link\":\"\",\"uid\":\"s:70~l:90~e:401044358~c:401044358\",\"competitors\":[{\"alternateColor\":\"002d62\",\"competitionIdPrevious\":\"401044340\",\"color\":\"fdba31\",\"displayName\":\"Nashville Predators\",\"type\":\"team\",\"abbreviation\":\"NSH\",\"competitionIdNext\":\"401044374\",\"uid\":\"s:70~l:90~t:27\",\"homeAway\":\"home\",\"score\":\"\",\"winner\":false,\"logoDark\":\"http://a.espncdn.com/i/teamlogos/nhl/500-dark/scoreboard/nsh.png\",\"record\":\"2-0-0\",\"name\":\"Predators\",\"logo\":\"http://a.espncdn.com/i/teamlogos/nhl/500/scoreboard/nsh.png\",\"id\":\"27\",\"group\":\"31\"},{\"alternateColor\":\"231f20\",\"competitionIdPrevious\":\"401044347\",\"color\":\"e51937\",\"displayName\":\"Calgary Flames\",\"type\":\"team\",\"abbreviation\":\"CGY\",\"competitionIdNext\":\"401044373\",\"uid\":\"s:70~l:90~t:3\",\"homeAway\":\"away\",\"score\":\"\",\"winner\":false,\"logoDark\":\"http://a.espncdn.com/i/teamlogos/nhl/500-dark/scoreboard/cgy.png\",\"record\":\"1-1-0\",\"name\":\"Flames\",\"logo\":\"http://a.espncdn.com/i/teamlogos/nhl/500/scoreboard/cgy.png\",\"id\":\"3\",\"group\":\"30\"}],\"appLinks\":[{\"rel\":[\"event\",\"app\",\"sportscenter\"],\"href\":\"sportscenter://x-callback-url/showGame?sportName=hockey&leagueAbbrev=nhl&gameId=401044358\"}],\"odds\":{\"overUnder\":6,\"awayTeamOdds\":{\"underdog\":true,\"team\":{\"id\":\"3\",\"abbreviation\":\"CGY\"},\"favorite\":false},\"spreadWinner\":false,\"moneylineWinner\":false,\"provider\":{\"name\":\"Westgate\",\"id\":\"25\",\"priority\":1},\"price\":-155,\"details\":\"NSH -155\",\"homeTeamOdds\":{\"underdog\":false,\"team\":{\"id\":\"27\",\"abbreviation\":\"NSH\"},\"favorite\":true},\"spread\":-1.5},\"season\":2019,\"links\":[{\"rel\":[\"event\",\"desktop\",\"summary\"],\"href\":\"http://www.espn.com/nhl/game?gameId=401044358\",\"text\":\"Gamecast\"},{\"rel\":[\"event\",\"desktop\",\"tickets\"],\"href\":\"https://www.vividseats.com/nhl-hockey/nashville-predators-tickets/predators-10-9-2748953.html?wsUser=717\",\"text\":\"Tickets\"},{\"rel\":[\"event\",\"desktop\",\"conversation\"],\"href\":\"http://www.espn.com/nhl/conversation?gameId=401044358\",\"text\":\"Conversation\"}],\"id\":\"401044358\",\"recent\":false,\"summary\":\"2018-10-10T00:00:00Z\",\"seriesSummary\":\"\",\"seasonType\":2,\"competitionId\":\"401044358\",\"period\":0,\"broadcasts\":[{\"callLetters\":\"ESPN+\",\"broadcasterId\":755,\"broadcastId\":755,\"name\":\"ESPN+\",\"typeId\":4,\"type\":\"Web\",\"shortName\":\"ESPN+\",\"region\":\"us\",\"lang\":\"en\",\"isNational\":true}],\"clock\":\"0:00\",\"priority\":5,\"onWatch\":false,\"location\":\"Bridgestone Arena\",\"fullStatus\":{\"period\":0,\"clock\":\"0:00\",\"type\":{\"description\":\"SCHEDULED\",\"id\":1,\"detail\":\"2018-10-10T00:00:00Z\",\"shortDetail\":\"2018-10-10T00:00:00Z\",\"state\":\"pre\"}},\"status\":\"pre\"},{\"date\":\"2018-10-10T00:00:00Z\",\"broadcast\":\"\",\"notes\":[],\"timeValid\":true,\"link\":\"\",\"uid\":\"s:70~l:90~e:401044359~c:401044359\",\"competitors\":[{\"alternateColor\":\"b81f3d\",\"competitionIdPrevious\":\"401044342\",\"color\":\"133866\",\"displayName\":\"Winnipeg Jets\",\"type\":\"team\",\"abbreviation\":\"WPG\",\"competitionIdNext\":\"401044374\",\"uid\":\"s:70~l:90~t:28\",\"homeAway\":\"home\",\"score\":\"\",\"winner\":false,\"logoDark\":\"http://a.espncdn.com/i/teamlogos/nhl/500-dark/scoreboard/wpg.png\",\"record\":\"1-1-0\",\"name\":\"Jets\",\"logo\":\"http://a.espncdn.com/i/teamlogos/nhl/500/scoreboard/wpg.png\",\"id\":\"28\",\"group\":\"31\"},{\"alternateColor\":\"b0b7bc\",\"competitionIdPrevious\":\"401044350\",\"color\":\"231f20\",\"displayName\":\"Los Angeles Kings\",\"type\":\"team\",\"abbreviation\":\"LA\",\"competitionIdNext\":\"401044370\",\"uid\":\"s:70~l:90~t:8\",\"homeAway\":\"away\",\"score\":\"\",\"winner\":false,\"logoDark\":\"http://a.espncdn.com/i/teamlogos/nhl/500-dark/scoreboard/la.png\",\"record\":\"1-0-1\",\"name\":\"Kings\",\"logo\":\"http://a.espncdn.com/i/teamlogos/nhl/500/scoreboard/la.png\",\"id\":\"8\",\"group\":\"30\"}],\"appLinks\":[{\"rel\":[\"event\",\"app\",\"sportscenter\"],\"href\":\"sportscenter://x-callback-url/showGame?sportName=hockey&leagueAbbrev=nhl&gameId=401044359\"}],\"odds\":{\"overUnder\":6,\"awayTeamOdds\":{\"underdog\":true,\"team\":{\"id\":\"8\",\"abbreviation\":\"LA\"},\"favorite\":false},\"spreadWinner\":false,\"moneylineWinner\":false,\"provider\":{\"name\":\"Westgate\",\"id\":\"25\",\"priority\":1},\"price\":-200,\"details\":\"WPG -200\",\"homeTeamOdds\":{\"underdog\":false,\"team\":{\"id\":\"28\",\"abbreviation\":\"WPG\"},\"favorite\":true},\"spread\":-1.5},\"season\":2019,\"links\":[{\"rel\":[\"event\",\"desktop\",\"summary\"],\"href\":\"http://www.espn.com/nhl/game?gameId=401044359\",\"text\":\"Gamecast\"},{\"rel\":[\"event\",\"desktop\",\"tickets\"],\"href\":\"https://www.vividseats.com/nhl-hockey/winnipeg-jets-tickets/jets-10-9-2748973.html?wsUser=717\",\"text\":\"Tickets\"},{\"rel\":[\"event\",\"desktop\",\"conversation\"],\"href\":\"http://www.espn.com/nhl/conversation?gameId=401044359\",\"text\":\"Conversation\"}],\"id\":\"401044359\",\"recent\":false,\"summary\":\"2018-10-10T00:00:00Z\",\"seriesSummary\":\"\",\"seasonType\":2,\"competitionId\":\"401044359\",\"period\":0,\"broadcasts\":[{\"callLetters\":\"FSW1\",\"broadcasterId\":237,\"broadcastId\":237,\"name\":\"Fox Sports West 1 HD\",\"typeId\":2,\"type\":\"TV\",\"shortName\":\"FSWHD\",\"region\":\"us\",\"lang\":\"en\",\"isNational\":false}],\"clock\":\"0:00\",\"priority\":6,\"onWatch\":false,\"location\":\"Bell MTS Place\",\"fullStatus\":{\"period\":0,\"clock\":\"0:00\",\"type\":{\"description\":\"SCHEDULED\",\"id\":1,\"detail\":\"2018-10-10T00:00:00Z\",\"shortDetail\":\"2018-10-10T00:00:00Z\",\"state\":\"pre\"}},\"status\":\"pre\"},{\"date\":\"2018-10-10T00:30:00Z\",\"broadcast\":\"\",\"notes\":[],\"timeValid\":true,\"link\":\"\",\"uid\":\"s:70~l:90~e:401044360~c:401044360\",\"competitors\":[{\"alternateColor\":\"8c9192\",\"competitionIdPrevious\":\"401044342\",\"color\":\"00704a\",\"displayName\":\"Dallas Stars\",\"type\":\"team\",\"abbreviation\":\"DAL\",\"competitionIdNext\":\"401044386\",\"uid\":\"s:70~l:90~t:9\",\"homeAway\":\"home\",\"score\":\"\",\"winner\":false,\"logoDark\":\"http://a.espncdn.com/i/teamlogos/nhl/500-dark/scoreboard/dal.png\",\"record\":\"2-0-0\",\"name\":\"Stars\",\"logo\":\"http://a.espncdn.com/i/teamlogos/nhl/500/scoreboard/dal.png\",\"id\":\"9\",\"group\":\"31\"},{\"alternateColor\":\"f0f0f0\",\"competitionIdPrevious\":\"401044349\",\"color\":\"003e7e\",\"displayName\":\"Toronto Maple Leafs\",\"type\":\"team\",\"abbreviation\":\"TOR\",\"competitionIdNext\":\"401044371\",\"uid\":\"s:70~l:90~t:21\",\"homeAway\":\"away\",\"score\":\"\",\"winner\":false,\"logoDark\":\"http://a.espncdn.com/i/teamlogos/nhl/500-dark/scoreboard/tor.png\",\"record\":\"2-1-0\",\"name\":\"Maple Leafs\",\"logo\":\"http://a.espncdn.com/i/teamlogos/nhl/500/scoreboard/tor.png\",\"id\":\"21\",\"group\":\"32\"}],\"appLinks\":[{\"rel\":[\"event\",\"app\",\"sportscenter\"],\"href\":\"sportscenter://x-callback-url/showGame?sportName=hockey&leagueAbbrev=nhl&gameId=401044360\"}],\"odds\":{\"overUnder\":6.5,\"awayTeamOdds\":{\"underdog\":true,\"team\":{\"id\":\"21\",\"abbreviation\":\"TOR\"},\"favorite\":false},\"spreadWinner\":false,\"moneylineWinner\":false,\"provider\":{\"name\":\"Westgate\",\"id\":\"25\",\"priority\":1},\"price\":-121,\"details\":\"DAL -121\",\"homeTeamOdds\":{\"underdog\":false,\"team\":{\"id\":\"9\",\"abbreviation\":\"DAL\"},\"favorite\":true},\"spread\":-1.5},\"season\":2019,\"links\":[{\"rel\":[\"event\",\"desktop\",\"summary\"],\"href\":\"http://www.espn.com/nhl/game?gameId=401044360\",\"text\":\"Gamecast\"},{\"rel\":[\"event\",\"desktop\",\"tickets\"],\"href\":\"https://www.vividseats.com/nhl-hockey/dallas-stars-tickets/stars-vs-maple-leafs-10-9-2751611.html?wsUser=717\",\"text\":\"Tickets\"},{\"rel\":[\"event\",\"desktop\",\"conversation\"],\"href\":\"http://www.espn.com/nhl/conversation?gameId=401044360\",\"text\":\"Conversation\"}],\"id\":\"401044360\",\"recent\":false,\"summary\":\"2018-10-10T00:30:00Z\",\"seriesSummary\":\"Series starts 10/9\",\"seasonType\":2,\"competitionId\":\"401044360\",\"period\":0,\"broadcasts\":[{\"callLetters\":\"FXSW\",\"broadcasterId\":231,\"broadcastId\":231,\"name\":\"Fox Sports Southwest\",\"typeId\":1,\"type\":\"TV\",\"shortName\":\"FSSW\",\"region\":\"us\",\"lang\":\"en\",\"isNational\":false},{\"callLetters\":\"TSNT\",\"broadcasterId\":496,\"broadcastId\":496,\"name\":\"TSN Toronto\",\"typeId\":2,\"type\":\"TV\",\"shortName\":\"TSNT\",\"region\":\"us\",\"lang\":\"en\",\"isNational\":false}],\"clock\":\"0:00\",\"priority\":7,\"onWatch\":false,\"location\":\"American Airlines Center\",\"fullStatus\":{\"period\":0,\"clock\":\"0:00\",\"type\":{\"description\":\"SCHEDULED\",\"id\":1,\"detail\":\"2018-10-10T00:30:00Z\",\"shortDetail\":\"2018-10-10T00:30:00Z\",\"state\":\"pre\"}},\"status\":\"pre\"}]}],\"name\":\"hockey\",\"id\":\"70\",\"slug\":\"hockey\"},{\"uid\":\"s:40\",\"leagues\":[{\"uid\":\"s:40~l:46\",\"smartdates\":[\"2018-10-08T07:00Z\",\"2018-10-09T07:00Z\",\"2018-10-10T07:00Z\"],\"name\":\"National Basketball Association\",\"id\":\"46\",\"shortName\":\"NBA\",\"abbreviation\":\"nba\",\"slug\":\"nba\",\"events\":[{\"date\":\"2018-10-10T00:00:00Z\",\"summary\":\"2018-10-10T00:00:00Z\",\"broadcast\":\"\",\"seriesSummary\":\"\",\"seasonType\":1,\"competitionId\":\"401077287\",\"period\":0,\"notes\":[],\"timeValid\":true,\"link\":\"\",\"broadcasts\":[],\"clock\":\"0.0\",\"priority\":8,\"onWatch\":false,\"uid\":\"s:40~l:46~e:401077287~c:401077287\",\"competitors\":[{\"alternateColor\":\"c4ced3\",\"competitionIdPrevious\":\"401077276\",\"color\":\"D40026\",\"displayName\":\"Houston Rockets\",\"type\":\"team\",\"abbreviation\":\"HOU\",\"competitionIdNext\":\"401077308\",\"uid\":\"s:40~l:46~t:10\",\"homeAway\":\"home\",\"score\":\"\",\"winner\":false,\"logoDark\":\"http://a.espncdn.com/i/teamlogos/nba/500-dark/scoreboard/hou.png\",\"record\":\"2-1\",\"name\":\"Rockets\",\"logo\":\"http://a.espncdn.com/i/teamlogos/nba/500/scoreboard/hou.png\",\"id\":\"10\",\"group\":\"10\"},{\"uid\":\"s:40~l:46~t:110305\",\"homeAway\":\"away\",\"score\":\"\",\"winner\":false,\"logoDark\":\"http://a.espncdn.com/i/teamlogos/nba/500-dark/scoreboard/sha.png\",\"displayName\":\"Shanghai Sharks\",\"name\":\"Sharks\",\"logo\":\"http://a.espncdn.com/i/teamlogos/nba/500/scoreboard/sha.png\",\"id\":\"110305\",\"type\":\"team\",\"abbreviation\":\"SHA\",\"group\":\"0\"}],\"appLinks\":[{\"rel\":[\"event\",\"app\",\"sportscenter\"],\"href\":\"sportscenter://x-callback-url/showGame?sportName=basketball&leagueAbbrev=nba&gameId=401077287\"}],\"season\":2019,\"location\":\"Toyota Center\",\"links\":[{\"rel\":[\"event\",\"desktop\",\"summary\"],\"href\":\"http://www.espn.com/nba/game?gameId=401077287\",\"text\":\"Gamecast\"},{\"rel\":[\"event\",\"desktop\",\"tickets\"],\"href\":\"https://www.vividseats.com/nba-basketball/houston-rockets-tickets/rockets-10-9-2808213.html?wsUser=717\",\"text\":\"Tickets\"},{\"rel\":[\"event\",\"desktop\",\"conversation\"],\"href\":\"http://www.espn.com/nba/conversation?gameId=401077287\",\"text\":\"Conversation\"}],\"id\":\"401077287\",\"fullStatus\":{\"period\":0,\"clock\":\"0.0\",\"type\":{\"description\":\"SCHEDULED\",\"id\":1,\"detail\":\"2018-10-10T00:00:00Z\",\"shortDetail\":\"2018-10-10T00:00:00Z\",\"state\":\"pre\"}},\"recent\":false,\"status\":\"pre\"},{\"date\":\"2018-10-10T00:00:00Z\",\"summary\":\"2018-10-10T00:00:00Z\",\"broadcast\":\"NBATV\",\"seriesSummary\":\"\",\"seasonType\":1,\"competitionId\":\"401077288\",\"period\":0,\"notes\":[],\"timeValid\":true,\"link\":\"\",\"broadcasts\":[{\"callLetters\":\"NBAT\",\"broadcasterId\":355,\"broadcastId\":355,\"name\":\"NBATV\",\"station\":\"NBAT\",\"typeId\":1,\"type\":\"TV\",\"priority\":1,\"shortName\":\"NBATV\",\"region\":\"us\",\"lang\":\"en\",\"isNational\":true}],\"clock\":\"0.0\",\"priority\":9,\"onWatch\":false,\"uid\":\"s:40~l:46~e:401077288~c:401077288\",\"competitors\":[{\"alternateColor\":\"f05133\",\"competitionIdPrevious\":\"401077275\",\"color\":\"C67C03\",\"displayName\":\"Oklahoma City Thunder\",\"type\":\"team\",\"abbreviation\":\"OKC\",\"competitionIdNext\":\"401070214\",\"uid\":\"s:40~l:46~t:25\",\"homeAway\":\"home\",\"score\":\"\",\"winner\":false,\"logoDark\":\"http://a.espncdn.com/i/teamlogos/nba/500-dark/scoreboard/okc.png\",\"record\":\"2-1\",\"name\":\"Thunder\",\"logo\":\"http://a.espncdn.com/i/teamlogos/nba/500/scoreboard/okc.png\",\"id\":\"25\",\"group\":\"11\"},{\"alternateColor\":\"f0ebd2\",\"competitionIdPrevious\":\"401077277\",\"color\":\"003813\",\"displayName\":\"Milwaukee Bucks\",\"type\":\"team\",\"abbreviation\":\"MIL\",\"competitionIdNext\":\"401077309\",\"uid\":\"s:40~l:46~t:15\",\"homeAway\":\"away\",\"score\":\"\",\"winner\":false,\"logoDark\":\"http://a.espncdn.com/i/teamlogos/nba/500-dark/scoreboard/mil.png\",\"record\":\"2-0\",\"name\":\"Bucks\",\"logo\":\"http://a.espncdn.com/i/teamlogos/nba/500/scoreboard/mil.png\",\"id\":\"15\",\"group\":\"2\"}],\"appLinks\":[{\"rel\":[\"event\",\"app\",\"sportscenter\"],\"href\":\"sportscenter://x-callback-url/showGame?sportName=basketball&leagueAbbrev=nba&gameId=401077288\"}],\"season\":2019,\"location\":\"Chesapeake Energy Arena\",\"links\":[{\"rel\":[\"event\",\"desktop\",\"summary\"],\"href\":\"http://www.espn.com/nba/game?gameId=401077288\",\"text\":\"Gamecast\"},{\"rel\":[\"event\",\"desktop\",\"tickets\"],\"href\":\"https://www.vividseats.com/nba-basketball/oklahoma-city-thunder-tickets/thunder-10-9-2793894.html?wsUser=717\",\"text\":\"Tickets\"},{\"rel\":[\"event\",\"desktop\",\"conversation\"],\"href\":\"http://www.espn.com/nba/conversation?gameId=401077288\",\"text\":\"Conversation\"}],\"id\":\"401077288\",\"fullStatus\":{\"period\":0,\"clock\":\"0.0\",\"type\":{\"description\":\"SCHEDULED\",\"id\":1,\"detail\":\"2018-10-10T00:00:00Z\",\"shortDetail\":\"2018-10-10T00:00:00Z\",\"state\":\"pre\"}},\"recent\":false,\"status\":\"pre\"},{\"date\":\"2018-10-10T02:30:00Z\",\"summary\":\"2018-10-10T02:30:00Z\",\"broadcast\":\"NBATV\",\"seriesSummary\":\"\",\"seasonType\":1,\"competitionId\":\"401077289\",\"period\":0,\"notes\":[],\"timeValid\":true,\"link\":\"\",\"broadcasts\":[{\"callLetters\":\"NBAT\",\"broadcasterId\":355,\"broadcastId\":355,\"name\":\"NBATV\",\"station\":\"NBAT\",\"typeId\":1,\"type\":\"TV\",\"priority\":1,\"shortName\":\"NBATV\",\"region\":\"us\",\"lang\":\"en\",\"isNational\":true}],\"clock\":\"0.0\",\"priority\":10,\"onWatch\":false,\"uid\":\"s:40~l:46~e:401077289~c:401077289\",\"competitors\":[{\"alternateColor\":\"f1f2f3\",\"competitionIdPrevious\":\"401077274\",\"color\":\"FA0028\",\"displayName\":\"LA Clippers\",\"type\":\"team\",\"abbreviation\":\"LAC\",\"competitionIdNext\":\"401077299\",\"uid\":\"s:40~l:46~t:12\",\"homeAway\":\"home\",\"score\":\"\",\"winner\":false,\"logoDark\":\"http://a.espncdn.com/i/teamlogos/nba/500-dark/scoreboard/lac.png\",\"record\":\"3-0\",\"name\":\"Clippers\",\"logo\":\"http://a.espncdn.com/i/teamlogos/nba/500/scoreboard/lac.png\",\"id\":\"12\",\"group\":\"4\"},{\"alternateColor\":\"fdb927\",\"competitionIdPrevious\":\"401077268\",\"color\":\"0860A8\",\"displayName\":\"Denver Nuggets\",\"type\":\"team\",\"abbreviation\":\"DEN\",\"competitionIdNext\":\"401077306\",\"uid\":\"s:40~l:46~t:7\",\"homeAway\":\"away\",\"score\":\"\",\"winner\":false,\"logoDark\":\"http://a.espncdn.com/i/teamlogos/nba/500-dark/scoreboard/den.png\",\"record\":\"3-0\",\"name\":\"Nuggets\",\"logo\":\"http://a.espncdn.com/i/teamlogos/nba/500/scoreboard/den.png\",\"id\":\"7\",\"group\":\"11\"}],\"appLinks\":[{\"rel\":[\"event\",\"app\",\"sportscenter\"],\"href\":\"sportscenter://x-callback-url/showGame?sportName=basketball&leagueAbbrev=nba&gameId=401077289\"}],\"season\":2019,\"location\":\"STAPLES Center\",\"links\":[{\"rel\":[\"event\",\"desktop\",\"summary\"],\"href\":\"http://www.espn.com/nba/game?gameId=401077289\",\"text\":\"Gamecast\"},{\"rel\":[\"event\",\"desktop\",\"tickets\"],\"href\":\"https://www.vividseats.com/nba-basketball/los-angeles-clippers-tickets/clippers-10-9-2805966.html?wsUser=717\",\"text\":\"Tickets\"},{\"rel\":[\"event\",\"desktop\",\"conversation\"],\"href\":\"http://www.espn.com/nba/conversation?gameId=401077289\",\"text\":\"Conversation\"}],\"id\":\"401077289\",\"fullStatus\":{\"period\":0,\"clock\":\"0.0\",\"type\":{\"description\":\"SCHEDULED\",\"id\":1,\"detail\":\"2018-10-10T02:30:00Z\",\"shortDetail\":\"2018-10-10T02:30:00Z\",\"state\":\"pre\"}},\"recent\":false,\"status\":\"pre\"}]}],\"name\":\"basketball\",\"id\":\"40\",\"slug\":\"basketball\"},{\"uid\":\"s:600\",\"leagues\":[{\"uid\":\"s:600~l:3923\",\"smartdates\":[\"2018-10-08T07:00Z\",\"2018-10-09T07:00Z\",\"2018-11-09T08:00Z\"],\"name\":\"Women\\'s International Friendly\",\"id\":\"3923\",\"shortName\":\"Women\\'s Int. Friendly\",\"abbreviation\":\"fifa.friendly.w\",\"slug\":\"fifa.friendly.w\",\"events\":[{\"date\":\"2018-10-09T16:15:00Z\",\"summary\":\"FT\",\"broadcast\":\"\",\"seasonType\":1,\"competitionId\":\"527484\",\"period\":2,\"timeValid\":true,\"link\":\"\",\"broadcasts\":[],\"clock\":\"90:00\",\"priority\":11,\"addedClock\":6,\"onWatch\":false,\"uid\":\"s:600~l:3923~e:527484~c:527484\",\"competitors\":[{\"competitionIdPrevious\":\"504147\",\"color\":\"AF0000\",\"displayName\":\"Italy\",\"type\":\"team\",\"abbreviation\":\"ITA\",\"uid\":\"s:600~t:2792\",\"homeAway\":\"home\",\"score\":\"1\",\"winner\":true,\"logoDark\":\"http://a.espncdn.com/i/teamlogos/soccer/500-dark/2792.png\",\"form\":\"DWLLD\",\"name\":\"Italy\",\"logo\":\"http://a.espncdn.com/i/teamlogos/soccer/500/2792.png\",\"id\":\"2792\"},{\"competitionIdPrevious\":\"527462\",\"color\":\"dfc60a\",\"displayName\":\"Sweden\",\"type\":\"team\",\"abbreviation\":\"SWE\",\"competitionIdNext\":\"527479\",\"uid\":\"s:600~t:2764\",\"homeAway\":\"away\",\"score\":\"0\",\"winner\":false,\"logoDark\":\"http://a.espncdn.com/i/teamlogos/soccer/500-dark/2764.png\",\"form\":\"WWDLL\",\"name\":\"Sweden\",\"logo\":\"http://a.espncdn.com/i/teamlogos/soccer/500/2764.png\",\"id\":\"2764\"}],\"appLinks\":[{\"rel\":[\"event\",\"app\",\"sportscenter\"],\"href\":\"sportscenter://x-callback-url/showGame?sportName=soccer&leagueAbbrev=fifa.friendly.w&gameId=527484\"}],\"name\":\"2018 Women\\'s International Friendly\",\"seasonTypeHasGroups\":false,\"season\":2018,\"links\":[{\"rel\":[\"event\",\"desktop\",\"summary\"],\"href\":\"http://www.espn.com/soccer/match?gameId=527484\",\"text\":\"Summary\"},{\"rel\":[\"event\",\"desktop\",\"stats\"],\"href\":\"http://www.espn.com/soccer/matchstats?gameId=527484\",\"text\":\"Statistics\"},{\"rel\":[\"event\",\"desktop\",\"standings\"],\"href\":\"http://www.espn.com/soccer/table/_/league/:league\",\"text\":\"Table\"}],\"id\":\"527484\",\"fullStatus\":{\"period\":2,\"clock\":\"90:00\",\"type\":{\"description\":\"FULL TIME\",\"id\":28,\"detail\":\"FT\",\"shortDetail\":\"FT\",\"state\":\"post\"},\"addedClock\":6},\"recent\":true,\"status\":\"post\"},{\"date\":\"2018-10-09T18:00:00Z\",\"broadcast\":\"\",\"timeValid\":true,\"link\":\"\",\"addedClock\":0,\"uid\":\"s:600~l:3923~e:527483~c:527483\",\"competitors\":[{\"competitionIdPrevious\":\"527486\",\"color\":\"AF0000\",\"displayName\":\"England\",\"type\":\"team\",\"abbreviation\":\"ENG\",\"competitionIdNext\":\"527479\",\"uid\":\"s:600~t:5159\",\"homeAway\":\"home\",\"score\":\"0\",\"winner\":false,\"logoDark\":\"http://a.espncdn.com/i/teamlogos/soccer/500-dark/5159.png\",\"form\":\"WLDWL\",\"name\":\"England\",\"logo\":\"http://a.espncdn.com/i/teamlogos/soccer/500/5159.png\",\"id\":\"5159\"},{\"competitionIdPrevious\":\"527467\",\"color\":\"dabf00\",\"displayName\":\"Australia\",\"type\":\"team\",\"abbreviation\":\"AUS\",\"competitionIdNext\":\"527481\",\"uid\":\"s:600~t:2751\",\"homeAway\":\"away\",\"score\":\"0\",\"winner\":false,\"logoDark\":\"http://a.espncdn.com/i/teamlogos/soccer/500-dark/2751.png\",\"form\":\"LWDWD\",\"name\":\"Australia\",\"logo\":\"http://a.espncdn.com/i/teamlogos/soccer/500/2751.png\",\"id\":\"2751\"}],\"appLinks\":[{\"rel\":[\"event\",\"app\",\"sportscenter\"],\"href\":\"sportscenter://x-callback-url/showGame?sportName=soccer&leagueAbbrev=fifa.friendly.w&gameId=527483\"}],\"seasonTypeHasGroups\":false,\"season\":2018,\"links\":[{\"rel\":[\"event\",\"desktop\",\"live\"],\"href\":\"http://www.espn.com/soccer/match?gameId=527483\",\"text\":\"Live\"},{\"rel\":[\"event\",\"desktop\",\"stats\"],\"href\":\"http://www.espn.com/soccer/matchstats?gameId=527483\",\"text\":\"Statistics\"},{\"rel\":[\"event\",\"desktop\",\"standings\"],\"href\":\"http://www.espn.com/soccer/table/_/league/:league\",\"text\":\"Table\"}],\"id\":\"527483\",\"recent\":true,\"summary\":\"14\\'\",\"seasonType\":1,\"competitionId\":\"527483\",\"period\":1,\"broadcasts\":[],\"clock\":\"14:00\",\"priority\":12,\"onWatch\":false,\"name\":\"2018 Women\\'s International Friendly\",\"airings\":[],\"fullStatus\":{\"period\":1,\"clock\":\"14:00\",\"type\":{\"description\":\"FIRST HALF\",\"id\":25,\"detail\":\"14\\'\",\"shortDetail\":\"14\\'\",\"state\":\"in\"},\"addedClock\":0},\"status\":\"in\"},{\"date\":\"2018-10-09T19:00:00Z\",\"broadcast\":\"\",\"timeValid\":true,\"link\":\"\",\"addedClock\":0,\"uid\":\"s:600~l:3923~e:527482~c:527482\",\"competitors\":[{\"competitionIdPrevious\":\"527467\",\"color\":\"0000ff\",\"displayName\":\"France\",\"type\":\"team\",\"abbreviation\":\"FRA\",\"competitionIdNext\":\"527480\",\"uid\":\"s:600~t:2755\",\"homeAway\":\"home\",\"score\":\"\",\"winner\":false,\"logoDark\":\"http://a.espncdn.com/i/teamlogos/soccer/500-dark/2755.png\",\"form\":\"WDWWW\",\"name\":\"France\",\"logo\":\"http://a.espncdn.com/i/teamlogos/soccer/500/2755.png\",\"id\":\"2755\"},{\"color\":\"5bbd19\",\"displayName\":\"Cameroon\",\"type\":\"team\",\"abbreviation\":\"CMR\",\"uid\":\"s:600~t:13310\",\"homeAway\":\"away\",\"score\":\"\",\"winner\":false,\"logoDark\":\"http://a.espncdn.com/i/teamlogos/soccer/500-dark/13310.png\",\"form\":\"LWLWL\",\"name\":\"Cameroon\",\"logo\":\"http://a.espncdn.com/i/teamlogos/soccer/500/13310.png\",\"id\":\"13310\"}],\"appLinks\":[{\"rel\":[\"event\",\"app\",\"sportscenter\"],\"href\":\"sportscenter://x-callback-url/showGame?sportName=soccer&leagueAbbrev=fifa.friendly.w&gameId=527482\"}],\"seasonTypeHasGroups\":false,\"season\":2018,\"links\":[{\"rel\":[\"event\",\"desktop\",\"summary\"],\"href\":\"http://www.espn.com/soccer/match?gameId=527482\",\"text\":\"Summary\"},{\"rel\":[\"event\",\"desktop\",\"stats\"],\"href\":\"http://www.espn.com/soccer/matchstats?gameId=527482\",\"text\":\"Statistics\"},{\"rel\":[\"event\",\"desktop\",\"lineups\"],\"href\":\"http://www.espn.com/soccer/lineups?gameId=527482\",\"text\":\"Lineups\"}],\"id\":\"527482\",\"recent\":true,\"summary\":\"2018-10-09T19:00:00Z\",\"seasonType\":1,\"competitionId\":\"527482\",\"period\":0,\"broadcasts\":[],\"clock\":\"0:00\",\"priority\":13,\"onWatch\":false,\"name\":\"2018 Women\\'s International Friendly\",\"airings\":[],\"fullStatus\":{\"period\":0,\"clock\":\"0:00\",\"type\":{\"description\":\"SCHEDULED\",\"id\":1,\"detail\":\"2018-10-09T19:00:00Z\",\"shortDetail\":\"2018-10-09T19:00:00Z\",\"state\":\"pre\"},\"addedClock\":0},\"status\":\"pre\"}]}],\"name\":\"soccer\",\"id\":\"600\",\"slug\":\"soccer\"}]},\\n\\t\\t\\t\\tqueue: [],\\n\\t\\t\\t\\tindexTopics: {\"supportedPubKeys\":{\"espn-es-co-soccer-index\":true,\"espnin-en-soccer-index\":true,\"espn-es-ar-frontpage-index\":true,\"espn-es-cl-soccer-index\":true,\"espnin-en-cricket-index\":true,\"espnuk-en-rugby-index\":true,\"espnau-en-frontpage-index\":true,\"espnuk-en-tennis-index\":true,\"espn-es-cl-frontpage-index\":true,\"espnuk-en-frontpage-index\":true,\"espn-en-ncaa-index\":true,\"espnin-en-frontpage-index\":true,\"espn-en-tennis-index\":true,\"espn-es-ar-rpm-index\":true,\"espn-es-mx-soccer-index\":true,\"espn-en-womenbb-index\":true,\"espnuk-en-cricket-index\":true,\"espnin-en-tennis-index\":true,\"espn-es-ve-soccer-index\":true,\"espn-es-ar-soccer-index\":true,\"espn-es-us-frontpage-index\":true,\"espn-es-ar-tennis-index\":true,\"espn-es-co-frontpage-index\":true,\"espn-es-us-other-sports-index\":true,\"espn-es-us-soccer-index\":true,\"espnau-en-rugby-index\":true,\"espnza-en-frontpage-index\":true,\"espnuk-en-soccer-index\":true,\"espn-en-frontpage-index\":true,\"17784479\":true,\"espn-es-ve-frontpage-index\":true,\"espn-es-mx-frontpage-index\":true,\"espn-es-ar-rugby-index\":true,\"espnza-en-soccer-index\":true,\"espn-en-rpm-index\":true,\"espn-en-frontpage-grant-test-index\":true}}\\n\\t\\t\\t};\\n\\n\\t\\t\\t\\n\\n\\t\\t\\n\\n\\t\\t\\n\\t\\t\\tjQuery.subscribe(\\'espn.defer.end\\', function () { espn.scoreboard.init(); });\\n\\t\\t\\n\\t\\t\\n\\t\\t\\t(function() {\\n\\t\\t\\t\\tespn.scoreboard.queue = espn.scoreboard.queue || []; \\n\\t\\t\\t\\tespn.scoreboard.queue.push(function() {\\n\\t\\t\\t\\t\\tvar data = {};\\n\\t\\t\\t\\t\\t\\n\\t\\t\\t\\t\\t\\tdata = {\"sports\":[{\"uid\":\"s:1\",\"leagues\":[{\"uid\":\"s:1~l:10\",\"smartdates\":[\"2018-10-08T07:00Z\",\"2018-10-09T07:00Z\",\"2018-10-11T07:00Z\"],\"name\":\"Major League Baseball\",\"id\":\"10\",\"abbreviation\":\"MLB\",\"shortName\":\"MLB\",\"slug\":\"mlb\",\"isTournament\":false,\"events\":[{\"date\":\"2018-10-10T00:07:00Z\",\"broadcast\":\"TBS\",\"note\":\"ALDS - GAME 4\",\"notes\":[{\"text\":\"ALDS - GAME 4\",\"type\":\"event\",\"headline\":\"ALDS - GAME 4\"}],\"timeValid\":true,\"link\":\"http://www.espn.com/mlb/game?gameId=381009110\",\"uid\":\"s:1~l:10~e:381009110~c:381009110\",\"competitors\":[{\"alternateColor\":\"c4ced4\",\"competitionIdPrevious\":\"381008110\",\"color\":\"011739\",\"displayName\":\"New York Yankees\",\"type\":\"team\",\"abbreviation\":\"NYY\",\"competitionIdNext\":\"381011102\",\"uid\":\"s:1~l:10~t:10\",\"homeAway\":\"home\",\"score\":\"\",\"logoDark\":\"http://a.espncdn.com/i/teamlogos/mlb/500-dark/scoreboard/nyy.png\",\"winner\":false,\"record\":\"1-2\",\"name\":\"Yankees\",\"logo\":\"http://a.espncdn.com/i/teamlogos/mlb/500/scoreboard/nyy.png\",\"location\":\"New York\",\"id\":\"10\",\"order\":0,\"group\":\"1\"},{\"alternateColor\":\"0d2b56\",\"competitionIdPrevious\":\"381008110\",\"color\":\"00224b\",\"displayName\":\"Boston Red Sox\",\"type\":\"team\",\"abbreviation\":\"BOS\",\"competitionIdNext\":\"381011102\",\"uid\":\"s:1~l:10~t:2\",\"homeAway\":\"away\",\"score\":\"\",\"logoDark\":\"http://a.espncdn.com/i/teamlogos/mlb/500-dark/scoreboard/bos.png\",\"winner\":false,\"record\":\"2-1\",\"name\":\"Red Sox\",\"logo\":\"http://a.espncdn.com/i/teamlogos/mlb/500/scoreboard/bos.png\",\"location\":\"Boston\",\"id\":\"2\",\"order\":1,\"group\":\"1\"}],\"wasSuspended\":false,\"appLinks\":[{\"isExternal\":false,\"shortText\":\"Summary\",\"rel\":[\"summary\",\"sportscenter\",\"app\",\"event\"],\"language\":\"en\",\"href\":\"sportscenter://x-callback-url/showGame?sportName=baseball&leagueAbbrev=mlb&gameId=381009110\",\"text\":\"Gamecast\",\"isPremium\":false}],\"odds\":{\"underOdds\":-105,\"overUnder\":9,\"awayTeamOdds\":{\"underdog\":true,\"team\":{\"id\":\"2\",\"abbreviation\":\"BOS\"},\"favorite\":false,\"moneyLine\":115},\"away\":{\"moneyLine\":115},\"provider\":{\"name\":\"Westgate\",\"id\":\"25\",\"priority\":1},\"details\":\"NYY -125\",\"homeTeamOdds\":{\"underdog\":false,\"team\":{\"id\":\"10\",\"abbreviation\":\"NYY\"},\"favorite\":true,\"moneyLine\":-125},\"spread\":1.5,\"overOdds\":-115,\"home\":{\"moneyLine\":-125}},\"seasonTypeHasGroups\":false,\"season\":2018,\"links\":[{\"isExternal\":false,\"rel\":[\"summary\",\"desktop\",\"event\"],\"language\":\"en\",\"href\":\"http://www.espn.com/mlb/game?gameId=381009110\",\"text\":\"Gamecast\",\"isPremium\":false},{\"isExternal\":true,\"rel\":[\"tickets\",\"desktop\",\"event\"],\"language\":\"en\",\"href\":\"https://www.vividseats.com/mlb-baseball/new-york-yankees-tickets/yankees-10-6-2798584.html?wsUser=717\",\"text\":\"Tickets\",\"isPremium\":false},{\"isExternal\":true,\"rel\":[\"tickets\",\"desktop\",\"venue\"],\"language\":\"en\",\"href\":\"https://www.vividseats.com/venues/the-new-yankee-stadium-tickets.html?wsUser=717\",\"text\":\"Tickets\",\"isPremium\":false}],\"id\":\"381009110\",\"recent\":false,\"group\":{\"groupId\":\"3\",\"name\":\"Post Season\",\"abbreviation\":\"post\",\"shortName\":\"POST\"},\"summary\":\"10/9 - 8:07 PM EDT\",\"seriesSummary\":\"BOS leads 2-1\",\"seasonType\":\"3\",\"competitionId\":\"381009110\",\"period\":0,\"broadcasts\":[{\"callLetters\":\"TBS \",\"broadcasterId\":32,\"broadcastId\":32,\"name\":\"TBS\",\"typeId\":1,\"type\":\"TV\",\"priority\":0,\"lang\":\"en\",\"region\":\"us\",\"shortName\":\"TBS\",\"slug\":\"\",\"isNational\":true},{\"callLetters\":\"ERAD\",\"stationKey\":\"espn\",\"type\":\"Radio\",\"priority\":0,\"broadcasterId\":133,\"broadcastId\":133,\"station\":\"13715732\",\"name\":\"ESPN Radio\",\"typeId\":5,\"lang\":\"en\",\"region\":\"us\",\"shortName\":\"ESPNRM\",\"slug\":\"13715732\",\"isNational\":true}],\"clock\":\"0:00\",\"priority\":0,\"seasonEndDate\":\"2018-11-11T07:59:00Z\",\"onWatch\":false,\"seasonStartDate\":\"2018-02-21T08:00:00Z\",\"name\":\"Boston Red Sox at New York Yankees\",\"location\":\"Yankee Stadium\",\"shortName\":\"BOS @ NYY\",\"fullStatus\":{\"periodPrefix\":\"Top\",\"period\":0,\"displayClock\":\"0:00\",\"clock\":0,\"type\":{\"name\":\"STATUS_SCHEDULED\",\"description\":\"Scheduled\",\"id\":\"1\",\"state\":\"pre\",\"completed\":false,\"detail\":\"Tue, October 9th at 8:07 PM EDT\",\"shortDetail\":\"10/9 - 8:07 PM EDT\"}},\"status\":\"pre\"}]}],\"name\":\"Baseball\",\"id\":\"1\",\"slug\":\"baseball\"}]};\\n\\t\\t\\t\\t\\t\\n\\t\\t\\t\\t\\tvar sports = data && data.sports || [];\\n\\t\\t\\t\\t\\tespn.scoreboard.leagues.addLeagues(sports, {sourcedFromIndexCollection: true, pubKey: \"espn-en-frontpage-index\"});\\n\\t\\t\\t\\t});\\n\\t\\t\\t})();\\n\\t\\t\\n\\t\\n\\t\\n\\t(function() {\\n\\t\\tfunction loadDefer() {\\n\\t\\t\\tvar deferScripts = [\\n\\t\\t\\t\\t\\'http://a.espncdn.com/redesign/0.415.12/js/espn-defer.js\\',\\n\\t\\t\\t\\t\\'http://a.espncdn.com/redesign/0.415.12/js/espn-defer-low.js\\'\\n\\t\\t\\t];\\n\\n\\t\\t\\t$.when(deferScripts.map(function (script) {\\n\\t\\t\\t\\tvar deferred = $.Deferred();\\n\\t\\t\\t\\t$.getScriptCache(script, deferred.resolve);\\n\\t\\t\\t\\treturn deferred;\\n\\t\\t\\t})).done(function () {\\n\\t\\t\\t\\tif(espn.siteType === \\'data-lite\\' && typeof espn.ads.loadGPT === \\'function\\') {\\n\\t\\t\\t\\t\\tespn.ads.loadGPT();\\n\\t\\t\\t\\t}\\n\\t\\t\\t});\\n\\t\\t}\\n\\n\\t\\tif(window.espn.loadType === \"loadEnd\" && espn_ui.deviceType !== \\'desktop\\') {\\n\\t\\t\\tvar race = [];\\n\\t\\t\\t$.when(function () {\\n\\t\\t\\t\\tvar deferred = $.Deferred();\\n\\t\\t\\t\\t$(window).load(deferred.resolve);\\n\\t\\t\\t\\tif(espn.siteType !== \\'data-lite\\') {\\n\\t\\t\\t\\t\\tsetTimeout( deferred.resolve, 5000 );\\n\\t\\t\\t\\t}\\n\\t\\t\\t\\treturn deferred;\\n\\t\\t\\t}()).then(loadDefer)\\n\\n\\t\\t}else{\\n\\t\\t\\tloadDefer();\\n\\t\\t}\\n\\t\\t\\n\\t})();\\n\\t\\n\\n\\t\\n\\nespn_ui.Helpers.translate.init();\\n\\n\\t\\t\\t\\n\\t\\t\\t\\tvar data = {\"omniture\":{\"league\":\"no+league\",\"countryRegion\":\"en-us\",\"hier1\":\"frontpage\",\"section\":\"frontpage\",\"pageName\":\"frontpage\",\"sections\":\"frontpage\",\"site\":\"espn\",\"premium\":\"premium-no\",\"pageURL\":\"www.espn.com/\",\"lang\":\"en_us\",\"contentType\":\"index\",\"account\":\"wdgespcom\",\"siteType\":\"full\",\"prop58\":\"isIndex=true\"},\"chartbeat\":{\"loadPubJS\":false,\"path\":\"/\",\"zone\":\"www.espn.com.us.espn\",\"domain\":\"www.espn.com\",\"loadVidJS\":true,\"title\":\"ESPN: The Worldwide Leader in Sports\",\"sections\":\"frontpage\",\"authors\":\"index\"},\"qualtrics\":false,\"nielsen\":{\"espnuk\":{\"apid\":\"P07264C85-15CD-4A80-8E56-B5BFA6D93296\",\"vc\":\"b01\"},\"espnau\":{\"apid\":\"P07264C85-15CD-4A80-8E56-B5BFA6D93296\",\"vc\":\"b01\"},\"espn\":{\"apid\":\"P07264C85-15CD-4A80-8E56-B5BFA6D93296\",\"vc\":\"b01\"},\"fantasy\":{\"apid\":\"P302B69D5-F1DD-4E7A-BF8D-3E60F0EB5E5A\",\"vc\":\"c07\"},\"espndeportes\":{\"apid\":\"P890E2723-EDBC-4CCE-96BA-F35EA3E50650\",\"vc\":\"c02\"},\"espnfc\":{\"apid\":\"PE6995AAE-0C49-4372-B5E7-54C61BFE2AA5\",\"vc\":\"c03\"},\"espnww\":{\"apid\":\"P07264C85-15CD-4A80-8E56-B5BFA6D93296\",\"vc\":\"b01\"},\"general\":{\"ci\":\"us-600140\",\"assetid\":\"N/A\",\"segB\":\"N/A\",\"sfcode\":\"dcr\",\"segA\":\"N/A\",\"section\":\"N/A\",\"segC\":\"N/A\",\"apn\":\"espnCOM\"},\"espnza\":{\"apid\":\"P07264C85-15CD-4A80-8E56-B5BFA6D93296\",\"vc\":\"b01\"},\"espnin\":{\"apid\":\"P07264C85-15CD-4A80-8E56-B5BFA6D93296\",\"vc\":\"b01\"},\"watchespn\":{\"apid\":\"P07264C85-15CD-4A80-8E56-B5BFA6D93296\",\"vc\":\"b01\"},\"cricinfo\":{\"apid\":\"PED8CDAC2-F114-41BE-8B98-AFA06FAEA06E\",\"vc\":\"c04\"},\"espnbr\":{\"apid\":\"P07264C85-15CD-4A80-8E56-B5BFA6D93296\",\"vc\":\"b01\"}},\"ABTest\":{\"isOptimizied\":true,\"tScript\":\"http://a.espncdn.com/prod/scripts/analytics/at.r2.js\",\"oScript\":\"http://cdn.optimizely.com/js/310987714.js\",\"raw\":\"{\\\\\"fastcast\\\\\":{\\\\\"placements\\\\\":{\\\\\"/nba/index\\\\\":\\\\\"true\\\\\",\\\\\"^/.+$\\\\\":\\\\\"false\\\\\",\\\\\"/ncf/index\\\\\":\\\\\"true\\\\\"},\\\\\"enabled\\\\\":false,\\\\\"script\\\\\":\\\\\"http://a.espncdn.com/combiner/c?js=analytics/espn.fastcastTracking.4.js\\\\\"},\\\\\"optimizely\\\\\":{\\\\\"oldscript\\\\\":\\\\\"http://a.espncdn.com/sports/optimizely.js\\\\\",\\\\\"placements\\\\\":[{\\\\\"regexp\\\\\":\\\\\"(/)\\\\\",\\\\\"site\\\\\":\\\\\"espn.co.uk\\\\\",\\\\\"flag\\\\\":true},{\\\\\"regexp\\\\\":\\\\\"(/.*)\\\\\",\\\\\"site\\\\\":\\\\\"www.espn.com\\\\\",\\\\\"flag\\\\\":true},{\\\\\"regexp\\\\\":\\\\\"(/.*)\\\\\",\\\\\"site\\\\\":\\\\\"www.espnqa.com\\\\\",\\\\\"flag\\\\\":true},{\\\\\"regexp\\\\\":\\\\\"(/.*)\\\\\",\\\\\"site\\\\\":\\\\\"onefeed.espn.go.com.sandbox.aws.espn.com\\\\\",\\\\\"flag\\\\\":true}],\\\\\"enabled\\\\\":true,\\\\\"script\\\\\":\\\\\"http://cdn.optimizely.com/js/310987714.js\\\\\"},\\\\\"target\\\\\":{\\\\\"placements\\\\\":[{\\\\\"regexp\\\\\":\\\\\"(/)\\\\\",\\\\\"site\\\\\":\\\\\"espn.co.uk\\\\\",\\\\\"flag\\\\\":true},{\\\\\"regexp\\\\\":\\\\\"(/.*)\\\\\",\\\\\"site\\\\\":\\\\\"www.espn.com\\\\\",\\\\\"flag\\\\\":true}],\\\\\"enabled\\\\\":true,\\\\\"script\\\\\":\\\\\"http://a.espncdn.com/prod/scripts/analytics/at.r2.js\\\\\"}}\",\"optimizely\":true,\"target\":true,\"optimizelyURLs\":[{\"regexp\":\"(/)\",\"site\":\"espn.co.uk\",\"flag\":true},{\"regexp\":\"(/.*)\",\"site\":\"www.espn.com\",\"flag\":true},{\"regexp\":\"(/.*)\",\"site\":\"www.espnqa.com\",\"flag\":true},{\"regexp\":\"(/.*)\",\"site\":\"onefeed.espn.go.com.sandbox.aws.espn.com\",\"flag\":true}],\"environment\":\"prod\",\"abtestUser\":0,\"targetURLs\":[{\"regexp\":\"(/)\",\"site\":\"espn.co.uk\",\"flag\":true},{\"regexp\":\"(/.*)\",\"site\":\"www.espn.com\",\"flag\":true}],\"domain\":\"www.espn.com\",\"host\":\"espn.com\",\"isTargeted\":true},\"isFeaturePhone\":false,\"device\":\"desktop\",\"cto\":true};\\n\\t\\t\\t\\tvar espn = espn || {};\\n\\t\\t\\t\\tespn.track = espn.track || {};\\n\\t\\t\\t\\tespn.track.data = data;\\n\\t\\t\\t\\n\\t\\t\\t\\n\\n\\t\\n\\t\\n\\n\\n\\tif (typeof s_omni === \\'undefined\\') {\\n\\t\\tjQuery(function($){\\n\\t\\t\\t$.getScriptCache(\"http://a.espncdn.com/redesign/0.415.12/js/espn-analytics.js\", \\t\\t\\t\\tfunction() {\\t\\t\\t\\t\\tvar deferEvent = \"user.parsed\",\\t\\t\\t\\t\\t\\tinitOnLoad = null || false,\\t\\t\\t\\t\\t\\ttimeoutID;\\n\\t\\t\\t\\t\\tfunction initTrack(){\\t\\t\\t\\t\\t\\tif (typeof espn.track.init === \\'function\\') {\\t\\t\\t\\t\\t\\t\\twindow.clearTimeout(timeoutID);\\t\\t\\t\\t\\t\\t\\t\\t\\t\\t\\t\\t\\t\\t$.unsubscribe([deferEvent, initTrack]);\\n\\t\\t\\t\\t\\t\\t\\tespn.track.init(data);\\t\\t\\t\\t\\t\\t}\\t\\t\\t\\t\\t}\\t\\t\\t\\t\\t\\t\\t\\t\\t\\tif(initOnLoad || window.espn_ui.userParsed){\\t\\t\\t\\t\\t\\tinitTrack();\\t\\t\\t\\t\\t}\\t\\t\\t\\t\\telse {\\t\\t\\t\\t\\t\\t$.subscribe(deferEvent, initTrack);                        timeoutID = window.setTimeout(initTrack, 5000);\\t\\t\\t\\t\\t}\\t\\t\\t\\t}\\t\\t\\t\\t);\\n\\t\\t});\\n\\t}\\n\\n\\t\\n\\n\\t\\n\\n        \\n           var espn = espn || {};\\n           espn.ads = espn.ads || {};\\n           espn.shellParams = espn.shellParams || {};\\n           espn.shellParams.excludeTVEProviders = false\\n            \\n                $.subscribe(\"espn.defer.ready\", function() {\\n                    espn_ui.Helpers.watchProviders.initWatchAuth();\\n                });\\n            \\n\\t\\t\\t\\t\\t\\n        \\n\\t\\t\\n\\t\\n'"
      ]
     },
     "execution_count": 11,
     "metadata": {},
     "output_type": "execute_result"
    }
   ],
   "source": [
    "# Compare the two results to see the difference\n",
    "# The first one gives all the text stored under the root <HTML> node\n",
    "# The second gives only the text immediately under HTML (but not under the children)\n",
    "# doc.xpath(\"/html\")[0].text_content()\n",
    "# doc.xpath(\"/html\")[0].text\n"
   ]
  },
  {
   "cell_type": "markdown",
   "metadata": {},
   "source": [
    "The `doc` variable is an `HtmlElement` object, and we can now use **XPath** queries to locate the elements that we need. (Depending on time, we may do in class a tutorial on XPath. For now, you can look at the [W3Schools tutorial](http://www.w3schools.com/xpath/xpath_nodes.asp))"
   ]
  },
  {
   "cell_type": "markdown",
   "metadata": {},
   "source": [
    "For example, to find all the `<a ...> ... </a>` tags in the returned html, which store the links in the page, we issue the command:"
   ]
  },
  {
   "cell_type": "code",
   "execution_count": null,
   "metadata": {},
   "outputs": [],
   "source": [
    "<a href='http://www.stern.nyu.edu'>NYU Stern</a>"
   ]
  },
  {
   "cell_type": "code",
   "execution_count": 13,
   "metadata": {},
   "outputs": [
    {
     "data": {
      "text/plain": [
       "166"
      ]
     },
     "execution_count": 13,
     "metadata": {},
     "output_type": "execute_result"
    }
   ],
   "source": [
    "links = doc.xpath(\"//a\")\n",
    "len(links)"
   ]
  },
  {
   "cell_type": "code",
   "execution_count": 15,
   "metadata": {},
   "outputs": [
    {
     "name": "stdout",
     "output_type": "stream",
     "text": [
      "==================================\n",
      "# ==> Menu\n",
      "==================================\n",
      "/ ==> ESPN\n",
      "==================================\n",
      "# ==> \n",
      "==================================\n",
      "# ==> Scores\n",
      "==================================\n",
      "/nfl/ ==> NFL\n",
      "==================================\n",
      "/nba/ ==> NBA\n",
      "==================================\n",
      "/mlb/ ==> MLB\n",
      "==================================\n",
      "/college-football/ ==> NCAAF\n",
      "==================================\n",
      "/soccer/ ==> Soccer\n",
      "==================================\n",
      "/nhl/ ==> NHL\n",
      "==================================\n",
      "/golf/ ==> Golf\n",
      "==================================\n",
      "/tennis/ ==> Tennis\n",
      "==================================\n",
      "# ==> …\n",
      "==================================\n",
      "/mma/ ==> MMA\n",
      "==================================\n",
      "/wwe/ ==> WWE\n",
      "==================================\n",
      "/boxing/ ==> Boxing\n",
      "==================================\n",
      "/esports/ ==> esports\n",
      "==================================\n",
      "/chalk/ ==> Chalk\n",
      "==================================\n",
      "/analytics/ ==> Analytics\n",
      "==================================\n",
      "/mens-college-basketball/ ==> NCAAM\n",
      "==================================\n",
      "/womens-basketball/ ==> WNBA\n",
      "==================================\n",
      "/womens-basketball/ ==> NCAAW\n",
      "==================================\n",
      "http://www.espn.com/espnw/sport/ncaa-softball/ ==> NCAA Softball\n",
      "==================================\n",
      "/racing/nascar/ ==> NASCAR\n",
      "==================================\n",
      "/jayski/ ==> Jayski\n",
      "==================================\n",
      "/f1/ ==> F1\n",
      "==================================\n",
      "/racing/ ==> Racing\n",
      "==================================\n",
      "/olympics/ ==> Olympic Sports\n",
      "==================================\n",
      "/horse-racing/ ==> Horse\n",
      "==================================\n",
      "http://www.espn.com/college-sports/football/recruiting/ ==> RN FB\n",
      "==================================\n",
      "http://www.espn.com/college-sports/basketball/recruiting/ ==> RN BB\n",
      "==================================\n",
      "/college-sports/ ==> NCAA\n",
      "==================================\n",
      "/little-league-world-series/ ==> LLWS\n",
      "==================================\n",
      "http://www.espn.com/specialolympics/ ==> Special Olympics\n",
      "==================================\n",
      "http://xgames.com/ ==> X Games\n",
      "==================================\n",
      "http://espncricinfo.com/ ==> Cricket\n",
      "==================================\n",
      "/rugby/ ==> Rugby\n",
      "==================================\n",
      "http://www.tsn.ca/cfl ==> CFL\n",
      "==================================\n",
      "# ==> More ESPN\n",
      "==================================\n",
      "/fantasy/ ==> Fantasy\n",
      "==================================\n",
      "http://www.espn.com/espnradio/index ==> Listen\n",
      "==================================\n",
      "http://www.espn.com/watch/ ==> Watch\n",
      "==================================\n",
      "http://www.espn.com/watch/espnplus/?om-navmethod=topnav ==> ESPN+\n",
      "==================================\n",
      "https:plus.espn.com/ ==> \n",
      "\t\t\t\n",
      "\t\t\n",
      "          Subscribe Now\n",
      "\t\t\n",
      "\t\n",
      "==================================\n",
      "http://www.espn.com/watch/espnplus/ ==> \n",
      "\t\t\t\n",
      "\t\t\n",
      "          ESPN+ Home\n",
      "\t\t\n",
      "\t\n",
      "==================================\n",
      "http://www.espn.com/watch/collections/11264/nhl-live-upcoming?om-navmethod=leftnav ==> \n",
      "\t\t\t\n",
      "\t\t\n",
      "          Watch 180+ NHL Games\n",
      "\t\t\n",
      "\t\n",
      "==================================\n",
      "http://www.espn.com/watch/series/f48c68af-f980-4fcb-8b59-2a0db01f50cf/detail ==> \n",
      "\t\t\t\n",
      "\t\t\n",
      "          Kobe Bryant's Detail\n",
      "\t\t\n",
      "\t\n",
      "==================================\n",
      "http://www.espn.com/watch/series/0514c1ad-efd1-4d3a-ad82-41ca579a94a2/30-for-30-spotlight ==> \n",
      "\t\t\t\n",
      "\t\t\n",
      "          30 for 30 Archive\n",
      "\t\t\n",
      "\t\n",
      "==================================\n",
      "http://www.espn.com/mlb/story/_/id/24822058/2018-mlb-postseason-complete-coverage-every-series ==> \n",
      "\t\t\t\n",
      "\t\t\n",
      "          MLB Playoffs\n",
      "\t\t\n",
      "\t\n",
      "==================================\n",
      "httphttp://fantasy.espn.com/basketball/welcome?ex_cid=FBA2018_P1QLhttp/basketball/welcome?ex_cid=FBA2018_P1QL ==> \n",
      "\t\t\t\n",
      "\t\t\n",
      "          Fantasy Basketball: Sign Up\n",
      "\t\t\n",
      "\t\n",
      "==================================\n",
      "None ==> \n",
      "==================================\n",
      "# ==> \n",
      "      Manage Favorites\n",
      "      \n",
      "==================================\n",
      "http://espndeportes.espn.com ==> \n",
      "\t\t\t\n",
      "\t\t\n",
      "          ESPN Deportes\n",
      "\t\t\n",
      "\t\n",
      "==================================\n",
      "https://theundefeated.com ==> \n",
      "\t\t\t\n",
      "\t\t\n",
      "          The Undefeated\n",
      "\t\t\n",
      "\t\n",
      "==================================\n",
      "http://www.espn.com/espnw/ ==> \n",
      "\t\t\t\n",
      "\t\t\n",
      "          espnW\n",
      "\t\t\n",
      "\t\n",
      "==================================\n",
      "http://www.espnfc.us ==> \n",
      "\t\t\t\n",
      "\t\t\n",
      "          ESPNFC\n",
      "\t\t\n",
      "\t\n",
      "==================================\n",
      "http://xgames.espn.com ==> \n",
      "\t\t\t\n",
      "\t\t\n",
      "          X Games\n",
      "\t\t\n",
      "\t\n",
      "==================================\n",
      "http://www.secsports.com ==> \n",
      "\t\t\t\n",
      "\t\t\n",
      "          SEC Network\n",
      "\t\t\n",
      "\t\n",
      "==================================\n",
      "http://www.espn.com/espn/apps/download?app=espn ==> \n",
      "\t\t\t\n",
      "\t\t\n",
      "          ESPN\n",
      "\t\t\n",
      "\t\n",
      "==================================\n",
      "http://www.espn.com/espn/mobile/products/products/_/id/17145860 ==> \n",
      "\t\t\t\n",
      "\t\t\n",
      "          ESPN Fantasy\n",
      "\t\t\n",
      "\t\n",
      "==================================\n",
      "https://www.facebook.com/ESPN/ ==> \n",
      "\t\t\t\n",
      "\t\t\n",
      "          Facebook\n",
      "\t\t\n",
      "\t\n",
      "==================================\n",
      "https://twitter.com/espn ==> \n",
      "\t\t\t\n",
      "\t\t\n",
      "          Twitter\n",
      "\t\t\n",
      "\t\n",
      "==================================\n",
      "https://www.instagram.com/espn/ ==> \n",
      "\t\t\t\n",
      "\t\t\n",
      "          Instagram\n",
      "\t\t\n",
      "\t\n",
      "==================================\n",
      "https://www.snapchat.com/discover/ESPN/7296089122 ==> \n",
      "\t\t\t\n",
      "\t\t\n",
      "          Snapchat\n",
      "\t\t\n",
      "\t\n",
      "==================================\n",
      "https://www.youtube.com/channel/UCiWLfSweyRNmLpgEHekhoAg?ex_cid=espn-left-nav-follow-us-youtube ==> \n",
      "\t\t\t\n",
      "\t\t\n",
      "          YouTube\n",
      "\t\t\n",
      "\t\n",
      "==================================\n",
      "http://www.espn.com/espn/espndaily ==> \n",
      "\t\t\t\n",
      "\t\t\n",
      "          ESPN Daily Newsletter\n",
      "\t\t\n",
      "\t\n",
      "==================================\n",
      "http://cal.espn.com/espn-daily-calendar?utm_source=espn_homepage_left_nav ==> \n",
      "\t\t\t\n",
      "\t\t\n",
      "          ESPN Daily Calendar\n",
      "\t\t\n",
      "\t\n",
      "==================================\n",
      "http://www.espn.com/espn/feature/story/_/id/24504654/kyrie-irving-art-sick-handles-nba ==> Step into Kyrie's world of ridiculous dribble movesChris Forsberg\n",
      "==================================\n",
      "/nfl/story/_/id/24942401/antonio-brown-sued-allegedly-throwing-items-balcony ==> Steelers' Brown sued after alleged incident\n",
      "==================================\n",
      "/nfl/story/_/id/24940559/michael-thomas-calls-josh-norman-goof-ball-con-artist-cap-late-night-twitter-feud ==> Saints' Thomas rips Norman in Twitter tirade\n",
      "==================================\n",
      "/mlb/story/_/id/24942409/alex-bregman-houston-astros-annoyed-alds-schedule-glad-return-prime ==> Annoyed Bregman: Astros should be 'main event'\n",
      "==================================\n",
      "/nfl/story/_/id/24941622/jerry-jones-says-cowboys-had-no-1-wr-years ==> Jones: Cowboys haven't had No. 1 WR in years\n",
      "==================================\n",
      "/nfl/story/_/id/24941255/los-angeles-chargers-owner-alex-spanos-dies-95 ==> Chargers owner Alex Spanos dies at 95\n",
      "==================================\n",
      "/nfl/story/_/id/24941036/george-taliaferro-first-african-american-player-drafted-nfl-dies ==> Taliaferro, 1st black player drafted in NFL, dies\n",
      "==================================\n",
      "/college-football/insider/story/_/id/24919864/favorite-top-running-backs-2019-nfl-draft-mel-kiper-jr-todd-mcshay ==> Kiper & McShay: RB prospects for 2019 draft\n",
      "==================================\n",
      "/mlb/ ==> ALDS\n",
      "==================================\n",
      "/mlb/ ==> See All\n",
      "==================================\n",
      "/mlb/story/_/id/24932136/your-tuesday-alds-guide-boston-red-sox-eliminate-new-york-yankees-game-4 ==> Everything you need to know about Tuesday's clash between Red Sox and YankeesAfter their Game 3 romp at Yankee Stadium, the Red Sox are just one win away from advancing to face the Astros.Adam Hunger/USA TODAY Sports\n",
      "==================================\n",
      "/mlb/story/_/id/24936294/mlb-new-york-yankees-turn-cc-sabathia-season-line ==> Can CC Sabathia save the Yankees' season?As New Yorkers know, it ain't over 'til it's over, but it could be over for the Yanks if their veteran starter can't contain the Red Sox and inspire his team.\n",
      "==================================\n",
      "/nfl/ ==> NFL\n",
      "==================================\n",
      "/nfl/ ==> See All\n",
      "==================================\n",
      "/nfl/story/_/id/24933106/nfl-power-rankings-picking-toughest-games-all-32-teams ==> Week 6 Power Rankings: Every teams' remaining schedule strengthWhich teams face the most daunting roads ahead? We have schedule ranks and toughest opponents for every team.ESPN Illustration\n",
      "==================================\n",
      "/chalk/insider/story/_/id/24941619/another-big-test-chiefs-browns-real ==> Early NFL betting look for Week 6: Another big test for the Chiefs\n",
      "==================================\n",
      "/nfl/ ==> NFL Week 5\n",
      "==================================\n",
      "/nfl/ ==> See All\n",
      "==================================\n",
      "/nfl/story/_/id/24934703/what-learned-week-5-2018-nfl-season-get-ready-wild-defensive-spending-spree ==> What we learned: Get ready for a defensive spending spreeIn a year of historic offense, it's the defenders who are poised to cash in big next. Plus: Jason Garrett on thin ice?\n",
      "==================================\n",
      "/nfl/insider/story/_/id/24892861/next-join-100-million-club-2019-offseason-free-agency-draft ==> Predicting the next five $100 million megadealsRussell Wilson could be next to enter the NFL's $100 million club. Here's who is poised to join him.\n",
      "==================================\n",
      "/nfl/story/_/id/24932463/best-worst-quarterbacks-week-5-nfl-2018-total-qbr ==> Best and worst QBs: Tannehill tanks againFor a second straight week, Ryan Tannehill posted the week's worst Total QBR. Here are the week's best and worst performances.\n",
      "==================================\n",
      "/nba/ ==> NBA\n",
      "==================================\n",
      "/nba/ ==> See All\n",
      "==================================\n",
      "/nba/insider/story/_/id/24933413/scouting-james-wiseman-cole-anthony-more-2020-nba-draft-prospects-usa-basketball ==> Inside the early race for 2020's No. 1 NBA draft pickESPN's NBA draft experts break down the next crop of top prospects.\n",
      "==================================\n",
      "/nba/team/_/name/gs/golden-state-warriors ==> WarriorsNBA\n",
      "==================================\n",
      "/nba/team/_/name/gs/golden-state-warriors ==> See All\n",
      "==================================\n",
      "http://www.espn.com/watch/series/c31393a0-346f-4269-b680-18338b6e4c4f/basketball-a-love-story ==> Exploring the complex nature of love as it relates to the game\n",
      "==================================\n",
      "/college-football/ ==> College Football\n",
      "==================================\n",
      "/college-football/ ==> See All\n",
      "==================================\n",
      "/college-football/story/_/id/24934752/not-all-undefeated-records-created-equal ==> Not all undefeated records are created equalJust because a team is undefeated doesn't mean it's playoff-worthy. Let's compare résumés to figure out who the contenders and pretenders are.AP Photo/Carlos Osorio\n",
      "==================================\n",
      "/college-football/story/_/id/24930711/heisman-trophy-radar-contenders ==> Players not getting enough Heisman loveWe all know about Tua Tagovailoa and Kyler Murray. They deserve their Heisman hype. But here are six under-the-radar players who deserve attention, too.\n",
      "==================================\n",
      "/college-football/story/_/page/bottom100918/bottom-10-favorite-losers-ones-cover-them ==> The Bottom 10's favorite losers and those who cover themSometimes writers have to get creative when covering losing teams, which is why we're deferring to the experts this week.\n",
      "==================================\n",
      "/nfl/team/_/name/dal/dallas-cowboys ==> CowboysNFL\n",
      "==================================\n",
      "/nfl/team/_/name/dal/dallas-cowboys ==> See All\n",
      "==================================\n",
      "/blog/dallas-cowboys/post/_/id/4767666/jason-garretts-future-in-dallas-on-the-line-as-patience-wanes ==> Jason Garrett's future in Dallas on the line as patience wanesWould Jerry Jones make an in-season move? What would the impact be on Dak Prescott? Questions mount as the Cowboys' season lags.\n",
      "==================================\n",
      "/nfl/story/_/id/24942401/antonio-brown-sued-allegedly-throwing-items-balcony ==> Steelers' Brown sued after alleged incident\n",
      "==================================\n",
      "/nfl/story/_/id/24940559/michael-thomas-calls-josh-norman-goof-ball-con-artist-cap-late-night-twitter-feud ==> Saints' Thomas rips Norman in Twitter tirade\n",
      "==================================\n",
      "/mlb/story/_/id/24942409/alex-bregman-houston-astros-annoyed-alds-schedule-glad-return-prime ==> Annoyed Bregman: Astros should be 'main event'\n",
      "==================================\n",
      "/nfl/story/_/id/24941622/jerry-jones-says-cowboys-had-no-1-wr-years ==> Jones: Cowboys haven't had No. 1 WR in years\n",
      "==================================\n",
      "/nfl/story/_/id/24941255/los-angeles-chargers-owner-alex-spanos-dies-95 ==> Chargers owner Alex Spanos dies at 95\n",
      "==================================\n",
      "/nfl/story/_/id/24941036/george-taliaferro-first-african-american-player-drafted-nfl-dies ==> Taliaferro, 1st black player drafted in NFL, dies\n",
      "==================================\n",
      "/college-football/insider/story/_/id/24919864/favorite-top-running-backs-2019-nfl-draft-mel-kiper-jr-todd-mcshay ==> Kiper & McShay: RB prospects for 2019 draft\n",
      "==================================\n",
      "None ==> \n",
      "==================================\n",
      "# ==> Manage Favorites\n",
      "==================================\n",
      "http://www.espn.com/fantasy/ ==> Fantasy Home\n",
      "==================================\n",
      "http://fantasy.espn.com/basketball/welcome?ex_cid=FBA2018_RightRailCreate ==> Create A League\n",
      "==================================\n",
      "http://fantasy.espn.com/basketball/welcome?ex_cid=FBA2018_RightRailNow ==> Draft a Team Now\n",
      "==================================\n",
      "http://fantasy.espn.com/basketball/welcome?ex_cid=FBA2018_RightRailLater ==> Draft a Team Later\n",
      "==================================\n",
      "http://fantasy.espn.com/basketball/mockdraftlobby ==> Mock Draft Now\n",
      "==================================\n",
      "http://www.espn.com/espn/feature/story/_/id/24504198/the-nba-best-signature-moves-michael-jordan-fadeaway-allen-iverson-crossover ==> \n",
      "==================================\n",
      "http://www.espn.com/espn/feature/story/_/id/24504198/the-nba-best-signature-moves-michael-jordan-fadeaway-allen-iverson-crossover ==> Game Changers\n",
      "==================================\n",
      "/mlb/story/_/id/24367000/the-top-25-most-miserable-fan-bases-professional-sports ==> \n",
      "==================================\n",
      "/mlb/story/_/id/24367000/the-top-25-most-miserable-fan-bases-professional-sports ==> When fandom goes bad: Most miserable fan bases in pro sports\n",
      "==================================\n",
      "/nba/story/_/id/24857619/zach-lowe-2018-19-nba-league-pass-rankings-part-2 ==> \n",
      "==================================\n",
      "/nba/story/_/id/24857619/zach-lowe-2018-19-nba-league-pass-rankings-part-2 ==> The 2018-19 NBA League Pass Rankings, Part 2\n",
      "==================================\n",
      "https://disneyprivacycenter.com/ ==> Privacy Policy\n",
      "==================================\n",
      "http://www.espn.com/espn/daily ==> Read the Latest\n",
      "==================================\n",
      "https:plus.espn.com/ ==> \n",
      "\t\t\t\n",
      "\t\t\n",
      "          Subscribe Now\n",
      "\t\t\n",
      "\t\n",
      "==================================\n",
      "http://www.espn.com/watch/espnplus/ ==> \n",
      "\t\t\t\n",
      "\t\t\n",
      "          ESPN+ Home\n",
      "\t\t\n",
      "\t\n",
      "==================================\n",
      "http://www.espn.com/watch/collections/11264/nhl-live-upcoming?om-navmethod=footer ==> \n",
      "\t\t\t\n",
      "\t\t\n",
      "          Watch 180+ NHL Games\n",
      "\t\t\n",
      "\t\n",
      "==================================\n",
      "http://www.espn.com/watch/series/f48c68af-f980-4fcb-8b59-2a0db01f50cf/detail ==> \n",
      "\t\t\t\n",
      "\t\t\n",
      "          Kobe Bryant's Detail\n",
      "\t\t\n",
      "\t\n",
      "==================================\n",
      "http://www.espn.com/watch/series/0514c1ad-efd1-4d3a-ad82-41ca579a94a2/30-for-30-spotlight ==> \n",
      "\t\t\t\n",
      "\t\t\n",
      "          30 for 30 Archive\n",
      "\t\t\n",
      "\t\n",
      "==================================\n",
      "http://www.espn.com/mlb/story/_/id/24822058/2018-mlb-postseason-complete-coverage-every-series ==> \n",
      "\t\t\t\n",
      "\t\t\n",
      "          MLB Playoffs\n",
      "\t\t\n",
      "\t\n",
      "==================================\n",
      "httphttp://fantasy.espn.com/basketball/welcome?ex_cid=FBA2018_P1QLhttp/basketball/welcome?ex_cid=FBA2018_P1QL ==> \n",
      "\t\t\t\n",
      "\t\t\n",
      "          Fantasy Basketball: Sign Up\n",
      "\t\t\n",
      "\t\n",
      "==================================\n",
      "http://espndeportes.espn.com ==> \n",
      "\t\t\t\n",
      "\t\t\n",
      "          ESPN Deportes\n",
      "\t\t\n",
      "\t\n",
      "==================================\n",
      "https://theundefeated.com ==> \n",
      "\t\t\t\n",
      "\t\t\n",
      "          The Undefeated\n",
      "\t\t\n",
      "\t\n",
      "==================================\n",
      "http://www.espn.com/espnw/ ==> \n",
      "\t\t\t\n",
      "\t\t\n",
      "          espnW\n",
      "\t\t\n",
      "\t\n",
      "==================================\n",
      "http://www.espnfc.us ==> \n",
      "\t\t\t\n",
      "\t\t\n",
      "          ESPNFC\n",
      "\t\t\n",
      "\t\n",
      "==================================\n",
      "http://xgames.espn.com ==> \n",
      "\t\t\t\n",
      "\t\t\n",
      "          X Games\n",
      "\t\t\n",
      "\t\n",
      "==================================\n",
      "http://www.secsports.com ==> \n",
      "\t\t\t\n",
      "\t\t\n",
      "          SEC Network\n",
      "\t\t\n",
      "\t\n",
      "==================================\n",
      "http://www.espn.com/espn/apps/download?app=espn ==> \n",
      "\t\t\t\n",
      "\t\t\n",
      "          ESPN\n",
      "\t\t\n",
      "\t\n",
      "==================================\n",
      "http://www.espn.com/espn/mobile/products/products/_/id/17145860 ==> \n",
      "\t\t\t\n",
      "\t\t\n",
      "          ESPN Fantasy\n",
      "\t\t\n",
      "\t\n",
      "==================================\n",
      "https://www.facebook.com/ESPN/ ==> \n",
      "\t\t\t\n",
      "\t\t\n",
      "          Facebook\n",
      "\t\t\n",
      "\t\n",
      "==================================\n",
      "https://twitter.com/espn ==> \n",
      "\t\t\t\n",
      "\t\t\n",
      "          Twitter\n",
      "\t\t\n",
      "\t\n",
      "==================================\n",
      "https://www.instagram.com/espn/ ==> \n",
      "\t\t\t\n",
      "\t\t\n",
      "          Instagram\n",
      "\t\t\n",
      "\t\n",
      "==================================\n",
      "https://www.snapchat.com/discover/ESPN/7296089122 ==> \n",
      "\t\t\t\n",
      "\t\t\n",
      "          Snapchat\n",
      "\t\t\n",
      "\t\n",
      "==================================\n",
      "https://www.youtube.com/channel/UCiWLfSweyRNmLpgEHekhoAg?ex_cid=espn-footer-follow-us-youtube ==> \n",
      "\t\t\t\n",
      "\t\t\n",
      "          YouTube\n",
      "\t\t\n",
      "\t\n",
      "==================================\n",
      "http://www.espn.com/espn/espndaily ==> \n",
      "\t\t\t\n",
      "\t\t\n",
      "          ESPN Daily Newsletter\n",
      "\t\t\n",
      "\t\n",
      "==================================\n",
      "http://cal.espn.com/espn-daily-calendar?utm_source=espn_homepage_footer ==> \n",
      "\t\t\t\n",
      "\t\t\n",
      "          ESPN Daily Calendar\n",
      "\t\t\n",
      "\t\n",
      "==================================\n",
      "http://disneytermsofuse.com/ ==> Terms of Use\n",
      "==================================\n",
      "http://disneyprivacycenter.com/ ==> Privacy Policy\n",
      "==================================\n",
      "https://disneyprivacycenter.com/notice-to-california-residents/ ==> CA Privacy Rights\n",
      "==================================\n",
      "https://disneyprivacycenter.com/kids-privacy-policy/english/ ==> Children's Online Privacy Policy\n",
      "==================================\n",
      "http://preferences-mgr.truste.com/?type=espn&affiliateId=148 ==> Interest-based Ads\n",
      "==================================\n",
      "http://priv-policy.imrworldwide.com/priv/browser/us/en/optout.html ==> About Nielsen Measurement\n",
      "==================================\n",
      "http://www.espn.com/espn/news/story?page=help-index ==> Help\n",
      "==================================\n",
      "http://proxy.espn.com/espn/bugs?url=http://www.espn.com/ ==> Report a Bug\n",
      "==================================\n",
      "http://www.espn.com/espn/news/story?page=contact-index ==> Contact Us\n",
      "==================================\n",
      "http://www.espn.com/espn/corrections ==> Corrections\n",
      "==================================\n",
      "http://www.espncms.com/Advertise-on-ESPN.aspx ==> Advertise on ESPN.com\n",
      "==================================\n",
      "http://www.espncms.com/ ==> Sales Media Kit\n",
      "==================================\n",
      "http://espncareers.com/ ==> Jobs at ESPN\n",
      "==================================\n",
      "http://www.espnfrontrow.com/ ==> ESPN Front Row\n",
      "==================================\n",
      "http://espnmediazone.com/us/ ==> Press\n",
      "==================================\n",
      "http://www.espn.com/espn/sitemap ==> Site Map\n",
      "==================================\n",
      "http://www.espn.com/espn/news/story?page=patents ==> Patents\n",
      "==================================\n",
      "http://www.nielsen.com/digitalprivacy ==> About Nielsen Measurement\n",
      "==================================\n",
      "https://privacy.thewaltdisneycompany.com/en/current-privacy-policy/cookies-policy/ ==> More Info Here\n",
      "==================================\n",
      "https://preferences-mgr.truste.com/?pid=disney01&aid=espnemea01&type=espnemea ==> Cookie Choices\n"
     ]
    }
   ],
   "source": [
    "links = doc.xpath(\"//a\")\n",
    "# Iterates over all the links (this means all the nodes\n",
    "# that matched the //a XPath query) and prints the content\n",
    "# of the attribute href and the text for that node\n",
    "for link in links:\n",
    "    print(\"==================================\")\n",
    "    print(link.get(\"href\"), \"==>\", link.text_content())"
   ]
  },
  {
   "cell_type": "code",
   "execution_count": 16,
   "metadata": {},
   "outputs": [
    {
     "data": {
      "text/plain": [
       "lxml.html.HtmlElement"
      ]
     },
     "execution_count": 16,
     "metadata": {},
     "output_type": "execute_result"
    }
   ],
   "source": [
    "lnk = links[70]\n",
    "type(lnk)"
   ]
  },
  {
   "cell_type": "markdown",
   "metadata": {},
   "source": [
    "The `lnk` variable is again an HtmlElement. To get parts of the html element that we need, we can use the `get` method (e.g., to get the `href` attribute) and the `text` method (to get the text within the `<a>...</a>` tag."
   ]
  },
  {
   "cell_type": "code",
   "execution_count": 17,
   "metadata": {},
   "outputs": [
    {
     "data": {
      "text/plain": [
       "'/mlb/story/_/id/24942409/alex-bregman-houston-astros-annoyed-alds-schedule-glad-return-prime'"
      ]
     },
     "execution_count": 17,
     "metadata": {},
     "output_type": "execute_result"
    }
   ],
   "source": [
    "lnk.get(\"href\")"
   ]
  },
  {
   "cell_type": "code",
   "execution_count": 18,
   "metadata": {},
   "outputs": [
    {
     "data": {
      "text/plain": [
       "\"Annoyed Bregman: Astros should be 'main event'\""
      ]
     },
     "execution_count": 18,
     "metadata": {},
     "output_type": "execute_result"
    }
   ],
   "source": [
    "lnk.text_content()"
   ]
  },
  {
   "cell_type": "code",
   "execution_count": 19,
   "metadata": {},
   "outputs": [
    {
     "data": {
      "text/plain": [
       "\"Annoyed Bregman: Astros should be 'main event'\""
      ]
     },
     "execution_count": 19,
     "metadata": {},
     "output_type": "execute_result"
    }
   ],
   "source": [
    "lnk.text_content().strip()"
   ]
  },
  {
   "cell_type": "markdown",
   "metadata": {},
   "source": [
    "Now, let's revisit the _list comprehension_ approach that we discussed in the Python Primer session, for quickly constructing lists:"
   ]
  },
  {
   "cell_type": "code",
   "execution_count": 22,
   "metadata": {
    "collapsed": true
   },
   "outputs": [
    {
     "data": {
      "text/plain": [
       "['#',\n",
       " '/',\n",
       " '#',\n",
       " '#',\n",
       " '/nfl/',\n",
       " '/nba/',\n",
       " '/mlb/',\n",
       " '/college-football/',\n",
       " '/soccer/',\n",
       " '/nhl/',\n",
       " '/golf/',\n",
       " '/tennis/',\n",
       " '#',\n",
       " '/mma/',\n",
       " '/wwe/',\n",
       " '/boxing/',\n",
       " '/esports/',\n",
       " '/chalk/',\n",
       " '/analytics/',\n",
       " '/mens-college-basketball/',\n",
       " '/womens-basketball/',\n",
       " '/womens-basketball/',\n",
       " 'http://www.espn.com/espnw/sport/ncaa-softball/',\n",
       " '/racing/nascar/',\n",
       " '/jayski/',\n",
       " '/f1/',\n",
       " '/racing/',\n",
       " '/olympics/',\n",
       " '/horse-racing/',\n",
       " 'http://www.espn.com/college-sports/football/recruiting/',\n",
       " 'http://www.espn.com/college-sports/basketball/recruiting/',\n",
       " '/college-sports/',\n",
       " '/little-league-world-series/',\n",
       " 'http://www.espn.com/specialolympics/',\n",
       " 'http://xgames.com/',\n",
       " 'http://espncricinfo.com/',\n",
       " '/rugby/',\n",
       " 'http://www.tsn.ca/cfl',\n",
       " '#',\n",
       " '/fantasy/',\n",
       " 'http://www.espn.com/espnradio/index',\n",
       " 'http://www.espn.com/watch/',\n",
       " 'http://www.espn.com/watch/espnplus/?om-navmethod=topnav',\n",
       " 'https:plus.espn.com/',\n",
       " 'http://www.espn.com/watch/espnplus/',\n",
       " 'http://www.espn.com/watch/collections/11264/nhl-live-upcoming?om-navmethod=leftnav',\n",
       " 'http://www.espn.com/watch/series/f48c68af-f980-4fcb-8b59-2a0db01f50cf/detail',\n",
       " 'http://www.espn.com/watch/series/0514c1ad-efd1-4d3a-ad82-41ca579a94a2/30-for-30-spotlight',\n",
       " 'http://www.espn.com/mlb/story/_/id/24822058/2018-mlb-postseason-complete-coverage-every-series',\n",
       " 'httphttp://fantasy.espn.com/basketball/welcome?ex_cid=FBA2018_P1QLhttp/basketball/welcome?ex_cid=FBA2018_P1QL',\n",
       " None,\n",
       " '#',\n",
       " 'http://espndeportes.espn.com',\n",
       " 'https://theundefeated.com',\n",
       " 'http://www.espn.com/espnw/',\n",
       " 'http://www.espnfc.us',\n",
       " 'http://xgames.espn.com',\n",
       " 'http://www.secsports.com',\n",
       " 'http://www.espn.com/espn/apps/download?app=espn',\n",
       " 'http://www.espn.com/espn/mobile/products/products/_/id/17145860',\n",
       " 'https://www.facebook.com/ESPN/',\n",
       " 'https://twitter.com/espn',\n",
       " 'https://www.instagram.com/espn/',\n",
       " 'https://www.snapchat.com/discover/ESPN/7296089122',\n",
       " 'https://www.youtube.com/channel/UCiWLfSweyRNmLpgEHekhoAg?ex_cid=espn-left-nav-follow-us-youtube',\n",
       " 'http://www.espn.com/espn/espndaily',\n",
       " 'http://cal.espn.com/espn-daily-calendar?utm_source=espn_homepage_left_nav',\n",
       " 'http://www.espn.com/espn/feature/story/_/id/24504654/kyrie-irving-art-sick-handles-nba',\n",
       " '/nfl/story/_/id/24942401/antonio-brown-sued-allegedly-throwing-items-balcony',\n",
       " '/nfl/story/_/id/24940559/michael-thomas-calls-josh-norman-goof-ball-con-artist-cap-late-night-twitter-feud',\n",
       " '/mlb/story/_/id/24942409/alex-bregman-houston-astros-annoyed-alds-schedule-glad-return-prime',\n",
       " '/nfl/story/_/id/24941622/jerry-jones-says-cowboys-had-no-1-wr-years',\n",
       " '/nfl/story/_/id/24941255/los-angeles-chargers-owner-alex-spanos-dies-95',\n",
       " '/nfl/story/_/id/24941036/george-taliaferro-first-african-american-player-drafted-nfl-dies',\n",
       " '/college-football/insider/story/_/id/24919864/favorite-top-running-backs-2019-nfl-draft-mel-kiper-jr-todd-mcshay',\n",
       " '/mlb/',\n",
       " '/mlb/',\n",
       " '/mlb/story/_/id/24932136/your-tuesday-alds-guide-boston-red-sox-eliminate-new-york-yankees-game-4',\n",
       " '/mlb/story/_/id/24936294/mlb-new-york-yankees-turn-cc-sabathia-season-line',\n",
       " '/nfl/',\n",
       " '/nfl/',\n",
       " '/nfl/story/_/id/24933106/nfl-power-rankings-picking-toughest-games-all-32-teams',\n",
       " '/chalk/insider/story/_/id/24941619/another-big-test-chiefs-browns-real',\n",
       " '/nfl/',\n",
       " '/nfl/',\n",
       " '/nfl/story/_/id/24934703/what-learned-week-5-2018-nfl-season-get-ready-wild-defensive-spending-spree',\n",
       " '/nfl/insider/story/_/id/24892861/next-join-100-million-club-2019-offseason-free-agency-draft',\n",
       " '/nfl/story/_/id/24932463/best-worst-quarterbacks-week-5-nfl-2018-total-qbr',\n",
       " '/nba/',\n",
       " '/nba/',\n",
       " '/nba/insider/story/_/id/24933413/scouting-james-wiseman-cole-anthony-more-2020-nba-draft-prospects-usa-basketball',\n",
       " '/nba/team/_/name/gs/golden-state-warriors',\n",
       " '/nba/team/_/name/gs/golden-state-warriors',\n",
       " 'http://www.espn.com/watch/series/c31393a0-346f-4269-b680-18338b6e4c4f/basketball-a-love-story',\n",
       " '/college-football/',\n",
       " '/college-football/',\n",
       " '/college-football/story/_/id/24934752/not-all-undefeated-records-created-equal',\n",
       " '/college-football/story/_/id/24930711/heisman-trophy-radar-contenders',\n",
       " '/college-football/story/_/page/bottom100918/bottom-10-favorite-losers-ones-cover-them',\n",
       " '/nfl/team/_/name/dal/dallas-cowboys',\n",
       " '/nfl/team/_/name/dal/dallas-cowboys',\n",
       " '/blog/dallas-cowboys/post/_/id/4767666/jason-garretts-future-in-dallas-on-the-line-as-patience-wanes',\n",
       " '/nfl/story/_/id/24942401/antonio-brown-sued-allegedly-throwing-items-balcony',\n",
       " '/nfl/story/_/id/24940559/michael-thomas-calls-josh-norman-goof-ball-con-artist-cap-late-night-twitter-feud',\n",
       " '/mlb/story/_/id/24942409/alex-bregman-houston-astros-annoyed-alds-schedule-glad-return-prime',\n",
       " '/nfl/story/_/id/24941622/jerry-jones-says-cowboys-had-no-1-wr-years',\n",
       " '/nfl/story/_/id/24941255/los-angeles-chargers-owner-alex-spanos-dies-95',\n",
       " '/nfl/story/_/id/24941036/george-taliaferro-first-african-american-player-drafted-nfl-dies',\n",
       " '/college-football/insider/story/_/id/24919864/favorite-top-running-backs-2019-nfl-draft-mel-kiper-jr-todd-mcshay',\n",
       " None,\n",
       " '#',\n",
       " 'http://www.espn.com/fantasy/',\n",
       " 'http://fantasy.espn.com/basketball/welcome?ex_cid=FBA2018_RightRailCreate',\n",
       " 'http://fantasy.espn.com/basketball/welcome?ex_cid=FBA2018_RightRailNow',\n",
       " 'http://fantasy.espn.com/basketball/welcome?ex_cid=FBA2018_RightRailLater',\n",
       " 'http://fantasy.espn.com/basketball/mockdraftlobby',\n",
       " 'http://www.espn.com/espn/feature/story/_/id/24504198/the-nba-best-signature-moves-michael-jordan-fadeaway-allen-iverson-crossover',\n",
       " 'http://www.espn.com/espn/feature/story/_/id/24504198/the-nba-best-signature-moves-michael-jordan-fadeaway-allen-iverson-crossover',\n",
       " '/mlb/story/_/id/24367000/the-top-25-most-miserable-fan-bases-professional-sports',\n",
       " '/mlb/story/_/id/24367000/the-top-25-most-miserable-fan-bases-professional-sports',\n",
       " '/nba/story/_/id/24857619/zach-lowe-2018-19-nba-league-pass-rankings-part-2',\n",
       " '/nba/story/_/id/24857619/zach-lowe-2018-19-nba-league-pass-rankings-part-2',\n",
       " 'https://disneyprivacycenter.com/',\n",
       " 'http://www.espn.com/espn/daily',\n",
       " 'https:plus.espn.com/',\n",
       " 'http://www.espn.com/watch/espnplus/',\n",
       " 'http://www.espn.com/watch/collections/11264/nhl-live-upcoming?om-navmethod=footer',\n",
       " 'http://www.espn.com/watch/series/f48c68af-f980-4fcb-8b59-2a0db01f50cf/detail',\n",
       " 'http://www.espn.com/watch/series/0514c1ad-efd1-4d3a-ad82-41ca579a94a2/30-for-30-spotlight',\n",
       " 'http://www.espn.com/mlb/story/_/id/24822058/2018-mlb-postseason-complete-coverage-every-series',\n",
       " 'httphttp://fantasy.espn.com/basketball/welcome?ex_cid=FBA2018_P1QLhttp/basketball/welcome?ex_cid=FBA2018_P1QL',\n",
       " 'http://espndeportes.espn.com',\n",
       " 'https://theundefeated.com',\n",
       " 'http://www.espn.com/espnw/',\n",
       " 'http://www.espnfc.us',\n",
       " 'http://xgames.espn.com',\n",
       " 'http://www.secsports.com',\n",
       " 'http://www.espn.com/espn/apps/download?app=espn',\n",
       " 'http://www.espn.com/espn/mobile/products/products/_/id/17145860',\n",
       " 'https://www.facebook.com/ESPN/',\n",
       " 'https://twitter.com/espn',\n",
       " 'https://www.instagram.com/espn/',\n",
       " 'https://www.snapchat.com/discover/ESPN/7296089122',\n",
       " 'https://www.youtube.com/channel/UCiWLfSweyRNmLpgEHekhoAg?ex_cid=espn-footer-follow-us-youtube',\n",
       " 'http://www.espn.com/espn/espndaily',\n",
       " 'http://cal.espn.com/espn-daily-calendar?utm_source=espn_homepage_footer',\n",
       " 'http://disneytermsofuse.com/',\n",
       " 'http://disneyprivacycenter.com/',\n",
       " 'https://disneyprivacycenter.com/notice-to-california-residents/',\n",
       " 'https://disneyprivacycenter.com/kids-privacy-policy/english/',\n",
       " 'http://preferences-mgr.truste.com/?type=espn&affiliateId=148',\n",
       " 'http://priv-policy.imrworldwide.com/priv/browser/us/en/optout.html',\n",
       " 'http://www.espn.com/espn/news/story?page=help-index',\n",
       " 'http://proxy.espn.com/espn/bugs?url=http://www.espn.com/',\n",
       " 'http://www.espn.com/espn/news/story?page=contact-index',\n",
       " 'http://www.espn.com/espn/corrections',\n",
       " 'http://www.espncms.com/Advertise-on-ESPN.aspx',\n",
       " 'http://www.espncms.com/',\n",
       " 'http://espncareers.com/',\n",
       " 'http://www.espnfrontrow.com/',\n",
       " 'http://espnmediazone.com/us/',\n",
       " 'http://www.espn.com/espn/sitemap',\n",
       " 'http://www.espn.com/espn/news/story?page=patents',\n",
       " 'http://www.nielsen.com/digitalprivacy',\n",
       " 'https://privacy.thewaltdisneycompany.com/en/current-privacy-policy/cookies-policy/',\n",
       " 'https://preferences-mgr.truste.com/?pid=disney01&aid=espnemea01&type=espnemea']"
      ]
     },
     "execution_count": 22,
     "metadata": {},
     "output_type": "execute_result"
    }
   ],
   "source": [
    "urls = [lnk.get(\"href\") for lnk in doc.xpath('//a')]\n",
    "urls"
   ]
  },
  {
   "cell_type": "markdown",
   "metadata": {},
   "source": [
    "#### Exercise\n",
    "\n",
    "Use a list compresension approach, to get the text_content of all the URLs in the page."
   ]
  },
  {
   "cell_type": "code",
   "execution_count": 24,
   "metadata": {},
   "outputs": [
    {
     "data": {
      "text/plain": [
       "['Menu',\n",
       " 'ESPN',\n",
       " '',\n",
       " 'Scores',\n",
       " 'NFL',\n",
       " 'NBA',\n",
       " 'MLB',\n",
       " 'NCAAF',\n",
       " 'Soccer',\n",
       " 'NHL',\n",
       " 'Golf',\n",
       " 'Tennis',\n",
       " '…',\n",
       " 'MMA',\n",
       " 'WWE',\n",
       " 'Boxing',\n",
       " 'esports',\n",
       " 'Chalk',\n",
       " 'Analytics',\n",
       " 'NCAAM',\n",
       " 'WNBA',\n",
       " 'NCAAW',\n",
       " 'NCAA Softball',\n",
       " 'NASCAR',\n",
       " 'Jayski',\n",
       " 'F1',\n",
       " 'Racing',\n",
       " 'Olympic Sports',\n",
       " 'Horse',\n",
       " 'RN FB',\n",
       " 'RN BB',\n",
       " 'NCAA',\n",
       " 'LLWS',\n",
       " 'Special Olympics',\n",
       " 'X Games',\n",
       " 'Cricket',\n",
       " 'Rugby',\n",
       " 'CFL',\n",
       " 'More ESPN',\n",
       " 'Fantasy',\n",
       " 'Listen',\n",
       " 'Watch',\n",
       " 'ESPN+',\n",
       " 'Subscribe Now',\n",
       " 'ESPN+ Home',\n",
       " 'Watch 180+ NHL Games',\n",
       " \"Kobe Bryant's Detail\",\n",
       " '30 for 30 Archive',\n",
       " 'MLB Playoffs',\n",
       " 'Fantasy Basketball: Sign Up',\n",
       " '',\n",
       " 'Manage Favorites',\n",
       " 'ESPN Deportes',\n",
       " 'The Undefeated',\n",
       " 'espnW',\n",
       " 'ESPNFC',\n",
       " 'X Games',\n",
       " 'SEC Network',\n",
       " 'ESPN',\n",
       " 'ESPN Fantasy',\n",
       " 'Facebook',\n",
       " 'Twitter',\n",
       " 'Instagram',\n",
       " 'Snapchat',\n",
       " 'YouTube',\n",
       " 'ESPN Daily Newsletter',\n",
       " 'ESPN Daily Calendar',\n",
       " \"Step into Kyrie's world of ridiculous dribble movesChris Forsberg\",\n",
       " \"Steelers' Brown sued after alleged incident\",\n",
       " \"Saints' Thomas rips Norman in Twitter tirade\",\n",
       " \"Annoyed Bregman: Astros should be 'main event'\",\n",
       " \"Jones: Cowboys haven't had No. 1 WR in years\",\n",
       " 'Chargers owner Alex Spanos dies at 95',\n",
       " 'Taliaferro, 1st black player drafted in NFL, dies',\n",
       " 'Kiper & McShay: RB prospects for 2019 draft',\n",
       " 'ALDS',\n",
       " 'See All',\n",
       " \"Everything you need to know about Tuesday's clash between Red Sox and YankeesAfter their Game 3 romp at Yankee Stadium, the Red Sox are just one win away from advancing to face the Astros.Adam Hunger/USA TODAY Sports\",\n",
       " \"Can CC Sabathia save the Yankees' season?As New Yorkers know, it ain't over 'til it's over, but it could be over for the Yanks if their veteran starter can't contain the Red Sox and inspire his team.\",\n",
       " 'NFL',\n",
       " 'See All',\n",
       " \"Week 6 Power Rankings: Every teams' remaining schedule strengthWhich teams face the most daunting roads ahead? We have schedule ranks and toughest opponents for every team.ESPN Illustration\",\n",
       " 'Early NFL betting look for Week 6: Another big test for the Chiefs',\n",
       " 'NFL Week 5',\n",
       " 'See All',\n",
       " \"What we learned: Get ready for a defensive spending spreeIn a year of historic offense, it's the defenders who are poised to cash in big next. Plus: Jason Garrett on thin ice?\",\n",
       " \"Predicting the next five $100 million megadealsRussell Wilson could be next to enter the NFL's $100 million club. Here's who is poised to join him.\",\n",
       " \"Best and worst QBs: Tannehill tanks againFor a second straight week, Ryan Tannehill posted the week's worst Total QBR. Here are the week's best and worst performances.\",\n",
       " 'NBA',\n",
       " 'See All',\n",
       " \"Inside the early race for 2020's No. 1 NBA draft pickESPN's NBA draft experts break down the next crop of top prospects.\",\n",
       " 'WarriorsNBA',\n",
       " 'See All',\n",
       " 'Exploring the complex nature of love as it relates to the game',\n",
       " 'College Football',\n",
       " 'See All',\n",
       " \"Not all undefeated records are created equalJust because a team is undefeated doesn't mean it's playoff-worthy. Let's compare résumés to figure out who the contenders and pretenders are.AP Photo/Carlos Osorio\",\n",
       " 'Players not getting enough Heisman loveWe all know about Tua Tagovailoa and Kyler Murray. They deserve their Heisman hype. But here are six under-the-radar players who deserve attention, too.',\n",
       " \"The Bottom 10's favorite losers and those who cover themSometimes writers have to get creative when covering losing teams, which is why we're deferring to the experts this week.\",\n",
       " 'CowboysNFL',\n",
       " 'See All',\n",
       " \"Jason Garrett's future in Dallas on the line as patience wanesWould Jerry Jones make an in-season move? What would the impact be on Dak Prescott? Questions mount as the Cowboys' season lags.\",\n",
       " \"Steelers' Brown sued after alleged incident\",\n",
       " \"Saints' Thomas rips Norman in Twitter tirade\",\n",
       " \"Annoyed Bregman: Astros should be 'main event'\",\n",
       " \"Jones: Cowboys haven't had No. 1 WR in years\",\n",
       " 'Chargers owner Alex Spanos dies at 95',\n",
       " 'Taliaferro, 1st black player drafted in NFL, dies',\n",
       " 'Kiper & McShay: RB prospects for 2019 draft',\n",
       " '',\n",
       " 'Manage Favorites',\n",
       " 'Fantasy Home',\n",
       " 'Create A League',\n",
       " 'Draft a Team Now',\n",
       " 'Draft a Team Later',\n",
       " 'Mock Draft Now',\n",
       " '',\n",
       " 'Game Changers',\n",
       " '',\n",
       " 'When fandom goes bad: Most miserable fan bases in pro sports',\n",
       " '',\n",
       " 'The 2018-19 NBA League Pass Rankings, Part 2',\n",
       " 'Privacy Policy',\n",
       " 'Read the Latest',\n",
       " 'Subscribe Now',\n",
       " 'ESPN+ Home',\n",
       " 'Watch 180+ NHL Games',\n",
       " \"Kobe Bryant's Detail\",\n",
       " '30 for 30 Archive',\n",
       " 'MLB Playoffs',\n",
       " 'Fantasy Basketball: Sign Up',\n",
       " 'ESPN Deportes',\n",
       " 'The Undefeated',\n",
       " 'espnW',\n",
       " 'ESPNFC',\n",
       " 'X Games',\n",
       " 'SEC Network',\n",
       " 'ESPN',\n",
       " 'ESPN Fantasy',\n",
       " 'Facebook',\n",
       " 'Twitter',\n",
       " 'Instagram',\n",
       " 'Snapchat',\n",
       " 'YouTube',\n",
       " 'ESPN Daily Newsletter',\n",
       " 'ESPN Daily Calendar',\n",
       " 'Terms of Use',\n",
       " 'Privacy Policy',\n",
       " 'CA Privacy Rights',\n",
       " \"Children's Online Privacy Policy\",\n",
       " 'Interest-based Ads',\n",
       " 'About Nielsen Measurement',\n",
       " 'Help',\n",
       " 'Report a Bug',\n",
       " 'Contact Us',\n",
       " 'Corrections',\n",
       " 'Advertise on ESPN.com',\n",
       " 'Sales Media Kit',\n",
       " 'Jobs at ESPN',\n",
       " 'ESPN Front Row',\n",
       " 'Press',\n",
       " 'Site Map',\n",
       " 'Patents',\n",
       " 'About Nielsen Measurement',\n",
       " 'More Info Here',\n",
       " 'Cookie Choices']"
      ]
     },
     "execution_count": 24,
     "metadata": {},
     "output_type": "execute_result"
    }
   ],
   "source": [
    "# your code here\n"
   ]
  },
  {
   "cell_type": "markdown",
   "metadata": {},
   "source": [
    "And now create a list where we put together text content and the URL for each link"
   ]
  },
  {
   "cell_type": "code",
   "execution_count": null,
   "metadata": {},
   "outputs": [],
   "source": [
    "# your code here\n"
   ]
  },
  {
   "cell_type": "markdown",
   "metadata": {},
   "source": [
    "#### Let's get the headlines..."
   ]
  },
  {
   "cell_type": "markdown",
   "metadata": {},
   "source": [
    "Now, let's examine how we can get the data from the website. The key is to understand the structure of the HTML, where the data that we need is stored, and how to fetch the elements. Then, using the appropriate XPath queries, we will get what we want."
   ]
  },
  {
   "cell_type": "code",
   "execution_count": 25,
   "metadata": {},
   "outputs": [],
   "source": [
    "import requests # This command allows us to fetch URLs\n",
    "from lxml import html # This module will allow us to parse the returned HTML/XML\n",
    "import pandas # To create a dataframe"
   ]
  },
  {
   "cell_type": "markdown",
   "metadata": {},
   "source": [
    "Let's start by fetching the page, and parsing it"
   ]
  },
  {
   "cell_type": "code",
   "execution_count": 26,
   "metadata": {},
   "outputs": [],
   "source": [
    "url = \"http://www.espn.com/\"\n",
    "response = requests.get(url) # get the html of that url\n",
    "doc = html.fromstring(response.text) # parse it and create a document"
   ]
  },
  {
   "cell_type": "markdown",
   "metadata": {},
   "source": [
    "By using the `\"Right-Click > Inspect\"` option of Chrome,\n",
    "we right click on the headlines and select `\"Inspect\"`.\n",
    "This opens the source code.\n",
    "There we see that all under a `<div class=\"headlineStack\">` tag."
   ]
  },
  {
   "cell_type": "code",
   "execution_count": null,
   "metadata": {},
   "outputs": [],
   "source": [
    "headlineNode = doc.xpath('//div[@class=\"headlineStack\"]')"
   ]
  },
  {
   "cell_type": "markdown",
   "metadata": {},
   "source": [
    "The result of that operation is a list with 6 elements."
   ]
  },
  {
   "cell_type": "code",
   "execution_count": null,
   "metadata": {},
   "outputs": [],
   "source": [
    "type(headlineNode)"
   ]
  },
  {
   "cell_type": "code",
   "execution_count": null,
   "metadata": {},
   "outputs": [],
   "source": [
    "len(headlineNode)"
   ]
  },
  {
   "cell_type": "markdown",
   "metadata": {},
   "source": [
    "Each headline is under a  `<li><a href=\"....\"></a>` tag.\n",
    "So, we get all the `<li><a ...>` tags within the `<div class=\"headlineStack\">`\n",
    "(which is stored in the \"`headlineNode`\" variable)"
   ]
  },
  {
   "cell_type": "code",
   "execution_count": null,
   "metadata": {},
   "outputs": [],
   "source": [
    "headlines = headlineNode[1].xpath('.//li/a')\n",
    "len(headlines)"
   ]
  },
  {
   "cell_type": "markdown",
   "metadata": {},
   "source": [
    "Now, we have the nodes with the conent in the headlines variable.\n",
    "We extract the text and the URL."
   ]
  },
  {
   "cell_type": "code",
   "execution_count": null,
   "metadata": {},
   "outputs": [],
   "source": [
    "data = [{\"Title\": a.text_content(), \"URL\": a.get(\"href\")} for a in headlines]\n",
    "data"
   ]
  },
  {
   "cell_type": "markdown",
   "metadata": {},
   "source": [
    "And let's create our dataframe, so that we can have a better view"
   ]
  },
  {
   "cell_type": "code",
   "execution_count": null,
   "metadata": {},
   "outputs": [],
   "source": [
    "dataframe = pandas.DataFrame(data)\n",
    "dataframe"
   ]
  },
  {
   "cell_type": "markdown",
   "metadata": {},
   "source": [
    "#### Of course, there are always more than one way to skin a cat...\n",
    "\n",
    "Alternatively, if we did not want to restrict ourselves to just the first headline box, we could write an alternative query, to get back all the headlines, that appear in an XPath `//div[@class=\"headlineStack\"]//li/a`:"
   ]
  },
  {
   "cell_type": "code",
   "execution_count": null,
   "metadata": {},
   "outputs": [],
   "source": [
    "headlines = doc.xpath('//div[@class=\"headlineStack\"]//li/a')\n",
    "data = [{\"Title\": a.text_content(), \"URL\": a.get(\"href\")} for a in headlines]\n",
    "df = pandas.DataFrame(data)\n",
    "df"
   ]
  },
  {
   "cell_type": "code",
   "execution_count": 50,
   "metadata": {},
   "outputs": [
    {
     "data": {
      "text/html": [
       "<div>\n",
       "<style scoped>\n",
       "    .dataframe tbody tr th:only-of-type {\n",
       "        vertical-align: middle;\n",
       "    }\n",
       "\n",
       "    .dataframe tbody tr th {\n",
       "        vertical-align: top;\n",
       "    }\n",
       "\n",
       "    .dataframe thead th {\n",
       "        text-align: right;\n",
       "    }\n",
       "</style>\n",
       "<table border=\"1\" class=\"dataframe\">\n",
       "  <thead>\n",
       "    <tr style=\"text-align: right;\">\n",
       "      <th></th>\n",
       "      <th>Title</th>\n",
       "      <th>URL</th>\n",
       "    </tr>\n",
       "  </thead>\n",
       "  <tbody>\n",
       "    <tr>\n",
       "      <th>0</th>\n",
       "      <td>Injury-riddled Jags sign free-agent RB Charles</td>\n",
       "      <td>/nfl/story/_/id/24942611/jacksonville-jaguars-...</td>\n",
       "    </tr>\n",
       "    <tr>\n",
       "      <th>1</th>\n",
       "      <td>Steelers' Brown sued after alleged incident</td>\n",
       "      <td>/nfl/story/_/id/24942401/antonio-brown-sued-al...</td>\n",
       "    </tr>\n",
       "    <tr>\n",
       "      <th>2</th>\n",
       "      <td>Saints' Thomas rips Norman in Twitter tirade</td>\n",
       "      <td>/nfl/story/_/id/24940559/michael-thomas-calls-...</td>\n",
       "    </tr>\n",
       "    <tr>\n",
       "      <th>3</th>\n",
       "      <td>Annoyed Bregman: Astros should be 'main event'</td>\n",
       "      <td>/mlb/story/_/id/24942409/alex-bregman-houston-...</td>\n",
       "    </tr>\n",
       "    <tr>\n",
       "      <th>4</th>\n",
       "      <td>Jones: Cowboys haven't had No. 1 WR in years</td>\n",
       "      <td>/nfl/story/_/id/24941622/jerry-jones-says-cowb...</td>\n",
       "    </tr>\n",
       "    <tr>\n",
       "      <th>5</th>\n",
       "      <td>Chargers owner Alex Spanos dies at 95</td>\n",
       "      <td>/nfl/story/_/id/24941255/los-angeles-chargers-...</td>\n",
       "    </tr>\n",
       "    <tr>\n",
       "      <th>6</th>\n",
       "      <td>Kiper &amp; McShay: RB prospects for 2019 draft</td>\n",
       "      <td>/college-football/insider/story/_/id/24919864/...</td>\n",
       "    </tr>\n",
       "    <tr>\n",
       "      <th>7</th>\n",
       "      <td>Early NFL betting look for Week 6: Another big...</td>\n",
       "      <td>/chalk/insider/story/_/id/24941619/another-big...</td>\n",
       "    </tr>\n",
       "    <tr>\n",
       "      <th>8</th>\n",
       "      <td>Exploring the complex nature of love as it rel...</td>\n",
       "      <td>http://www.espn.com/watch/series/c31393a0-346f...</td>\n",
       "    </tr>\n",
       "    <tr>\n",
       "      <th>9</th>\n",
       "      <td>Injury-riddled Jags sign free-agent RB Charles</td>\n",
       "      <td>/nfl/story/_/id/24942611/jacksonville-jaguars-...</td>\n",
       "    </tr>\n",
       "    <tr>\n",
       "      <th>10</th>\n",
       "      <td>Steelers' Brown sued after alleged incident</td>\n",
       "      <td>/nfl/story/_/id/24942401/antonio-brown-sued-al...</td>\n",
       "    </tr>\n",
       "    <tr>\n",
       "      <th>11</th>\n",
       "      <td>Saints' Thomas rips Norman in Twitter tirade</td>\n",
       "      <td>/nfl/story/_/id/24940559/michael-thomas-calls-...</td>\n",
       "    </tr>\n",
       "    <tr>\n",
       "      <th>12</th>\n",
       "      <td>Annoyed Bregman: Astros should be 'main event'</td>\n",
       "      <td>/mlb/story/_/id/24942409/alex-bregman-houston-...</td>\n",
       "    </tr>\n",
       "    <tr>\n",
       "      <th>13</th>\n",
       "      <td>Jones: Cowboys haven't had No. 1 WR in years</td>\n",
       "      <td>/nfl/story/_/id/24941622/jerry-jones-says-cowb...</td>\n",
       "    </tr>\n",
       "    <tr>\n",
       "      <th>14</th>\n",
       "      <td>Chargers owner Alex Spanos dies at 95</td>\n",
       "      <td>/nfl/story/_/id/24941255/los-angeles-chargers-...</td>\n",
       "    </tr>\n",
       "    <tr>\n",
       "      <th>15</th>\n",
       "      <td>Kiper &amp; McShay: RB prospects for 2019 draft</td>\n",
       "      <td>/college-football/insider/story/_/id/24919864/...</td>\n",
       "    </tr>\n",
       "  </tbody>\n",
       "</table>\n",
       "</div>"
      ],
      "text/plain": [
       "                                                Title  \\\n",
       "0      Injury-riddled Jags sign free-agent RB Charles   \n",
       "1         Steelers' Brown sued after alleged incident   \n",
       "2        Saints' Thomas rips Norman in Twitter tirade   \n",
       "3      Annoyed Bregman: Astros should be 'main event'   \n",
       "4        Jones: Cowboys haven't had No. 1 WR in years   \n",
       "5               Chargers owner Alex Spanos dies at 95   \n",
       "6         Kiper & McShay: RB prospects for 2019 draft   \n",
       "7   Early NFL betting look for Week 6: Another big...   \n",
       "8   Exploring the complex nature of love as it rel...   \n",
       "9      Injury-riddled Jags sign free-agent RB Charles   \n",
       "10        Steelers' Brown sued after alleged incident   \n",
       "11       Saints' Thomas rips Norman in Twitter tirade   \n",
       "12     Annoyed Bregman: Astros should be 'main event'   \n",
       "13       Jones: Cowboys haven't had No. 1 WR in years   \n",
       "14              Chargers owner Alex Spanos dies at 95   \n",
       "15        Kiper & McShay: RB prospects for 2019 draft   \n",
       "\n",
       "                                                  URL  \n",
       "0   /nfl/story/_/id/24942611/jacksonville-jaguars-...  \n",
       "1   /nfl/story/_/id/24942401/antonio-brown-sued-al...  \n",
       "2   /nfl/story/_/id/24940559/michael-thomas-calls-...  \n",
       "3   /mlb/story/_/id/24942409/alex-bregman-houston-...  \n",
       "4   /nfl/story/_/id/24941622/jerry-jones-says-cowb...  \n",
       "5   /nfl/story/_/id/24941255/los-angeles-chargers-...  \n",
       "6   /college-football/insider/story/_/id/24919864/...  \n",
       "7   /chalk/insider/story/_/id/24941619/another-big...  \n",
       "8   http://www.espn.com/watch/series/c31393a0-346f...  \n",
       "9   /nfl/story/_/id/24942611/jacksonville-jaguars-...  \n",
       "10  /nfl/story/_/id/24942401/antonio-brown-sued-al...  \n",
       "11  /nfl/story/_/id/24940559/michael-thomas-calls-...  \n",
       "12  /mlb/story/_/id/24942409/alex-bregman-houston-...  \n",
       "13  /nfl/story/_/id/24941622/jerry-jones-says-cowb...  \n",
       "14  /nfl/story/_/id/24941255/los-angeles-chargers-...  \n",
       "15  /college-football/insider/story/_/id/24919864/...  "
      ]
     },
     "execution_count": 50,
     "metadata": {},
     "output_type": "execute_result"
    }
   ],
   "source": [
    "headlines = doc.xpath('//a[@data-mptype=\"headline\"]')\n",
    "data = [{\"Title\": a.text_content(), \"URL\": a.get(\"href\")} for a in headlines]\n",
    "df = pandas.DataFrame(data)\n",
    "df"
   ]
  },
  {
   "cell_type": "markdown",
   "metadata": {},
   "source": [
    "### In Class Example: Crawl BuzzFeed\n",
    "\n",
    "* We will try to get the top articles that appear on Buzzfeed\n",
    "* We will grab the link for the article, the text of the title, the description, and the editor.\n",
    "* The results will be stored in a dataframe (we will see in detail what a dataframe is, in a couple of modules)\n"
   ]
  },
  {
   "cell_type": "code",
   "execution_count": 51,
   "metadata": {},
   "outputs": [],
   "source": [
    "#your code here\n",
    "import requests\n",
    "from lxml import html\n",
    "\n",
    "resp = requests.get(\"http://www.buzzfeed.com\")\n",
    "doc = html.fromstring(resp.text)"
   ]
  },
  {
   "cell_type": "code",
   "execution_count": null,
   "metadata": {},
   "outputs": [],
   "source": []
  },
  {
   "cell_type": "code",
   "execution_count": null,
   "metadata": {},
   "outputs": [],
   "source": []
  },
  {
   "cell_type": "markdown",
   "metadata": {
    "collapsed": true
   },
   "source": [
    "#### Solution for Buzzfeed (as of October 9, 2018)"
   ]
  },
  {
   "cell_type": "code",
   "execution_count": null,
   "metadata": {},
   "outputs": [],
   "source": [
    "import requests # This command allows us to fetch URLs\n",
    "from lxml import html # This module will allow us to parse the returned HTML/XML\n",
    "import pandas\n",
    "\n",
    "# Let's start by fetching the page, and parsing it\n",
    "url = \"http://www.buzzfeed.com/\"\n",
    "response = requests.get(url) # get the html of that url\n",
    "doc = html.fromstring(response.text) # parse it and create a document\n",
    "\n",
    "articleNodes = doc.xpath(\"//div[@data-buzzblock='story-card']\") \n",
    "\n",
    "def parseArticleNode(article):\n",
    "    headline = article.xpath(\".//h2\")[0].text_content()\n",
    "    headline_link = article.xpath(\".//a\")[0].get(\"href\")\n",
    "    description = article.xpath(\".//p\")[0].text_content()\n",
    "    editor = article.xpath(\".//a[contains(@class,'card__meta__link')]/span\")[0].text_content().strip()\n",
    "\n",
    "    result = {\n",
    "        \"headline\": headline,\n",
    "        \"URL\" : headline_link,\n",
    "        \"description\" : description,\n",
    "        \"editor\" : editor\n",
    "    }\n",
    "    return result\n",
    "\n",
    "data = [parseArticleNode(article) for article in articleNodes]\n",
    "df = pandas.DataFrame(data)\n",
    "df"
   ]
  },
  {
   "cell_type": "code",
   "execution_count": null,
   "metadata": {},
   "outputs": [],
   "source": []
  }
 ],
 "metadata": {
  "kernelspec": {
   "display_name": "Python 3",
   "language": "python",
   "name": "python3"
  },
  "language_info": {
   "codemirror_mode": {
    "name": "ipython",
    "version": 3
   },
   "file_extension": ".py",
   "mimetype": "text/x-python",
   "name": "python",
   "nbconvert_exporter": "python",
   "pygments_lexer": "ipython3",
   "version": "3.6.6"
  }
 },
 "nbformat": 4,
 "nbformat_minor": 1
}
