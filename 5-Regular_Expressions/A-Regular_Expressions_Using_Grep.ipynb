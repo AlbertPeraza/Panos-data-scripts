{
 "cells": [
  {
   "cell_type": "markdown",
   "metadata": {},
   "source": [
    "Regular Expressions\n",
    "-------------------\n",
    "\n",
    "Regular expressions (regexes or re’s) constitute an extremely powerful, flexible and concise language for matching elements in text ranging from a few characters to complex patterns. While mastering the syntax of the regular expression language does require climbing a learning curve, this learning curve is not particularly steep, and a newcomer can find herself performing useful tasks with regular expressions almost immediately. Efforts spent learning regular expressions quickly pay off--tasks that are well suited for regular expressions abound. Indeed, regular expressions are one of the most useful computer skills, and an absolutely critical tool for data scientists. "
   ]
  },
  {
   "cell_type": "markdown",
   "metadata": {},
   "source": [
    "This document will present basic regular expression syntax and cover common use cases for regular expressions: pattern matching, filtering, data extraction, and string replacement. We will present examples using grep, which we covered previously. (In case you forgot, we used grep to find lines of a text file with a given string in them.) "
   ]
  },
  {
   "cell_type": "code",
   "execution_count": 1,
   "metadata": {},
   "outputs": [],
   "source": [
    "# The code below is written in Python to replicate the behavior of grep, the UNIX utility\n",
    "# We will examine the details of how the code works in a subsequent notebook.\n",
    "# For now, just execute the code, and use the function grep(regex_expression, file_name) as-is\n",
    "\n",
    "import re\n",
    "\n",
    "def printMatches(text, regex_expression):\n",
    "    BACKGROUND_YELLOW = '\\x1b[43m'\n",
    "    COLOR_RESET  = \"\\x1b[0m\"\n",
    "    regex= re.compile(regex_expression)\n",
    "    matches = regex.finditer(text)\n",
    "    for m in matches:\n",
    "        highlighted  = text[:m.start()] # the string before the regex match\n",
    "        highlighted += BACKGROUND_YELLOW + text[m.start():m.end()] + COLOR_RESET \n",
    "        highlighted += text[m.end():] # the string after the regex match\n",
    "        print(highlighted)\n",
    "\n",
    "def grep(regex_expression, file_name):\n",
    "    f = open(file_name, \"r\")\n",
    "    content = f.read()\n",
    "    f.close()\n",
    "    for line in content.split(\"\\n\"):\n",
    "        printMatches(line, regex_expression)"
   ]
  },
  {
   "cell_type": "markdown",
   "metadata": {},
   "source": [
    "### NYC Restaurant Names Data\n",
    "\n",
    "To have a longer data set to play with, let's download the list of restaurant names from the NYC Restaurant Inspection Dataset."
   ]
  },
  {
   "cell_type": "code",
   "execution_count": 2,
   "metadata": {},
   "outputs": [],
   "source": [
    "!cp /home/ubuntu/jupyter/NYU_Notes/2-Introduction_to_Python/data/restaurant-names.txt data/uniquenames.txt"
   ]
  },
  {
   "cell_type": "markdown",
   "metadata": {},
   "source": [
    "Let's take a peek at the contents using the `head` and `tail` commands:"
   ]
  },
  {
   "cell_type": "code",
   "execution_count": 3,
   "metadata": {},
   "outputs": [
    {
     "name": "stdout",
     "output_type": "stream",
     "text": [
      "#1 GARDEN CHINESE\n",
      "#1 ME. NICK'S\n",
      "#1 SABOR LATINO RESTAURANT\n",
      "$1.25 PIZZA\n",
      "''U'' LIKE CHINESE RESTAURANT\n",
      "''W'' CAFE\n",
      "'WICHCRAFT\n",
      "(LEWIS DRUG STORE) LOCANDA VINI E OLII\n",
      "(LIBRARY)  FOUR & TWENTY BLACKBIRDS\n",
      "(PUBLIC FARE) 81ST STREET AND CENTRAL PARK WEST (DELACORTE THEATRE)\n",
      "........\n",
      "ZUCKER'S BAGELS AND SMOKED FISH\n",
      "ZUM SCHNEIDER\n",
      "ZUM STAMMTISCH\n",
      "ZUMA JAPANESE RESTAURANT NEW YORK\n",
      "ZUMBA RESTAURANT\n",
      "ZUTTO\n",
      "ZUZU RAMEN\n",
      "ZYMI BAR & GRILL\n",
      "ZZ CLAM BAR\n",
      "ZZ'S PIZZA & GRILL\n"
     ]
    }
   ],
   "source": [
    "!head -10 data/uniquenames.txt\n",
    "!echo '........' # The \"echo\" command just prints in the output the string that follows the command (in this case \"......\")\n",
    "!tail -10 data/uniquenames.txt"
   ]
  },
  {
   "cell_type": "markdown",
   "metadata": {},
   "source": [
    "Now, let's see if there are any restaurants with the string 'PANO' in them:"
   ]
  },
  {
   "cell_type": "code",
   "execution_count": 4,
   "metadata": {},
   "outputs": [
    {
     "name": "stdout",
     "output_type": "stream",
     "text": [
      "BUFFALO WILD WINGS,PEETS COOFEE &TEA, \u001b[43mPANO\u001b[0mPOLIS BAKERY & CAFE\n",
      "CAFE ES\u001b[43mPANO\u001b[0mL\n",
      "EL CHARRO ES\u001b[43mPANO\u001b[0mL\n",
      "EL POTE ES\u001b[43mPANO\u001b[0mL\n",
      "LA CANDELA ES\u001b[43mPANO\u001b[0mLA\n",
      "PAM\u001b[43mPANO\u001b[0m\n",
      "\u001b[43mPANO\u001b[0mRAMA OF MY SILENCE-HEART\n",
      "\u001b[43mPANO\u001b[0mRAMA RESTAURANT\n",
      "TIGIN IRISH PUB,PEETS COFFEE&TEA,\u001b[43mPANO\u001b[0mPOLIS BAKERY&CAFE\n"
     ]
    }
   ],
   "source": [
    "grep('PANO', \"data/uniquenames.txt\")"
   ]
  },
  {
   "cell_type": "markdown",
   "metadata": {},
   "source": [
    "What can we do if we want to search for something more complex than a fixed string? Regular expressions are solving exactly this problem. \n",
    "\n",
    "### The atoms\n",
    "\n",
    "The simplest regular expressions are a sequence of `atoms`. An atom can be any of the following:\n",
    "* single character, \n",
    "* a dot,\n",
    "* a bracket expression, \n",
    "* an anchor.\n",
    "\n",
    "#### Single character atom\n",
    "\n",
    "A single character atom matches itself.\n",
    "\n",
    "#### The `.` character atom\n",
    "\n",
    "A dot atom matches any single character (except for a new line character `\\n`)."
   ]
  },
  {
   "cell_type": "markdown",
   "metadata": {},
   "source": [
    "Example: Using single character atoms, and the `.` atom, let's find all restaurant names that contain the characters `AB`, followed by any character (`.`) and then the character `D`:"
   ]
  },
  {
   "cell_type": "code",
   "execution_count": 5,
   "metadata": {},
   "outputs": [
    {
     "name": "stdout",
     "output_type": "stream",
     "text": [
      "\u001b[43mABID\u001b[0mE BROOKLYN PITA\n",
      "JJ PE\u001b[43mABOD\u001b[0mY'S\n",
      "L\u001b[43mABAD\u001b[0mEE MANOIR\n",
      "NEW KAB\u001b[43mAB D\u001b[0mINER\n",
      "RESTAURANT \u001b[43mABID\u001b[0mJAN\n"
     ]
    }
   ],
   "source": [
    "grep('AB.D', 'data/uniquenames.txt')"
   ]
  },
  {
   "cell_type": "code",
   "execution_count": 6,
   "metadata": {},
   "outputs": [
    {
     "name": "stdout",
     "output_type": "stream",
     "text": [
      "@ THE SQUARE(ST\u001b[43mARBUC\u001b[0mKS)\n",
      "\u001b[43mABBOC\u001b[0mCATO RISTORANTE\n",
      "D'ANGELO CENT/ST\u001b[43mARBUC\u001b[0mKS COFFEE\n",
      "DELANEY B\u001b[43mARBEC\u001b[0mUE\n",
      "HERALD SQUARE CAFE (ST\u001b[43mARBUC\u001b[0mKS)\n",
      "HILL COUNTRY B\u001b[43mARBEC\u001b[0mUE MARKET\n",
      "HUNTER COLLEGE PROUDLY BREW ST\u001b[43mARBUC\u001b[0mKS\n",
      "JAKE'S W\u001b[43mAYBAC\u001b[0mK BURGERS\n",
      "JOSE O SHEA'S/ST\u001b[43mARBUC\u001b[0mKS\n",
      "M\u001b[43mALBEC\u001b[0m TANGO HOUSE\n",
      "MISS KOREA B\u001b[43mARBEC\u001b[0mUE ''SUN''\n",
      "NEELY'S B\u001b[43mARBEC\u001b[0mUE PARLOR/MERCHANTS\n",
      "PIZZA L\u001b[43mA BOC\u001b[0mA\n",
      "PRATT DESIGN CENTER/ST\u001b[43mARBUC\u001b[0mKS\n",
      "RED M\u001b[43mALBEC\u001b[0m\n",
      "S\u001b[43mAMBUC\u001b[0mA'S CAFE\n",
      "SHILLA KOREAN B\u001b[43mARBEC\u001b[0mUE HOUSE\n",
      "ST\u001b[43mARBUC\u001b[0mKS\n",
      "ST\u001b[43mARBUC\u001b[0mKS # 14840\n",
      "ST\u001b[43mARBUC\u001b[0mKS (JFK TERMINAL 5-POST SECURITY DEPARTURE)\n",
      "ST\u001b[43mARBUC\u001b[0mKS (STORE 16628)\n",
      "ST\u001b[43mARBUC\u001b[0mKS 22420\n",
      "ST\u001b[43mARBUC\u001b[0mKS COFFEE\n",
      "ST\u001b[43mARBUC\u001b[0mKS COFFEE  #16608\n",
      "ST\u001b[43mARBUC\u001b[0mKS COFFEE # 15440\n",
      "ST\u001b[43mARBUC\u001b[0mKS COFFEE # 7463\n",
      "ST\u001b[43mARBUC\u001b[0mKS COFFEE # 7540\n",
      "ST\u001b[43mARBUC\u001b[0mKS COFFEE #14240\n",
      "ST\u001b[43mARBUC\u001b[0mKS COFFEE #18509\n",
      "ST\u001b[43mARBUC\u001b[0mKS COFFEE #20679\n",
      "ST\u001b[43mARBUC\u001b[0mKS COFFEE #21514\n",
      "ST\u001b[43mARBUC\u001b[0mKS COFFEE #22596\n",
      "ST\u001b[43mARBUC\u001b[0mKS COFFEE #23266\n",
      "ST\u001b[43mARBUC\u001b[0mKS COFFEE #23267\n",
      "ST\u001b[43mARBUC\u001b[0mKS COFFEE #3438\n",
      "ST\u001b[43mARBUC\u001b[0mKS COFFEE #7344\n",
      "ST\u001b[43mARBUC\u001b[0mKS COFFEE #7358\n",
      "ST\u001b[43mARBUC\u001b[0mKS COFFEE #7416\n",
      "ST\u001b[43mARBUC\u001b[0mKS COFFEE #7682\n",
      "ST\u001b[43mARBUC\u001b[0mKS COFFEE #7826\n",
      "ST\u001b[43mARBUC\u001b[0mKS COFFEE #9282\n",
      "ST\u001b[43mARBUC\u001b[0mKS COFFEE #9722\n",
      "ST\u001b[43mARBUC\u001b[0mKS COFFEE (#19890)\n",
      "ST\u001b[43mARBUC\u001b[0mKS COFFEE (#2785)\n",
      "ST\u001b[43mARBUC\u001b[0mKS COFFEE (@ THE MARRIOTT)\n",
      "ST\u001b[43mARBUC\u001b[0mKS COFFEE (BANK OF AMERICA BUILDING)\n",
      "ST\u001b[43mARBUC\u001b[0mKS COFFEE (STORE #13539)\n",
      "ST\u001b[43mARBUC\u001b[0mKS COFFEE (STORE #7216)\n",
      "ST\u001b[43mARBUC\u001b[0mKS COFFEE (STORE #7555)\n",
      "ST\u001b[43mARBUC\u001b[0mKS COFFEE (STORE #7577)\n",
      "ST\u001b[43mARBUC\u001b[0mKS COFFEE (STORE #7587)\n",
      "ST\u001b[43mARBUC\u001b[0mKS COFFEE (STORE #7696)\n",
      "ST\u001b[43mARBUC\u001b[0mKS COFFEE (STORE #8614)\n",
      "ST\u001b[43mARBUC\u001b[0mKS COFFEE (STORE 17478)\n",
      "ST\u001b[43mARBUC\u001b[0mKS COFFEE (STORE 7261)\n",
      "ST\u001b[43mARBUC\u001b[0mKS COFFEE (STORE#11650)\n",
      "ST\u001b[43mARBUC\u001b[0mKS COFFEE (STORE#20161)\n",
      "ST\u001b[43mARBUC\u001b[0mKS COFFEE COMPANY\n",
      "ST\u001b[43mARBUC\u001b[0mKS COFFEE COMPANY #22560\n",
      "ST\u001b[43mARBUC\u001b[0mKS COFFEE MACY'S 6TH FLOOR\n",
      "ST\u001b[43mARBUC\u001b[0mKS COFFEE# 7426\n",
      "ST\u001b[43mARBUC\u001b[0mKS COFFEE#7462\n",
      "ST\u001b[43mARBUC\u001b[0mKS COFFEE,LIMITED BRANDS CAFE\n",
      "ST\u001b[43mARBUC\u001b[0mKS JPMC 270 PARK\n",
      "ST\u001b[43mARBUC\u001b[0mKS/NEW YORK MARRIOTT FINANCIAL CENTER\n",
      "THE B\u001b[43mARBEC\u001b[0mUE PIT\n",
      "THE EVERETT CAFE/ST\u001b[43mARBUC\u001b[0mKS-TEACHERS COLLEGE\n",
      "Z\u001b[43mABB C\u001b[0mITY\n",
      "ZUCC\u001b[43mA BUC\u001b[0mA FROZEN YOGURT\n"
     ]
    }
   ],
   "source": [
    "grep('A.B.C', 'data/uniquenames.txt')"
   ]
  },
  {
   "cell_type": "markdown",
   "metadata": {},
   "source": [
    "#### Bracket expression atom\n",
    "\n",
    "A bracket expression (defined by square brackets []) defines a set of characters. matches only one single character that can be any of the characters defined in a set. Example: [ABL] matches either A, B, or L.\n",
    "\n",
    "Now, let's use a bracket expression: We want to find restaurants that contain one of the letters A,B,C,X,Y,Z followed by a digit. We specify the set of letters as `[ABCXYZ]` and the set of digits as [0123456789].  "
   ]
  },
  {
   "cell_type": "code",
   "execution_count": 7,
   "metadata": {},
   "outputs": [
    {
     "name": "stdout",
     "output_type": "stream",
     "text": [
      "\u001b[43mB66\u001b[0m CLUB\n",
      "B\u001b[43mA10\u001b[0m02 BAR\n",
      "B\u001b[43mA10\u001b[0m19 BAR\n",
      "B\u001b[43mA61\u001b[0m10 BAR\n",
      "B\u001b[43mC81\u001b[0m40 BAR AT THE GARDEN\n",
      "C\u001b[43mB80\u001b[0m30 SAUSAGE CONCESSION\n",
      "CIBO MARKET (GATE \u001b[43mC65\u001b[0m)\n",
      "COTTO MARKET-GATE \u001b[43mC30\u001b[0m\n",
      "F\u001b[43mA80\u001b[0m70 HOT DOG CONCESSION\n",
      "F\u001b[43mB10\u001b[0m14 HOT DOG CONCESSION\n",
      "F\u001b[43mB80\u001b[0m20 PIZZA CONCESSION\n",
      "F\u001b[43mB90\u001b[0m90 HOT DOG CONCESSION\n",
      "F\u001b[43mB91\u001b[0m10 HOT DOG CONCESSION\n",
      "F\u001b[43mB91\u001b[0m20 HOT DOG CONCESSION\n",
      "HOT DOG CONCESSION \u001b[43mA80\u001b[0m3-1\n",
      "JFK FUEL BAR \u001b[43mB27\u001b[0m\n",
      "MADISON CLUB (B\u001b[43mB71\u001b[0m84)\n",
      "RUNWA\u001b[43mY69\u001b[0m\n",
      "YOGURT \u001b[43mY23\u001b[0m INC\n"
     ]
    }
   ],
   "source": [
    "grep('[ABCXYZ][0123456789][0123456789]', 'data/uniquenames.txt')"
   ]
  },
  {
   "cell_type": "markdown",
   "metadata": {},
   "source": [
    "##### Brackets and ranges\n",
    "\n",
    "Instead of typing long lists of characters in a bracket expression, we can use the range character: [0-9] is equivalent to [0123456789]. Similarly [A-Z] is equivalent to [ABCDEFGHIJKLMNOPQRSTUVWXYZ]. And [D-T] is equivalent to [DEFGHIJKLMNOPQRST]. (You get the idea.) You can also combine multiple ranges: [a-e1-9] is equivalent to [abcde123456789]. Finally, you can even specify to be excluded from the set using the character (^). For example, [^0-9] matches any character other than a number.\n",
    "\n",
    "For example, let's find restaurants that contain a letter, followed by a number, and then followed by a charather that is not a number:"
   ]
  },
  {
   "cell_type": "code",
   "execution_count": 8,
   "metadata": {},
   "outputs": [
    {
     "name": "stdout",
     "output_type": "stream",
     "text": [
      "\u001b[43mA1 \u001b[0mOCHA SUSHI\n",
      "A\u001b[43mH2 \u001b[0mICE TEA\n",
      "\u001b[43mB4 \u001b[0mNYC\n",
      "B\u001b[43mT3 \u001b[0mBAR\n",
      "B\u001b[43mT4 \u001b[0mBAR\n",
      "\u001b[43mC2 \u001b[0mCAFE\n",
      "CAF\u001b[43mE1 \u001b[0m& CAFE 4 (AMERICAN MUSEUM OF NATURAL HISTORY)\n",
      "\u001b[43mF1 \u001b[0mLOUNGE AND GRILL\n",
      "ILLY/VELOCITY BAR (E\u001b[43mC2)\u001b[0m\n",
      "\u001b[43mJ4 \u001b[0mHOOKAH LOUNGE\n",
      "JUIC\u001b[43mE4U\u001b[0m\n",
      "\u001b[43mM1-\u001b[0m5\n",
      "\u001b[43mM2M\u001b[0m MART\n",
      "\u001b[43mM2N\u001b[0m BUFFET\n",
      "NINET\u001b[43mY9 \u001b[0m& UP DINER\n",
      "N\u001b[43mO1 \u001b[0mCHINESE RESTAURANT\n",
      "\u001b[43mQ2 \u001b[0mTHAI RESTAURANT\n",
      "\u001b[43mT2 \u001b[0m- GO\n",
      "TERMINA\u001b[43mL1 \u001b[0mEMPLOYEE CAFETERIA\n",
      "THE NEW YORK PALACE HOTEL (\u001b[43mC1 \u001b[0mLEVEL CAFETERIA)\n",
      "TW\u001b[43mO8T\u001b[0mWO BAR & BURGER\n",
      "US FRIED CHICKEN & \u001b[43mP1Z\u001b[0mZA\n"
     ]
    }
   ],
   "source": [
    "grep('[A-Z][0-9][^0-9]', 'data/uniquenames.txt')"
   ]
  },
  {
   "cell_type": "markdown",
   "metadata": {},
   "source": [
    "Hm, we do not want to get results that have a space after the number, so let's also exclude the space character:"
   ]
  },
  {
   "cell_type": "code",
   "execution_count": 9,
   "metadata": {},
   "outputs": [
    {
     "name": "stdout",
     "output_type": "stream",
     "text": [
      "ILLY/VELOCITY BAR (E\u001b[43mC2)\u001b[0m\n",
      "JUIC\u001b[43mE4U\u001b[0m\n",
      "\u001b[43mM1-\u001b[0m5\n",
      "\u001b[43mM2M\u001b[0m MART\n",
      "\u001b[43mM2N\u001b[0m BUFFET\n",
      "TW\u001b[43mO8T\u001b[0mWO BAR & BURGER\n",
      "US FRIED CHICKEN & \u001b[43mP1Z\u001b[0mZA\n"
     ]
    }
   ],
   "source": [
    "grep('[A-Z][0-9][^0-9 ]', 'data/uniquenames.txt') "
   ]
  },
  {
   "cell_type": "code",
   "execution_count": 10,
   "metadata": {},
   "outputs": [
    {
     "name": "stdout",
     "output_type": "stream",
     "text": [
      "$\u001b[43m1.2\u001b[0m5 PIZZA\n",
      "\u001b[43m1.5\u001b[0m GALBI CORP\n",
      "10\u001b[43m4-0\u001b[0m1 FOSTER AVENUE COFFEE SHOP(UPS)\n",
      "3\u001b[43m6-0\u001b[0m2 DITMARS COFFEE CORP.\n",
      "4\u001b[43m0/4\u001b[0m0 CLUB\n",
      "4\u001b[43m0/4\u001b[0m0 CLUB BAR\n",
      "44 \u001b[43m1/2\u001b[0m CAFE\n",
      "83 \u001b[43m1/2\u001b[0m\n",
      "BRASSERIE 8 \u001b[43m1/2\u001b[0m\n",
      "FOOD DEPOT 1\u001b[43m2*4\u001b[0m\n",
      "HOT DOG CONCESSION A80\u001b[43m3-1\u001b[0m\n",
      "M\u001b[43m1-5\u001b[0m\n",
      "PRB 2\u001b[43m4-7\u001b[0m\n",
      "THE BEST $\u001b[43m1.0\u001b[0m0 PIZZA\n"
     ]
    }
   ],
   "source": [
    "# Digit, not letter not digit not space, digit\n",
    "grep('[0-9][^A-Z0-9 ][0-9]', 'data/uniquenames.txt') "
   ]
  },
  {
   "cell_type": "markdown",
   "metadata": {},
   "source": [
    "#### Anchor\n",
    "\n",
    "Anchor atoms are used to define the location of a regex within a line. \n",
    "\n",
    "The anchor `^` specifies the *beginning of a line*, the anchor `$` specifies the end of a line. The anchor `\\b` specifies the word boundary."
   ]
  },
  {
   "cell_type": "markdown",
   "metadata": {},
   "source": [
    "Example: Find restaurant names that start with the characters `BAL`"
   ]
  },
  {
   "cell_type": "code",
   "execution_count": 11,
   "metadata": {},
   "outputs": [
    {
     "name": "stdout",
     "output_type": "stream",
     "text": [
      "\u001b[43mBAL\u001b[0mABOOSTA\n",
      "\u001b[43mBAL\u001b[0mADE\n",
      "\u001b[43mBAL\u001b[0mBOA RESTAURANT.\n",
      "\u001b[43mBAL\u001b[0mCON QUITENO RESTAURANT\n",
      "\u001b[43mBAL\u001b[0mDOR SPECIALTY FOODS\n",
      "\u001b[43mBAL\u001b[0mDUCCI'S\n",
      "\u001b[43mBAL\u001b[0mI NUSA INDONESIAN RESTAURANT\n",
      "\u001b[43mBAL\u001b[0mILO DELI\n",
      "\u001b[43mBAL\u001b[0mIMAYA RESTAURANT\n",
      "\u001b[43mBAL\u001b[0mKANIKA\n",
      "\u001b[43mBAL\u001b[0mKH SHISH KABAB HOUSE\n",
      "\u001b[43mBAL\u001b[0mL PARK HOT DOG\n",
      "\u001b[43mBAL\u001b[0mLARO\n",
      "\u001b[43mBAL\u001b[0mLATO'S RESTAURANT\n",
      "\u001b[43mBAL\u001b[0mLFIELDS CAFE\n",
      "\u001b[43mBAL\u001b[0mLI DELI & SALAD BAR\n",
      "\u001b[43mBAL\u001b[0mLY TOTAL FITNESS\n",
      "\u001b[43mBAL\u001b[0mLY'S SPORT CLUB\n",
      "\u001b[43mBAL\u001b[0mNDIE'S PLACE, INC\n",
      "\u001b[43mBAL\u001b[0mON\n",
      "\u001b[43mBAL\u001b[0mTHAZAR BAKERY\n",
      "\u001b[43mBAL\u001b[0mTHAZAR RESTAURANT\n",
      "\u001b[43mBAL\u001b[0mUCHI\n",
      "\u001b[43mBAL\u001b[0mUCHI'S\n",
      "\u001b[43mBAL\u001b[0mUCHI'S FRESH\n",
      "\u001b[43mBAL\u001b[0mUCHI'S INDIAN FOOD\n",
      "\u001b[43mBAL\u001b[0mVANERA\n",
      "\u001b[43mBAL\u001b[0mZEM\n"
     ]
    }
   ],
   "source": [
    "grep('^BAL', 'data/uniquenames.txt')"
   ]
  },
  {
   "cell_type": "markdown",
   "metadata": {},
   "source": [
    "Example: Find restaurant names that end with the characters `NORTH`"
   ]
  },
  {
   "cell_type": "code",
   "execution_count": 12,
   "metadata": {},
   "outputs": [
    {
     "name": "stdout",
     "output_type": "stream",
     "text": [
      "AQUEDUCT \u001b[43mNORTH\u001b[0m\n",
      "BOURGEOIS PIG \u001b[43mNORTH\u001b[0m\n",
      "PRATT INSTITUTE \u001b[43mNORTH\u001b[0m\n"
     ]
    }
   ],
   "source": [
    "grep('NORTH$', 'data/uniquenames.txt')"
   ]
  },
  {
   "cell_type": "markdown",
   "metadata": {},
   "source": [
    "Example: Let's try to find restaurants containing the word `COLUMBIA`:"
   ]
  },
  {
   "cell_type": "code",
   "execution_count": 13,
   "metadata": {},
   "outputs": [
    {
     "name": "stdout",
     "output_type": "stream",
     "text": [
      "BROWNIE'S CAFE AT \u001b[43mCOLUMBIA\u001b[0m\n",
      "CAFE 212/\u001b[43mCOLUMBIA\u001b[0m CATERING KITCHEN - ALFRED LERNER HALL\n",
      "\u001b[43mCOLUMBIA\u001b[0m UNIVERSITY MEDICAL CENTER BOOKSTORE CAFE\n",
      "EL PUNTO \u001b[43mCOLUMBIA\u001b[0mNO RESTAURANTE BAKERY\n",
      "LA GATA GOLOSA \u001b[43mCOLUMBIA\u001b[0mN FOOD\n",
      "PARAISO \u001b[43mCOLUMBIA\u001b[0mNO RESTAURANT\n",
      "THE FACULTY CLUB (\u001b[43mCOLUMBIA\u001b[0m UNIVERSITY)\n",
      "THE SCHOOL AT \u001b[43mCOLUMBIA\u001b[0m UNIVERSITY\n",
      "TIERRAS \u001b[43mCOLUMBIA\u001b[0mNAS\n"
     ]
    }
   ],
   "source": [
    "grep('COLUMBIA', 'data/uniquenames.txt')"
   ]
  },
  {
   "cell_type": "markdown",
   "metadata": {},
   "source": [
    "Hm, something is wrong. We also get COLUMBIANO, COLUMBIANAS, and other words. We want only the word COLUMBIA, so we add the word anchors:"
   ]
  },
  {
   "cell_type": "code",
   "execution_count": 14,
   "metadata": {},
   "outputs": [
    {
     "name": "stdout",
     "output_type": "stream",
     "text": [
      "BROWNIE'S CAFE AT \u001b[43mCOLUMBIA\u001b[0m\n",
      "CAFE 212/\u001b[43mCOLUMBIA\u001b[0m CATERING KITCHEN - ALFRED LERNER HALL\n",
      "\u001b[43mCOLUMBIA\u001b[0m UNIVERSITY MEDICAL CENTER BOOKSTORE CAFE\n",
      "THE FACULTY CLUB (\u001b[43mCOLUMBIA\u001b[0m UNIVERSITY)\n",
      "THE SCHOOL AT \u001b[43mCOLUMBIA\u001b[0m UNIVERSITY\n"
     ]
    }
   ],
   "source": [
    "grep(r'\\bCOLUMBIA\\b', 'data/uniquenames.txt')"
   ]
  },
  {
   "cell_type": "markdown",
   "metadata": {},
   "source": [
    "#### In class exercises\n",
    "\n",
    "Write a regular expression for:\n",
    "\n",
    "* Match any character\n",
    "* Match the end of line\n",
    "* Match any digit\n",
    "* Find all characters that are not digits\n",
    "* Find all words with four letters\n",
    "* Find every line that starts with a digit\n",
    "* Find all empty lines\n",
    "* Find all lines with 4 characters\n"
   ]
  },
  {
   "cell_type": "markdown",
   "metadata": {},
   "source": [
    "### Regular Expressions: Operators\n",
    "\n",
    "#### Alternation |\n",
    "\n",
    "The alternation operator `|` defines one or more alternatives regular expressions that need to be true for the string to match the regular expression. \n",
    "\n",
    "For example, if we are looking for names that contain either the word `GREEK` or the word `RUSSIAN`, we issue the following command: "
   ]
  },
  {
   "cell_type": "code",
   "execution_count": 15,
   "metadata": {},
   "outputs": [
    {
     "name": "stdout",
     "output_type": "stream",
     "text": [
      "ANTHI'S \u001b[43mGREEK\u001b[0m FOOD\n",
      "AVLEE  \u001b[43mGREEK\u001b[0m KITCHEN\n",
      "AVLEE \u001b[43mGREEK\u001b[0m KITCHEN\n",
      "AVLI THE LITTLE \u001b[43mGREEK\u001b[0m TAVERN\n",
      "BREEZE THAI-\u001b[43mFRENCH\u001b[0m KITCHEN\n",
      "BY SUZETTE \u001b[43mFRENCH\u001b[0m CREPES\n",
      "DIRTY \u001b[43mFRENCH\u001b[0m\n",
      "ETHOS \u001b[43mGREEK\u001b[0m CUISINE\n",
      "\u001b[43mFRENCH\u001b[0m CAFE GOURMAND\n",
      "\u001b[43mFRENCH\u001b[0m DINER\n",
      "\u001b[43mFRENCH\u001b[0m LOUIE\n",
      "\u001b[43mFRENCH\u001b[0m ROAST\n",
      "\u001b[43mGREEK\u001b[0m EXPRESS\n",
      "\u001b[43mGREEK\u001b[0m FAMILY KITCHEN\n",
      "\u001b[43mGREEK\u001b[0m GARDENS GRILL\n",
      "\u001b[43mGREEK\u001b[0m GRILL\n",
      "\u001b[43mGREEK\u001b[0m ISLANDS\n",
      "GRK FRESH \u001b[43mGREEK\u001b[0m\n",
      "GYRO \u001b[43mGREEK\u001b[0m STYLE\n",
      "JEAN CLAUDE \u001b[43mFRENCH\u001b[0m BISTRO\n",
      "JEAN DANET \u001b[43mFRENCH\u001b[0m PASTRY\n",
      "JENNY \u001b[43mFRENCH\u001b[0m TOAST COFFEE SHOP RESTAURANT\n",
      "MEDITERRANEAN GRILL \u001b[43mGREEK\u001b[0m TARVERNA\n",
      "OKEANOS \u001b[43mGREEK\u001b[0m SEAFOOD\n",
      "OPA! \u001b[43mGREEK\u001b[0m RESTAURANT\n",
      "PIZZA AND \u001b[43mFRENCH\u001b[0m TASTE PIZZERIA\n",
      "RAFINA \u001b[43mGREEK\u001b[0m CUISINE\n",
      "\u001b[43mRUSSIAN\u001b[0m BATHS\n",
      "\u001b[43mRUSSIAN\u001b[0m SAMOVAR\n",
      "\u001b[43mRUSSIAN\u001b[0m TURKISH BATHS\n",
      "SOMETHING \u001b[43mGREEK\u001b[0m\n",
      "SYMPOSIUM \u001b[43mGREEK\u001b[0m RESTAURANT\n",
      "THE \u001b[43mGREEK\u001b[0m\n",
      "THE \u001b[43mGREEK\u001b[0m CORNER\n",
      "THE \u001b[43mGREEK\u001b[0m KITCHEN  CLINTON BAKERY CAFE\n",
      "THE \u001b[43mRUSSIAN\u001b[0m TEA ROOM\n",
      "VILLAGE TAVERNA \u001b[43mGREEK\u001b[0m GRILL\n",
      "ZENON TAVERNA \u001b[43mGREEK\u001b[0m RESTAURANT\n"
     ]
    }
   ],
   "source": [
    "grep('GREEK|RUSSIAN|FRENCH', 'data/uniquenames.txt')"
   ]
  },
  {
   "cell_type": "markdown",
   "metadata": {},
   "source": [
    "The -E flag specifies that we will be using the \"Extended Regular Expressions\" standard (see the slides), which has more simplified syntax than the original regular expressions, which is the default for grep."
   ]
  },
  {
   "cell_type": "markdown",
   "metadata": {},
   "source": [
    "#### Repetition {m,n}\n",
    "\n",
    "A repetition operator specifies that the atom or expression immediately before the repetition may be repeated. For example, if we are looking for restaurants that contain the letter I, three to five times:  "
   ]
  },
  {
   "cell_type": "code",
   "execution_count": 16,
   "metadata": {},
   "outputs": [
    {
     "name": "stdout",
     "output_type": "stream",
     "text": [
      "ANTIQUE CAFE & BAKERY \u001b[43mIII\u001b[0m INC\n",
      "AZOGUENITA BAKERY & RESTAURANT \u001b[43mIII\u001b[0m\n",
      "BAGEL EXPRESS \u001b[43mIII\u001b[0m\n",
      "BARZOLA'S RESTAURANT \u001b[43mIII\u001b[0m\n",
      "BREAD BROTHERS \u001b[43mIII\u001b[0m\n",
      "CESTRA'S PIZZA \u001b[43mIII\u001b[0m\n",
      "EL CHIVITO D'ORO \u001b[43mIII\u001b[0m\n",
      "EL PACHANGON \u001b[43mIII\u001b[0m RESTAURANT & BAR\n",
      "EL POLLO \u001b[43mIII\u001b[0m\n",
      "EL REY \u001b[43mIII\u001b[0m\n",
      "EMILIO \u001b[43mIII\u001b[0m BAR\n",
      "ESTRELLITA POBLANA \u001b[43mIII\u001b[0m\n",
      "GOLDEN DRAGON \u001b[43mIII\u001b[0m\n",
      "KNAPP PIZZA \u001b[43mIII\u001b[0m\n",
      "LAS NUEVAS EMPANADAS MONUMENTAL \u001b[43mIII\u001b[0m\n",
      "LITTLE ITALY PIZZA \u001b[43mIII\u001b[0m\n",
      "LOS POLLITOS \u001b[43mIII\u001b[0m\n",
      "MIRACALI \u001b[43mIII\u001b[0m\n",
      "NEW CHINA \u001b[43mIII\u001b[0m\n",
      "NEW FRESCO TORTILLOS \u001b[43mIII\u001b[0m\n",
      "NEW WIN HING \u001b[43mIII\u001b[0m CHINESE RESTAURANT\n",
      "ROCCO PIZZA \u001b[43mIII\u001b[0m\n",
      "SAKURA \u001b[43mIII\u001b[0m\n",
      "SHINJU \u001b[43mIII\u001b[0m SUSHI\n",
      "SUSHI TATSU JAPANESE RESTAURANT \u001b[43mIII\u001b[0m\n",
      "THI \u001b[43mIII\u001b[0m NEW YORK\n",
      "WARD \u001b[43mIII\u001b[0m\n"
     ]
    }
   ],
   "source": [
    "grep('I{3,5}', 'data/uniquenames.txt')"
   ]
  },
  {
   "cell_type": "markdown",
   "metadata": {},
   "source": [
    "Now, let's find all the restaurants that have a name length from 50 to 55 characters:"
   ]
  },
  {
   "cell_type": "code",
   "execution_count": 17,
   "metadata": {},
   "outputs": [
    {
     "name": "stdout",
     "output_type": "stream",
     "text": [
      "\u001b[43mBRASSIERIE 1605/BROADWAY 49 BAR & LOUNGE (MAIN KITCHEN)\u001b[0m\n",
      "\u001b[43mBROOKLYN CHILDREN'S MUSEUM CAFE/FOREST CITY RATNER CAFE\u001b[0m\n",
      "\u001b[43mCAFE 212/COLUMBIA CATERING KITCHEN - ALFRED LERNER HALL\u001b[0m\n",
      "\u001b[43mCAFE1 & CAFE 4 (AMERICAN MUSEUM OF NATURAL HISTORY)\u001b[0m\n",
      "\u001b[43mCARIBBEAN CONNECTION CATERING SERVICES INC RESTAURANT\u001b[0m\n",
      "\u001b[43mCHARTWELLS AT COLLEGE OF MOUNT ST. VINCENT-BENEDICT\u001b[0m\n",
      "\u001b[43mCOURTYARD & RESIDENCE INN BY MARRIOTT CENTRAL PARK\u001b[0m\n",
      "\u001b[43mFORDHAM UNIVERSITY/MCGINLEY CENTER/RAMSKELLER KITCHEN\u001b[0m\n",
      "\u001b[43mGREEN AND ACKERMAN KOSHER DAIRY RESTAURANT & PIZZA\u001b[0m\n",
      "\u001b[43mHOMESTYLE FOOD SERVICES (ST. BARNABAS HIGH SCHOOL)\u001b[0m\n",
      "\u001b[43mLOBBY LOUNGE AND TROUBLE'S TRUST @ THE PALACE HOTEL\u001b[0m\n",
      "\u001b[43mNATURAL TOFU & NOODLES RESTAURANT (BOOK CHANG DONG)\u001b[0m\n",
      "\u001b[43mNEW YORK BOTANICAL GARDENS TERRACE CAFE ( GARDEN CAFE )\u001b[0m\n",
      "\u001b[43mNEW YORK UNIVERSITY - KIMMEL STUDENT CENTER CAFETERIA\u001b[0m\n",
      "\u001b[43mPYRAMID COFFEE COMPANY HOSPITAL FOR SPECIAL SURGERY\u001b[0m\n",
      "\u001b[43mQ.B.COMM.COLLEGE-MAIN KITCHEN/TIGER BITES PIZZA SECTION\u001b[0m\n",
      "\u001b[43mRESORTS WORLD CASINO GROUND LEVEL ( EMPLOYEE DINING)\u001b[0m\n",
      "\u001b[43mROSE PIZZA, CHARLIE SUB GRILL, MOE'S SOUTHWEST GRILL\u001b[0m\n",
      "\u001b[43mSTARBUCKS (JFK TERMINAL 5-POST SECURITY DEPARTURE)\u001b[0m\n",
      "\u001b[43mTHE BIG APPLE (RITZ CARLTON HOTEL EMPLOYEE CAFETERIA)\u001b[0m\n",
      "\u001b[43mTIGIN IRISH PUB,PEETS COFFEE&TEA,PANOPOLIS BAKERY&CAFE\u001b[0m\n",
      "\u001b[43mUMI JAPANESE RESTAURANT  SUSHI BAR & TERIYAKI GRILL\u001b[0m\n",
      "\u001b[43mVINNY'S OF CARROLL GARDEN RESTAURANT & LUNCHEONETT\u001b[0m\n",
      "\u001b[43mVISTA SKY LOUNGE & CATERING (SHERATON FOUR POINTS)\u001b[0m\n"
     ]
    }
   ],
   "source": [
    "grep('^.{50,55}$', 'data/uniquenames.txt')"
   ]
  },
  {
   "cell_type": "markdown",
   "metadata": {},
   "source": [
    "In the repetition operator {m,n}, we can skip putting the upper limit if we want to say, \"anything with m matches and above\". For example, let's find all the restaurants that have a name length 60 characters and above:"
   ]
  },
  {
   "cell_type": "code",
   "execution_count": 18,
   "metadata": {},
   "outputs": [
    {
     "name": "stdout",
     "output_type": "stream",
     "text": [
      "\u001b[43m(PUBLIC FARE) 81ST STREET AND CENTRAL PARK WEST (DELACORTE THEATRE)\u001b[0m\n",
      "\u001b[43mBUFFALO WILD WINGS,PEETS COOFEE &TEA, PANOPOLIS BAKERY & CAFE\u001b[0m\n",
      "\u001b[43mCENTER PLATE- CONCOURSE CAFE-JACOB K JAVITS CONVENTION CENTER\u001b[0m\n",
      "\u001b[43mCENTERPLATE-EMPLOYEE CAFETERIA-JACOB K JAVITS CONVENTION CENTER\u001b[0m\n",
      "\u001b[43mCENTRA`L MARKET ALL AMERICAN GRILL ( STATEN ISLAND FERRY TERMINAL)\u001b[0m\n",
      "\u001b[43mDELTA SKY CLUB (BARTENDER SERVICE TERMINAL D DELTA DEPARTURE)\u001b[0m\n",
      "\u001b[43mDUNKIN DONUTS (INSIDE GULF GAS STATION ON NORTH SIDE OF MAJ. DEEGAN EXWY- AFTER EXIT 13 - 233 ST.)\u001b[0m\n",
      "\u001b[43mFASHION INSTITUTE OF TECHNOLOGY DAVID DUBINSKY STUDENT CENTER\u001b[0m\n",
      "\u001b[43mGREATER NEW YORK SOCIAL AND HEALTH ADULT DAY CARE CENTER LLC\u001b[0m\n",
      "\u001b[43mHOMEWOOD SUITES BY HILTON NEW YORK MIDTOWN MANHATTAN TIMES SQUARE\u001b[0m\n",
      "\u001b[43mHONG KONG CAFE / FRESH SANDWICH BAKERY (BASEMENT FOOD COURT RESTAURANT & 1ST FL BAKERY)\u001b[0m\n",
      "\u001b[43mMARLIN BAR AT TOMMY BAHAMA AND TOMMY BAHAMA RESTAURANT AND B\u001b[0m\n",
      "\u001b[43mNEW WAI LING CHINESE RESTAURANT/NEW FRESCO TORTILLAS II TACO\u001b[0m\n",
      "\u001b[43mNEW YORK UNIVERSITY - KIMMEL STUDENT CENTER (CATERING KITCHEN)\u001b[0m\n",
      "\u001b[43mRED STORM DINER @ ST. VINCENT'S HALL OF ST. JOHN'S UNIVERSITY\u001b[0m\n",
      "\u001b[43mSNACK BAR (LOCATED BETWEEN A-B BETWEEN FANCY FOOD AND MASTERS)\u001b[0m\n",
      "\u001b[43mSTAND 142 THE ORIGINAL CASCARINO\u001aS BRICK OVEN PIZZERIA & RISTORANTE\u001b[0m\n",
      "\u001b[43mTHE PENINSULA NEW YORK/ CLEMENT/ THE GOTHAM LOUNGE/ SALON DE NING\u001b[0m\n",
      "\u001b[43mUNION SQUARE SPORTS & ENTERTAINMENT AT THEATRE FOR A NEW AUDIENCE\u001b[0m\n"
     ]
    }
   ],
   "source": [
    "grep('^.{60,}$', 'data/uniquenames.txt')"
   ]
  },
  {
   "cell_type": "markdown",
   "metadata": {},
   "source": [
    "##### Repetition shortcuts (very common!): \n",
    "\n",
    "* `* = {0,}`. The `*` character means match the previous atom zero or more times\n",
    "* `+ = {1,}`. The `+` character means match the previous atom one or more times\n",
    "* `? = {0,1}`. The `*` character means match the previous atom zero or one times\n",
    "\n",
    "\n",
    "\n",
    "\n"
   ]
  },
  {
   "cell_type": "markdown",
   "metadata": {},
   "source": [
    "Find all restaurants that start with one or more digits, followed by a space."
   ]
  },
  {
   "cell_type": "code",
   "execution_count": 19,
   "metadata": {},
   "outputs": [
    {
     "name": "stdout",
     "output_type": "stream",
     "text": [
      "\u001b[43m002 \u001b[0mMERCURY TACOS LLC\n",
      "\u001b[43m1 \u001b[0m2 3 BURGER SHOT BEER\n",
      "\u001b[43m1 \u001b[0mBANANA QUEEN\n",
      "\u001b[43m1 \u001b[0mBUEN SABOR\n",
      "\u001b[43m1 \u001b[0mDARBAR\n",
      "\u001b[43m1 \u001b[0mEAST 66TH STREET KITCHEN\n",
      "\u001b[43m1 \u001b[0mOAK\n",
      "\u001b[43m1 \u001b[0mOR 8\n",
      "\u001b[43m1 \u001b[0mSTOP PATTY SHOP\n",
      "\u001b[43m10 \u001b[0mDEVOE\n",
      "\u001b[43m10 \u001b[0mPOINTS KTV\n",
      "\u001b[43m100 \u001b[0mFUN\n",
      "\u001b[43m1001 \u001b[0mNIGHTS\n",
      "\u001b[43m1001 \u001b[0mNIGHTS CAFE\n",
      "\u001b[43m1005 \u001b[0mCATERING\n",
      "\u001b[43m101 \u001b[0mCAFE\n",
      "\u001b[43m101 \u001b[0mDELI\n",
      "\u001b[43m101 \u001b[0mRESTAURANT AND BAR\n",
      "\u001b[43m102 \u001b[0mNOODLES TOWN RESTAURANT\n",
      "\u001b[43m1020 \u001b[0mBAR\n",
      "\u001b[43m1028 \u001b[0mBAR & RESTAURANT EL SALVADORENO \n",
      "\u001b[43m1061 \u001b[0mCATERING LLC\n",
      "\u001b[43m107 \u001b[0mWEST RESTAURANT\n",
      "\u001b[43m108 \u001b[0mFAST FOOD CORP\n",
      "\u001b[43m108 \u001b[0mLOUNGE - CLUB 108\n",
      "\u001b[43m1081 \u001b[0mFULTON\n",
      "\u001b[43m11 \u001b[0mSTREET CAFE\n",
      "\u001b[43m111 \u001b[0mRESTAURANT\n",
      "\u001b[43m1174 \u001b[0mFULTON CUISINE, HALAL FOOD\n",
      "\u001b[43m12 \u001b[0mCHAIRS\n",
      "\u001b[43m12 \u001b[0mCHAIRS CAFE\n",
      "\u001b[43m12 \u001b[0mCORAZONES RESTAURANT & BAR\n",
      "\u001b[43m12 \u001b[0mCORNERS\n",
      "\u001b[43m12 \u001b[0mCORNERS COFFEE INC\n",
      "\u001b[43m12 \u001b[0mSTREET ALE HOUSE\n",
      "\u001b[43m120 \u001b[0mBAY CAFE\n",
      "\u001b[43m1200 \u001b[0mMILES\n",
      "\u001b[43m121 \u001b[0mFULTON STREET\n",
      "\u001b[43m123 \u001b[0mNIKKO\n",
      "\u001b[43m124 \u001b[0mCOFFEE SHOP\n",
      "\u001b[43m128 \u001b[0mDUMPLING HOUSE\n",
      "\u001b[43m137 \u001b[0mBAR & GRILL\n",
      "\u001b[43m1380 \u001b[0mBRONX RIVER CAFE CORP\n",
      "\u001b[43m149 \u001b[0mSTEAM FISH CORP.\n",
      "\u001b[43m15 \u001b[0mCENTRAL PARK WEST RESTAURANT\n",
      "\u001b[43m15 \u001b[0mEAST RESTAURANT\n",
      "\u001b[43m15 \u001b[0mFLAVORS\n",
      "\u001b[43m15 \u001b[0mFLAVORS \n",
      "\u001b[43m15 \u001b[0mST CAFE\n",
      "\u001b[43m156 \u001b[0mTEX BAR AND LOUNGE\n",
      "\u001b[43m16 \u001b[0mHANDLES\n",
      "\u001b[43m16 \u001b[0mHANDLES FROZEN YOGURT\n",
      "\u001b[43m16 \u001b[0mHANDLES MIDWOOD\n",
      "\u001b[43m162 \u001b[0mEB CORP BAKERY\n",
      "\u001b[43m168 \u001b[0mASUKA SUSHI\n",
      "\u001b[43m168 \u001b[0mBOWERY HOLDING LLC\n",
      "\u001b[43m168 \u001b[0mHI TEA\n",
      "\u001b[43m168 \u001b[0mTEA LLC\n",
      "\u001b[43m169 \u001b[0mBAR\n",
      "\u001b[43m1734 \u001b[0mVICTORY BOULEVARD,INC.\n",
      "\u001b[43m18 \u001b[0mBAKERY\n",
      "\u001b[43m18 \u001b[0mCHINESE CUISINE\n",
      "\u001b[43m18 \u001b[0mEAST GUNHILL PIZZA\n",
      "\u001b[43m18 \u001b[0mHIPOT\n",
      "\u001b[43m18 \u001b[0mRESTAURANT\n",
      "\u001b[43m18 \u001b[0mSTARS KITCHEN\n",
      "\u001b[43m181 \u001b[0mST CARIDAD RESTAURANT\n",
      "\u001b[43m1818 \u001b[0mSEAFOOD RESTAURANT\n",
      "\u001b[43m187 \u001b[0mYANG GARDEN\n",
      "\u001b[43m188 \u001b[0mFAST FOOD INC\n",
      "\u001b[43m19 \u001b[0mCAFE\n",
      "\u001b[43m1962 \u001b[0mSOGONGDONG SONTOFU\n",
      "\u001b[43m2 \u001b[0mBROS\n",
      "\u001b[43m2 \u001b[0mBROS PIZZA\n",
      "\u001b[43m2 \u001b[0mBROTHERS RESTAURANT\n",
      "\u001b[43m2 \u001b[0mCHILL\n",
      "\u001b[43m2 \u001b[0mDUCK GOOSE\n",
      "\u001b[43m2 \u001b[0mIN 1 RESTAURANT\n",
      "\u001b[43m2 \u001b[0mPALMITAS MEXICAN DELI\n",
      "\u001b[43m200 \u001b[0mFIFTH AVENUE RESTAURANT & SPORTS BAR\n",
      "\u001b[43m200 \u001b[0mORCHARD BAR\n",
      "\u001b[43m201 \u001b[0mBAR AND RESTAURANT\n",
      "\u001b[43m2013 \u001b[0mBROOKLYN RESTAURANT\n",
      "\u001b[43m203 \u001b[0mLENA INC\n",
      "\u001b[43m2058 \u001b[0mDELI AND GROCERY\n",
      "\u001b[43m21 \u001b[0mBAR\n",
      "\u001b[43m21 \u001b[0mCLUB\n",
      "\u001b[43m21 \u001b[0mSHANGHAI HOUSE\n",
      "\u001b[43m211 \u001b[0mNEW TACO GRILL\n",
      "\u001b[43m212 \u001b[0mSHAWARMA GRILL\n",
      "\u001b[43m212 \u001b[0mSTEAKHOUSE\n",
      "\u001b[43m216 \u001b[0mGOOD JOY CHINESE RESTAURANT\n",
      "\u001b[43m218 \u001b[0mRESTAURANT\n",
      "\u001b[43m22 \u001b[0mTHAI CUISINE\n",
      "\u001b[43m229 \u001b[0mLINDEN RESTAURANT\n",
      "\u001b[43m230 \u001b[0mFIFTH\n",
      "\u001b[43m232 \u001b[0mWILLIS AVENUE FOODS, LLC\n",
      "\u001b[43m234 \u001b[0mCHINA CITY\n",
      "\u001b[43m2419 \u001b[0mCHINA STAR RESTAURANT\n",
      "\u001b[43m2432 \u001b[0mPEKING HOUSE INC\n",
      "\u001b[43m2460 \u001b[0mLUCKY GARDEN\n",
      "\u001b[43m248 \u001b[0mHOSPITALITY GROUP LLC\n",
      "\u001b[43m26 \u001b[0mSEATS\n",
      "\u001b[43m2647 \u001b[0mDOUBLE DRAGON CHINESE RESTAURANT\n",
      "\u001b[43m27 \u001b[0mSHENG WANG NOODLE SHOP\n",
      "\u001b[43m27 \u001b[0mSHINJUKU SUSHI INC\n",
      "\u001b[43m27 \u001b[0mSPORTS BAR & CAFE\n",
      "\u001b[43m28 \u001b[0mMR. MING'S CAFFE\n",
      "\u001b[43m28 \u001b[0mNOODLES\n",
      "\u001b[43m286 \u001b[0mPIZZA PLACE INC\n",
      "\u001b[43m3 \u001b[0mALARM\n",
      "\u001b[43m3 \u001b[0mD'S LEGACY SALAD & GRILL\n",
      "\u001b[43m3 \u001b[0mDELI & GRILL\n",
      "\u001b[43m3 \u001b[0mESQUINAS RESTAURANT\n",
      "\u001b[43m3 \u001b[0mGUYS\n",
      "\u001b[43m3 \u001b[0mGUYS RESTURANT\n",
      "\u001b[43m3 \u001b[0mIN 1 FS&H JAMAICAN RESTAURANT\n",
      "\u001b[43m3 \u001b[0mIN 1 KITCHEN\n",
      "\u001b[43m3 \u001b[0mMOUNTS\n",
      "\u001b[43m3 \u001b[0mROOTS\n",
      "\u001b[43m3 \u001b[0mSHEETS SALOON\n",
      "\u001b[43m3 \u001b[0mSISTERS' & SHANTA'S RESTAURANT & BAKERY\n",
      "\u001b[43m3 \u001b[0mSTAR JUICE CENTER\n",
      "\u001b[43m3 \u001b[0mWAY RESTAURANT\n",
      "\u001b[43m301 \u001b[0mCAFE JUICE AND SMOOTHIES\n",
      "\u001b[43m310 \u001b[0m- EXELSIOR\n",
      "\u001b[43m318 \u001b[0m- TWO BOOTS\n",
      "\u001b[43m32 \u001b[0mDEGREE FROYO LOUNGE\n",
      "\u001b[43m33 \u001b[0mGOURMET\n",
      "\u001b[43m337 \u001b[0m- BURGERS & DOGS\n",
      "\u001b[43m3463 \u001b[0mJUICES FOR LIFE LLC\n",
      "\u001b[43m35 \u001b[0mDUET\n",
      "\u001b[43m360 \u001b[0mLOUNGE\n",
      "\u001b[43m374 \u001b[0mDELI\n",
      "\u001b[43m38 \u001b[0mDELI\n",
      "\u001b[43m388 \u001b[0mCAFE & DELI\n",
      "\u001b[43m39 \u001b[0mCOFFEE SHOP\n",
      "\u001b[43m39 \u001b[0mKARAOKE\n",
      "\u001b[43m395 \u001b[0mGOURMET AND GROCERY\n",
      "\u001b[43m401 \u001b[0mLUCKY STAR RESTAURANT\n",
      "\u001b[43m414 \u001b[0mHOTEL\n",
      "\u001b[43m414 \u001b[0mLATINO RESTAURANT SPORTS BAR\n",
      "\u001b[43m44 \u001b[0m& X HELL'S KITCHEN\n",
      "\u001b[43m44 \u001b[0m1/2 CAFE\n",
      "\u001b[43m44 \u001b[0mSW RISTORANTE & BAR\n",
      "\u001b[43m444 \u001b[0mMADISON COFFEE SHOP\n",
      "\u001b[43m456 \u001b[0mRESTAURANT\n",
      "\u001b[43m4618 \u001b[0mBAKERY\n",
      "\u001b[43m49 \u001b[0mGROVE\n",
      "\u001b[43m5 \u001b[0mAVENUE ASIAN TASTE\n",
      "\u001b[43m5 \u001b[0mBORO BURGER\n",
      "\u001b[43m5 \u001b[0mBURRO CAFE\n",
      "\u001b[43m5 \u001b[0mDE MAYO\n",
      "\u001b[43m5 \u001b[0mESTRELLA BAKERY\n",
      "\u001b[43m5 \u001b[0mNAPKIN BURGER\n",
      "\u001b[43m5 \u001b[0mSTAR CHEESE STEAK AND PIZZA\n",
      "\u001b[43m5 \u001b[0mSTAR CHEESESTEAK AND PIZZA\n",
      "\u001b[43m5 \u001b[0mSTAR VILLAGE CAFE\n",
      "\u001b[43m5 \u001b[0mTH & VINE\n",
      "\u001b[43m502 \u001b[0mBAR LOUNGE\n",
      "\u001b[43m502 \u001b[0mHUDSON BAGEL CORP\n",
      "\u001b[43m508 \u001b[0mRESTAURANT AND BAR\n",
      "\u001b[43m510 \u001b[0m11ST BAR\n",
      "\u001b[43m525 \u001b[0mLEX RESTAURANT & BAR\n",
      "\u001b[43m54 \u001b[0mBELOW\n",
      "\u001b[43m55 \u001b[0mBAR\n",
      "\u001b[43m55 \u001b[0mDELI & GRILL INC\n",
      "\u001b[43m55 \u001b[0mTHOMAS CAFE\n",
      "\u001b[43m555 \u001b[0mVIVACAFE\n",
      "\u001b[43m556 \u001b[0mEL CAFE INTERNATIONAL\n",
      "\u001b[43m59 \u001b[0mCHINA\n",
      "\u001b[43m61 \u001b[0mLOCAL\n",
      "\u001b[43m620 \u001b[0mON CATON\n",
      "\u001b[43m624 \u001b[0mKAM HAI CHINESE FOOD\n",
      "\u001b[43m6321 \u001b[0mYUAN BAO\n",
      "\u001b[43m652 \u001b[0mLIN'S GARDEN\n",
      "\u001b[43m658 \u001b[0mKINGS DELI\n",
      "\u001b[43m66 \u001b[0mHOPE CAFE\n",
      "\u001b[43m66 \u001b[0mPRINCE RESTAURANT\n",
      "\u001b[43m67 \u001b[0mBURGER\n",
      "\u001b[43m67 \u001b[0mORANGE STREET\n",
      "\u001b[43m67 \u001b[0mRESTAURANT\n",
      "\u001b[43m678 \u001b[0mAURORA CATERING INC\n",
      "\u001b[43m68 \u001b[0mDELI CANAL STORE\n",
      "\u001b[43m68 \u001b[0mJAY STREET BAR\n",
      "\u001b[43m68 \u001b[0mMEI MEI BAKERY\n",
      "\u001b[43m69 \u001b[0mBAR LOUNGE\n",
      "\u001b[43m69 \u001b[0mBAYARD RESTAURANT\n",
      "\u001b[43m69 \u001b[0mCOFFEE SHOP\n",
      "\u001b[43m69 \u001b[0mPIZZERIA\n",
      "\u001b[43m696 \u001b[0mGOURMET DELI\n",
      "\u001b[43m7 \u001b[0mGRAMS CAFFE\n",
      "\u001b[43m7 \u001b[0mGREEN & GRAIN\n",
      "\u001b[43m7 \u001b[0mSPICES\n",
      "\u001b[43m7 \u001b[0mSTARS\n",
      "\u001b[43m7 \u001b[0mTACOS MEXICAN CUISINE CORP\n",
      "\u001b[43m706 \u001b[0mBAR\n",
      "\u001b[43m71 \u001b[0mIRVING PLACE\n",
      "\u001b[43m718 \u001b[0mHOOKAH LOUNGE\n",
      "\u001b[43m718 \u001b[0mLOUNGE\n",
      "\u001b[43m718 \u001b[0mLOUNGE & TAPAS\n",
      "\u001b[43m729 \u001b[0mBAR & GRILL\n",
      "\u001b[43m739 \u001b[0mFRANKLIN BAR & LOUNGE\n",
      "\u001b[43m765 \u001b[0mFOOD MARKET\n",
      "\u001b[43m773 \u001b[0mLOUNGE\n",
      "\u001b[43m777 \u001b[0mTHEATER BAR\n",
      "\u001b[43m8 \u001b[0mDRAGON & PHOENIX CHINESE RESTAURANT\n",
      "\u001b[43m8 \u001b[0mPAET RIO\n",
      "\u001b[43m80 \u001b[0mRIVERSIDE CAFE\n",
      "\u001b[43m805 \u001b[0mZHENG YUAN BAO GOURMET\n",
      "\u001b[43m809 \u001b[0mGRILL & BAR RESTAURANT\n",
      "\u001b[43m809 \u001b[0mPERFECT DELI.\n",
      "\u001b[43m8090 \u001b[0mTAI WANESE\n",
      "\u001b[43m810 \u001b[0mDELI & CAFE\n",
      "\u001b[43m829 \u001b[0mBAR RESTAURANT\n",
      "\u001b[43m83 \u001b[0m1/2\n",
      "\u001b[43m83 \u001b[0mKIEN TUONG RESTAURANT\n",
      "\u001b[43m833 \u001b[0mANNADALE ROAD CORP.\n",
      "\u001b[43m85 \u001b[0mBROAD CAFE\n",
      "\u001b[43m85 \u001b[0mCHINESE RESTAURANT\n",
      "\u001b[43m86 \u001b[0mBAKERY\n",
      "\u001b[43m86 \u001b[0mBEST BAKERY\n",
      "\u001b[43m86 \u001b[0mNOODLES\n",
      "\u001b[43m86 \u001b[0mSEAFOOD CHINESE RESTAURANT\n",
      "\u001b[43m86 \u001b[0mSUPERSTAR INC\n",
      "\u001b[43m876 \u001b[0mBAR LOUNGE CORP\n",
      "\u001b[43m876 \u001b[0mMARKET DELI\n",
      "\u001b[43m88 \u001b[0mCAFE\n",
      "\u001b[43m88 \u001b[0mCANTEEN\n",
      "\u001b[43m88 \u001b[0mCHINESE RESTAURANT\n",
      "\u001b[43m88 \u001b[0mDEGREES\n",
      "\u001b[43m88 \u001b[0mPALACE RESTAURANT\n",
      "\u001b[43m888 \u001b[0mKITCHEN\n",
      "\u001b[43m9 \u001b[0m& 8 CAFE\n",
      "\u001b[43m900 \u001b[0mPARK\n",
      "\u001b[43m904 \u001b[0mLUPITA RESTAURANT CORP\n",
      "\u001b[43m940 \u001b[0mFLUSHING LOUNGE/ARANCINI BROS\n",
      "\u001b[43m95 \u001b[0mSOUTH\n",
      "\u001b[43m96 \u001b[0mSOUTH PARK\n",
      "\u001b[43m983 \u001b[0mBUSHWICK LIVING ROOM\n",
      "\u001b[43m99 \u001b[0mCENT BEST PIZZA 5AVE INC\n",
      "\u001b[43m99 \u001b[0mCENT EXPRESS PIZZA\n",
      "\u001b[43m99 \u001b[0mCENT FRESH PIZZA\n",
      "\u001b[43m99 \u001b[0mCENT FRESH PIZZA VILLA CAFE\n",
      "\u001b[43m99 \u001b[0mCENT PIZZA\n",
      "\u001b[43m99 \u001b[0mCENTS BEST & FRESH PIZZA INC.\n",
      "\u001b[43m99 \u001b[0mCENTS FRESH HOT PIZZA\n",
      "\u001b[43m99 \u001b[0mCENTS FRESH SLICE PIZZA\n",
      "\u001b[43m99 \u001b[0mCENTS MEGA PIZZA\n",
      "\u001b[43m99 \u001b[0mFAVOR TASTE\n",
      "\u001b[43m99 \u001b[0mFRESH PIZZA\n",
      "\u001b[43m99 \u001b[0mMILES TO PHILLY\n"
     ]
    }
   ],
   "source": [
    "grep('^[0-9]+ ', 'data/uniquenames.txt')"
   ]
  },
  {
   "cell_type": "markdown",
   "metadata": {},
   "source": [
    "Find all restaurants that start with a letter, followed by one or more digits, followed by a space."
   ]
  },
  {
   "cell_type": "code",
   "execution_count": 20,
   "metadata": {},
   "outputs": [
    {
     "name": "stdout",
     "output_type": "stream",
     "text": [
      "\u001b[43mA1 \u001b[0mOCHA SUSHI\n",
      "\u001b[43mB4 \u001b[0mNYC\n",
      "\u001b[43mB66 \u001b[0mCLUB\n",
      "\u001b[43mC2 \u001b[0mCAFE\n",
      "\u001b[43mF1 \u001b[0mLOUNGE AND GRILL\n",
      "\u001b[43mH20 \u001b[0mLOUNGE AND RESTAURANT\n",
      "\u001b[43mJ4 \u001b[0mHOOKAH LOUNGE\n",
      "\u001b[43mQ2 \u001b[0mTHAI RESTAURANT\n",
      "\u001b[43mT2 \u001b[0m- GO\n",
      "\u001b[43mT49 \u001b[0mCAFE\n"
     ]
    }
   ],
   "source": [
    "grep('^[A-Z][0-9]+ ', 'data/uniquenames.txt')"
   ]
  },
  {
   "cell_type": "markdown",
   "metadata": {},
   "source": [
    "Find all restaurants that start with the word STARBUCKS, followed by any number of characters, and then have a digit."
   ]
  },
  {
   "cell_type": "code",
   "execution_count": 21,
   "metadata": {},
   "outputs": [
    {
     "name": "stdout",
     "output_type": "stream",
     "text": [
      "\u001b[43mSTARBUCKS # 14840\u001b[0m\n",
      "\u001b[43mSTARBUCKS (JFK TERMINAL 5\u001b[0m-POST SECURITY DEPARTURE)\n",
      "\u001b[43mSTARBUCKS (STORE 16628\u001b[0m)\n",
      "\u001b[43mSTARBUCKS 22420\u001b[0m\n",
      "\u001b[43mSTARBUCKS COFFEE  #16608\u001b[0m\n",
      "\u001b[43mSTARBUCKS COFFEE # 15440\u001b[0m\n",
      "\u001b[43mSTARBUCKS COFFEE # 7463\u001b[0m\n",
      "\u001b[43mSTARBUCKS COFFEE # 7540\u001b[0m\n",
      "\u001b[43mSTARBUCKS COFFEE #14240\u001b[0m\n",
      "\u001b[43mSTARBUCKS COFFEE #18509\u001b[0m\n",
      "\u001b[43mSTARBUCKS COFFEE #20679\u001b[0m\n",
      "\u001b[43mSTARBUCKS COFFEE #21514\u001b[0m\n",
      "\u001b[43mSTARBUCKS COFFEE #22596\u001b[0m\n",
      "\u001b[43mSTARBUCKS COFFEE #23266\u001b[0m\n",
      "\u001b[43mSTARBUCKS COFFEE #23267\u001b[0m\n",
      "\u001b[43mSTARBUCKS COFFEE #3438\u001b[0m\n",
      "\u001b[43mSTARBUCKS COFFEE #7344\u001b[0m\n",
      "\u001b[43mSTARBUCKS COFFEE #7358\u001b[0m\n",
      "\u001b[43mSTARBUCKS COFFEE #7416\u001b[0m\n",
      "\u001b[43mSTARBUCKS COFFEE #7682\u001b[0m\n",
      "\u001b[43mSTARBUCKS COFFEE #7826\u001b[0m\n",
      "\u001b[43mSTARBUCKS COFFEE #9282\u001b[0m\n",
      "\u001b[43mSTARBUCKS COFFEE #9722\u001b[0m\n",
      "\u001b[43mSTARBUCKS COFFEE (#19890\u001b[0m)\n",
      "\u001b[43mSTARBUCKS COFFEE (#2785\u001b[0m)\n",
      "\u001b[43mSTARBUCKS COFFEE (STORE #13539\u001b[0m)\n",
      "\u001b[43mSTARBUCKS COFFEE (STORE #7216\u001b[0m)\n",
      "\u001b[43mSTARBUCKS COFFEE (STORE #7555\u001b[0m)\n",
      "\u001b[43mSTARBUCKS COFFEE (STORE #7577\u001b[0m)\n",
      "\u001b[43mSTARBUCKS COFFEE (STORE #7587\u001b[0m)\n",
      "\u001b[43mSTARBUCKS COFFEE (STORE #7696\u001b[0m)\n",
      "\u001b[43mSTARBUCKS COFFEE (STORE #8614\u001b[0m)\n",
      "\u001b[43mSTARBUCKS COFFEE (STORE 17478\u001b[0m)\n",
      "\u001b[43mSTARBUCKS COFFEE (STORE 7261\u001b[0m)\n",
      "\u001b[43mSTARBUCKS COFFEE (STORE#11650\u001b[0m)\n",
      "\u001b[43mSTARBUCKS COFFEE (STORE#20161\u001b[0m)\n",
      "\u001b[43mSTARBUCKS COFFEE COMPANY #22560\u001b[0m\n",
      "\u001b[43mSTARBUCKS COFFEE MACY'S 6\u001b[0mTH FLOOR\n",
      "\u001b[43mSTARBUCKS COFFEE# 7426\u001b[0m\n",
      "\u001b[43mSTARBUCKS COFFEE#7462\u001b[0m\n",
      "\u001b[43mSTARBUCKS JPMC 270\u001b[0m PARK\n"
     ]
    }
   ],
   "source": [
    "grep('STARBUCKS.*[0-9]+', 'data/uniquenames.txt')"
   ]
  },
  {
   "cell_type": "markdown",
   "metadata": {},
   "source": [
    "#### Grouping ()\n",
    "\n",
    "In the group operator, when a group of characters is enclosed in parentheses, the next operator applies to the whole group, not only the previous characters. For example, find all restaurant names that contain BA two times or more:"
   ]
  },
  {
   "cell_type": "code",
   "execution_count": 22,
   "metadata": {},
   "outputs": [
    {
     "name": "stdout",
     "output_type": "stream",
     "text": [
      "ALI \u001b[43mBABA\u001b[0m\n",
      "ALI \u001b[43mBABA\u001b[0m RESTAURANT\n",
      "ALI \u001b[43mBABA\u001b[0m'S\n",
      "ALI\u001b[43mBABA\u001b[0m\n",
      "ALI\u001b[43mBABA\u001b[0m EXPRESS\n",
      "ALI\u001b[43mBABA\u001b[0m GRILL\n",
      "\u001b[43mBABA\u001b[0m COOL\n",
      "\u001b[43mBABA\u001b[0m GHANOUGE\n",
      "\u001b[43mBABA\u001b[0m'S PIEROGIES\n",
      "\u001b[43mBABA\u001b[0mGHANOUSH\n",
      "\u001b[43mBABA\u001b[0mLU\n",
      "SA\u001b[43mBABA\u001b[0m LOUNGE\n"
     ]
    }
   ],
   "source": [
    "grep(r'(BA){2}', 'data/uniquenames.txt')"
   ]
  },
  {
   "cell_type": "markdown",
   "metadata": {},
   "source": [
    "#### In class exercices\n",
    "\n",
    "What do these regular expressions match?\n",
    "\n",
    "* b (cd)*\n",
    "* h (d)+\n",
    "* j? k+\n",
    "* (cd){2,5}\n",
    "* o(pre){3,}\n",
    "* Panos|Ipeirotis\n",
    "\n",
    "#### In class exercises (advanced)\n",
    "\n",
    "Write down the regular expressions for the following:\n",
    "\n",
    "* A telephone number (e.g, 212-555-0921)\n",
    "* A zip+4 code (e.g, 10012-1809)\n",
    "* For matching a float number (e.g., +12.34 or -1.457 or 1023.4568)\n",
    "* Dollar amount with optional cents  (e.g. \\$0.33, \\$784)\n",
    "* Time of Day (e.g. 12:15am, 3:34pm)\n",
    "* Match urls  only of the form http://www.alphanumeric.com\n",
    "* Match an email of the form username@domain (assume  that the domain might be in the form alphanumeric.alphanumeric, or alphanumeric.alphanumeric.alphanumeric)   \n",
    "\n"
   ]
  },
  {
   "cell_type": "markdown",
   "metadata": {},
   "source": [
    "### Backreferences\n",
    "\n",
    "Sometimes it is handy to be able to refer to a match that was made earlier in a regex. This is done with backreferences. `\\k` is the backreference specifier, where `k` is a number, which refers to the `k`-th regular expression *that was enclosed in parenthesis*.\n",
    "\n",
    "For example, find if the first character(s) of a line are the same as the last:\n"
   ]
  },
  {
   "cell_type": "code",
   "execution_count": 23,
   "metadata": {},
   "outputs": [
    {
     "name": "stdout",
     "output_type": "stream",
     "text": [
      "\u001b[43m108 LOUNGE - CLUB 108\u001b[0m\n",
      "\u001b[43mANTEK RESTAURANT\u001b[0m\n",
      "\u001b[43mANTOJITOS RETAURANT\u001b[0m\n",
      "\u001b[43mANTONIO'S RESTAURANT\u001b[0m\n",
      "\u001b[43mARRIBA ARRIBA\u001b[0m\n",
      "\u001b[43mBARCELONA BAR\u001b[0m\n",
      "\u001b[43mBARRACUDA BAR\u001b[0m\n",
      "\u001b[43mBERONBERON\u001b[0m\n",
      "\u001b[43mBINGO BINGO BINGO\u001b[0m\n",
      "\u001b[43mBUMBLE AND BUMBLE\u001b[0m\n",
      "\u001b[43mBURGER BURGER\u001b[0m\n",
      "\u001b[43mCENTER PLATE- CONCOURSE CAFE-JACOB K JAVITS CONVENTION CENTER\u001b[0m\n",
      "\u001b[43mCENTERPLATE-EMPLOYEE CAFETERIA-JACOB K JAVITS CONVENTION CENTER\u001b[0m\n",
      "\u001b[43mCHARLES SALLY & CHARLES\u001b[0m\n",
      "\u001b[43mCHEEBURGER CHEEBURGER\u001b[0m\n",
      "\u001b[43mCHEN MOMMY KITCHEN\u001b[0m\n",
      "\u001b[43mCHEN'S KITCHEN\u001b[0m\n",
      "\u001b[43mCHOP CHOP\u001b[0m\n",
      "\u001b[43mCREPE SUCRE\u001b[0m\n",
      "\u001b[43mDIP DIP\u001b[0m\n",
      "\u001b[43mETCETERA ETCETERA\u001b[0m\n",
      "\u001b[43mGAJI GAJI\u001b[0m\n",
      "\u001b[43mGIT-IT-N-GIT\u001b[0m\n",
      "\u001b[43mGONZALEZ Y GONZALEZ\u001b[0m\n",
      "\u001b[43mGUDE GUDE\u001b[0m\n",
      "\u001b[43mHALF AND HALF\u001b[0m\n",
      "\u001b[43mHOME SWEET HOME\u001b[0m\n",
      "\u001b[43mJANCHI JANCHI\u001b[0m\n",
      "\u001b[43mKENEDY FRIED CHICKEN\u001b[0m\n",
      "\u001b[43mKENNDY FRIED CHICKEN\u001b[0m\n",
      "\u001b[43mKENNEDY  FRIED CHICKEN\u001b[0m\n",
      "\u001b[43mKENNEDY FRIED CHICKEN\u001b[0m\n",
      "\u001b[43mKENNEDY GRILL & FRIED CHICKEN\u001b[0m\n",
      "\u001b[43mKENNEDY GRILL AND FRIED CHICKEN\u001b[0m\n",
      "\u001b[43mKENNEDY PIZZA & CHICKEN\u001b[0m\n",
      "\u001b[43mKENTUCKY FRIED CHICKEN\u001b[0m\n",
      "\u001b[43mKOPI KOPI\u001b[0m\n",
      "\u001b[43mLAS RAMBLAS\u001b[0m\n",
      "\u001b[43mLES HALLES\u001b[0m\n",
      "\u001b[43mLOS 3 POTRILLOS\u001b[0m\n",
      "\u001b[43mLOS DOS POTRILLOS\u001b[0m\n",
      "\u001b[43mLOS TRES POTRILLOS\u001b[0m\n",
      "\u001b[43mLUCA LUCA\u001b[0m\n",
      "\u001b[43mMANGO MANGO\u001b[0m\n",
      "\u001b[43mMANGOMANGO\u001b[0m\n",
      "\u001b[43mMOCU-MOCU\u001b[0m\n",
      "\u001b[43mNAKA NAKA\u001b[0m\n",
      "\u001b[43mNAM NAM\u001b[0m\n",
      "\u001b[43mNITA NITA\u001b[0m\n",
      "\u001b[43mNORTHERN MANOR\u001b[0m\n",
      "\u001b[43mONE AND ONE\u001b[0m\n",
      "\u001b[43mPIO PIO\u001b[0m\n",
      "\u001b[43mPIO-PIO\u001b[0m\n",
      "\u001b[43mSAATCHI & SAATCHI\u001b[0m\n",
      "\u001b[43mSALSA Y SALSA\u001b[0m\n",
      "\u001b[43mSAN SOO KAP SAN\u001b[0m\n",
      "\u001b[43mSANSOOKAPSAN\u001b[0m\n",
      "\u001b[43mSEBA SEBA\u001b[0m\n",
      "\u001b[43mSEBA-SEBA\u001b[0m\n",
      "\u001b[43mSHERATON NEW YORK HOTEL @ LINK SHERATON\u001b[0m\n",
      "\u001b[43mSHINJU III SUSHI\u001b[0m\n",
      "\u001b[43mSOOM SOOM\u001b[0m\n",
      "\u001b[43mSUSHI SUSHI\u001b[0m\n",
      "\u001b[43mTAKA TAKA\u001b[0m\n",
      "\u001b[43mTETE-A-TETE\u001b[0m\n",
      "\u001b[43mTUK TUK\u001b[0m\n",
      "\u001b[43mVIS-A-VIS\u001b[0m\n"
     ]
    }
   ],
   "source": [
    "grep(r'^(.{3,}).*\\1$', 'data/uniquenames.txt')"
   ]
  },
  {
   "cell_type": "markdown",
   "metadata": {},
   "source": [
    "Or find all the restaurant names that the first 5 characters (or more) are identical to the last characters."
   ]
  },
  {
   "cell_type": "code",
   "execution_count": 24,
   "metadata": {},
   "outputs": [
    {
     "name": "stdout",
     "output_type": "stream",
     "text": [
      "\u001b[43mBERONBERON\u001b[0m\n",
      "\u001b[43mCOCO\u001b[0m\n",
      "\u001b[43mISIS\u001b[0m\n",
      "\u001b[43mMANGOMANGO\u001b[0m\n",
      "\u001b[43mNONO\u001b[0m\n",
      "\u001b[43mVIVI\u001b[0m\n"
     ]
    }
   ],
   "source": [
    "grep(r'^([A-Z]+)\\1$', 'data/uniquenames.txt')"
   ]
  },
  {
   "cell_type": "markdown",
   "metadata": {},
   "source": [
    "Find all names that have three consecutive same digits"
   ]
  },
  {
   "cell_type": "code",
   "execution_count": 25,
   "metadata": {},
   "outputs": [
    {
     "name": "stdout",
     "output_type": "stream",
     "text": [
      "\u001b[43m111\u001b[0m RESTAURANT\n",
      "\u001b[43m444\u001b[0m MADISON COFFEE SHOP\n",
      "\u001b[43m555\u001b[0m VIVACAFE\n",
      "\u001b[43m777\u001b[0m THEATER BAR\n",
      "\u001b[43m888\u001b[0m KITCHEN\n",
      "CAFE 2\u001b[43m000\u001b[0m CORONA\n",
      "CHEN BROTHERS \u001b[43m888\u001b[0m RESTAURANT, INC.\n",
      "GALLAGHER'S 2\u001b[43m000\u001b[0m\n",
      "LEGENDS \u001b[43m000\u001b[0m\n",
      "MEXICO 2\u001b[43m000\u001b[0m DELI RESTAURANT\n",
      "NEW \u001b[43m888\u001b[0m CHINA EXPRESS\n",
      "OUTBACK STEAKHOUSE \u001b[43m333\u001b[0m0\n",
      "OUTBACK STEAKHOUSE \u001b[43m333\u001b[0m2\n",
      "STARBUCKS COFFEE (STORE #7\u001b[43m555\u001b[0m)\n",
      "SUBWAY STORE 46\u001b[43m555\u001b[0m\n",
      "TULCINGO DELI \u001b[43m111\u001b[0m\n"
     ]
    }
   ],
   "source": [
    "grep(r'([0-9])\\1\\1', 'data/uniquenames.txt')"
   ]
  },
  {
   "cell_type": "markdown",
   "metadata": {},
   "source": [
    "As we are going to see, these backreferences will also be of tremendous use for extraction purposes."
   ]
  },
  {
   "cell_type": "markdown",
   "metadata": {},
   "source": [
    "#### In class exercise (advanced)\n",
    "\n",
    "Say that you have a file with telephone numbers written in a variety of forms: \n",
    "\n",
    "* 679-397-5255\n",
    "* 2126660921\n",
    "* 212-998-0902\n",
    "* 888-888-2222\n",
    "* 800-555-1211\n",
    "* 800 555 1212\n",
    "* 800.555.1213\n",
    "* (800) 555-1214\n",
    "* 1-800-555-1215\n",
    "* 1(800)555-1216\n",
    "* 800-555-1212-1234\n",
    "* 800-555-1212x1234\n",
    "* 800-555-1212 ext. 1234\n",
    "* work 1-(800) 555.1212 #1234\n",
    "\n",
    "The task is to standardize everything in the form (xxx)-xxx-xxx.\n"
   ]
  },
  {
   "cell_type": "markdown",
   "metadata": {},
   "source": [
    "To make the process interactive, go to http://regex101.com/?#python, copy and paste the numbers above in the textarea called \"Text String\", and then try to write the regular expression above. (As a side note, the website provides excellent explanations about the meaning of the regular expression that you write down.) Remember to put the \"g\" character in the small textfield next to the regex: this has the same meaning as in sed, and it means \"find globally\" the regex, not just the first occurence."
   ]
  },
  {
   "cell_type": "markdown",
   "metadata": {},
   "source": [
    "\n",
    "If you manage to deal with that task, consider the case of also having international country calling codes (e.g., +1 for US, +44 for UK, +7 for Russia, +30 for Greece, +354 for Iceland etc), and also standardizing the extensions."
   ]
  },
  {
   "cell_type": "markdown",
   "metadata": {},
   "source": [
    "### Additional Regex Resources\n",
    "\n",
    "* [Visual Regular Expression Tester](http://www.debuggex.com/?flavor=pcre)\n",
    "* [Test Python Regular Expressions Online](http://www.pyregex.com/)\n",
    "* [Regular Expressions 101](http://regex101.com/?)\n",
    "* [Python's re Library Official Documentation](http://docs.python.org/2/library/re.html)\n",
    "* [Regular expression reference at W3schools](http://www.w3schools.com/jsref/jsref_obj_regexp.asp)\n",
    "* [Parsing phone numbers using Python and regular expressions](http://www.diveintopython.net/regular_expressions/phone_numbers.html)"
   ]
  },
  {
   "cell_type": "markdown",
   "metadata": {},
   "source": [
    "### Additional Regular Expressions\n",
    "\n",
    "While we have not used these before, they are commonly used shortcuts to simplify the construction of regular expressions:\n",
    "\n",
    "* `\\d`: matches the digits, 0-9.\n",
    "* `\\D`: matches anything but `\\d`.\n",
    "* `\\w`: matches any alphanumeric character plus underscore: `[A-Za-z0-9_]`.\n",
    "* `\\W`: matches anything but `\\w`.\n",
    "* `\\s`: matches any \"whitespace\" character (space, tab, newline, etc): `[ \\t\\n\\r\\f\\v]`.\n",
    "* `\\S`: matches anything but `\\s`.\n",
    "* `\\b`: matches the breaks between alphanumeric and non-alphanumeric characters (an empty string), the boundary between `\\w` and `\\W`. Useful for ensuring that what you match is actually a word.\n",
    "* `\\B`: matches anything but `\\b`. Useful for ensuring your match is in the middle of a word.\n",
    "\n",
    "And the ones below get a little bit more advanced:\n",
    "\n",
    "* `*?`, `+?`: ordinarily, `*`, `+` and `?` are greedy, matching the longest possible string that satisfies the regular expression. Adding the `?` to any of these makes it non-greedy, instead matching the shortest possible expression. \n",
    "* `(?: )`: A non-capturing group. This works just as `()`, but doesn’t hold on to the matched contents.\n",
    "* `(?<=x)`: Matches any string that is preceded by x (an arbitrary regular expression).\n"
   ]
  },
  {
   "cell_type": "code",
   "execution_count": null,
   "metadata": {},
   "outputs": [],
   "source": []
  }
 ],
 "metadata": {
  "kernelspec": {
   "display_name": "Python 3",
   "language": "python",
   "name": "python3"
  },
  "language_info": {
   "codemirror_mode": {
    "name": "ipython",
    "version": 3
   },
   "file_extension": ".py",
   "mimetype": "text/x-python",
   "name": "python",
   "nbconvert_exporter": "python",
   "pygments_lexer": "ipython3",
   "version": "3.5.2"
  }
 },
 "nbformat": 4,
 "nbformat_minor": 1
}
