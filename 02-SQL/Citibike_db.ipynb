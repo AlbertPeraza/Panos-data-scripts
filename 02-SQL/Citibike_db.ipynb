{
 "cells": [
  {
   "cell_type": "markdown",
   "metadata": {},
   "source": [
    "## Citibike Dataset\n",
    "\n"
   ]
  },
  {
   "cell_type": "code",
   "execution_count": 2,
   "metadata": {},
   "outputs": [],
   "source": [
    "%matplotlib inline\n",
    "import pandas as pd\n",
    "import MySQLdb as mdb\n",
    "import matplotlib \n",
    "matplotlib.style.use(['seaborn-talk', 'seaborn-ticks', 'seaborn-whitegrid'])\n",
    "matplotlib.rcParams['figure.figsize'] = (20,10)"
   ]
  },
  {
   "cell_type": "code",
   "execution_count": 4,
   "metadata": {},
   "outputs": [],
   "source": [
    "from sqlalchemy import create_engine\n",
    "\n",
    "conn_string_read = 'mysql://{user}:{password}@{host}/{db}?charset=utf8mb4'.format(\n",
    "    host = 'localhost', \n",
    "    user = 'root',\n",
    "    password = 'dwdstudent2015',\n",
    "    encoding = 'utf8mb4', db='citibike')\n",
    "engine_read = create_engine(conn_string_read)\n",
    "\n"
   ]
  },
  {
   "cell_type": "code",
   "execution_count": 8,
   "metadata": {},
   "outputs": [],
   "source": [
    "query = '''\n",
    "SELECT station_id AS id, \n",
    "       AVG(available_bikes) AS available_bikes,\n",
    "       AVG(available_docks) AS available_docks,\n",
    "       AVG(available_bikes/(available_bikes+available_docks)) AS percent_full, \n",
    "       DATE_FORMAT(last_communication_time, '%%Y-%%m-%%d %%H:00:00') AS communication_time \n",
    "FROM citibike.Docks_Status\n",
    "WHERE  last_communication_time > '2017-02-13' AND last_communication_time < '2017-03-13' \n",
    "    AND status_key=1 \n",
    "    AND available_bikes+available_docks>0\n",
    "    \n",
    "GROUP BY station_id, communication_time\n",
    "\n",
    "'''\n",
    "df = pd.read_sql(query, con=engine_read)"
   ]
  },
  {
   "cell_type": "code",
   "execution_count": 9,
   "metadata": {},
   "outputs": [
    {
     "data": {
      "text/plain": [
       "433343"
      ]
     },
     "execution_count": 9,
     "metadata": {},
     "output_type": "execute_result"
    }
   ],
   "source": [
    "len(df)"
   ]
  },
  {
   "cell_type": "code",
   "execution_count": 16,
   "metadata": {},
   "outputs": [
    {
     "data": {
      "text/html": [
       "<div>\n",
       "<style scoped>\n",
       "    .dataframe tbody tr th:only-of-type {\n",
       "        vertical-align: middle;\n",
       "    }\n",
       "\n",
       "    .dataframe tbody tr th {\n",
       "        vertical-align: top;\n",
       "    }\n",
       "\n",
       "    .dataframe thead th {\n",
       "        text-align: right;\n",
       "    }\n",
       "</style>\n",
       "<table border=\"1\" class=\"dataframe\">\n",
       "  <thead>\n",
       "    <tr style=\"text-align: right;\">\n",
       "      <th></th>\n",
       "      <th>id</th>\n",
       "      <th>available_bikes</th>\n",
       "      <th>available_docks</th>\n",
       "      <th>percent_full</th>\n",
       "      <th>communication_time</th>\n",
       "    </tr>\n",
       "  </thead>\n",
       "  <tbody>\n",
       "    <tr>\n",
       "      <th>0</th>\n",
       "      <td>72</td>\n",
       "      <td>13.0000</td>\n",
       "      <td>26.0000</td>\n",
       "      <td>0.333300</td>\n",
       "      <td>2017-02-13 00:00:00</td>\n",
       "    </tr>\n",
       "    <tr>\n",
       "      <th>1</th>\n",
       "      <td>72</td>\n",
       "      <td>13.0000</td>\n",
       "      <td>26.0000</td>\n",
       "      <td>0.333300</td>\n",
       "      <td>2017-02-13 01:00:00</td>\n",
       "    </tr>\n",
       "    <tr>\n",
       "      <th>2</th>\n",
       "      <td>72</td>\n",
       "      <td>13.0000</td>\n",
       "      <td>26.0000</td>\n",
       "      <td>0.333300</td>\n",
       "      <td>2017-02-13 02:00:00</td>\n",
       "    </tr>\n",
       "    <tr>\n",
       "      <th>3</th>\n",
       "      <td>72</td>\n",
       "      <td>13.0000</td>\n",
       "      <td>26.0000</td>\n",
       "      <td>0.333300</td>\n",
       "      <td>2017-02-13 03:00:00</td>\n",
       "    </tr>\n",
       "    <tr>\n",
       "      <th>4</th>\n",
       "      <td>72</td>\n",
       "      <td>13.0000</td>\n",
       "      <td>26.0000</td>\n",
       "      <td>0.333300</td>\n",
       "      <td>2017-02-13 04:00:00</td>\n",
       "    </tr>\n",
       "    <tr>\n",
       "      <th>5</th>\n",
       "      <td>72</td>\n",
       "      <td>13.0000</td>\n",
       "      <td>26.0000</td>\n",
       "      <td>0.333300</td>\n",
       "      <td>2017-02-13 05:00:00</td>\n",
       "    </tr>\n",
       "    <tr>\n",
       "      <th>6</th>\n",
       "      <td>72</td>\n",
       "      <td>12.4667</td>\n",
       "      <td>26.5333</td>\n",
       "      <td>0.319647</td>\n",
       "      <td>2017-02-13 06:00:00</td>\n",
       "    </tr>\n",
       "    <tr>\n",
       "      <th>7</th>\n",
       "      <td>72</td>\n",
       "      <td>11.8824</td>\n",
       "      <td>27.1176</td>\n",
       "      <td>0.304688</td>\n",
       "      <td>2017-02-13 07:00:00</td>\n",
       "    </tr>\n",
       "    <tr>\n",
       "      <th>8</th>\n",
       "      <td>72</td>\n",
       "      <td>11.4286</td>\n",
       "      <td>27.5714</td>\n",
       "      <td>0.293043</td>\n",
       "      <td>2017-02-13 08:00:00</td>\n",
       "    </tr>\n",
       "    <tr>\n",
       "      <th>9</th>\n",
       "      <td>72</td>\n",
       "      <td>15.7727</td>\n",
       "      <td>23.2273</td>\n",
       "      <td>0.404436</td>\n",
       "      <td>2017-02-13 09:00:00</td>\n",
       "    </tr>\n",
       "  </tbody>\n",
       "</table>\n",
       "</div>"
      ],
      "text/plain": [
       "   id  available_bikes  available_docks  percent_full   communication_time\n",
       "0  72          13.0000          26.0000      0.333300  2017-02-13 00:00:00\n",
       "1  72          13.0000          26.0000      0.333300  2017-02-13 01:00:00\n",
       "2  72          13.0000          26.0000      0.333300  2017-02-13 02:00:00\n",
       "3  72          13.0000          26.0000      0.333300  2017-02-13 03:00:00\n",
       "4  72          13.0000          26.0000      0.333300  2017-02-13 04:00:00\n",
       "5  72          13.0000          26.0000      0.333300  2017-02-13 05:00:00\n",
       "6  72          12.4667          26.5333      0.319647  2017-02-13 06:00:00\n",
       "7  72          11.8824          27.1176      0.304688  2017-02-13 07:00:00\n",
       "8  72          11.4286          27.5714      0.293043  2017-02-13 08:00:00\n",
       "9  72          15.7727          23.2273      0.404436  2017-02-13 09:00:00"
      ]
     },
     "execution_count": 16,
     "metadata": {},
     "output_type": "execute_result"
    }
   ],
   "source": [
    "df.head(10)"
   ]
  },
  {
   "cell_type": "code",
   "execution_count": 18,
   "metadata": {},
   "outputs": [],
   "source": [
    "df['communication_time'] = pd.to_datetime(df['communication_time'], format='%Y-%m-%d %H:%M:%S')"
   ]
  },
  {
   "cell_type": "code",
   "execution_count": 19,
   "metadata": {},
   "outputs": [],
   "source": [
    "df['total_docks'] =  df.available_bikes + df.available_docks"
   ]
  },
  {
   "cell_type": "code",
   "execution_count": 21,
   "metadata": {},
   "outputs": [],
   "source": [
    "df.total_docks = df.total_docks.astype(int)"
   ]
  },
  {
   "cell_type": "code",
   "execution_count": 23,
   "metadata": {},
   "outputs": [],
   "source": [
    "df = df[ ['id', 'communication_time', 'available_bikes', 'available_docks', 'total_docks', 'percent_full' ] ]"
   ]
  },
  {
   "cell_type": "code",
   "execution_count": 25,
   "metadata": {},
   "outputs": [],
   "source": [
    "df.sort_values(by = ['id', 'communication_time'], inplace=True)"
   ]
  },
  {
   "cell_type": "code",
   "execution_count": 27,
   "metadata": {},
   "outputs": [
    {
     "data": {
      "text/plain": [
       "id                             int64\n",
       "communication_time    datetime64[ns]\n",
       "available_bikes              float64\n",
       "available_docks              float64\n",
       "total_docks                    int64\n",
       "percent_full                 float64\n",
       "dtype: object"
      ]
     },
     "execution_count": 27,
     "metadata": {},
     "output_type": "execute_result"
    }
   ],
   "source": [
    "df.dtypes"
   ]
  },
  {
   "cell_type": "markdown",
   "metadata": {},
   "source": [
    "### Writing a Pandas Dataframe in a MySQL Table"
   ]
  },
  {
   "cell_type": "markdown",
   "metadata": {},
   "source": [
    "Now we will connect to our MySQL server. We will use the SQLAlchemy library of Python.\n",
    "\n",
    "If you do not have the library, you need to install it by typing in the shell:"
   ]
  },
  {
   "cell_type": "code",
   "execution_count": 10,
   "metadata": {},
   "outputs": [],
   "source": [
    "conn_string_write = 'mysql://{user}:{password}@{host}/?charset=utf8mb4'.format(\n",
    "    host = 'db.ipeirotis.org', \n",
    "    user = 'root',\n",
    "    password = 'krjniJm6OuIyhEoo',\n",
    "    encoding = 'utf8mb4')\n",
    "engine_write = create_engine(conn_string_write)\n"
   ]
  },
  {
   "cell_type": "markdown",
   "metadata": {},
   "source": [
    "Once we have connected successfully, we need to create our database:"
   ]
  },
  {
   "cell_type": "code",
   "execution_count": 12,
   "metadata": {},
   "outputs": [
    {
     "data": {
      "text/plain": [
       "<sqlalchemy.engine.result.ResultProxy at 0x7f089d1c7320>"
      ]
     },
     "execution_count": 12,
     "metadata": {},
     "output_type": "execute_result"
    }
   ],
   "source": [
    "# Query to create a database\n",
    "db_name = 'citibike'\n",
    "create_db_query = \"CREATE DATABASE IF NOT EXISTS {db} DEFAULT CHARACTER SET 'utf8mb4'\".format(db=db_name)\n",
    "\n",
    "# Create a database\n",
    "engine_write.execute(create_db_query)\n",
    "# And lets switch to the database\n",
    "engine_write.execute(\"USE {db}\".format(db=db_name))"
   ]
  },
  {
   "cell_type": "code",
   "execution_count": 29,
   "metadata": {},
   "outputs": [],
   "source": [
    "table_name = 'stations'\n",
    "\n",
    "df.to_sql(\n",
    "    name = table_name, \n",
    "    schema = db_name, \n",
    "    con = engine_write,\n",
    "    if_exists = 'replace',\n",
    "    index = False, \n",
    "    chunksize = 1000)"
   ]
  },
  {
   "cell_type": "code",
   "execution_count": null,
   "metadata": {},
   "outputs": [],
   "source": [
    "# Once we have the data in the table, we also specify a primary key\n",
    "# If we had FOREIGN KEYS we can add them in the same way\n",
    "# add_key_query = 'ALTER TABLE nypd ADD PRIMARY KEY(CMPLNT_NUM)'\n",
    "# engine.execute(add_key_query)"
   ]
  },
  {
   "cell_type": "code",
   "execution_count": null,
   "metadata": {},
   "outputs": [],
   "source": []
  }
 ],
 "metadata": {
  "kernelspec": {
   "display_name": "Python 3",
   "language": "python",
   "name": "python3"
  },
  "language_info": {
   "codemirror_mode": {
    "name": "ipython",
    "version": 3
   },
   "file_extension": ".py",
   "mimetype": "text/x-python",
   "name": "python",
   "nbconvert_exporter": "python",
   "pygments_lexer": "ipython3",
   "version": "3.5.2"
  }
 },
 "nbformat": 4,
 "nbformat_minor": 1
}
