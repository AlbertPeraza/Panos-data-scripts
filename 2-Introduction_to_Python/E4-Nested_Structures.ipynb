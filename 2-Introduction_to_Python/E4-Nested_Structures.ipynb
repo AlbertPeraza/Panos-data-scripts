{
 "cells": [
  {
   "cell_type": "markdown",
   "metadata": {},
   "source": [
    "### Combining (Nesting) Data Structures:\n",
    "\n",
    "There are many opportunities to combine data types in python. Lists can be populated by arbitrary data structures. Similarly, you can use any type as the value in a dictionary. We need to be a bit more careful about the elements of sets, and the keys of dictionaries, as these need data types that are _hash-able_. (Do not worry if you do not understand this yet.)"
   ]
  },
  {
   "cell_type": "code",
   "execution_count": null,
   "metadata": {},
   "outputs": [],
   "source": [
    "print(\"lists of lists\")\n",
    "lol = [[1, 2, 3], [4, 5, 6, 7]]\n",
    "lol_2 = [[4, 5, 6], [7, 8, 9]]\n",
    "print(\"lists of lists of lists\")\n",
    "lolol = [lol, lol_2]\n",
    "print(\"Lolol:\", lolol)"
   ]
  },
  {
   "cell_type": "code",
   "execution_count": null,
   "metadata": {},
   "outputs": [],
   "source": [
    "print(\"retrieving data from this data structure\")\n",
    "print(\"Lolol[0]:\",lolol[0])"
   ]
  },
  {
   "cell_type": "code",
   "execution_count": null,
   "metadata": {},
   "outputs": [],
   "source": [
    "print(\"Lolol[0][0]:\",lolol[0][0])"
   ]
  },
  {
   "cell_type": "code",
   "execution_count": null,
   "metadata": {},
   "outputs": [],
   "source": [
    "print(\"Lolol[0][0][0]:\",lolol[0][0][0])"
   ]
  },
  {
   "cell_type": "code",
   "execution_count": null,
   "metadata": {},
   "outputs": [],
   "source": [
    "print(\"data structures as values in a dictionary\")\n",
    "dlol = {\"lol\":lol, \"lol_2\":lol_2}\n",
    "print(dlol)"
   ]
  },
  {
   "cell_type": "code",
   "execution_count": null,
   "metadata": {},
   "outputs": [],
   "source": [
    "# Access the list [4, 5, 6, 7] in the \"lol\" key\n",
    "print(\"Accessing the list of lists named lol:\", dlol[\"lol\"])\n",
    "print(\"Accessing the second element :\", dlol[\"lol\"][1])\n",
    "print(\"Getting the last element of the list:\", dlol[\"lol\"][1][-1])"
   ]
  },
  {
   "cell_type": "code",
   "execution_count": null,
   "metadata": {},
   "outputs": [],
   "source": [
    "print(\"retrieving data from this dictionary\")\n",
    "print(dlol[\"lol\"])\n",
    "print(dlol[\"lol\"][0])\n",
    "print(dlol[\"lol\"][0][0])"
   ]
  },
  {
   "cell_type": "markdown",
   "metadata": {},
   "source": [
    "#### Exercise\n",
    "\n",
    "You are given the following data structure.\n",
    "\n",
    "`data = {\n",
    "    \"Panos\": {\n",
    "        \"Job\":\"Professor\", \n",
    "        \"YOB\": \"1976\", \n",
    "        \"Children\": [\"Gregory\", \"Anna\"]\n",
    "        }, \n",
    "    \"Joe\": {\n",
    "        \"Job\":\"Data Scientist\", \n",
    "        \"YOB\": \"1981\"\n",
    "        }\n",
    "    }`\n",
    "\n",
    "You need to write code that\n",
    "\n",
    "* Prints the job of Joe\n",
    "* Prints the year of birth of Panos; prints the age of Panos\n",
    "* Prints the children of Panos\n",
    "* Prints the second child of Panos\n",
    "* Prints the number of people _entries_ in the data. (Notice that it is much harder to find all the people in the data, eg the children)\n",
    "* Checks if Maria is in the data\n",
    "* Checks if Panos has children. Would you code work when the list of children is empty?\n",
    "* Checks if Joe has children. How can you handle the lack of the corresponding key?"
   ]
  },
  {
   "cell_type": "code",
   "execution_count": null,
   "metadata": {},
   "outputs": [],
   "source": [
    "# your code here\n",
    "data = {\"Panos\": {\"Job\":\"Professor\", \n",
    "                  \"YOB\": \"1976\", \n",
    "                  \"Children\": [\"Gregory\", \"Anna\"]}, \n",
    "        \"Joe\": {\"Job\":\"Data Scientist\", \n",
    "                \"YOB\": \"1981\"}}"
   ]
  },
  {
   "cell_type": "code",
   "execution_count": null,
   "metadata": {},
   "outputs": [],
   "source": [
    "# Prints the job of Joe"
   ]
  },
  {
   "cell_type": "code",
   "execution_count": null,
   "metadata": {},
   "outputs": [],
   "source": [
    "# Prints the year of birth of Panos"
   ]
  },
  {
   "cell_type": "code",
   "execution_count": null,
   "metadata": {},
   "outputs": [],
   "source": [
    "# Prints the children of Panos"
   ]
  },
  {
   "cell_type": "code",
   "execution_count": null,
   "metadata": {},
   "outputs": [],
   "source": [
    "# Prints the second child of Panos"
   ]
  },
  {
   "cell_type": "code",
   "execution_count": null,
   "metadata": {},
   "outputs": [],
   "source": [
    "# Prints the number of people entries in the data"
   ]
  },
  {
   "cell_type": "code",
   "execution_count": null,
   "metadata": {},
   "outputs": [],
   "source": [
    "# Checks if Maria is in the data"
   ]
  },
  {
   "cell_type": "code",
   "execution_count": null,
   "metadata": {},
   "outputs": [],
   "source": [
    "# Checks if Anna is in the data\n",
    "# Notice that the in command *will not* look into the values"
   ]
  },
  {
   "cell_type": "code",
   "execution_count": null,
   "metadata": {},
   "outputs": [],
   "source": [
    "# Checks if Panos has children"
   ]
  },
  {
   "cell_type": "code",
   "execution_count": null,
   "metadata": {},
   "outputs": [],
   "source": [
    "# Checks if Joe has children"
   ]
  },
  {
   "cell_type": "code",
   "execution_count": null,
   "metadata": {
    "collapsed": true
   },
   "outputs": [],
   "source": []
  }
 ],
 "metadata": {
  "kernelspec": {
   "display_name": "Python 3",
   "language": "python",
   "name": "python3"
  },
  "language_info": {
   "codemirror_mode": {
    "name": "ipython",
    "version": 3
   },
   "file_extension": ".py",
   "mimetype": "text/x-python",
   "name": "python",
   "nbconvert_exporter": "python",
   "pygments_lexer": "ipython3",
   "version": "3.5.2"
  }
 },
 "nbformat": 4,
 "nbformat_minor": 1
}
