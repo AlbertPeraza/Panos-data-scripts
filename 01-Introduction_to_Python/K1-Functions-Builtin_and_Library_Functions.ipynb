{
 "cells": [
  {
   "cell_type": "markdown",
   "metadata": {},
   "source": [
    "# Functions"
   ]
  },
  {
   "cell_type": "markdown",
   "metadata": {},
   "source": [
    "So far, we have examined a "
   ]
  },
  {
   "cell_type": "markdown",
   "metadata": {},
   "source": [
    "## Built-in functions"
   ]
  },
  {
   "cell_type": "markdown",
   "metadata": {},
   "source": [
    "Python provides a set of functions already built-in. You are already familiar with some functions:"
   ]
  },
  {
   "cell_type": "markdown",
   "metadata": {},
   "source": [
    "### `len`, `sum`, `max`, and `min`"
   ]
  },
  {
   "cell_type": "markdown",
   "metadata": {},
   "source": [
    "You have already encountered `len`, `sum`, `max`, and `min`."
   ]
  },
  {
   "cell_type": "code",
   "execution_count": 3,
   "metadata": {},
   "outputs": [],
   "source": [
    "nums = [3, 41, 12, 9, 74, 15]"
   ]
  },
  {
   "cell_type": "code",
   "execution_count": 4,
   "metadata": {},
   "outputs": [
    {
     "name": "stdout",
     "output_type": "stream",
     "text": [
      "Length: 6\n"
     ]
    }
   ],
   "source": [
    "# len() takes as a parameter a string (and returns its length in characters)\n",
    "# or a list/set/dictionary/... (and returns the number of elements)\n",
    "print(\"Length:\", len(nums))"
   ]
  },
  {
   "cell_type": "code",
   "execution_count": 5,
   "metadata": {},
   "outputs": [
    {
     "name": "stdout",
     "output_type": "stream",
     "text": [
      "Max: 74\n",
      "Min: 3\n"
     ]
    }
   ],
   "source": [
    "# max() / min() takes as a parameter a *list* and returns \n",
    "# the maximum or minimum element\n",
    "print(\"Max:\", max(nums))\n",
    "print(\"Min:\", min(nums))\n"
   ]
  },
  {
   "cell_type": "code",
   "execution_count": 6,
   "metadata": {},
   "outputs": [
    {
     "name": "stdout",
     "output_type": "stream",
     "text": [
      "Sum: 154\n"
     ]
    }
   ],
   "source": [
    "# sum() gets as input a list of numbers and returns their sum\n",
    "print(\"Sum:\", sum(nums))"
   ]
  },
  {
   "cell_type": "markdown",
   "metadata": {},
   "source": [
    "So, notice how a function works. It has input and output. In the examples above, the input is a list of numbers (`nums`), and the output is a number corresponding to the length of a list for `len`, the maximum element for `max`, and so on."
   ]
  },
  {
   "cell_type": "markdown",
   "metadata": {},
   "source": [
    "We have also used various type conversion functions, such as `int`, `float`, `str`, `set`, `list`,  `tuple`. \n",
    "\n",
    "In a variety of contexts, we also used the  `range`, `round`, and `sorted` functions.\n",
    "\n",
    "We also used `type` to find out the type of a given variable. "
   ]
  },
  {
   "cell_type": "code",
   "execution_count": 7,
   "metadata": {},
   "outputs": [
    {
     "data": {
      "text/plain": [
       "[-10, -8, -6, -4, -2, 0, 2, 4, 6, 8]"
      ]
     },
     "execution_count": 7,
     "metadata": {},
     "output_type": "execute_result"
    }
   ],
   "source": [
    "list(range(-10,10,2))"
   ]
  },
  {
   "cell_type": "code",
   "execution_count": 8,
   "metadata": {},
   "outputs": [
    {
     "name": "stdout",
     "output_type": "stream",
     "text": [
      "[0.819, 0.277, 0.817, 0.575, 0.168, 0.973, 0.987, 0.883, 0.293, 0.933]\n",
      "[0.82, 0.82, 0.57, 0.97, 0.99, 0.88, 0.93]\n",
      "[0.57, 0.82, 0.82, 0.88, 0.93, 0.97, 0.99]\n"
     ]
    }
   ],
   "source": [
    "a = [0.819, 0.277, 0.817, 0.575, 0.168, 0.973, 0.987, 0.883, 0.293, 0.933]\n",
    "# Keep only numbers above 0.5 and round them to 2 decimals\n",
    "b = [round(num,2) for num in a if num>0.5]\n",
    "print(a)\n",
    "print(b)\n",
    "print(sorted(b))"
   ]
  },
  {
   "cell_type": "code",
   "execution_count": 9,
   "metadata": {},
   "outputs": [
    {
     "name": "stdout",
     "output_type": "stream",
     "text": [
      "[0.819, 0.277, 0.817, 0.575, 0.168, 0.973, 0.987, 0.883, 0.293, 0.933]\n",
      "[0.82, 0.82, 0.57, 0.97, 0.99, 0.88, 0.93]\n",
      "[0.57, 0.82, 0.82, 0.88, 0.93, 0.97, 0.99]\n"
     ]
    }
   ],
   "source": [
    "a = [0.819, 0.277, 0.817, 0.575, 0.168, 0.973, 0.987, 0.883, 0.293, 0.933]\n",
    "# Keep only numbers above 0.5 and round them to 2 decimals\n",
    "b = [] # we initialize the list b\n",
    "for num in a:\n",
    "    if num>0.5: # Keep only numbers above 0.5\n",
    "        x = round(num,2) # round them to 2 decimals\n",
    "        b.append(x)\n",
    "\n",
    "print(a)\n",
    "print(b)\n",
    "\n",
    "# sorted() has a list as input and returns the list with the elements sorted\n",
    "print(sorted(b))"
   ]
  },
  {
   "cell_type": "markdown",
   "metadata": {},
   "source": [
    "The list at https://docs.python.org/3/library/functions.html contains all the built-in functions of Python. **As a general rule of thumb, avoid using these bult-in function names as variable names.**"
   ]
  },
  {
   "cell_type": "markdown",
   "metadata": {},
   "source": [
    "### `print`"
   ]
  },
  {
   "cell_type": "code",
   "execution_count": 1,
   "metadata": {},
   "outputs": [
    {
     "name": "stdout",
     "output_type": "stream",
     "text": [
      "Oh yeah, I am a function! I print things on the screen\n",
      "Hi Panos How are you\n"
     ]
    }
   ],
   "source": [
    "# Here print is the function\n",
    "# Within parentheses we pass ONE parameter, the string with the message\n",
    "print(\"Oh yeah, I am a function! I print things on the screen\")\n",
    "\n",
    "# The print function can take more than one parameters\n",
    "# For example below we pass three strings as parameters\n",
    "name = \"Panos\"\n",
    "print(\"Hi\", name, \"How are you\")"
   ]
  },
  {
   "cell_type": "markdown",
   "metadata": {},
   "source": [
    "### Functions from Libraries\n",
    "\n",
    "We can also add more functions by `import`-ing libraries. You may recall importing the `math` library. "
   ]
  },
  {
   "cell_type": "code",
   "execution_count": 2,
   "metadata": {},
   "outputs": [
    {
     "name": "stdout",
     "output_type": "stream",
     "text": [
      "#\n",
      "#\n",
      "##\n",
      "###\n",
      "###\n",
      "##\n",
      "#\n",
      "##\n",
      "####\n",
      "######\n",
      "#########\n",
      "###########\n",
      "############\n",
      "#############\n",
      "##############\n",
      "#############\n",
      "###########\n",
      "########\n",
      "####\n",
      "#\n",
      "######\n",
      "###########\n",
      "################\n",
      "####################\n",
      "########################\n",
      "#########################\n",
      "##########################\n",
      "#########################\n",
      "######################\n",
      "#################\n",
      "###########\n",
      "####\n"
     ]
    }
   ],
   "source": [
    "# Let's have some fun\n",
    "import math\n",
    "for i in range(32):\n",
    "    # math.fabs returns the absolute value\n",
    "    # math.cos returns the cosine of the value\n",
    "    x = int(math.fabs((i*math.cos(i/4)))+1)\n",
    "    print(x*'#')"
   ]
  },
  {
   "cell_type": "markdown",
   "metadata": {},
   "source": [
    "Another commonly used library is the `random` library that returns random numbers."
   ]
  },
  {
   "cell_type": "code",
   "execution_count": 4,
   "metadata": {
    "scrolled": true
   },
   "outputs": [
    {
     "name": "stdout",
     "output_type": "stream",
     "text": [
      "The number is 0.536\n",
      "The number is 0.933\n",
      "The number is 0.134\n",
      "The number is 0.343\n",
      "The number is 0.641\n",
      "The number is 0.534\n",
      "The number is 0.743\n",
      "The number is 0.027\n",
      "The number is 0.441\n",
      "The number is 0.117\n"
     ]
    }
   ],
   "source": [
    "import random\n",
    "for i in range(10):\n",
    "    x = random.random() # random.random() returns random values from 0 to 1\n",
    "    print(\"The number is {n:.3f}\".format(n=round(x,3)))\n",
    "    "
   ]
  },
  {
   "cell_type": "code",
   "execution_count": null,
   "metadata": {},
   "outputs": [],
   "source": []
  }
 ],
 "metadata": {
  "kernelspec": {
   "display_name": "Python 3",
   "language": "python",
   "name": "python3"
  },
  "language_info": {
   "codemirror_mode": {
    "name": "ipython",
    "version": 3
   },
   "file_extension": ".py",
   "mimetype": "text/x-python",
   "name": "python",
   "nbconvert_exporter": "python",
   "pygments_lexer": "ipython3",
   "version": "3.5.2"
  }
 },
 "nbformat": 4,
 "nbformat_minor": 1
}
