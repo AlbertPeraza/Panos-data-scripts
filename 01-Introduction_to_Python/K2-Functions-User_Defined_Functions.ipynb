{
 "cells": [
  {
   "cell_type": "markdown",
   "metadata": {},
   "source": [
    "# Functions"
   ]
  },
  {
   "cell_type": "markdown",
   "metadata": {},
   "source": [
    "## User Defined Functions\n",
    "\n"
   ]
  },
  {
   "cell_type": "markdown",
   "metadata": {},
   "source": [
    "\n",
    "** See also Examples 18, 19, 20, and 21 from Learn Python the Hard Way **\n",
    "\n",
    "Functions assign a name to a block of code the way variables assign names to bits of data. This seeminly benign naming of things is incredibly powerful; alloing one to reuse common functionality over and over. Well-tested functions form building blocks for large, complex systems. As you progress through python, you'll find yourself using powerful functions defined in some of python's vast libraries of code. \n",
    "\n"
   ]
  },
  {
   "cell_type": "markdown",
   "metadata": {},
   "source": [
    "Function definitions begin with the `def` keyword, followed by the name you wish to assign to a function. Following this name are parentheses, `( )`, containing zero or more variable names, those values that are passed into the function. There is then a colon, followed by a code block defining the actions of the function:"
   ]
  },
  {
   "cell_type": "markdown",
   "metadata": {},
   "source": [
    "#### Printing \"Hi\"\n",
    "\n",
    "Let's start by looking at a function that performs a set of steps."
   ]
  },
  {
   "cell_type": "code",
   "execution_count": null,
   "metadata": {},
   "outputs": [],
   "source": [
    "def print_hi():\n",
    "    print(\"hi!\")"
   ]
  },
  {
   "cell_type": "code",
   "execution_count": null,
   "metadata": {},
   "outputs": [],
   "source": [
    "for i in range(10):\n",
    "    print_hi()"
   ]
  },
  {
   "cell_type": "markdown",
   "metadata": {},
   "source": [
    "* Of course, most functions have also one or more _parameters_. For example, the function below will accept the name as a parameter, and then print out the message \"HI _name_\". where _name_ is the value of the parameter that we pass to the function. The function will also convert the _name_ into uppercase:"
   ]
  },
  {
   "cell_type": "code",
   "execution_count": 1,
   "metadata": {},
   "outputs": [],
   "source": [
    "def hi_you(name):\n",
    "    '''\n",
    "    This function takes as input/parameter the variable name\n",
    "    And then prints in the screen the message \n",
    "    HI <NAME>! \n",
    "    where <NAME> is the content of the name variable converted to uppercase\n",
    "    '''\n",
    "    print(\"HI\", name.upper())"
   ]
  },
  {
   "cell_type": "code",
   "execution_count": 2,
   "metadata": {},
   "outputs": [
    {
     "name": "stdout",
     "output_type": "stream",
     "text": [
      "HI PANOS\n",
      "HI PETER\n",
      "HI KYLIE\n",
      "HI JENNIFER\n",
      "HI ELENA\n"
     ]
    }
   ],
   "source": [
    "names = ['Panos', 'Peter', 'Kylie', 'Jennifer', 'Elena']\n",
    "for n in names:\n",
    "    hi_you(n)"
   ]
  },
  {
   "cell_type": "markdown",
   "metadata": {},
   "source": [
    "* Let's modify the `hi_you` to take as input a *list* of names and print out all of them "
   ]
  },
  {
   "cell_type": "code",
   "execution_count": null,
   "metadata": {},
   "outputs": [],
   "source": [
    "def hi_you_all(list_of_names):\n",
    "    '''\n",
    "    This function takes as input/parameter list_of_names\n",
    "    And then prints in the screen the message \n",
    "    HI <NAME>! \n",
    "    for all the names in the list_of_names.\n",
    "    \n",
    "    The paramter names is a list of strings, with every string\n",
    "    being a name that we want to print out\n",
    "    '''\n",
    "    for name in list_of_names:\n",
    "        print(\"HI\", name.upper(), \"!\")\n",
    "        # Alternatively, we could reuse the function hi_you(name)\n",
    "        # hi_you(name)"
   ]
  },
  {
   "cell_type": "code",
   "execution_count": null,
   "metadata": {},
   "outputs": [],
   "source": [
    "names = ['Panos', 'Peter', 'Kylie', 'Jennifer', 'Elena']\n",
    "hi_you_all(names)"
   ]
  },
  {
   "cell_type": "markdown",
   "metadata": {},
   "source": [
    "#### The `return` statement \n",
    "\n",
    "Example of computing a math function"
   ]
  },
  {
   "cell_type": "code",
   "execution_count": null,
   "metadata": {},
   "outputs": [],
   "source": [
    "# The functions are often designed to **return** the\n",
    "# result of a computation/operation\n",
    "def square(num):\n",
    "    squared = num*num\n",
    "    return squared"
   ]
  },
  {
   "cell_type": "code",
   "execution_count": null,
   "metadata": {},
   "outputs": [],
   "source": [
    "x = square(3) # notice that square RETURNS a value that \n",
    "              # we store in variable x \n",
    "              # this is in contrast to hi_you and hi_you_all\n",
    "              # that just printed out messages on the screen\n",
    "print(x)"
   ]
  },
  {
   "cell_type": "code",
   "execution_count": null,
   "metadata": {},
   "outputs": [],
   "source": [
    "for i in range(15):\n",
    "    print(\"The square of {a} is {aa}\".format(a=i, aa=square(i)))"
   ]
  },
  {
   "cell_type": "markdown",
   "metadata": {},
   "source": [
    "Note that the function `square` has a special keyword `return`. The argument to return is passed to whatever piece of code is calling the function. In this case, the square of the number that was input. "
   ]
  },
  {
   "cell_type": "markdown",
   "metadata": {},
   "source": [
    "#### Solving the quadratic equation\n",
    "\n",
    "Here is another example of a function, for solving the quadratic equation $ a*x^2 + b*x + c = 0$."
   ]
  },
  {
   "cell_type": "code",
   "execution_count": null,
   "metadata": {},
   "outputs": [],
   "source": [
    "# This was our solution in Assignment 2F\n",
    "import math\n",
    "a = 1\n",
    "b = -5.86\n",
    "c = 8.5408\n",
    "x1 = (-b + math.sqrt(b**2 - 4*a*c))/(2*a)\n",
    "print(\"Solution 1: {x:.3f}\".format(x=x1))\n",
    "x2 = (-b - math.sqrt(b**2 - 4*a*c))/(2*a)\n",
    "print(\"Solution 2: {x:.3f}\".format(x=x2))\n"
   ]
  },
  {
   "cell_type": "code",
   "execution_count": null,
   "metadata": {},
   "outputs": [],
   "source": [
    "# We want to solve the quadratic equation a*x^2 + b*x + c = 0 \n",
    "# We have two solutions:\n",
    "# s1 = (-b + sqrt(b^2 - 4ac)) / 2a\n",
    "# s2 = (-b - sqrt(b^2 - 4ac)) / 2a\n",
    "import math\n",
    "\n",
    "# We implement two functions to compute the solutions\n",
    "# Notice that both functions take as input the values a,b,c\n",
    "def s1(a,b,c):\n",
    "    solution = (-b + math.sqrt(b**2 - 4*a*c)) / (2*a) \n",
    "    return solution\n",
    "\n",
    "def s2(a,b,c):\n",
    "    solution = (-b - math.sqrt(b**2 - 4*a*c)) / (2*a) \n",
    "    return solution\n",
    "\n",
    "# Now let's use our functions\n",
    "a = 1\n",
    "b = -5.86\n",
    "c = 8.5408\n",
    "print(\"Solution 1:\", s1(a,b,c) )\n",
    "print(\"Solution 2:\", s2(a,b,c) )"
   ]
  },
  {
   "cell_type": "code",
   "execution_count": null,
   "metadata": {},
   "outputs": [],
   "source": [
    "# Example of returning \"multivalued\" results using tuples/lists\n",
    "def solve_quadratic(a,b,c):\n",
    "    # We can even check that the value of the discriminant\n",
    "    # is positive before returning a result\n",
    "    discr = b**2 - 4*a*c\n",
    "    if discr < 0: # We will not compute \n",
    "        return None # \"None\" is a special value, meaning \"nothing\"\n",
    "    solution1 = s1(a,b,c)\n",
    "    solution2 = s2(a,b,c)\n",
    "    # A function can return a list, tuple, dictionary, etc.\n",
    "    # The \"return\" value does not have to be a single value\n",
    "    return solution1, solution2\n",
    "\n",
    "solutions = solve_quadratic(a,b,c)\n",
    "print(\"Solutions:\", solutions )\n",
    "print(\"Solutions:\", solutions[0] )\n",
    "print(\"Solutions:\", solutions[1] )"
   ]
  },
  {
   "cell_type": "code",
   "execution_count": null,
   "metadata": {},
   "outputs": [],
   "source": [
    "## COMMON MISTAKE 2\n",
    "# Using multiple return statements\n",
    "# Why? After we execute the first return, \n",
    "# we do not execute anything below that\n",
    "def s1(a, b, c):\n",
    "    d = math.sqrt(b**2 - 4*a*c)\n",
    "    return (-b + d)/(2*a) # solution 1 \n",
    "    return (-b - d)/(2*a) # solution 2, BUT this will never be executed"
   ]
  },
  {
   "cell_type": "code",
   "execution_count": null,
   "metadata": {},
   "outputs": [],
   "source": []
  },
  {
   "cell_type": "markdown",
   "metadata": {},
   "source": [
    "#### Example function: Cleaning up a string"
   ]
  },
  {
   "cell_type": "code",
   "execution_count": null,
   "metadata": {},
   "outputs": [],
   "source": [
    "# this function takes as input a phone (string variable)\n",
    "# and prints only its digits\n",
    "def clean(phone):\n",
    "    result = \"\"\n",
    "    digits = {\"0\",\"1\",\"2\",\"3\",\"4\",\"5\",\"6\",\"7\",\"8\",\"9\"}\n",
    "    for c in phone:\n",
    "        if c in digits:\n",
    "            result = result + c\n",
    "    return result        \n"
   ]
  },
  {
   "cell_type": "code",
   "execution_count": null,
   "metadata": {},
   "outputs": [],
   "source": [
    "p = \"(800) 555-1214 Panos Phone number\"\n",
    "print(clean(p))"
   ]
  },
  {
   "cell_type": "markdown",
   "metadata": {},
   "source": [
    "#### Exercises\n",
    "\n",
    "* Write a function `in_range` that checks if a number `n` is within a given range `(a,b)` and returns True or False. The function takes n, a, and b as parameters.\n",
    "\n"
   ]
  },
  {
   "cell_type": "code",
   "execution_count": null,
   "metadata": {},
   "outputs": [],
   "source": []
  },
  {
   "cell_type": "markdown",
   "metadata": {},
   "source": [
    "* Write a `dedup` function that takes as input a list and returns back another list, with only unique elements and sorted. For example, if the input is `[1,2,5,5,5,3,3,3,3,4,5]` the returned list should be `[1, 2, 3, 4, 5]`. If the input is `['New York', 'New York',  'Paris', 'London', 'Paris']` the returned list should be `['London', 'New York', 'Paris']`."
   ]
  },
  {
   "cell_type": "code",
   "execution_count": null,
   "metadata": {},
   "outputs": [],
   "source": []
  },
  {
   "cell_type": "markdown",
   "metadata": {},
   "source": [
    "* Write a function that generates a random password with `n` letters. The value `n` should be a parameter."
   ]
  },
  {
   "cell_type": "code",
   "execution_count": null,
   "metadata": {},
   "outputs": [],
   "source": [
    "# This code generates one random letter\n",
    "import random\n",
    "import string\n",
    "random.choice(string.ascii_letters)\n"
   ]
  }
 ],
 "metadata": {
  "kernelspec": {
   "display_name": "Python 3",
   "language": "python",
   "name": "python3"
  },
  "language_info": {
   "codemirror_mode": {
    "name": "ipython",
    "version": 3
   },
   "file_extension": ".py",
   "mimetype": "text/x-python",
   "name": "python",
   "nbconvert_exporter": "python",
   "pygments_lexer": "ipython3",
   "version": "3.5.2"
  }
 },
 "nbformat": 4,
 "nbformat_minor": 1
}
