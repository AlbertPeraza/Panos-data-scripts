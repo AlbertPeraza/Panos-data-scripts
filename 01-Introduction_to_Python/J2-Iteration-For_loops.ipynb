{
 "cells": [
  {
   "cell_type": "markdown",
   "metadata": {},
   "source": [
    "# Control Structures: For Loops\n"
   ]
  },
  {
   "cell_type": "markdown",
   "metadata": {},
   "source": [
    "We've spent some time going into detail about some of the data types and structures available in python. It's now time to talk about how to navigate through some of this data, and use data to make decisions. Traversing over data and making decisions based upon data are a common aspect of every programming language, known as control flow. Python provides a rich control flow, with a lot of conveniences for the power users. Here, we're just going to talk about the basics, to learn more, please [consult the documentation](http://docs.python.org/3/tutorial/controlflow.html). \n",
    "\n"
   ]
  },
  {
   "cell_type": "code",
   "execution_count": 2,
   "metadata": {},
   "outputs": [],
   "source": [
    "# This is just to use the time.sleep function\n",
    "# We will use the time.sleep function to slow \n",
    "# down the execution of loops, only for \n",
    "# instructional purposes. In reality, we add\n",
    "# such delays only in special cases.\n",
    "import time "
   ]
  },
  {
   "cell_type": "markdown",
   "metadata": {},
   "source": [
    "## for Statements"
   ]
  },
  {
   "cell_type": "markdown",
   "metadata": {},
   "source": [
    "\n",
    "**See also LPTHW, Exp 32.**\n",
    "\n",
    "for statements are a convenient way to iterate through the values contained in a data structure. Going through the elements in a data structure one at a time, this element is assigned to variable. The code block associated with the for statement (or for loop) is then evaluated with this value."
   ]
  },
  {
   "cell_type": "code",
   "execution_count": null,
   "metadata": {},
   "outputs": [],
   "source": [
    "set_a = {1, 2, 3, 4}\n",
    "for i in set_a:\n",
    "    print(i, \" squared is:\", i*i )"
   ]
  },
  {
   "cell_type": "code",
   "execution_count": null,
   "metadata": {},
   "outputs": [],
   "source": [
    "print(\"a more complex block\")\n",
    "set_a = {1, 2, 3, 4, 5, 6}\n",
    "for i in set_a:\n",
    "    # print(i)\n",
    "    if i >= 3:\n",
    "        print(\"==> \",i, \" squared is:\", i*i )"
   ]
  },
  {
   "cell_type": "code",
   "execution_count": null,
   "metadata": {},
   "outputs": [],
   "source": [
    "print(\"this also works for lists\")\n",
    "list_a = [1,2,3]\n",
    "for num in list_a:\n",
    "    print(num)"
   ]
  },
  {
   "cell_type": "code",
   "execution_count": null,
   "metadata": {},
   "outputs": [],
   "source": [
    "print(\"dictionaries let you iterate through keys, values, or both\")\n",
    "phones = {\n",
    "    \"Panos\": \"212-998-0803\",\n",
    "    \"Maria\": \"656-233-5555\",\n",
    "    \"John\": \"693-232-5776\",\n",
    "    \"Jake\": \"415-794-3423\"\n",
    "}"
   ]
  },
  {
   "cell_type": "code",
   "execution_count": null,
   "metadata": {},
   "outputs": [],
   "source": [
    "print(\"Iterating over keys\")\n",
    "for k in phones.keys():\n",
    "    print(\"key =\", k, \", value =\", phones[k])"
   ]
  },
  {
   "cell_type": "code",
   "execution_count": null,
   "metadata": {},
   "outputs": [],
   "source": [
    "print(\"Iterating over values\")\n",
    "for v in phones.values():\n",
    "    print(v)"
   ]
  },
  {
   "cell_type": "code",
   "execution_count": null,
   "metadata": {},
   "outputs": [],
   "source": [
    "print(\"Iterating over both keys and values\")\n",
    "# Items returns *tuples* that correspond to key-value pairs\n",
    "# (\"Panos\", \"212-998-0803\"), (\"Maria\": \"656-233-5555\"), etc.\n",
    "for (k,v) in phones.items():\n",
    "    print(k, v)"
   ]
  },
  {
   "cell_type": "code",
   "execution_count": null,
   "metadata": {},
   "outputs": [],
   "source": [
    "nba_teams = [\"Atlanta Hawks\", \"Boston Celtics\", \"Brooklyn Nets\", \"Charlotte Hornets\", \"Chicago Bulls\", \"Cleveland Cavaliers\", \"Dallas Mavericks\", \"Denver Nuggets\", \"Detroit Pistons\", \"Golden State Warriors\", \"Houston Rockets\", \"Indiana Pacers\", \"LA Clippers\", \"Los Angeles Lakers\", \"Memphis Grizzlies\", \"Miami Heat\", \"Milwaukee Bucks\", \"Minnesota Timberwolves\", \"New Orleans Pelicans\", \"New York Knicks\", \"Oklahoma City Thunder\", \"Orlando Magic\", \"Philadelphia 76ers\", \"Phoenix Suns\", \"Portland Trail Blazers\", \"Sacramento Kings\", \"San Antonio Spurs\", \"Toronto Raptors\", \"Utah Jazz\"]\n",
    "print(\"The list contains\", len(nba_teams), \"teams\")\n",
    "for team in nba_teams:\n",
    "    print(team)"
   ]
  },
  {
   "cell_type": "markdown",
   "metadata": {},
   "source": [
    "## Exercise\n",
    "\n",
    "* print the names of the people from the dictionary below, by iterating through the keys\n",
    "* print the age of each person, by iterating through the keys, and then looking up the \"YOB\" entry.\n",
    "* print the names of people born after 1980\n",
    "* print the number of children for each person. You need to check if the \"Children\" list exists in the dictionary."
   ]
  },
  {
   "cell_type": "code",
   "execution_count": null,
   "metadata": {},
   "outputs": [],
   "source": [
    "data = {\n",
    "        \"Foster\": {\n",
    "            \"Job\": \"Professor\", \n",
    "            \"YOB\": 1965, \n",
    "            \"Children\": [\"Hannah\"],\n",
    "            \"Awards\": [\"Best Teacher 2014\", \"Best Researcher 2015\"],\n",
    "            \"Salary\": 120000\n",
    "        }, \n",
    "        \"Joe\": {\n",
    "            \"Job\": \"Data Scientist\", \n",
    "            \"YOB\": 1981,\n",
    "            \"Salary\": 200000\n",
    "        },\n",
    "        \"Maria\": { \n",
    "            \"Job\": \"Software Engineer\", \n",
    "            \"YOB\": 1993, \n",
    "            \"Children\": [],\n",
    "            \"Awards\": [\"Dean's List 2013\", \"Valedictorian 2011\", \"First place in Math Olympiad 2010\"]\n",
    "        }, \n",
    "        \"Panos\": { \n",
    "            \"Job\": \"Professor\", \n",
    "            \"YOB\": 1976, \n",
    "            \"Children\": [\"Gregory\", \"Anna\"]\n",
    "        },\n",
    "    }"
   ]
  },
  {
   "cell_type": "code",
   "execution_count": null,
   "metadata": {},
   "outputs": [],
   "source": [
    "## Print the names of people in the data"
   ]
  },
  {
   "cell_type": "code",
   "execution_count": null,
   "metadata": {},
   "outputs": [],
   "source": [
    "## Print the names and age"
   ]
  },
  {
   "cell_type": "code",
   "execution_count": null,
   "metadata": {},
   "outputs": [],
   "source": [
    "## Print the names of people born after 1980"
   ]
  },
  {
   "cell_type": "code",
   "execution_count": null,
   "metadata": {},
   "outputs": [],
   "source": [
    "## Print the number of children for each perspon"
   ]
  },
  {
   "cell_type": "markdown",
   "metadata": {},
   "source": [
    "## Using Break/Continue with for loops\n",
    "\n",
    "Let's see an example of using `break` and `continue` within a for loop."
   ]
  },
  {
   "cell_type": "code",
   "execution_count": null,
   "metadata": {},
   "outputs": [],
   "source": [
    "nba_teams = [\"Atlanta Hawks\", \"Boston Celtics\", \"Brooklyn Nets\", \"Charlotte Hornets\", \"Chicago Bulls\", \"Cleveland Cavaliers\", \"Dallas Mavericks\", \"Denver Nuggets\", \"Detroit Pistons\", \"Golden State Warriors\", \"Houston Rockets\", \"Indiana Pacers\", \"LA Clippers\", \"Los Angeles Lakers\", \"Memphis Grizzlies\", \"Miami Heat\", \"Milwaukee Bucks\", \"Minnesota Timberwolves\", \"New Orleans Pelicans\", \"New York Knicks\", \"Oklahoma City Thunder\", \"Orlando Magic\", \"Philadelphia 76ers\", \"Phoenix Suns\", \"Portland Trail Blazers\", \"Sacramento Kings\", \"San Antonio Spurs\", \"Toronto Raptors\", \"Utah Jazz\"]\n",
    "print(\"The list contains\", len(nba_teams), \"teams\")"
   ]
  },
  {
   "cell_type": "markdown",
   "metadata": {},
   "source": [
    "We will now search through the list of teams, to find whether there is a team that contains the `looking_for` string. Try the variant with the `break` and with the `continue`, to see the difference."
   ]
  },
  {
   "cell_type": "code",
   "execution_count": null,
   "metadata": {},
   "outputs": [],
   "source": [
    "looking_for = \"Brooklyn\"\n",
    "for team in nba_teams:\n",
    "    if looking_for in team: \n",
    "        print(\"We found the team:\", team, \"containing\", looking_for)\n",
    "        print(\"We will stop searching now\")\n",
    "        break # we go out of the loop\n",
    "        # continue # we skip the remaining of the code in the nested block\n",
    "    # else:\n",
    "    print(team, \"does not contain the string\", looking_for)\n",
    "    \n",
    "print(\"Out of the loop!\")"
   ]
  },
  {
   "cell_type": "markdown",
   "metadata": {},
   "source": [
    "Technically, we can simulate the use of `break` and `continue` with `if-else` statements, but their usage often makes the code easier to read. Consider the following example, where we want to search for a team, and if we find a team that matches, we want to see if they made it to the play offs."
   ]
  },
  {
   "cell_type": "code",
   "execution_count": null,
   "metadata": {},
   "outputs": [],
   "source": [
    "playoff = [\"Atlanta Hawks\", \"Boston Celtics\", \"Charlotte Hornets\",\"Cleveland Cavaliers\", \"Dallas Mavericks\", \"Detroit Pistons\",\"Golden State Warriors\", \"Houston Rockets\", \"Indiana Pacers\", \"LA Clippers\", \"Memphis Grizzlies\", \"Miami Heat\", \"Oklahoma City Thunder\", \"Portland Trail Blazers\", \"San Antonio Spurs\", \"Toronto Raptors\"]\n",
    "print(\"The list contains\", len(playoff), \"teams\")"
   ]
  },
  {
   "cell_type": "code",
   "execution_count": null,
   "metadata": {},
   "outputs": [],
   "source": [
    "looking_for = \"Clippers\"\n",
    "\n",
    "for team in nba_teams:\n",
    "    # If the team does not match, we continue searching\n",
    "    # without executing the remaining code\n",
    "    if looking_for not in team: \n",
    "        continue\n",
    " \n",
    "    # If we have found a matching team, we check for their status in playoffs\n",
    "    if team in playoff:\n",
    "        print(team, \"was in the playoffs!\")\n",
    "    else:\n",
    "        print(team, \"was not in the playoffs...\")\n"
   ]
  },
  {
   "cell_type": "markdown",
   "metadata": {},
   "source": [
    "## Ranges of Integers:\n",
    "\n",
    "Often it is convenient to define (and iterate through) ranges of integers. Python has a convenient range function that allows you to do just this."
   ]
  },
  {
   "cell_type": "code",
   "execution_count": null,
   "metadata": {},
   "outputs": [],
   "source": [
    "list(range(20))"
   ]
  },
  {
   "cell_type": "code",
   "execution_count": null,
   "metadata": {},
   "outputs": [],
   "source": [
    "print(list(range(10)) )# start at zero, < the specified ceiling value\n",
    "# range(10) <=> range(0,10)\n",
    "for i in range(10):\n",
    "    print(i, \"squared is\", i*i)"
   ]
  },
  {
   "cell_type": "code",
   "execution_count": null,
   "metadata": {},
   "outputs": [],
   "source": [
    "# When range command has two parameters, it starts from the first parameter\n",
    "# and finishes at the second \n",
    "print(list(range(-5, 5)))#from the left value, < right value"
   ]
  },
  {
   "cell_type": "code",
   "execution_count": null,
   "metadata": {},
   "outputs": [],
   "source": [
    "# When range has a third argument, this is the \"step\" value\n",
    "print(list(range(-5, 50, 5)) )#from the left value, to the middle value, incrementing by the right value"
   ]
  },
  {
   "cell_type": "markdown",
   "metadata": {},
   "source": [
    "### Warning\n",
    "\n",
    "Those that are already familiar with programming will tend to write code like this:"
   ]
  },
  {
   "cell_type": "code",
   "execution_count": null,
   "metadata": {},
   "outputs": [],
   "source": [
    "# Old style, using indexing for loops\n",
    "names = [\"Abe\", \"Bill\", \"Chris\", \"Dorothy\", \"Ellis\"]\n",
    "for i in range(0,len(names)):\n",
    "    print(names[i])"
   ]
  },
  {
   "cell_type": "markdown",
   "metadata": {},
   "source": [
    "instead of "
   ]
  },
  {
   "cell_type": "code",
   "execution_count": null,
   "metadata": {},
   "outputs": [],
   "source": [
    "# Pythonic style, use iterators\n",
    "names = [\"Abe\", \"Bill\", \"Chris\", \"Dorothy\", \"Ellis\"]\n",
    "for n in names:\n",
    "    print(n)"
   ]
  },
  {
   "cell_type": "markdown",
   "metadata": {},
   "source": [
    "*Avoid* using the indexing style method for iterating through data structures. While technically both generate the same result, the \"Pythonic\" way of doing things is the latter: It is simpler, more readable, and less prone to errors. "
   ]
  },
  {
   "cell_type": "code",
   "execution_count": null,
   "metadata": {},
   "outputs": [],
   "source": []
  },
  {
   "cell_type": "markdown",
   "metadata": {},
   "source": [
    "### Exercise\n",
    "\n",
    "* print your name 10 times (easy, peasy). \n",
    "* print on the screen a \"triangle\", by printing first \"#\", then \"##\", then \"###\", etc. Repeat 10 times; _Hint: The command `print(i*'#')` will print the character '#' a total of `i` times._"
   ]
  },
  {
   "cell_type": "code",
   "execution_count": null,
   "metadata": {},
   "outputs": [],
   "source": [
    "#\n",
    "##\n",
    "###\n",
    "####\n",
    "#####\n",
    "######\n",
    "#######\n",
    "########\n",
    "#########\n",
    "##########"
   ]
  },
  {
   "cell_type": "code",
   "execution_count": null,
   "metadata": {},
   "outputs": [],
   "source": []
  }
 ],
 "metadata": {
  "kernelspec": {
   "display_name": "Python 3",
   "language": "python",
   "name": "python3"
  },
  "language_info": {
   "codemirror_mode": {
    "name": "ipython",
    "version": 3
   },
   "file_extension": ".py",
   "mimetype": "text/x-python",
   "name": "python",
   "nbconvert_exporter": "python",
   "pygments_lexer": "ipython3",
   "version": "3.5.2"
  }
 },
 "nbformat": 4,
 "nbformat_minor": 1
}
