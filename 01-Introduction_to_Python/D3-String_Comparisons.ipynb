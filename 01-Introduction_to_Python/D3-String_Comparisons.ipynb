{
 "cells": [
  {
   "cell_type": "markdown",
   "metadata": {},
   "source": [
    "### String Comparisons\n",
    "\n",
    "We will examine now the concept of comparisons among strings and introduce a few comparison operators. \n",
    "\n",
    "#### Equality comparison\n",
    "\n",
    "Let's first examine how we can check if two strings are identical. For this comparison, we need the equality operator `==`.\n",
    "\n",
    "Let's see how equality comparisons work in Python:"
   ]
  },
  {
   "cell_type": "code",
   "execution_count": 9,
   "metadata": {},
   "outputs": [],
   "source": [
    "str1 = \"hello\""
   ]
  },
  {
   "cell_type": "code",
   "execution_count": 10,
   "metadata": {},
   "outputs": [
    {
     "name": "stdout",
     "output_type": "stream",
     "text": [
      "True\n"
     ]
    }
   ],
   "source": [
    "print(str1 == \"hello\")"
   ]
  },
  {
   "cell_type": "code",
   "execution_count": 11,
   "metadata": {},
   "outputs": [
    {
     "name": "stdout",
     "output_type": "stream",
     "text": [
      "False\n"
     ]
    }
   ],
   "source": [
    "print(str1 == \"Hello\")"
   ]
  },
  {
   "cell_type": "markdown",
   "metadata": {},
   "source": [
    "Notice that **capitalization matters** when comparsing strings in Python. If we want to make the comparison case-insensitive we typically first convert both sides of the equality to the same case:"
   ]
  },
  {
   "cell_type": "code",
   "execution_count": 8,
   "metadata": {},
   "outputs": [
    {
     "name": "stdout",
     "output_type": "stream",
     "text": [
      "True\n"
     ]
    }
   ],
   "source": [
    "print(str1.lower() == \"Hello\".lower() )"
   ]
  },
  {
   "cell_type": "markdown",
   "metadata": {},
   "source": [
    "The opposite operator for equality is the inequality operator: `!=`. For example:"
   ]
  },
  {
   "cell_type": "code",
   "execution_count": 12,
   "metadata": {},
   "outputs": [
    {
     "name": "stdout",
     "output_type": "stream",
     "text": [
      "Are the emails different? True\n"
     ]
    }
   ],
   "source": [
    "email1 = \"panos@nyu.edu\"\n",
    "email2 = \"peter@nyu.edu\"\n",
    "print(\"Are the emails different?\", email1 != email2 )"
   ]
  },
  {
   "cell_type": "markdown",
   "metadata": {},
   "source": [
    "### Finding text within string variables\n",
    "\n",
    "+ `needle in haystack`: reports if the string `needle` appears in the string `haystack`\n",
    "+ `haystack.find(needle)`: searches haystack for needle, prints the position of the first occurrence, indexed from 0. Returns -1 if not found\n",
    "+ `str_1.count(str_2)`: counts the number of occurrences of one string in another.\n",
    "+ `haystack.startswith(needle)`: does a the haystack string start with the needle string?\n",
    "+ `haystack.endswith(needle)`: does a the haystack string end with the needle string?\n"
   ]
  },
  {
   "cell_type": "code",
   "execution_count": null,
   "metadata": {},
   "outputs": [],
   "source": []
  },
  {
   "cell_type": "code",
   "execution_count": null,
   "metadata": {},
   "outputs": [],
   "source": [
    "word = \"Python is the word. And on and on and on and on...\" \n",
    "position = word.find(\"on\") # The 'on' appears at the end of 'Python'\n",
    "print(position)"
   ]
  },
  {
   "cell_type": "code",
   "execution_count": null,
   "metadata": {},
   "outputs": [],
   "source": [
    "print(\"The first time that we see the string on is at position\", word.find(\"on\"))"
   ]
  },
  {
   "cell_type": "code",
   "execution_count": null,
   "metadata": {},
   "outputs": [],
   "source": [
    "first_appearance = word.find(\"on\")\n",
    "second_appearance = word.find(\"on\",first_appearance+1)\n",
    "print(\"The second time that we see the string on is at position\", second_appearance)"
   ]
  },
  {
   "cell_type": "code",
   "execution_count": null,
   "metadata": {},
   "outputs": [],
   "source": [
    "# Looking for the string \"on\" at the second half of the big string called \"word\"\n",
    "midpoint = int(len(word)/2) # finds the middle of the string word\n",
    "second_half_appearance = word.find(\"on\",midpoint)\n",
    "print(\"First time that we see 'on' in the second half: \", second_half_appearance)"
   ]
  },
  {
   "cell_type": "code",
   "execution_count": null,
   "metadata": {},
   "outputs": [],
   "source": [
    "word = \"Python is the word. And on and on and on and on...\"\n",
    "lookfor = \"PYTHON\"\n",
    "count = word.count(lookfor)\n",
    "print( \"We see the string '\", lookfor  ,\"' that many times: \",  count)"
   ]
  },
  {
   "cell_type": "markdown",
   "metadata": {},
   "source": [
    "#### Ordering Strings\n",
    "\n",
    "We can also "
   ]
  },
  {
   "cell_type": "code",
   "execution_count": null,
   "metadata": {},
   "outputs": [],
   "source": [
    "name1 = 'Abraham'\n",
    "name2 = 'Bill'\n",
    "\n",
    "# Abraham is lexicographically before Bill\n",
    "print(name1 < name2)"
   ]
  },
  {
   "cell_type": "code",
   "execution_count": null,
   "metadata": {},
   "outputs": [],
   "source": [
    "# Just an example to understand ASCII lexicographic order\n",
    "# Space, followed by numbers, followed by uppercase, followed by lowercase\n",
    "sorted(['Bill', '  ZZ TOP!!! ', 'HAHA', 'lol', 'LOL!', 'ZZZZZ', 'zzzzz', '123', '345'])"
   ]
  },
  {
   "cell_type": "code",
   "execution_count": null,
   "metadata": {},
   "outputs": [],
   "source": [
    "name1 = 'Panos'\n",
    "name2 = 'Bill'\n",
    "\n",
    "# Panos is lexicographically after Bill\n",
    "print(name1 < name2)"
   ]
  },
  {
   "cell_type": "code",
   "execution_count": null,
   "metadata": {},
   "outputs": [],
   "source": [
    "name1 = 'Panos'\n",
    "name2 = 'bill'\n",
    "\n",
    "# Panos is lexicographically after Bill\n",
    "print(name1 < name2)"
   ]
  },
  {
   "cell_type": "code",
   "execution_count": null,
   "metadata": {},
   "outputs": [],
   "source": [
    "# Example of string comparison\n",
    "# See ASCII table at http://www.asciitable.com/ for character order (FYI)\n",
    "\n",
    "name1 = 'Abe'\n",
    "name2 = 'Bill'\n",
    "\n",
    "# Abe is lexicographically before Bill\n",
    "print(name1 < name2)\n",
    "\n",
    "name1 = 'abe'\n",
    "name2 = 'Bill'\n",
    "# However 'abe' is lexicographically after Bill (which starts with an uppercase letter)\n",
    "print(name1 < name2)"
   ]
  },
  {
   "cell_type": "markdown",
   "metadata": {},
   "source": [
    "#### Exercise\n",
    "\n",
    "Convert the code above so that it works in a case-insensitive manner. Use the `lower()` or `upper()` command."
   ]
  },
  {
   "cell_type": "code",
   "execution_count": null,
   "metadata": {},
   "outputs": [],
   "source": []
  }
 ],
 "metadata": {
  "kernelspec": {
   "display_name": "Python 3",
   "language": "python",
   "name": "python3"
  },
  "language_info": {
   "codemirror_mode": {
    "name": "ipython",
    "version": 3
   },
   "file_extension": ".py",
   "mimetype": "text/x-python",
   "name": "python",
   "nbconvert_exporter": "python",
   "pygments_lexer": "ipython3",
   "version": "3.5.2"
  }
 },
 "nbformat": 4,
 "nbformat_minor": 1
}
