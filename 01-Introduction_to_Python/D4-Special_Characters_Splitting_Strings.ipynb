{
 "cells": [
  {
   "cell_type": "markdown",
   "metadata": {},
   "source": [
    "### Special characters\n",
    "\n",
    "When we use strings, you will notice that we often want to use some \"_special characters_\". These special characters consist of the backslash character (`\\`) followed by another character.\n",
    "\n",
    "**Tab character** `\\t`: For example, if we want to create an output of multiple columns, with each columns being separated with a tab from each other, we can use the tab character, which is represented as `\\t`. "
   ]
  },
  {
   "cell_type": "code",
   "execution_count": null,
   "metadata": {},
   "outputs": [],
   "source": [
    "# Example: List the first name, last name, and email of a person, in columns\n",
    "# Separate the columns using a tab character\n",
    "str_4a =\"First Name\\tLast Name\\tEmail\"\n",
    "str_4b =\"Panagiotis\\tIpeirotis\\tpanos@nyu.edu\"\n",
    "str_4c =\"Kristaps\\tPorzingis\\tkporzee@nba.com\"\n",
    "print(str_4a)\n",
    "print(str_4b)\n",
    "print(str_4c)\n"
   ]
  },
  {
   "cell_type": "markdown",
   "metadata": {},
   "source": [
    "**New line character** `\\n`: This is a special character that we use to represent a new line."
   ]
  },
  {
   "cell_type": "code",
   "execution_count": null,
   "metadata": {},
   "outputs": [],
   "source": [
    "# Notice that we end the strings below with the \\n character, \n",
    "# which is the \"new line\" special character\n",
    "str_5 = \"Hello World!\\nHello World Twice!\"\n",
    "print(str_5)\n"
   ]
  },
  {
   "cell_type": "markdown",
   "metadata": {},
   "source": [
    "**Backslash character** `\\\\`: In general, backslash (`\\`) is used to introduce special characters. If we want to type the backslash character itself, we do it by typing backslash twice in a row: `\\\\`."
   ]
  },
  {
   "cell_type": "code",
   "execution_count": null,
   "metadata": {},
   "outputs": [],
   "source": [
    "print(\"I want to print backslash: \\\\\")"
   ]
  },
  {
   "cell_type": "markdown",
   "metadata": {},
   "source": [
    "**Quotes**: "
   ]
  },
  {
   "cell_type": "code",
   "execution_count": null,
   "metadata": {},
   "outputs": [],
   "source": [
    "str_4 = 'This is a string within single quotes that can contain \"double quotes\" as part of the string'\n",
    "print(str_4)"
   ]
  },
  {
   "cell_type": "code",
   "execution_count": null,
   "metadata": {},
   "outputs": [],
   "source": [
    "str_5 = 'If we want to have \\'single quotes\\' in single quoted string we should escape them'\n",
    "print(str_5)"
   ]
  },
  {
   "cell_type": "code",
   "execution_count": null,
   "metadata": {},
   "outputs": [],
   "source": [
    "str_6 = \"Similarly, if we want to have \\\"double quotes\\\" in double quoted string we should escape them\\n\"\n",
    "print(str_6)"
   ]
  },
  {
   "cell_type": "markdown",
   "metadata": {},
   "source": [
    "### Splitting Strings \n",
    "\n",
    "+ `str_1.split(str_2)`: split the first string at every occurrence of the second string. Outputs a list (see below).\n",
    "+ `str.strip()`: remove any whitespace from the left or right of the string, including newlines. "
   ]
  },
  {
   "cell_type": "code",
   "execution_count": null,
   "metadata": {},
   "outputs": [],
   "source": [
    "print(\"practical data science\".split(\" \"))"
   ]
  },
  {
   "cell_type": "code",
   "execution_count": null,
   "metadata": {},
   "outputs": [],
   "source": [
    "# Notice that when we split a string and the delimeter character\n",
    "# does not appear, then we get back the string itself, but converted\n",
    "# into a list with a single element. (We will talk about lists in a \n",
    "# couple of weeks)\n",
    "print(\"hello\".split(\" \"))"
   ]
  },
  {
   "cell_type": "code",
   "execution_count": null,
   "metadata": {},
   "outputs": [],
   "source": [
    "print(\"practical data science\".split(\"a\"))"
   ]
  },
  {
   "cell_type": "code",
   "execution_count": null,
   "metadata": {},
   "outputs": [],
   "source": [
    "mystring1 = \"practical data science\"\n",
    "mylist1 = mystring1.split(\" \")\n",
    "print(mystring1)\n",
    "print(mylist1)"
   ]
  },
  {
   "cell_type": "code",
   "execution_count": null,
   "metadata": {},
   "outputs": [],
   "source": [
    "#  Join is the \"reverse\" of split, and joins all\n",
    "# the elements of the list, using the \"string\" in front\n",
    "# The command below joins the elements of mylist using the \n",
    "# space character\n",
    "\" \".join(mylist1)"
   ]
  },
  {
   "cell_type": "markdown",
   "metadata": {},
   "source": [
    "#### Exercise\n",
    "\n",
    "Consider the string `billgates@microsoft.com`. Write code that finds the username of the email address and the domain of the email address. You can do that using multiple methods (eg. slicing with raw numbers, slicing with find, and the split command)."
   ]
  },
  {
   "cell_type": "code",
   "execution_count": null,
   "metadata": {},
   "outputs": [],
   "source": []
  }
 ],
 "metadata": {
  "kernelspec": {
   "display_name": "Python 3",
   "language": "python",
   "name": "python3"
  },
  "language_info": {
   "codemirror_mode": {
    "name": "ipython",
    "version": 3
   },
   "file_extension": ".py",
   "mimetype": "text/x-python",
   "name": "python",
   "nbconvert_exporter": "python",
   "pygments_lexer": "ipython3",
   "version": "3.5.2"
  }
 },
 "nbformat": 4,
 "nbformat_minor": 1
}
